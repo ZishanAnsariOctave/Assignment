{
  "nbformat": 4,
  "nbformat_minor": 0,
  "metadata": {
    "colab": {
      "provenance": []
    },
    "kernelspec": {
      "name": "python3",
      "display_name": "Python 3"
    },
    "language_info": {
      "name": "python"
    }
  },
  "cells": [
    {
      "cell_type": "markdown",
      "source": [
        "**Q.1 - What are the five key concepts of Object-Oriented Programming (OOP)?**\n",
        "\n",
        "**Ans.** - The five key concepts of Object-Oriented Programming (OOP) are:\n",
        "\n",
        "- *Encapsulation*: This principle involves bundling the data (attributes) and methods (functions) that operate on the data into a single unit, called an object. It also restricts direct access to some of an object's components, which helps protect the object's integrity.\n",
        "\n",
        "- *Abstraction*: Abstraction allows programmers to hide complex implementation details and expose only the necessary features of an object. This simplifies interactions and helps in managing complexity by focusing on high-level functionalities rather than specific details.\n",
        "\n",
        "- *Inheritance*: Inheritance enables a new class (derived or child class) to inherit properties and behaviors (methods) from an existing class (base or parent class). This promotes code reusability and establishes a hierarchical relationship between classes.\n",
        "\n",
        "- *Polymorphism*: Polymorphism allows objects of different classes to be treated as objects of a common superclass. It enables the same method to behave differently based on the object that it is acting upon, typically through method overriding and overloading.\n",
        "\n",
        "- *Composition*: Composition is a design principle where a class is composed of one or more objects from other classes, allowing for a flexible and modular structure. It emphasizes a \"has-a\" relationship, as opposed to inheritance's \"is-a\" relationship, fostering code reuse and separation of concerns."
      ],
      "metadata": {
        "id": "pdPILMOB0RAz"
      }
    },
    {
      "cell_type": "markdown",
      "source": [
        "**Q.2 - Write a Python class for a `Car` with attributes for `make`, `model`, and `year`. Include a method to display the car's information.**\n",
        "\n",
        "**Ans.** - Python class for a Car that includes attributes for make, model, and year, along with a method to display the car's information:"
      ],
      "metadata": {
        "id": "OfBaiKrl0xGA"
      }
    },
    {
      "cell_type": "code",
      "source": [
        "class Car:\n",
        "    def __init__(self, make, model, year):\n",
        "        self.make = make\n",
        "        self.model = model\n",
        "        self.year = year\n",
        "\n",
        "    def display_info(self):\n",
        "        print(f\"Car Information:\\nMake: {self.make}\\nModel: {self.model}\\nYear: {self.year}\")\n",
        "\n",
        "# Example usage:\n",
        "my_car = Car(\"Toyota\", \"Corolla\", 2020)\n",
        "my_car.display_info()\n"
      ],
      "metadata": {
        "colab": {
          "base_uri": "https://localhost:8080/"
        },
        "id": "8xxJueiR1lNF",
        "outputId": "6b012765-96f6-4354-beb9-13bfb73bb18b"
      },
      "execution_count": 1,
      "outputs": [
        {
          "output_type": "stream",
          "name": "stdout",
          "text": [
            "Car Information:\n",
            "Make: Toyota\n",
            "Model: Corolla\n",
            "Year: 2020\n"
          ]
        }
      ]
    },
    {
      "cell_type": "markdown",
      "source": [
        "**Q.3 -  Explain the difference between instance methods and class methods. Provide an example of each.**\n",
        "\n",
        "**Ans.** - In Python, instance methods and class methods serve different purposes and are used in different contexts. Here’s a breakdown of the differences:\n",
        "\n",
        " - **Instance Methods**\n",
        "\n",
        "Definition: Instance methods are functions defined within a class that operate on an instance of that class. They can access and modify instance-specific data (attributes).\n",
        "\n",
        "Usage: They are called on an instance of the class and have access to the instance via self.\n"
      ],
      "metadata": {
        "id": "qCssRflx18tS"
      }
    },
    {
      "cell_type": "code",
      "source": [
        "#Example\n",
        "\n",
        "class Dog:\n",
        "    def __init__(self, name):\n",
        "        self.name = name\n",
        "\n",
        "    def bark(self):\n",
        "        return f\"{self.name} says woof!\"\n",
        "\n",
        "# Usage\n",
        "my_dog = Dog(\"Buddy\")\n",
        "print(my_dog.bark())\n"
      ],
      "metadata": {
        "colab": {
          "base_uri": "https://localhost:8080/"
        },
        "id": "VGiu9hur2SXv",
        "outputId": "b88b73bf-3dc9-412b-f56c-d3b543e78e8c"
      },
      "execution_count": 2,
      "outputs": [
        {
          "output_type": "stream",
          "name": "stdout",
          "text": [
            "Buddy says woof!\n"
          ]
        }
      ]
    },
    {
      "cell_type": "markdown",
      "source": [
        "- **Class Methods**\n",
        "\n",
        "Definition: Class methods are functions defined within a class that operate on the class itself rather than on instances of the class. They are marked with the @classmethod decorator and take cls (the class itself) as the first parameter.\n",
        "\n",
        "Usage: They are called on the class itself, not on an instance, and are often used for factory methods or methods that need to modify class state."
      ],
      "metadata": {
        "id": "v9cqpaD-2fPG"
      }
    },
    {
      "cell_type": "code",
      "execution_count": 3,
      "metadata": {
        "colab": {
          "base_uri": "https://localhost:8080/"
        },
        "id": "LvFKXDiB0FQ6",
        "outputId": "17d8f6bb-c5bb-4ee5-80d0-629dcec7825f"
      },
      "outputs": [
        {
          "output_type": "stream",
          "name": "stdout",
          "text": [
            "4\n"
          ]
        }
      ],
      "source": [
        "class Dog:\n",
        "    number_of_legs = 4\n",
        "\n",
        "    @classmethod\n",
        "    def get_number_of_legs(cls):\n",
        "        return cls.number_of_legs\n",
        "\n",
        "# Usage\n",
        "print(Dog.get_number_of_legs())\n"
      ]
    },
    {
      "cell_type": "markdown",
      "source": [
        "**Context:** Instance methods operate on individual instances, while class methods operate on the class itself.\n",
        "\n",
        "**Parameters:** Instance methods use self, while class methods use cls.\n",
        "\n",
        "**Invocation:** Instance methods are called on objects, whereas class methods are called on the class."
      ],
      "metadata": {
        "id": "iJVcVl872ran"
      }
    },
    {
      "cell_type": "markdown",
      "source": [
        "**Q.4 - How does Python implement method overloading? Give an example.**\n",
        "\n",
        "**Ans.** - Python does not support traditional method overloading as seen in languages like Java or C++. Instead, it allows you to define methods with the same name but does not differentiate them based on the number or type of arguments. Instead, you can achieve similar functionality using default arguments or variable-length arguments (*args and **kwargs).\n",
        "\n",
        "*Example of Method Overloading using Default Arguments*\n",
        "\n",
        "You can provide default values for parameters, allowing the method to be called with different numbers of arguments."
      ],
      "metadata": {
        "id": "JfN6QxoS3Ly2"
      }
    },
    {
      "cell_type": "code",
      "source": [
        "class Calculator:\n",
        "    def add(self, a, b=0, c=0):\n",
        "        return a + b + c\n",
        "\n",
        "# Usage\n",
        "calc = Calculator()\n",
        "print(calc.add(5))        # Output: 5 (5 + 0 + 0)\n",
        "print(calc.add(5, 10))    # Output: 15 (5 + 10 + 0)\n",
        "print(calc.add(5, 10, 15)) # Output: 30 (5 + 10 + 15)\n"
      ],
      "metadata": {
        "colab": {
          "base_uri": "https://localhost:8080/"
        },
        "id": "BMbuqW7O2i2E",
        "outputId": "a9314e35-a5d7-4098-bb33-9fbb2427ed3e"
      },
      "execution_count": 4,
      "outputs": [
        {
          "output_type": "stream",
          "name": "stdout",
          "text": [
            "5\n",
            "15\n",
            "30\n"
          ]
        }
      ]
    },
    {
      "cell_type": "markdown",
      "source": [
        "*Example of Method Overloading using *args*\n",
        "\n",
        "You can also use *args to accept a variable number of arguments."
      ],
      "metadata": {
        "id": "VWzd5KXc3qsH"
      }
    },
    {
      "cell_type": "code",
      "source": [
        "class MathOperations:\n",
        "    def multiply(self, *args):\n",
        "        result = 1\n",
        "        for num in args:\n",
        "            result *= num\n",
        "        return result\n",
        "\n",
        "# Usage\n",
        "math_ops = MathOperations()\n",
        "print(math_ops.multiply(5))\n",
        "print(math_ops.multiply(5, 10))\n",
        "print(math_ops.multiply(5, 10, 2))\n",
        "print(math_ops.multiply(1, 2, 3, 4, 5))\n"
      ],
      "metadata": {
        "colab": {
          "base_uri": "https://localhost:8080/"
        },
        "id": "Mhsm4WuF3loc",
        "outputId": "7895ba62-3b1e-46f8-e49a-92c410a19c85"
      },
      "execution_count": 5,
      "outputs": [
        {
          "output_type": "stream",
          "name": "stdout",
          "text": [
            "5\n",
            "50\n",
            "100\n",
            "120\n"
          ]
        }
      ]
    },
    {
      "cell_type": "markdown",
      "source": [
        "While Python does not have traditional method overloading, you can achieve similar behavior using default parameters or variable-length arguments, allowing you to define methods that can accept different numbers of arguments."
      ],
      "metadata": {
        "id": "tgMg-3MV4EnM"
      }
    },
    {
      "cell_type": "markdown",
      "source": [
        "**Q.5 - What are the three types of access modifiers in Python? How are they denoted?**\n",
        "\n",
        "**Ans.** - In Python, there are three types of access modifiers that control the visibility and accessibility of class members (attributes and methods). They are:\n",
        "\n",
        "**1. Public:**\n",
        "\n",
        "*Denotation:* No underscore prefix.\n",
        "\n",
        "*Description:* Public members are accessible from anywhere, both inside and outside the class.\n",
        ""
      ],
      "metadata": {
        "id": "sebsCmyr4LIx"
      }
    },
    {
      "cell_type": "code",
      "source": [
        "#Example\n",
        "\n",
        "class Example:\n",
        "    def __init__(self):\n",
        "        self.public_attribute = \"I am public\"\n",
        "\n",
        "obj = Example()\n",
        "print(obj.public_attribute)  # Accessible\n"
      ],
      "metadata": {
        "colab": {
          "base_uri": "https://localhost:8080/"
        },
        "id": "R2CTj4Tl3ye-",
        "outputId": "66678ddd-599b-4069-cc7a-fba0e9957328"
      },
      "execution_count": 6,
      "outputs": [
        {
          "output_type": "stream",
          "name": "stdout",
          "text": [
            "I am public\n"
          ]
        }
      ]
    },
    {
      "cell_type": "markdown",
      "source": [
        "**2. Protected:**\n",
        "\n",
        "*Denotation:* A single underscore prefix (_).\n",
        "\n",
        "*Description:* Protected members are intended to be accessed only within the class and its subclasses. They are not strictly enforced and can be accessed outside the class, but it is a convention to indicate that they are meant for internal use."
      ],
      "metadata": {
        "id": "RsM74GdP5Dy6"
      }
    },
    {
      "cell_type": "code",
      "source": [
        "#Example\n",
        "\n",
        "class Example:\n",
        "    def __init__(self):\n",
        "        self._protected_attribute = \"I am protected\"\n",
        "\n",
        "obj = Example()\n",
        "print(obj._protected_attribute)  # Accessible but intended for internal use\n"
      ],
      "metadata": {
        "colab": {
          "base_uri": "https://localhost:8080/"
        },
        "id": "TWqvu1Dn4-BW",
        "outputId": "53aae6be-3764-413d-f3d2-94a01b9c6907"
      },
      "execution_count": 7,
      "outputs": [
        {
          "output_type": "stream",
          "name": "stdout",
          "text": [
            "I am protected\n"
          ]
        }
      ]
    },
    {
      "cell_type": "markdown",
      "source": [
        "**3. Private:**\n",
        "\n",
        "*Denotation:* A double underscore prefix (__).\n",
        "\n",
        "*Description:* Private members are not accessible outside the class. Python uses name mangling to ensure that the member's name is changed internally, making it harder to access from outside the class."
      ],
      "metadata": {
        "id": "O8X3-r8M5XW_"
      }
    },
    {
      "cell_type": "code",
      "source": [
        "#Example\n",
        "\n",
        "class Example:\n",
        "    def __init__(self):\n",
        "        self.__private_attribute = \"I am private\"\n",
        "\n",
        "    def get_private_attribute(self):\n",
        "        return self.__private_attribute\n",
        "\n",
        "obj = Example()\n",
        "# print(obj.__private_attribute)  # Raises an AttributeError\n",
        "print(obj.get_private_attribute())  # Accessible through a public method\n"
      ],
      "metadata": {
        "colab": {
          "base_uri": "https://localhost:8080/"
        },
        "id": "1dJ5nI4e5Tue",
        "outputId": "a4e7b8cf-0eda-441e-8407-d6b18a5b7161"
      },
      "execution_count": 8,
      "outputs": [
        {
          "output_type": "stream",
          "name": "stdout",
          "text": [
            "I am private\n"
          ]
        }
      ]
    },
    {
      "cell_type": "markdown",
      "source": [
        "Public: Accessible anywhere (self.attribute).\n",
        "\n",
        "Protected: Intended for internal use, indicated by _attribute.\n",
        "\n",
        "Private: Restricted access, indicated by __attribute. Accessed through methods.\n",
        "\n",
        "\n"
      ],
      "metadata": {
        "id": "--rtY_GU5nGC"
      }
    },
    {
      "cell_type": "markdown",
      "source": [
        "**Q.6 - Describe the five types of inheritance in Python. Provide a simple example of multiple inheritance.**\n",
        "\n",
        "**Ans.**- In Python, inheritance allows a class (child class) to inherit attributes and methods from another class (parent class). Here are five types of inheritance commonly found in Python:\n",
        "\n",
        "**1. Single Inheritance:**\n",
        "\n",
        "- In this type, a child class inherits from a single parent class.\n",
        "\n",
        "\n"
      ],
      "metadata": {
        "id": "FOu66Sn76B_t"
      }
    },
    {
      "cell_type": "code",
      "source": [
        "class Animal:\n",
        "    def speak(self):\n",
        "        return \"Animal speaks\"\n",
        "\n",
        "class Dog(Animal):\n",
        "    def bark(self):\n",
        "        return \"Woof!\"\n",
        "\n",
        "dog = Dog()\n",
        "print(dog.speak())\n"
      ],
      "metadata": {
        "colab": {
          "base_uri": "https://localhost:8080/"
        },
        "id": "aLC1cpVF5i_3",
        "outputId": "e31d172d-2a5c-4a4e-c9e5-c0a34b1775c8"
      },
      "execution_count": 9,
      "outputs": [
        {
          "output_type": "stream",
          "name": "stdout",
          "text": [
            "Animal speaks\n"
          ]
        }
      ]
    },
    {
      "cell_type": "markdown",
      "source": [
        "**2. Multiple Inheritance:**\n",
        "\n",
        "- A child class can inherit from multiple parent classes.\n"
      ],
      "metadata": {
        "id": "CYDUSBW_6bSH"
      }
    },
    {
      "cell_type": "code",
      "source": [
        "class Canine:\n",
        "    def bark(self):\n",
        "        return \"Bark!\"\n",
        "\n",
        "class Pet:\n",
        "    def play(self):\n",
        "        return \"Playing!\"\n",
        "\n",
        "class Dog(Canine, Pet):\n",
        "    def wag_tail(self):\n",
        "        return \"Wagging tail!\"\n",
        "\n",
        "dog = Dog()\n",
        "print(dog.bark())\n",
        "print(dog.play())\n"
      ],
      "metadata": {
        "colab": {
          "base_uri": "https://localhost:8080/"
        },
        "id": "L_UsfN_N6WgJ",
        "outputId": "cca513bc-daf9-4115-d82f-ec444836881b"
      },
      "execution_count": 10,
      "outputs": [
        {
          "output_type": "stream",
          "name": "stdout",
          "text": [
            "Bark!\n",
            "Playing!\n"
          ]
        }
      ]
    },
    {
      "cell_type": "markdown",
      "source": [
        "**3. Multilevel Inheritance:**\n",
        "\n",
        "- A child class inherits from a parent class, which itself is derived from another class (grandparent)."
      ],
      "metadata": {
        "id": "oFBm6yO_6oPQ"
      }
    },
    {
      "cell_type": "code",
      "source": [
        "class Animal:\n",
        "    def speak(self):\n",
        "        return \"Animal speaks\"\n",
        "\n",
        "class Dog(Animal):\n",
        "    def bark(self):\n",
        "        return \"Woof!\"\n",
        "\n",
        "class Puppy(Dog):\n",
        "    def whine(self):\n",
        "        return \"Whining!\"\n",
        "\n",
        "puppy = Puppy()\n",
        "print(puppy.speak())  # Output: Animal speaks\n",
        "print(puppy.bark())   # Output: Woof!\n",
        "print(puppy.whine())  # Output: Whining!\n"
      ],
      "metadata": {
        "colab": {
          "base_uri": "https://localhost:8080/"
        },
        "id": "Pf6aNz2V6hyL",
        "outputId": "e9b2ba49-0767-4dc1-c38f-43a95dfa3535"
      },
      "execution_count": 11,
      "outputs": [
        {
          "output_type": "stream",
          "name": "stdout",
          "text": [
            "Animal speaks\n",
            "Woof!\n",
            "Whining!\n"
          ]
        }
      ]
    },
    {
      "cell_type": "markdown",
      "source": [
        "**4. Hierarchical Inheritance:**\n",
        "\n",
        "- Multiple child classes inherit from the same parent class.\n"
      ],
      "metadata": {
        "id": "GUWIfWgp7DUJ"
      }
    },
    {
      "cell_type": "code",
      "source": [
        "class Animal:\n",
        "    def speak(self):\n",
        "        return \"Animal speaks\"\n",
        "\n",
        "class Dog(Animal):\n",
        "    def bark(self):\n",
        "        return \"Woof!\"\n",
        "\n",
        "class Cat(Animal):\n",
        "    def meow(self):\n",
        "        return \"Meow!\"\n",
        "\n",
        "dog = Dog()\n",
        "cat = Cat()\n",
        "print(dog.speak())\n",
        "print(cat.speak())\n"
      ],
      "metadata": {
        "colab": {
          "base_uri": "https://localhost:8080/"
        },
        "id": "5p7OIo1s6xr3",
        "outputId": "71e849cb-874b-4f59-f65e-49015d7a27dc"
      },
      "execution_count": 12,
      "outputs": [
        {
          "output_type": "stream",
          "name": "stdout",
          "text": [
            "Animal speaks\n",
            "Animal speaks\n"
          ]
        }
      ]
    },
    {
      "cell_type": "markdown",
      "source": [
        "**5. Hybrid Inheritance:**\n",
        "\n",
        "- A combination of two or more types of inheritance. It can include multiple, multilevel, and hierarchical inheritance."
      ],
      "metadata": {
        "id": "DjkuEznL7QV_"
      }
    },
    {
      "cell_type": "code",
      "source": [
        "class Animal:\n",
        "    def speak(self):\n",
        "        return \"Animal speaks\"\n",
        "\n",
        "class Canine(Animal):\n",
        "    def bark(self):\n",
        "        return \"Bark!\"\n",
        "\n",
        "class Pet:\n",
        "    def play(self):\n",
        "        return \"Playing!\"\n",
        "\n",
        "class Dog(Canine, Pet):\n",
        "    def wag_tail(self):\n",
        "        return \"Wagging tail!\"\n",
        "\n",
        "dog = Dog()\n",
        "print(dog.speak())\n",
        "print(dog.bark())\n",
        "print(dog.play())\n"
      ],
      "metadata": {
        "colab": {
          "base_uri": "https://localhost:8080/"
        },
        "id": "79ubIIK-7K76",
        "outputId": "53fa725d-2b84-4b9e-f387-0ae6a4bd8a1b"
      },
      "execution_count": 13,
      "outputs": [
        {
          "output_type": "stream",
          "name": "stdout",
          "text": [
            "Animal speaks\n",
            "Bark!\n",
            "Playing!\n"
          ]
        }
      ]
    },
    {
      "cell_type": "markdown",
      "source": [
        "*Single Inheritance:* One parent class.\n",
        "\n",
        "*Multiple Inheritance:* Multiple parent classes.\n",
        "\n",
        "*Multilevel Inheritance:* Parent-child-grandchild relationship.\n",
        "\n",
        "*Hierarchical Inheritance:* Multiple child classes from one parent.\n",
        "\n",
        "*Hybrid Inheritance:* Combination of multiple types."
      ],
      "metadata": {
        "id": "3cYJvO2u7dmB"
      }
    },
    {
      "cell_type": "markdown",
      "source": [
        "**Q.7- What is the Method Resolution Order (MRO) in Python? How can you retrieve it programmatically?**\n",
        "\n",
        "**Ans.**- The Method Resolution Order (MRO) in Python defines the order in which classes are searched when executing a method on an object. This is especially important in the context of multiple inheritance, where a class can inherit from more than one parent class. The MRO determines which parent class's method will be called when there are multiple candidates.\n",
        "\n",
        "**How MRO Works**\n",
        "\n",
        "Python uses the C3 linearization algorithm to compute the MRO. This algorithm ensures that:\n",
        "\n",
        "- A class appears before its parent classes in the MRO.\n",
        "\n",
        "- Parent classes are resolved in the order they are defined in the class declaration.\n",
        "\n",
        "**Retrieving MRO Programmatically**\n",
        "\n",
        "- You can retrieve the MRO of a class using either the mro() method or the __mro__ attribute. Both will give you a list of classes in the order they are searched."
      ],
      "metadata": {
        "id": "SUWOjITL7w2i"
      }
    },
    {
      "cell_type": "code",
      "source": [
        "class A:\n",
        "    pass\n",
        "\n",
        "class B(A):\n",
        "    pass\n",
        "\n",
        "class C(A):\n",
        "    pass\n",
        "\n",
        "class D(B, C):\n",
        "    pass\n",
        "\n",
        "# Retrieve MRO\n",
        "print(D.mro())\n"
      ],
      "metadata": {
        "colab": {
          "base_uri": "https://localhost:8080/"
        },
        "id": "HmI4eCHO7YjR",
        "outputId": "20a96aed-e40e-47db-f66a-5f9b4e093e92"
      },
      "execution_count": 14,
      "outputs": [
        {
          "output_type": "stream",
          "name": "stdout",
          "text": [
            "[<class '__main__.D'>, <class '__main__.B'>, <class '__main__.C'>, <class '__main__.A'>, <class 'object'>]\n"
          ]
        }
      ]
    },
    {
      "cell_type": "code",
      "source": [
        "#The MRO indicates that when searching for a method on an instance of D, Python will first look in D, then B, followed by C, then A, and finally in the base object class."
      ],
      "metadata": {
        "id": "62nDG4AR8W-8"
      },
      "execution_count": null,
      "outputs": []
    },
    {
      "cell_type": "markdown",
      "source": [
        "The MRO is crucial for understanding how Python resolves method calls in classes with complex inheritance structures. You can inspect the MRO of any class using mro() or the __mro__ attribute to see the order in which classes will be searched for methods."
      ],
      "metadata": {
        "id": "KmqpyW4k8lLs"
      }
    },
    {
      "cell_type": "markdown",
      "source": [
        "**Q.8 - Create an abstract base class `Shape` with an abstract method `area()`. Then create two subclasses `Circle` and `Rectangle` that implement the `area()` method.**\n",
        "\n",
        "**Ans.** Here's how you can create an abstract base class Shape with an abstract method area(), and then implement two subclasses, Circle and Rectangle, that provide their own implementations of the area() method."
      ],
      "metadata": {
        "id": "a6NlQxMA81NZ"
      }
    },
    {
      "cell_type": "code",
      "source": [
        "from abc import ABC, abstractmethod\n",
        "import math\n",
        "\n",
        "# Abstract base class\n",
        "class Shape(ABC):\n",
        "    @abstractmethod\n",
        "    def area(self):\n",
        "        pass\n",
        "\n",
        "# Subclass for Circle\n",
        "class Circle(Shape):\n",
        "    def __init__(self, radius):\n",
        "        self.radius = radius\n",
        "\n",
        "    def area(self):\n",
        "        return math.pi * self.radius ** 2\n",
        "\n",
        "# Subclass for Rectangle\n",
        "class Rectangle(Shape):\n",
        "    def __init__(self, width, height):\n",
        "        self.width = width\n",
        "        self.height = height\n",
        "\n",
        "    def area(self):\n",
        "        return self.width * self.height\n",
        "\n",
        "# Example usage\n",
        "circle = Circle(5)\n",
        "rectangle = Rectangle(4, 6)\n",
        "\n",
        "print(f\"Circle area: {circle.area():.2f}\")\n",
        "print(f\"Rectangle area: {rectangle.area():.2f}\")\n"
      ],
      "metadata": {
        "colab": {
          "base_uri": "https://localhost:8080/"
        },
        "id": "1YqVQYrD9RyH",
        "outputId": "ace5e183-fe9b-4462-c4cb-a04a3b42cbc9"
      },
      "execution_count": 15,
      "outputs": [
        {
          "output_type": "stream",
          "name": "stdout",
          "text": [
            "Circle area: 78.54\n",
            "Rectangle area: 24.00\n"
          ]
        }
      ]
    },
    {
      "cell_type": "markdown",
      "source": [
        "Explanation\n",
        "\n",
        "**1. Abstract Base Class (Shape):**\n",
        "\n",
        "- This class inherits from ABC (Abstract Base Class) from the abc module.\n",
        "\n",
        "- It defines an abstract method area(), which must be implemented by any subclass.\n",
        "\n",
        "**2. Subclass (Circle):**\n",
        "\n",
        "- The Circle class implements the area() method, calculating the area using the formula\n",
        "𝜋\n",
        "𝑟\n",
        "2\n",
        "πr\n",
        "2\n",
        "\n",
        "**3. Subclass (Rectangle):**\n",
        "\n",
        "- The Rectangle class implements the area() method, calculating the area using the formula\n",
        "width\n",
        "×\n",
        "height\n",
        "width×height.\n",
        "\n",
        "\n",
        "**Example Usage:**\n",
        "\n",
        "- Instances of Circle and Rectangle are created, and their area() methods are called to print the results."
      ],
      "metadata": {
        "id": "OnzpX77o9lZ9"
      }
    },
    {
      "cell_type": "markdown",
      "source": [
        "**Q.9 - Demonstrate polymorphism by creating a function that can work with different shape objects to calculate and print their areas.**\n",
        "\n",
        "**Ans.**- Polymorphism allows functions to operate on objects of different classes as long as they share a common interface. In this case, we can create a function that calculates and prints the areas of different shape objects, such as Circle and Rectangle, which both inherit from the Shape abstract base class.\n",
        "\n"
      ],
      "metadata": {
        "id": "58jr9-cB-h4w"
      }
    },
    {
      "cell_type": "code",
      "source": [
        "from abc import ABC, abstractmethod\n",
        "import math\n",
        "\n",
        "# Abstract base class\n",
        "class Shape(ABC):\n",
        "    @abstractmethod\n",
        "    def area(self):\n",
        "        pass\n",
        "\n",
        "# Subclass for Circle\n",
        "class Circle(Shape):\n",
        "    def __init__(self, radius):\n",
        "        self.radius = radius\n",
        "\n",
        "    def area(self):\n",
        "        return math.pi * self.radius ** 2\n",
        "\n",
        "# Subclass for Rectangle\n",
        "class Rectangle(Shape):\n",
        "    def __init__(self, width, height):\n",
        "        self.width = width\n",
        "        self.height = height\n",
        "\n",
        "    def area(self):\n",
        "        return self.width * self.height\n",
        "\n",
        "# Function to calculate and print the area of shapes\n",
        "def print_area(shape: Shape):\n",
        "    print(f\"Area: {shape.area():.2f}\")\n",
        "\n",
        "# Example usage\n",
        "circle = Circle(5)\n",
        "rectangle = Rectangle(4, 6)\n",
        "\n",
        "print_area(circle)      # Output: Area: 78.54\n",
        "print_area(rectangle)   # Output: Area: 24.00\n"
      ],
      "metadata": {
        "colab": {
          "base_uri": "https://localhost:8080/"
        },
        "id": "drB7-DEa_Otd",
        "outputId": "c8002c1b-7e85-4576-fcf4-67866a6834c7"
      },
      "execution_count": 16,
      "outputs": [
        {
          "output_type": "stream",
          "name": "stdout",
          "text": [
            "Area: 78.54\n",
            "Area: 24.00\n"
          ]
        }
      ]
    },
    {
      "cell_type": "markdown",
      "source": [
        "Explanation\n",
        "\n",
        "**1. Abstract Base Class (Shape):**\n",
        "\n",
        "- Defines the abstract method area().\n",
        "\n",
        "**2. Subclass (Circle):**\n",
        "\n",
        "- Implements the area() method to calculate the area of a circle.\n",
        "\n",
        "**3. Subclass (Rectangle):**\n",
        "\n",
        "- Implements the area() method to calculate the area of a rectangle.\n",
        "\n",
        "**4. Function (print_area):**\n",
        "\n",
        "- This function takes an object of type Shape (or any of its subclasses) as an argument.\n",
        "\n",
        "- It calls the area() method on the provided shape object and prints the result.\n",
        "\n",
        "**Example Usage:**\n",
        "\n",
        "- Instances of Circle and Rectangle are created.\n",
        "- The print_area() function is called with both shape objects, demonstrating polymorphism as the same function works with different types of shape objects."
      ],
      "metadata": {
        "id": "jxIEVODj_Z6q"
      }
    },
    {
      "cell_type": "markdown",
      "source": [
        "**Q.10 - Implement encapsulation in a `BankAccount` class with private attributes for `balance` and `account_number`. Include methods for deposit, withdrawal, and balance inquiry.**\n",
        "\n",
        "**Ans.**- Here’s how you can implement encapsulation in a BankAccount class with private attributes for balance and account_number. The class includes methods for depositing money, withdrawing money, and inquiring about the balance."
      ],
      "metadata": {
        "id": "nIqScUUXAEWi"
      }
    },
    {
      "cell_type": "code",
      "source": [
        "class BankAccount:\n",
        "    def __init__(self, account_number, initial_balance=0):\n",
        "        self.__account_number = account_number  # Private attribute\n",
        "        self.__balance = initial_balance          # Private attribute\n",
        "\n",
        "    def deposit(self, amount):\n",
        "        if amount > 0:\n",
        "            self.__balance += amount\n",
        "            print(f\"Deposited: ${amount:.2f}. New balance: ${self.__balance:.2f}\")\n",
        "        else:\n",
        "            print(\"Deposit amount must be positive.\")\n",
        "\n",
        "    def withdraw(self, amount):\n",
        "        if 0 < amount <= self.__balance:\n",
        "            self.__balance -= amount\n",
        "            print(f\"Withdrew: ${amount:.2f}. New balance: ${self.__balance:.2f}\")\n",
        "        else:\n",
        "            print(\"Invalid withdrawal amount.\")\n",
        "\n",
        "    def get_balance(self):\n",
        "        return self.__balance\n",
        "\n",
        "    def get_account_number(self):\n",
        "        return self.__account_number\n",
        "\n",
        "# Example usage\n",
        "account = BankAccount(\"123456789\", 1000)\n",
        "\n",
        "# Deposit\n",
        "account.deposit(500)\n",
        "\n",
        "# Withdraw\n",
        "account.withdraw(200)\n",
        "\n",
        "# Inquiry\n",
        "print(f\"Account Number: {account.get_account_number()}\")\n",
        "print(f\"Current Balance: ${account.get_balance():.2f}\")\n",
        "\n",
        "# Trying to withdraw an invalid amount\n",
        "account.withdraw(1500)  # Should show an error message\n"
      ],
      "metadata": {
        "colab": {
          "base_uri": "https://localhost:8080/"
        },
        "id": "wJXPYG-BAfM9",
        "outputId": "423fb569-d267-4465-f550-4abd0aa723f0"
      },
      "execution_count": 19,
      "outputs": [
        {
          "output_type": "stream",
          "name": "stdout",
          "text": [
            "Deposited: $500.00. New balance: $1500.00\n",
            "Withdrew: $200.00. New balance: $1300.00\n",
            "Account Number: 123456789\n",
            "Current Balance: $1300.00\n",
            "Invalid withdrawal amount.\n"
          ]
        }
      ]
    },
    {
      "cell_type": "markdown",
      "source": [
        "Explanation\n",
        "\n",
        "**1. Private Attributes:**\n",
        "\n",
        "- __account_number and __balance are private attributes, indicated by the double underscore prefix. This restricts direct access from outside the class.\n",
        "\n",
        "**2. Methods:**\n",
        "\n",
        "- deposit(amount): Increases the balance by the specified amount, provided it's positive. It prints the new balance.\n",
        "\n",
        "- withdraw(amount): Decreases the balance by the specified amount if sufficient funds are available and the amount is positive. It prints the new balance or an error message if the withdrawal is invalid.\n",
        "\n",
        "- get_balance(): Returns the current balance.\n",
        "\n",
        "- get_account_number(): Returns the account number.\n",
        "\n",
        "**Example Usage:**\n",
        "\n",
        "- An instance of BankAccount is created, demonstrating deposits, withdrawals, and balance inquiries. It also shows how invalid withdrawal attempts are handled."
      ],
      "metadata": {
        "id": "aRAtN0LABQ_R"
      }
    },
    {
      "cell_type": "markdown",
      "source": [
        "**Q.11 -  Write a class that overrides the `__str__` and `__add__` magic methods. What will these methods allow you to do?**\n",
        "\n",
        "**Ans.**- Overriding the __str__ and __add__ magic methods in a class allows you to define how instances of that class are represented as strings and how they can be added together, respectively."
      ],
      "metadata": {
        "id": "Ln1M68X_B27c"
      }
    },
    {
      "cell_type": "code",
      "source": [
        "#Example Class #example of a class Vector that represents a mathematical vector and overrides these methods.\n",
        "\n",
        "\n",
        "class Vector:\n",
        "    def __init__(self, x, y):\n",
        "        self.x = x\n",
        "        self.y = y\n",
        "\n",
        "    def __str__(self):\n",
        "        # This method defines the string representation of the object\n",
        "        return f\"Vector({self.x}, {self.y})\"\n",
        "\n",
        "    def __add__(self, other):\n",
        "        # This method defines how two Vector objects are added together\n",
        "        if isinstance(other, Vector):\n",
        "            return Vector(self.x + other.x, self.y + other.y)\n",
        "        return NotImplemented\n",
        "\n",
        "# Example usage\n",
        "vector1 = Vector(2, 3)\n",
        "vector2 = Vector(5, 7)\n",
        "\n",
        "# Using __str__ method\n",
        "print(vector1)  # Output: Vector(2, 3)\n",
        "\n",
        "# Using __add__ method\n",
        "vector3 = vector1 + vector2\n",
        "print(vector3)  # Output: Vector(7, 10)\n"
      ],
      "metadata": {
        "colab": {
          "base_uri": "https://localhost:8080/"
        },
        "id": "UlZzhhuTCEOI",
        "outputId": "ac9069f0-e865-4e8f-fed0-f6df5f31ab51"
      },
      "execution_count": 20,
      "outputs": [
        {
          "output_type": "stream",
          "name": "stdout",
          "text": [
            "Vector(2, 3)\n",
            "Vector(7, 10)\n"
          ]
        }
      ]
    },
    {
      "cell_type": "markdown",
      "source": [
        "Explanation\n",
        "\n",
        "__str__ Method:\n",
        "\n",
        "- This method is called when you use print() or str() on an instance of the class. It provides a human-readable string representation of the object.\n",
        "\n",
        "- In this example, calling print(vector1) will output Vector(2, 3).\n",
        "\n",
        "__add__ Method:\n",
        "\n",
        "- This method is called when the + operator is used between two instances of the class. It defines how to add two Vector objects together.\n",
        "\n",
        "- In this example, vector1 + vector2 creates a new Vector instance with the x and y values summed, resulting in Vector(7, 10)."
      ],
      "metadata": {
        "id": "G1eI5IbUCjma"
      }
    },
    {
      "cell_type": "markdown",
      "source": [
        "**Q.12 - Create a decorator that measures and prints the execution time of a function.**\n",
        "\n",
        "**Ans.**- ou can create a decorator in Python to measure and print the execution time of a function using the time module. Here's a simple implementation:"
      ],
      "metadata": {
        "id": "Cw-meyRSC0YD"
      }
    },
    {
      "cell_type": "code",
      "source": [
        "import time\n",
        "\n",
        "def execution_time_decorator(func):\n",
        "    def wrapper(*args, **kwargs):\n",
        "        start_time = time.time()  # Record the start time\n",
        "        result = func(*args, **kwargs)  # Call the original function\n",
        "        end_time = time.time()  # Record the end time\n",
        "        execution_time = end_time - start_time  # Calculate execution time\n",
        "        print(f\"Execution time: {execution_time:.4f} seconds\")\n",
        "        return result  # Return the result of the original function\n",
        "    return wrapper\n",
        "\n",
        "# Example usage\n",
        "@execution_time_decorator\n",
        "def slow_function(seconds):\n",
        "    time.sleep(seconds)  # Simulate a delay\n",
        "    return \"Done!\"\n",
        "\n",
        "# Calling the decorated function\n",
        "result = slow_function(2)  # This will take approximately 2 seconds\n",
        "print(result)  # Output: Done!\n"
      ],
      "metadata": {
        "colab": {
          "base_uri": "https://localhost:8080/"
        },
        "id": "eOvF5yphBQAe",
        "outputId": "50491d33-5664-460d-d539-00ca1edc58d8"
      },
      "execution_count": 21,
      "outputs": [
        {
          "output_type": "stream",
          "name": "stdout",
          "text": [
            "Execution time: 2.0031 seconds\n",
            "Done!\n"
          ]
        }
      ]
    },
    {
      "cell_type": "markdown",
      "source": [
        "Explanation\n",
        "\n",
        "**1.Decorator Definition:**\n",
        "\n",
        "- The execution_time_decorator function takes a function func as an argument.\n",
        "\n",
        "- Inside it, a nested wrapper function is defined, which will be called instead of the original function.\n",
        "\n",
        "**2.Timing Logic:**\n",
        "\n",
        "- start_time records the current time before the function execution.\n",
        "\n",
        "- The original function is called with its arguments using func(*args, **kwargs).\n",
        "\n",
        "- After the function call, end_time records the time again.\n",
        "\n",
        "- The execution time is calculated by subtracting start_time from end_time.\n",
        "\n",
        "**3.Printing the Execution Time:**\n",
        "\n",
        "- The execution time is printed in seconds, formatted to four decimal places.\n",
        "\n",
        "**4.Return Value:**\n",
        "\n",
        "- The result of the original function is returned so that it can still be used after being decorated.\n",
        "\n",
        "**5.Example Usage:**\n",
        "\n",
        "- The slow_function simulates a delay using time.sleep(), and when it's decorated with @execution_time_decorator, calling it will measure and print its execution time.\n",
        "\n",
        "This decorator can be applied to any function to easily monitor its performance."
      ],
      "metadata": {
        "id": "fik53eJEDK7o"
      }
    },
    {
      "cell_type": "markdown",
      "source": [
        "**Q.13 - Explain the concept of the Diamond Problem in multiple inheritance. How does Python resolve it?**\n",
        "\n",
        "**Ans.**- In object-oriented programming, multiple inheritance allows a class to inherit attributes and methods from multiple parent classes. However, this can lead to a complex scenario known as the \"Diamond Problem.\"\n",
        "\n",
        "Python resolves the Diamond Problem using a mechanism called Method Resolution Order (MRO). MRO defines the order in which base classes are searched when calling methods or accessing attributes. Python uses the C3 linearization algorithm to create a consistent and predictable MRO"
      ],
      "metadata": {
        "id": "bfIzzvRoEM8U"
      }
    },
    {
      "cell_type": "code",
      "source": [
        "class A:\n",
        "    def greet(self):\n",
        "        return \"Hello from A!\"\n",
        "\n",
        "class B(A):\n",
        "    def greet(self):\n",
        "        return \"Hello from B!\"\n",
        "\n",
        "class C(A):\n",
        "    def greet(self):\n",
        "        return \"Hello from C!\"\n",
        "\n",
        "class D(B, C):\n",
        "    pass\n",
        "\n",
        "# Create an instance of D\n",
        "d = D()\n",
        "\n",
        "# Call the greet method\n",
        "print(d.greet())  # Output: Hello from B!\n",
        "\n",
        "# Check the MRO\n",
        "print(D.mro())\n"
      ],
      "metadata": {
        "colab": {
          "base_uri": "https://localhost:8080/"
        },
        "id": "qMTtkr8vE7_0",
        "outputId": "779a9532-650d-4130-92a5-bc14dd0a001f"
      },
      "execution_count": 22,
      "outputs": [
        {
          "output_type": "stream",
          "name": "stdout",
          "text": [
            "Hello from B!\n",
            "[<class '__main__.D'>, <class '__main__.B'>, <class '__main__.C'>, <class '__main__.A'>, <class 'object'>]\n"
          ]
        }
      ]
    },
    {
      "cell_type": "markdown",
      "source": [
        "Key Points\n",
        "\n",
        "- MRO Determination: The MRO provides a clear order for method resolution, ensuring that the most specific class is checked first.\n",
        "\n",
        "- C3 Linearization: The C3 linearization algorithm ensures that the inheritance hierarchy is resolved in a consistent manner, avoiding ambiguity.\n",
        "\n",
        "- Predictability: By adhering to the MRO, Python allows developers to predict which method will be called, thus mitigating the issues posed by the Diamond Problem.\n",
        "\n",
        "In summary, the Diamond Problem illustrates the complexities of multiple inheritance, but Python's use of MRO and the C3 linearization algorithm effectively resolves these complexities, ensuring a clear and consistent method resolution order."
      ],
      "metadata": {
        "id": "8g88drgmFvbo"
      }
    },
    {
      "cell_type": "markdown",
      "source": [
        "**Q.14 -  Write a class method that keeps track of the number of instances created from a class.**\n",
        "\n",
        "**Ans.** - You can create a class method to keep track of the number of instances created from a class by using a class variable that increments each time an instance is initialized. Here’s how you can implement this in Python:"
      ],
      "metadata": {
        "id": "8Ik6ztWuGkvN"
      }
    },
    {
      "cell_type": "code",
      "source": [
        "class InstanceCounter:\n",
        "    # Class variable to keep track of the number of instances\n",
        "    instance_count = 0\n",
        "\n",
        "    def __init__(self):\n",
        "        # Increment the instance count each time a new instance is created\n",
        "        InstanceCounter.instance_count += 1\n",
        "\n",
        "    @classmethod\n",
        "    def get_instance_count(cls):\n",
        "        \"\"\"Class method to return the current instance count.\"\"\"\n",
        "        return cls.instance_count\n",
        "\n",
        "# Example usage\n",
        "if __name__ == \"__main__\":\n",
        "    obj1 = InstanceCounter()\n",
        "    obj2 = InstanceCounter()\n",
        "    obj3 = InstanceCounter()\n",
        "\n",
        "    print(f\"Number of instances created: {InstanceCounter.get_instance_count()}\")  # Output: 3\n"
      ],
      "metadata": {
        "colab": {
          "base_uri": "https://localhost:8080/"
        },
        "id": "SGiy5K5x_PQV",
        "outputId": "4ecc5d9c-c348-49de-a0a8-dee3a97f9b93"
      },
      "execution_count": 23,
      "outputs": [
        {
          "output_type": "stream",
          "name": "stdout",
          "text": [
            "Number of instances created: 3\n"
          ]
        }
      ]
    },
    {
      "cell_type": "markdown",
      "source": [
        "Explanation\n",
        "\n",
        "**1. Class Variable (instance_count):**\n",
        "\n",
        "- This variable is defined at the class level and keeps track of how many instances have been created.\n",
        "\n",
        "**2. Constructor (__init__ method):**\n",
        "\n",
        "- Each time a new instance of InstanceCounter is created, the __init__ method is called, which increments the instance_count by 1.\n",
        "\n",
        "**3. Class Method (get_instance_count):**\n",
        "\n",
        "This method is decorated with @classmethod, which allows it to access the class variable instance_count. It returns the total number of instances created.\n",
        "\n",
        "**Example Usage:**\n",
        "\n",
        "- When three instances of InstanceCounter are created, the instance count is updated each time.\n",
        "\n",
        "- Finally, calling get_instance_count() provides the total count of instances."
      ],
      "metadata": {
        "id": "reuwNBtMHBW5"
      }
    },
    {
      "cell_type": "markdown",
      "source": [
        "**Q.15 - . Implement a static method in a class that checks if a given year is a leap year.**\n",
        "\n",
        "**Ans.**- You can implement a static method in a class to check if a given year is a leap year by defining the logic for determining leap years according to the rules of the Gregorian calendar. Here's how you can do that in Python:"
      ],
      "metadata": {
        "id": "wLIjbsQXHbbG"
      }
    },
    {
      "cell_type": "code",
      "source": [
        "class YearChecker:\n",
        "    @staticmethod\n",
        "    def is_leap_year(year):\n",
        "        \"\"\"Check if a given year is a leap year.\"\"\"\n",
        "        if (year % 4 == 0 and year % 100 != 0) or (year % 400 == 0):\n",
        "            return True\n",
        "        return False\n",
        "\n",
        "# Example usage\n",
        "if __name__ == \"__main__\":\n",
        "    test_years = [2000, 2004, 1900, 2023, 2024]\n",
        "\n",
        "    for year in test_years:\n",
        "        if YearChecker.is_leap_year(year):\n",
        "            print(f\"{year} is a leap year.\")\n",
        "        else:\n",
        "            print(f\"{year} is not a leap year.\")\n"
      ],
      "metadata": {
        "colab": {
          "base_uri": "https://localhost:8080/"
        },
        "id": "RNLOPY57G5KC",
        "outputId": "84b6750e-b769-46f4-b297-56979751027a"
      },
      "execution_count": 24,
      "outputs": [
        {
          "output_type": "stream",
          "name": "stdout",
          "text": [
            "2000 is a leap year.\n",
            "2004 is a leap year.\n",
            "1900 is not a leap year.\n",
            "2023 is not a leap year.\n",
            "2024 is a leap year.\n"
          ]
        }
      ]
    },
    {
      "cell_type": "markdown",
      "source": [
        "Explanation\n",
        "\n",
        "**- Static Method (is_leap_year):**\n",
        "\n",
        "- The method is defined using the @staticmethod decorator, indicating that it does not require access to any instance or class-specific data.\n",
        "\n",
        "- It takes a year as an argument and applies the following rules to determine if it is a leap year:\n",
        "\n",
        "  A year is a leap year if it is divisible by 4.\n",
        "   \n",
        "  However, if the year is divisible by 100, it is not a leap year, unless it is also divisible by 400.\n",
        "\n",
        "**Example Usage:**\n",
        "\n",
        "- A list of years (test_years) is defined to test the static method.\n",
        "\n",
        "- The method is called for each year, and the result is printed to indicate whether each year is a leap year or not."
      ],
      "metadata": {
        "id": "uDJnALc9HuNV"
      }
    },
    {
      "cell_type": "code",
      "source": [],
      "metadata": {
        "id": "-eg3TP1XHn_M"
      },
      "execution_count": null,
      "outputs": []
    }
  ]
}