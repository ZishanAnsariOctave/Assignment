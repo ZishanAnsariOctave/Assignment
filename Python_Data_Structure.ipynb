{
  "nbformat": 4,
  "nbformat_minor": 0,
  "metadata": {
    "colab": {
      "provenance": []
    },
    "kernelspec": {
      "name": "python3",
      "display_name": "Python 3"
    },
    "language_info": {
      "name": "python"
    }
  },
  "cells": [
    {
      "cell_type": "markdown",
      "source": [
        "**Q.1** - **Discuss string slicing and provide examples.**\n",
        "\n",
        "Ans.- String slicing is a powerful feature in Python that allows you to extract a portion of a string by specifying a start and end index. The syntax for slicing is string[start:end], where:\n",
        "\n",
        "- start is the index of the first character to include in the slice.\n",
        "\n",
        "- end is the index of the first character to exclude from the slice.\n",
        "\n",
        "- Both indices are optional. If start is omitted, it defaults to the beginning of the string (index 0). If end is omitted, it defaults to the end of the string.\n",
        "\n",
        "String slicing is a versatile tool for working with strings in Python, allowing for efficient extraction and manipulation of string data."
      ],
      "metadata": {
        "id": "tP1JpWKcI6r4"
      }
    },
    {
      "cell_type": "code",
      "source": [
        "#Simple Slicing:\n",
        "\n",
        "text = \"Hello, World!\"\n",
        "slice1 = text[0:5]\n",
        "print(slice1)\n"
      ],
      "metadata": {
        "colab": {
          "base_uri": "https://localhost:8080/"
        },
        "id": "U3dCVnz2Jfl7",
        "outputId": "d57eac33-902d-433d-add3-a55ffce3b394"
      },
      "execution_count": 1,
      "outputs": [
        {
          "output_type": "stream",
          "name": "stdout",
          "text": [
            "Hello\n"
          ]
        }
      ]
    },
    {
      "cell_type": "code",
      "source": [
        "#Omitting Indices:\n",
        "\n",
        "text = \"Hello, World!\"\n",
        "slice2 = text[:5]\n",
        "slice3 = text[7:]\n",
        "print(slice2, slice3)\n"
      ],
      "metadata": {
        "colab": {
          "base_uri": "https://localhost:8080/"
        },
        "id": "oh1ge8q9Jk4U",
        "outputId": "5ee16d40-f410-4356-831e-58b263ea002a"
      },
      "execution_count": 2,
      "outputs": [
        {
          "output_type": "stream",
          "name": "stdout",
          "text": [
            "Hello World!\n"
          ]
        }
      ]
    },
    {
      "cell_type": "code",
      "source": [
        "#Negative Indices: Negative indices count from the end of the string. For example, -1 is the last character.\n",
        "\n",
        "text = \"Hello, World!\"\n",
        "slice4 = text[-6:]\n",
        "slice5 = text[:-1]\n",
        "print(slice4, slice5)\n"
      ],
      "metadata": {
        "colab": {
          "base_uri": "https://localhost:8080/"
        },
        "id": "wk9Ds_noJ03_",
        "outputId": "29e957f2-3d57-440a-b14d-0da7bbb6eefd"
      },
      "execution_count": 3,
      "outputs": [
        {
          "output_type": "stream",
          "name": "stdout",
          "text": [
            "World! Hello, World\n"
          ]
        }
      ]
    },
    {
      "cell_type": "code",
      "source": [
        "#Using a Step: You can also specify a step value, which determines the increment between each index in the slice. The syntax is string[start:end:step].\n",
        "\n",
        "text = \"Hello, World!\"\n",
        "slice6 = text[::2]\n",
        "slice7 = text[1:10:2]\n",
        "print(slice6, slice7)\n"
      ],
      "metadata": {
        "colab": {
          "base_uri": "https://localhost:8080/"
        },
        "id": "i6KtKQvOKFKY",
        "outputId": "b7461beb-ad6f-42db-d09b-e95a29181354"
      },
      "execution_count": 4,
      "outputs": [
        {
          "output_type": "stream",
          "name": "stdout",
          "text": [
            "Hlo ol! el,Wr\n"
          ]
        }
      ]
    },
    {
      "cell_type": "code",
      "source": [
        "#Reversing a String:\n",
        "\n",
        "text = \"Hello, World!\"\n",
        "reversed_text = text[::-1]\n",
        "print(reversed_text)\n",
        "\n",
        "\n"
      ],
      "metadata": {
        "colab": {
          "base_uri": "https://localhost:8080/"
        },
        "id": "yaofnbJxKTxD",
        "outputId": "a4902714-878d-4e47-a4c4-89920e919298"
      },
      "execution_count": 5,
      "outputs": [
        {
          "output_type": "stream",
          "name": "stdout",
          "text": [
            "!dlroW ,olleH\n"
          ]
        }
      ]
    },
    {
      "cell_type": "code",
      "source": [
        "#Manipulating Data:\n",
        "\n",
        "data = \"1234567890\"\n",
        "even_indices = data[::2]\n",
        "odd_indices = data[1::2]\n",
        "print(even_indices, odd_indices)\n"
      ],
      "metadata": {
        "colab": {
          "base_uri": "https://localhost:8080/"
        },
        "id": "ycwdMrhmKcf-",
        "outputId": "6c6c7900-6610-4524-faf3-d4b6397981c1"
      },
      "execution_count": 6,
      "outputs": [
        {
          "output_type": "stream",
          "name": "stdout",
          "text": [
            "13579 24680\n"
          ]
        }
      ]
    },
    {
      "cell_type": "markdown",
      "source": [
        "**Q.2** - **Explain the key features of lists in Python.**\n",
        "\n",
        "Ans.- Lists in Python are versatile and powerful data structures that allow you to store and manipulate ordered collections of items. Here are some key features of lists:\n",
        "\n",
        "1. Ordered Collection\n",
        "- Lists maintain the order of elements. The position of each item is determined by its index, starting from 0.\n",
        "\n",
        "2. Mutable\n",
        "- Lists are mutable, meaning you can change their contents after creation. You can modify, add, or remove elements without creating a new list.\n",
        "\n",
        "3. Dynamic Sizing\n",
        "- Lists can grow and shrink as needed. You don’t have to specify a fixed size when creating a list.\n",
        "\n",
        "4. Heterogeneous Elements\n",
        "- Lists can store items of different data types (e.g., integers, strings, floats, and even other lists).\n",
        "\n",
        "5. Indexing and Slicing\n",
        "- You can access elements using indexing and slicing, similar to strings. Negative indexing allows access from the end of the list.\n",
        "\n",
        "6. Methods for Manipulation\n",
        "- Lists come with a variety of built-in methods for manipulation, including:\n",
        "\n",
        "**append**(): Adds an element to the end.\n",
        "\n",
        "**insert**(): Inserts an element at a specified index.\n",
        "\n",
        "**remove**(): Removes the first occurrence of a specified value.\n",
        "\n",
        "**pop**(): Removes and returns an element at a given index (default is the last element).\n",
        "\n",
        "**sort**(): Sorts the list in place.\n",
        "\n",
        "**reverse**(): Reverses the list in place.\n",
        "\n",
        "7. Nested Lists\n",
        "- Lists can contain other lists, allowing for multi-dimensional data structures (like matrices).\n",
        "\n",
        "8.  Immutability of Elements\n",
        "- While lists themselves are mutable, the elements within a list can be immutable (like tuples or strings).\n",
        "\n",
        "9. Support for Iteration\n",
        "- Lists can be easily iterated over using loops, making them suitable for processing collections of data.\n",
        "\n",
        "Lists are fundamental in Python programming, providing a flexible way to manage collections of data efficiently.\n",
        "\n",
        "\n",
        "Accessing: Use list[index] for single elements or list[start:end] for slices.\n",
        "\n",
        "Modifying: Assign a new value to list[index] or a slice.\n",
        "\n",
        "Deleting: Use del list[index], list.remove(value), or list.pop(index).\n",
        "\n",
        "These operations allow you to effectively manage and manipulate lists in Python!"
      ],
      "metadata": {
        "id": "KixB6m5GLDAT"
      }
    },
    {
      "cell_type": "code",
      "source": [
        "# Creating a list\n",
        "\n",
        "fruits = ['apple', 'banana', 'cherry']\n",
        "fruits"
      ],
      "metadata": {
        "colab": {
          "base_uri": "https://localhost:8080/"
        },
        "id": "v0C_rEWUKnTi",
        "outputId": "48d8b8c5-b4fa-484a-c1ae-55468bf8e02e"
      },
      "execution_count": 9,
      "outputs": [
        {
          "output_type": "execute_result",
          "data": {
            "text/plain": [
              "['apple', 'banana', 'cherry']"
            ]
          },
          "metadata": {},
          "execution_count": 9
        }
      ]
    },
    {
      "cell_type": "code",
      "source": [
        "# Adding elements\n",
        "\n",
        "fruits.append('date')\n",
        "\n",
        "fruits"
      ],
      "metadata": {
        "colab": {
          "base_uri": "https://localhost:8080/"
        },
        "id": "2I-nNBseMf3n",
        "outputId": "3de4dffb-ffa9-4126-c92e-b8239499e7b8"
      },
      "execution_count": 13,
      "outputs": [
        {
          "output_type": "execute_result",
          "data": {
            "text/plain": [
              "['apple', 'blueberry', 'cherry', 'date', 'date']"
            ]
          },
          "metadata": {},
          "execution_count": 13
        }
      ]
    },
    {
      "cell_type": "code",
      "source": [
        "#Inserting elements\n",
        "\n",
        "fruits.insert(1, 'blueberry')\n",
        "\n",
        "fruits"
      ],
      "metadata": {
        "colab": {
          "base_uri": "https://localhost:8080/"
        },
        "id": "wTf4B0f8Mn5x",
        "outputId": "acafb76e-e1f1-4028-f4b5-80b23bacacb0"
      },
      "execution_count": 11,
      "outputs": [
        {
          "output_type": "execute_result",
          "data": {
            "text/plain": [
              "['apple', 'blueberry', 'banana', 'cherry', 'date']"
            ]
          },
          "metadata": {},
          "execution_count": 11
        }
      ]
    },
    {
      "cell_type": "code",
      "source": [
        "# Accessing elements\n",
        "\n",
        "first_fruit = fruits[0]"
      ],
      "metadata": {
        "colab": {
          "base_uri": "https://localhost:8080/"
        },
        "id": "i4Cj9vlSMx0m",
        "outputId": "724fd5da-2108-4be7-f1d3-bdb639cab0f7"
      },
      "execution_count": 15,
      "outputs": [
        {
          "output_type": "stream",
          "name": "stdout",
          "text": [
            "apple\n"
          ]
        }
      ]
    },
    {
      "cell_type": "code",
      "source": [
        "# Slicing\n",
        "\n",
        "some_fruits = fruits[1:3]\n",
        "print(some_fruits)"
      ],
      "metadata": {
        "colab": {
          "base_uri": "https://localhost:8080/"
        },
        "id": "RMNOAyUjM3c5",
        "outputId": "aa2d7948-2c24-4bb5-fff3-5220df99a674"
      },
      "execution_count": 16,
      "outputs": [
        {
          "output_type": "stream",
          "name": "stdout",
          "text": [
            "['blueberry', 'cherry']\n"
          ]
        }
      ]
    },
    {
      "cell_type": "code",
      "source": [
        "# Sorting\n",
        "\n",
        "fruits.sort()\n",
        "\n",
        "print(fruits)"
      ],
      "metadata": {
        "colab": {
          "base_uri": "https://localhost:8080/"
        },
        "id": "FYwYnGVuNBXF",
        "outputId": "89b6db95-a237-4e58-8556-f14a5841dccc"
      },
      "execution_count": 17,
      "outputs": [
        {
          "output_type": "stream",
          "name": "stdout",
          "text": [
            "['apple', 'blueberry', 'cherry', 'date', 'date']\n"
          ]
        }
      ]
    },
    {
      "cell_type": "code",
      "source": [],
      "metadata": {
        "id": "ai_8UhyNNGus"
      },
      "execution_count": null,
      "outputs": []
    },
    {
      "cell_type": "markdown",
      "source": [
        "**Q.3** - **Describe how to access, modify, and delete elements in a list with examples.**\n",
        "\n",
        "Ans.- **Accessing Elements**\n",
        "\n",
        "- You can access elements in a list using indexing. Python uses zero-based indexing, meaning the first element is at index 0."
      ],
      "metadata": {
        "id": "XLuHamp6OCTt"
      }
    },
    {
      "cell_type": "code",
      "source": [
        "fruits = ['apple', 'banana', 'cherry', 'date']\n",
        "\n",
        "# Accessing elements\n",
        "first_fruit = fruits[0]\n",
        "second_fruit = fruits[1]\n",
        "last_fruit = fruits[-1]\n",
        "print(first_fruit, second_fruit, last_fruit)\n"
      ],
      "metadata": {
        "colab": {
          "base_uri": "https://localhost:8080/"
        },
        "id": "4woNlXS5OTGZ",
        "outputId": "f78170b5-70ce-4f4d-9eae-832bdf7476e8"
      },
      "execution_count": 20,
      "outputs": [
        {
          "output_type": "stream",
          "name": "stdout",
          "text": [
            "apple banana date\n"
          ]
        }
      ]
    },
    {
      "cell_type": "markdown",
      "source": [
        "**Modifying Elements**\n",
        "\n",
        "- You can modify elements by assigning a new value to a specific index."
      ],
      "metadata": {
        "id": "Ngk7olRlOe9E"
      }
    },
    {
      "cell_type": "code",
      "source": [
        "# Modifying elements\n",
        "\n",
        "fruits = ['apple', 'banana', 'cherry', 'date']\n",
        "fruits[1] = 'blueberry'\n",
        "print(fruits)\n"
      ],
      "metadata": {
        "colab": {
          "base_uri": "https://localhost:8080/"
        },
        "id": "oLPnCW8_On4B",
        "outputId": "59b42817-afe6-42f5-d91b-46ebbf4128e4"
      },
      "execution_count": 23,
      "outputs": [
        {
          "output_type": "stream",
          "name": "stdout",
          "text": [
            "['apple', 'blueberry', 'cherry', 'date']\n"
          ]
        }
      ]
    },
    {
      "cell_type": "code",
      "source": [
        "# Modifying using slicing\n",
        "fruits[2:4] = ['kiwi', 'mango']\n",
        "print(fruits)"
      ],
      "metadata": {
        "colab": {
          "base_uri": "https://localhost:8080/"
        },
        "id": "ztLvBAbXOZla",
        "outputId": "d03af47e-f2bb-4082-85e1-26b88dbf877d"
      },
      "execution_count": 25,
      "outputs": [
        {
          "output_type": "stream",
          "name": "stdout",
          "text": [
            "['apple', 'blueberry', 'kiwi', 'mango']\n"
          ]
        }
      ]
    },
    {
      "cell_type": "markdown",
      "source": [
        "**Deleting Elements**\n",
        "\n",
        "- You can delete elements using the del statement, the remove() method, or the pop() method."
      ],
      "metadata": {
        "id": "URTJryLbPrPv"
      }
    },
    {
      "cell_type": "code",
      "source": [
        "#Using del:\n",
        "# Deleting elements\n",
        "del fruits[1]\n",
        "print(fruits)\n",
        "\n"
      ],
      "metadata": {
        "colab": {
          "base_uri": "https://localhost:8080/"
        },
        "id": "rpobSwUFPu9L",
        "outputId": "b0493852-197a-4cf7-c330-6e2b717a6818"
      },
      "execution_count": 26,
      "outputs": [
        {
          "output_type": "stream",
          "name": "stdout",
          "text": [
            "['apple', 'kiwi', 'mango']\n"
          ]
        }
      ]
    },
    {
      "cell_type": "code",
      "source": [
        "#Using remove()\n",
        "\n",
        "# Removing by value\n",
        "fruits.remove('kiwi')\n",
        "print(fruits)\n"
      ],
      "metadata": {
        "colab": {
          "base_uri": "https://localhost:8080/"
        },
        "id": "ThbpEGqPO690",
        "outputId": "6fbbc7aa-8f1b-470f-f73a-72e0fed55492"
      },
      "execution_count": 27,
      "outputs": [
        {
          "output_type": "stream",
          "name": "stdout",
          "text": [
            "['apple', 'mango']\n"
          ]
        }
      ]
    },
    {
      "cell_type": "code",
      "source": [
        "#Using pop()\n",
        "\n",
        "# Popping an element\n",
        "last_fruit = fruits.pop() #'mango'\n",
        "print(last_fruit)\n"
      ],
      "metadata": {
        "colab": {
          "base_uri": "https://localhost:8080/"
        },
        "id": "yfoBHgouQC8H",
        "outputId": "6281ab5d-e208-423c-abbe-bb61bb6d85f4"
      },
      "execution_count": 29,
      "outputs": [
        {
          "output_type": "stream",
          "name": "stdout",
          "text": [
            "apple\n"
          ]
        }
      ]
    },
    {
      "cell_type": "markdown",
      "source": [
        "**Q.4** - **Compare and contrast tuples and lists with examples.**\n",
        "\n",
        "Ans.- Tuples and lists are both data structures in Python that can store collections of items, but they have some key differences in terms of mutability, syntax, and use cases. Here's a detailed comparison:\n",
        "\n",
        "**Mutability**\n",
        "\n",
        "- **Lists**: Mutable, meaning you can change their content (add, remove, or modify elements).\n",
        "\n",
        "- **Tuples**: Immutable, meaning once a tuple is created, you cannot change its contents.\n",
        "\n",
        "**Syntax**\n",
        "\n",
        "- **Lists**: Defined using square brackets [].\n",
        "\n",
        "- **Tuples**: Defined using parentheses ()\n",
        "\n",
        "**Performance**\n",
        "\n",
        "- **Lists**: Generally have a larger memory footprint due to their dynamic nature and additional functionalities (like resizing).\n",
        "\n",
        "- **Tuples**: Typically have a smaller memory footprint and can be faster for iteration due to their immutability.\n",
        "\n",
        "**Use Cases**\n",
        "\n",
        "- **Lists**: Best used when you need a collection of items that may change, such as in cases where you need to append, remove, or modify elements.\n",
        "\n",
        "- **Tuples**: Ideal for fixed collections of items, such as coordinates, RGB color values, or when you want to ensure that the data remains constant.\n",
        "\n",
        "**Methods**\n",
        "\n",
        "- **Lists**: Have many built-in methods (e.g., append(), remove(), pop(), sort(), etc.).\n",
        "\n",
        "- **Tuples**: Have only two built-in methods: count() (counts occurrences of a value) and index() (finds the index of a value).\n"
      ],
      "metadata": {
        "id": "ogGtJYLyQxLB"
      }
    },
    {
      "cell_type": "code",
      "source": [
        "# List example\n",
        "\n",
        "fruits_list = ['apple', 'banana', 'cherry']\n",
        "fruits_list[1] = 'blueberry'  # Modify an element\n",
        "fruits_list.append('date')     # Add an element\n",
        "print(fruits_list)\n"
      ],
      "metadata": {
        "colab": {
          "base_uri": "https://localhost:8080/"
        },
        "id": "9vU38G04SXor",
        "outputId": "ab6fac8e-05c7-40bc-b895-bfdb167a9432"
      },
      "execution_count": 35,
      "outputs": [
        {
          "output_type": "stream",
          "name": "stdout",
          "text": [
            "['apple', 'blueberry', 'cherry', 'date']\n"
          ]
        }
      ]
    },
    {
      "cell_type": "code",
      "source": [
        "# Tuple example\n",
        "\n",
        "fruits_tuple = ('apple', 'banana', 'cherry')\n",
        "#fruits_tuple[1] = 'blueberry'  # This would raise a TypeError\n",
        "print(fruits_tuple)  # ('apple', 'banana', 'cherry')"
      ],
      "metadata": {
        "colab": {
          "base_uri": "https://localhost:8080/"
        },
        "id": "hxCgCPX1SuKm",
        "outputId": "070190ca-49ce-4f73-85e9-753b5ac55fab"
      },
      "execution_count": 38,
      "outputs": [
        {
          "output_type": "stream",
          "name": "stdout",
          "text": [
            "('apple', 'banana', 'cherry')\n"
          ]
        }
      ]
    },
    {
      "cell_type": "code",
      "source": [
        "#Syntax\n",
        "\n",
        "# List\n",
        "my_list = [1, 2, 3, 4]"
      ],
      "metadata": {
        "id": "jHfoGSw9S6BW"
      },
      "execution_count": 39,
      "outputs": []
    },
    {
      "cell_type": "code",
      "source": [
        "# Tuple\n",
        "my_tuple = (1, 2, 3, 4)"
      ],
      "metadata": {
        "id": "kFW_rAueTNDl"
      },
      "execution_count": null,
      "outputs": []
    },
    {
      "cell_type": "code",
      "source": [
        "# List methods\n",
        "\n",
        "fruits_list = ['apple', 'banana', 'cherry']\n",
        "fruits_list.append('date')\n",
        "print(fruits_list)\n"
      ],
      "metadata": {
        "colab": {
          "base_uri": "https://localhost:8080/"
        },
        "id": "HGB7N4KjTVys",
        "outputId": "188452df-6bf9-459d-89d7-adefd3d1a2dc"
      },
      "execution_count": 40,
      "outputs": [
        {
          "output_type": "stream",
          "name": "stdout",
          "text": [
            "['apple', 'banana', 'cherry', 'date']\n"
          ]
        }
      ]
    },
    {
      "cell_type": "code",
      "source": [
        "# Tuple methods\n",
        "\n",
        "fruits_tuple = ('apple', 'banana', 'cherry', 'banana')\n",
        "count_banana = fruits_tuple.count('banana')\n",
        "print(count_banana)"
      ],
      "metadata": {
        "colab": {
          "base_uri": "https://localhost:8080/"
        },
        "id": "msC4IAOPTZZ7",
        "outputId": "db8c4e53-3fac-43bc-9274-4939b1100cc8"
      },
      "execution_count": 41,
      "outputs": [
        {
          "output_type": "stream",
          "name": "stdout",
          "text": [
            "2\n"
          ]
        }
      ]
    },
    {
      "cell_type": "code",
      "source": [
        "# Packing\n",
        "packed_list = [1, 2, 3]\n",
        "packed_tuple = (4, 5, 6)\n",
        "\n",
        "# Unpacking\n",
        "a, b, c = packed_list\n",
        "x, y, z = packed_tuple\n",
        "print(a, b, c)\n",
        "print(x, y, z)\n"
      ],
      "metadata": {
        "colab": {
          "base_uri": "https://localhost:8080/"
        },
        "id": "UfodmJtPTmiD",
        "outputId": "d594dd15-6cef-469b-c5ba-5cf3f0f1575d"
      },
      "execution_count": 45,
      "outputs": [
        {
          "output_type": "stream",
          "name": "stdout",
          "text": [
            "1 2 3\n",
            "4 5 6\n"
          ]
        }
      ]
    },
    {
      "cell_type": "markdown",
      "source": [
        "**Q.5** - **Describe the key features of sets and provide examples of their use**.\n",
        "\n",
        "Ans. - Sets in Python are an unordered collection of unique elements. They are useful for various applications, such as membership testing, removing duplicates from a collection, and performing mathematical operations like unions and intersections. Here are the key features of sets:\n",
        "\n",
        "1 - **Uniqueness**:\n",
        "\n",
        "Sets automatically eliminate duplicate entries. Each element in a set is unique."
      ],
      "metadata": {
        "id": "C1WQOG4wZEo-"
      }
    },
    {
      "cell_type": "code",
      "source": [
        "my_set = {1, 2, 2, 3}\n",
        "print(my_set)\n"
      ],
      "metadata": {
        "colab": {
          "base_uri": "https://localhost:8080/"
        },
        "id": "O9o18K_NaUbh",
        "outputId": "c27e687c-f020-47d0-a8e6-f32eac2f760d"
      },
      "execution_count": 46,
      "outputs": [
        {
          "output_type": "stream",
          "name": "stdout",
          "text": [
            "{1, 2, 3}\n"
          ]
        }
      ]
    },
    {
      "cell_type": "markdown",
      "source": [
        "2 - **Unordered**:\n",
        "\n",
        "Sets do not maintain any specific order for the elements. The order can change."
      ],
      "metadata": {
        "id": "gzsefKGraYdf"
      }
    },
    {
      "cell_type": "code",
      "source": [
        "set_a = {3, 1, 2}\n",
        "set_b = {1, 2, 3}\n",
        "print(set_a == set_b)\n"
      ],
      "metadata": {
        "colab": {
          "base_uri": "https://localhost:8080/"
        },
        "id": "IQCmNi0fabfV",
        "outputId": "0fb2f114-3d1f-4594-9ef1-ffc237199db9"
      },
      "execution_count": 47,
      "outputs": [
        {
          "output_type": "stream",
          "name": "stdout",
          "text": [
            "True\n"
          ]
        }
      ]
    },
    {
      "cell_type": "markdown",
      "source": [
        "3 - **Mutable**:\n",
        "\n",
        "Sets are mutable, meaning you can add and remove elements after the set has been created."
      ],
      "metadata": {
        "id": "DXK-9rPvalc_"
      }
    },
    {
      "cell_type": "code",
      "source": [
        "my_set = {1, 2, 3}\n",
        "my_set.add(4)\n",
        "print(my_set)\n"
      ],
      "metadata": {
        "colab": {
          "base_uri": "https://localhost:8080/"
        },
        "id": "zHKon4aJaoSw",
        "outputId": "eca41e96-db1f-40fd-dcad-6dfec3eb9dce"
      },
      "execution_count": 48,
      "outputs": [
        {
          "output_type": "stream",
          "name": "stdout",
          "text": [
            "{1, 2, 3, 4}\n"
          ]
        }
      ]
    },
    {
      "cell_type": "code",
      "source": [
        "my_set.remove(2)\n",
        "print(my_set)"
      ],
      "metadata": {
        "colab": {
          "base_uri": "https://localhost:8080/"
        },
        "id": "bZiCjkteatR5",
        "outputId": "ff2b8f61-64b0-40bd-f184-e750ab9828b3"
      },
      "execution_count": 49,
      "outputs": [
        {
          "output_type": "stream",
          "name": "stdout",
          "text": [
            "{1, 3, 4}\n"
          ]
        }
      ]
    },
    {
      "cell_type": "markdown",
      "source": [
        "4 - **Set Operations**:\n",
        "\n",
        "Python supports various built-in operations for sets:"
      ],
      "metadata": {
        "id": "-xW5bL69ayrd"
      }
    },
    {
      "cell_type": "code",
      "source": [
        "#Union: Combines two sets.\n",
        "\n",
        "set_a = {1, 2, 3}\n",
        "set_b = {3, 4, 5}\n",
        "union_set = set_a | set_b\n",
        "print(union_set)\n"
      ],
      "metadata": {
        "colab": {
          "base_uri": "https://localhost:8080/"
        },
        "id": "CN9MVG3Ca4JY",
        "outputId": "77b292f8-49c1-40cc-9a74-d2fab69fa5c4"
      },
      "execution_count": 50,
      "outputs": [
        {
          "output_type": "stream",
          "name": "stdout",
          "text": [
            "{1, 2, 3, 4, 5}\n"
          ]
        }
      ]
    },
    {
      "cell_type": "code",
      "source": [
        "#Intersection: Finds common elements\n",
        "\n",
        "intersection_set = set_a & set_b\n",
        "print(intersection_set)\n"
      ],
      "metadata": {
        "colab": {
          "base_uri": "https://localhost:8080/"
        },
        "id": "Y0_p9AdZa_1w",
        "outputId": "e737e868-0d7e-4227-8d5b-d7174059d9be"
      },
      "execution_count": 51,
      "outputs": [
        {
          "output_type": "stream",
          "name": "stdout",
          "text": [
            "{3}\n"
          ]
        }
      ]
    },
    {
      "cell_type": "code",
      "source": [
        "#Difference: Elements in one set but not in another\n",
        "\n",
        "difference_set = set_a - set_b\n",
        "print(difference_set)\n"
      ],
      "metadata": {
        "colab": {
          "base_uri": "https://localhost:8080/"
        },
        "id": "twnSmVQYbHn0",
        "outputId": "a40d474c-e63f-47b2-e17c-ff917217d607"
      },
      "execution_count": 52,
      "outputs": [
        {
          "output_type": "stream",
          "name": "stdout",
          "text": [
            "{1, 2}\n"
          ]
        }
      ]
    },
    {
      "cell_type": "code",
      "source": [
        "#Symmetric Difference: Elements in either set but not both\n",
        "\n",
        "symmetric_difference_set = set_a ^ set_b\n",
        "print(symmetric_difference_set)\n"
      ],
      "metadata": {
        "colab": {
          "base_uri": "https://localhost:8080/"
        },
        "id": "LtKx-aKXbPuq",
        "outputId": "cf0c3d47-86b4-4cb7-8bac-1bde9e7cac11"
      },
      "execution_count": 53,
      "outputs": [
        {
          "output_type": "stream",
          "name": "stdout",
          "text": [
            "{1, 2, 4, 5}\n"
          ]
        }
      ]
    },
    {
      "cell_type": "markdown",
      "source": [
        "5 - **Subset and Superset**:\n",
        "\n",
        "You can check if one set is a subset or superset of another."
      ],
      "metadata": {
        "id": "jRr_A1kQbZBo"
      }
    },
    {
      "cell_type": "code",
      "source": [
        "set_x = {1, 2}\n",
        "set_y = {1, 2, 3}\n",
        "print(set_x.issubset(set_y))\n"
      ],
      "metadata": {
        "colab": {
          "base_uri": "https://localhost:8080/"
        },
        "id": "iiuwOAN9bfs-",
        "outputId": "b73253e9-83bd-4be2-d3ec-01ef9b9b48db"
      },
      "execution_count": 54,
      "outputs": [
        {
          "output_type": "stream",
          "name": "stdout",
          "text": [
            "True\n"
          ]
        }
      ]
    },
    {
      "cell_type": "code",
      "source": [
        "set_x = {1, 2}\n",
        "set_y = {1, 2, 3}\n",
        "print(set_y.issuperset(set_x))"
      ],
      "metadata": {
        "colab": {
          "base_uri": "https://localhost:8080/"
        },
        "id": "_EaF48H0bVaG",
        "outputId": "80a243fe-2c9a-4886-e236-87c95eb18124"
      },
      "execution_count": 55,
      "outputs": [
        {
          "output_type": "stream",
          "name": "stdout",
          "text": [
            "True\n"
          ]
        }
      ]
    },
    {
      "cell_type": "markdown",
      "source": [
        "6 - **Set Comprehensions**:\n",
        "\n",
        "Similar to list comprehensions, you can create sets using a concise syntax."
      ],
      "metadata": {
        "id": "0Ze1XGsobx3F"
      }
    },
    {
      "cell_type": "code",
      "source": [
        "squares = {x**2 for x in range(5)}\n",
        "print(squares)\n"
      ],
      "metadata": {
        "colab": {
          "base_uri": "https://localhost:8080/"
        },
        "id": "-caZq4uQb0gi",
        "outputId": "69c3cdd6-aa9f-40d9-e286-91223cab9b4b"
      },
      "execution_count": 56,
      "outputs": [
        {
          "output_type": "stream",
          "name": "stdout",
          "text": [
            "{0, 1, 4, 9, 16}\n"
          ]
        }
      ]
    },
    {
      "cell_type": "markdown",
      "source": [
        "7 - **Applications**:\n",
        "\n",
        "Removing Duplicates: Easily eliminate duplicates from a list"
      ],
      "metadata": {
        "id": "jLe2rg0Vb9Xs"
      }
    },
    {
      "cell_type": "code",
      "source": [
        "my_list = [1, 2, 2, 3, 4, 4]\n",
        "unique_elements = set(my_list)\n",
        "print(unique_elements)\n"
      ],
      "metadata": {
        "colab": {
          "base_uri": "https://localhost:8080/"
        },
        "id": "NkktD6LicAaB",
        "outputId": "81522d46-ce0a-436c-91d2-8c90011e421c"
      },
      "execution_count": 57,
      "outputs": [
        {
          "output_type": "stream",
          "name": "stdout",
          "text": [
            "{1, 2, 3, 4}\n"
          ]
        }
      ]
    },
    {
      "cell_type": "markdown",
      "source": [
        "8 - **Membership Testing**:\n",
        "\n",
        "Check if an element is in a set efficiently."
      ],
      "metadata": {
        "id": "0YKw_zFecHQo"
      }
    },
    {
      "cell_type": "code",
      "source": [
        "my_set = {1, 2, 3}\n",
        "print(2 in my_set)\n"
      ],
      "metadata": {
        "colab": {
          "base_uri": "https://localhost:8080/"
        },
        "id": "pNLXGUZhb5vU",
        "outputId": "28d2d03b-0ef3-4848-8313-a18f270f8b58"
      },
      "execution_count": 58,
      "outputs": [
        {
          "output_type": "stream",
          "name": "stdout",
          "text": [
            "True\n"
          ]
        }
      ]
    },
    {
      "cell_type": "markdown",
      "source": [
        "**Q.6** - **Discuss the use cases of tuples and sets in Python programming**.\n",
        "\n",
        "Ans.- Tuples and sets are both fundamental data structures in Python, each serving different purposes and use cases. Here’s a discussion of their use cases:\n",
        "\n",
        "Both tuples and sets serve distinct roles in Python programming. Tuples are best for fixed collections of items, returning multiple values, and ensuring data integrity, while sets excel in scenarios requiring uniqueness, fast membership testing, and mathematical set operations. Understanding when to use each structure can lead to more efficient and effective Python code.\n",
        "\n",
        "\n",
        "- **Use Cases of Tuples**\n",
        "\n",
        "1. **Immutable Collections**:\n",
        "\n",
        "- Use Case: Tuples are immutable, making them ideal for storing data that should not change throughout the program."
      ],
      "metadata": {
        "id": "7PndhH52css9"
      }
    },
    {
      "cell_type": "code",
      "source": [
        "#Example: Storing fixed configuration values or constants\n",
        "\n",
        "CONFIG = (1920, 1080, \"Full HD\")\n",
        "print(CONFIG)\n"
      ],
      "metadata": {
        "colab": {
          "base_uri": "https://localhost:8080/"
        },
        "id": "zI_14fC8c_-F",
        "outputId": "f983f22a-26f2-4d74-f951-196422d69264"
      },
      "execution_count": 59,
      "outputs": [
        {
          "output_type": "stream",
          "name": "stdout",
          "text": [
            "(1920, 1080, 'Full HD')\n"
          ]
        }
      ]
    },
    {
      "cell_type": "markdown",
      "source": [
        "2. **Return Multiple Values**:\n",
        "\n",
        "- Use Case: Functions can return multiple values as a tuple, making it easy to group related data."
      ],
      "metadata": {
        "id": "e1lQDwORdOCZ"
      }
    },
    {
      "cell_type": "code",
      "source": [
        "def get_coordinates():\n",
        "    return (10, 20)\n",
        "\n",
        "x, y = get_coordinates()\n"
      ],
      "metadata": {
        "id": "nrOfj8uUdWEx"
      },
      "execution_count": 60,
      "outputs": []
    },
    {
      "cell_type": "markdown",
      "source": [
        "3 - **Data Integrity**:\n",
        "\n",
        "- Use Case: Since tuples cannot be altered, they can be used as keys in dictionaries, ensuring data integrity when used in hashed collections."
      ],
      "metadata": {
        "id": "yCJ9cyf7dojP"
      }
    },
    {
      "cell_type": "code",
      "source": [
        "locations = {}\n",
        "locations[(40.7128, -74.0060)] = \"New York\"\n"
      ],
      "metadata": {
        "id": "VIbNAYrbdtVx"
      },
      "execution_count": 66,
      "outputs": []
    },
    {
      "cell_type": "markdown",
      "source": [
        "4 - **Unpacking**:\n",
        "\n",
        "- Use Case: Tuples support unpacking, allowing you to easily assign values to multiple variables at once."
      ],
      "metadata": {
        "id": "UU6zuwHQeDfY"
      }
    },
    {
      "cell_type": "code",
      "source": [
        "person = (\"Alice\", 30, \"Engineer\")\n",
        "name, age, occupation = person"
      ],
      "metadata": {
        "id": "PMP9hoOleIH5"
      },
      "execution_count": 69,
      "outputs": []
    },
    {
      "cell_type": "markdown",
      "source": [
        "5 - **Storage of Heterogeneous Data**:\n",
        "\n",
        "- Use Case: Tuples can store mixed data types, which can be useful when you need to group different types of related information."
      ],
      "metadata": {
        "id": "XJip3k5_eSWc"
      }
    },
    {
      "cell_type": "code",
      "source": [
        "record = (\"John\", 25, 175.5)  # Name, Age, Height\n"
      ],
      "metadata": {
        "id": "cDkl4gRKeU91"
      },
      "execution_count": null,
      "outputs": []
    },
    {
      "cell_type": "markdown",
      "source": [
        "- **Use Cases of Sets**\n",
        "\n",
        "1 - **Unique Collections**:\n",
        "\n",
        "Use Case: Sets automatically eliminate duplicate entries, making them ideal for maintaining collections of unique items."
      ],
      "metadata": {
        "id": "y4FOWyOGeZso"
      }
    },
    {
      "cell_type": "code",
      "source": [
        "unique_numbers = {1, 2, 2, 3}\n",
        "unique_numbers\n"
      ],
      "metadata": {
        "colab": {
          "base_uri": "https://localhost:8080/"
        },
        "id": "xkJ7z8PveqXu",
        "outputId": "8537f084-7b01-4865-b2a5-5a4722ad48fb"
      },
      "execution_count": 70,
      "outputs": [
        {
          "output_type": "execute_result",
          "data": {
            "text/plain": [
              "{1, 2, 3}"
            ]
          },
          "metadata": {},
          "execution_count": 70
        }
      ]
    },
    {
      "cell_type": "markdown",
      "source": [
        "2 - **Membership Testin**g:\n",
        "\n",
        "Use Case: Sets provide fast membership testing, making them suitable for checking the presence of items."
      ],
      "metadata": {
        "id": "EBnw0N0-ewr-"
      }
    },
    {
      "cell_type": "code",
      "source": [
        "fruits = {\"apple\", \"banana\", \"cherry\"}\n",
        "print(\"banana\" in fruits)\n"
      ],
      "metadata": {
        "colab": {
          "base_uri": "https://localhost:8080/"
        },
        "id": "njBF8f8WeznK",
        "outputId": "84f2b812-6dd8-4b34-8c0b-ae21a3ede86a"
      },
      "execution_count": 71,
      "outputs": [
        {
          "output_type": "stream",
          "name": "stdout",
          "text": [
            "True\n"
          ]
        }
      ]
    },
    {
      "cell_type": "markdown",
      "source": [
        "3 - **Set Operations**:\n",
        "\n",
        "Use Case: Sets support mathematical operations such as union, intersection, and difference, which can be useful in various applications.\n"
      ],
      "metadata": {
        "id": "Cxln7_J0e3g7"
      }
    },
    {
      "cell_type": "code",
      "source": [
        "set_a = {1, 2, 3}\n",
        "set_b = {2, 3, 4}\n",
        "union = set_a | set_b\n",
        "intersection = set_a & set_b"
      ],
      "metadata": {
        "id": "skVSTYX0e88a"
      },
      "execution_count": 73,
      "outputs": []
    },
    {
      "cell_type": "code",
      "source": [
        "union"
      ],
      "metadata": {
        "colab": {
          "base_uri": "https://localhost:8080/"
        },
        "id": "QDXZw3gyetE9",
        "outputId": "adfc2583-d9f3-4c4d-eb9e-b360f994d4f1"
      },
      "execution_count": 74,
      "outputs": [
        {
          "output_type": "execute_result",
          "data": {
            "text/plain": [
              "{1, 2, 3, 4}"
            ]
          },
          "metadata": {},
          "execution_count": 74
        }
      ]
    },
    {
      "cell_type": "code",
      "source": [
        "intersection"
      ],
      "metadata": {
        "colab": {
          "base_uri": "https://localhost:8080/"
        },
        "id": "7jrdfTO-fFHY",
        "outputId": "a32c96c8-2458-4d30-d8fd-975f7b2f68d0"
      },
      "execution_count": 75,
      "outputs": [
        {
          "output_type": "execute_result",
          "data": {
            "text/plain": [
              "{2, 3}"
            ]
          },
          "metadata": {},
          "execution_count": 75
        }
      ]
    },
    {
      "cell_type": "markdown",
      "source": [
        "4 - **Data Deduplication**:\n",
        "\n",
        "Use Case: Sets can be used to remove duplicates from lists or other collections quickly.\n"
      ],
      "metadata": {
        "id": "18OmtChGfQWD"
      }
    },
    {
      "cell_type": "code",
      "source": [
        "my_list = [1, 2, 2, 3, 4, 4]\n",
        "unique_elements = set(my_list)  # {1, 2, 3, 4}\n",
        "unique_elements"
      ],
      "metadata": {
        "colab": {
          "base_uri": "https://localhost:8080/"
        },
        "id": "oxjNx-FnfHxJ",
        "outputId": "54855f33-a2a0-4397-87e1-063a7ba7dc81"
      },
      "execution_count": 82,
      "outputs": [
        {
          "output_type": "execute_result",
          "data": {
            "text/plain": [
              "{1, 2, 3, 4}"
            ]
          },
          "metadata": {},
          "execution_count": 82
        }
      ]
    },
    {
      "cell_type": "markdown",
      "source": [
        "5 - **Real-World Modeling**:\n",
        "\n",
        "Use Case: Sets can represent groups of objects or entities, such as tags, categories, or features, in various applications.\n"
      ],
      "metadata": {
        "id": "e3AEDReqfxAD"
      }
    },
    {
      "cell_type": "code",
      "source": [
        "user_tags = {\"python\", \"coding\", \"tutorials\"}"
      ],
      "metadata": {
        "id": "hTM2nkTof0rB"
      },
      "execution_count": 84,
      "outputs": []
    },
    {
      "cell_type": "markdown",
      "source": [
        "**Q.7** - **Describe how to add, modify, and delete items in a dictionary with examples**.\n",
        "\n",
        "Ans.- Dictionaries in Python are mutable data structures that store key-value pairs. Here’s how to add, modify, and delete items in a dictionary, along with examples.\n",
        "\n",
        "1.**Adding Items**\n",
        "\n",
        "You can add new key-value pairs to a dictionary by simply assigning a value to a new key."
      ],
      "metadata": {
        "id": "4t16K2-dgsMN"
      }
    },
    {
      "cell_type": "code",
      "source": [
        "# Creating a dictionary\n",
        "my_dict = {'name': 'Alice', 'age': 30}\n",
        "\n",
        "# Adding a new key-value pair\n",
        "my_dict['city'] = 'New York'\n",
        "print(my_dict)\n"
      ],
      "metadata": {
        "colab": {
          "base_uri": "https://localhost:8080/"
        },
        "id": "AmBj-Dv7hFfb",
        "outputId": "de317945-afa4-41a0-e71c-61a35e2ac8b2"
      },
      "execution_count": 85,
      "outputs": [
        {
          "output_type": "stream",
          "name": "stdout",
          "text": [
            "{'name': 'Alice', 'age': 30, 'city': 'New York'}\n"
          ]
        }
      ]
    },
    {
      "cell_type": "code",
      "source": [
        "#also use the update() method to add multiple key-value pairs at once.\n",
        "\n",
        "# Adding multiple items\n",
        "my_dict.update({'job': 'Engineer', 'hobby': 'Painting'})\n",
        "print(my_dict)\n"
      ],
      "metadata": {
        "colab": {
          "base_uri": "https://localhost:8080/"
        },
        "id": "hv_-TjiVhLXM",
        "outputId": "85fbe0b3-808f-4ff9-f3e6-bba02705ec0d"
      },
      "execution_count": 86,
      "outputs": [
        {
          "output_type": "stream",
          "name": "stdout",
          "text": [
            "{'name': 'Alice', 'age': 30, 'city': 'New York', 'job': 'Engineer', 'hobby': 'Painting'}\n"
          ]
        }
      ]
    },
    {
      "cell_type": "markdown",
      "source": [
        "2. **Modifying Items**\n",
        "\n",
        "To modify an existing value in a dictionary, you can simply assign a new value to the corresponding key."
      ],
      "metadata": {
        "id": "H7vsL5yyhaQe"
      }
    },
    {
      "cell_type": "code",
      "source": [
        "# Modifying an existing key-value pair\n",
        "my_dict['age'] = 31\n",
        "print(my_dict)\n"
      ],
      "metadata": {
        "colab": {
          "base_uri": "https://localhost:8080/"
        },
        "id": "WgD5YJzOhdFG",
        "outputId": "ce9db776-7f8a-4b63-b48d-43dee51a5a8f"
      },
      "execution_count": 87,
      "outputs": [
        {
          "output_type": "stream",
          "name": "stdout",
          "text": [
            "{'name': 'Alice', 'age': 31, 'city': 'New York', 'job': 'Engineer', 'hobby': 'Painting'}\n"
          ]
        }
      ]
    },
    {
      "cell_type": "code",
      "source": [
        "#also use the update() method to change multiple values at once.\n",
        "\n",
        "# Modifying multiple items\n",
        "my_dict.update({'city': 'San Francisco', 'hobby': 'Traveling'})\n",
        "print(my_dict)"
      ],
      "metadata": {
        "colab": {
          "base_uri": "https://localhost:8080/"
        },
        "id": "AjOm0W5dhVzS",
        "outputId": "57425a3c-8ffc-4486-96d2-364df25bf38c"
      },
      "execution_count": 88,
      "outputs": [
        {
          "output_type": "stream",
          "name": "stdout",
          "text": [
            "{'name': 'Alice', 'age': 31, 'city': 'San Francisco', 'job': 'Engineer', 'hobby': 'Traveling'}\n"
          ]
        }
      ]
    },
    {
      "cell_type": "markdown",
      "source": [
        "3. **Deleting Items**\n",
        "\n",
        "You can delete items from a dictionary using several methods: del, pop(), and popitem()."
      ],
      "metadata": {
        "id": "tRGnSwJ_hrrr"
      }
    },
    {
      "cell_type": "code",
      "source": [
        "#Using del:\n",
        "\n",
        "# Deleting an item\n",
        "del my_dict['hobby']\n",
        "print(my_dict)"
      ],
      "metadata": {
        "colab": {
          "base_uri": "https://localhost:8080/"
        },
        "id": "n4jJuaQPhu8j",
        "outputId": "95115e28-a337-4678-a707-551797159407"
      },
      "execution_count": 89,
      "outputs": [
        {
          "output_type": "stream",
          "name": "stdout",
          "text": [
            "{'name': 'Alice', 'age': 31, 'city': 'San Francisco', 'job': 'Engineer'}\n"
          ]
        }
      ]
    },
    {
      "cell_type": "code",
      "source": [
        "#Using pop()\n",
        "#This removes an item by key and returns its value. If the key doesn’t exist, it raises a KeyError unless a default value is provided.\n",
        "\n",
        "# Using pop to remove an item\n",
        "job = my_dict.pop('job')\n",
        "print(job)\n"
      ],
      "metadata": {
        "colab": {
          "base_uri": "https://localhost:8080/"
        },
        "id": "Y0qMAK_hhynU",
        "outputId": "143c70fd-28d8-470a-af61-7a3e7f76ede2"
      },
      "execution_count": 90,
      "outputs": [
        {
          "output_type": "stream",
          "name": "stdout",
          "text": [
            "Engineer\n"
          ]
        }
      ]
    },
    {
      "cell_type": "code",
      "source": [
        "print(my_dict)"
      ],
      "metadata": {
        "colab": {
          "base_uri": "https://localhost:8080/"
        },
        "id": "EEyD8rcbh-o0",
        "outputId": "20e11bd3-b96c-42df-fe66-75be8ed32519"
      },
      "execution_count": 91,
      "outputs": [
        {
          "output_type": "stream",
          "name": "stdout",
          "text": [
            "{'name': 'Alice', 'age': 31, 'city': 'San Francisco'}\n"
          ]
        }
      ]
    },
    {
      "cell_type": "code",
      "source": [
        "#Using popitem()\n",
        "# Using popitem to remove the last item\n",
        "last_item = my_dict.popitem()\n",
        "print(last_item)\n",
        "\n"
      ],
      "metadata": {
        "colab": {
          "base_uri": "https://localhost:8080/"
        },
        "id": "XgXazduIiCDB",
        "outputId": "9470a52b-90fe-43fe-e8f5-1393daa0f47c"
      },
      "execution_count": 92,
      "outputs": [
        {
          "output_type": "stream",
          "name": "stdout",
          "text": [
            "('city', 'San Francisco')\n"
          ]
        }
      ]
    },
    {
      "cell_type": "code",
      "source": [
        "print(my_dict)"
      ],
      "metadata": {
        "colab": {
          "base_uri": "https://localhost:8080/"
        },
        "id": "sQq4XaGGiO9q",
        "outputId": "4cbdc071-ca07-401d-8ee2-157baee02d7a"
      },
      "execution_count": 93,
      "outputs": [
        {
          "output_type": "stream",
          "name": "stdout",
          "text": [
            "{'name': 'Alice', 'age': 31}\n"
          ]
        }
      ]
    },
    {
      "cell_type": "markdown",
      "source": [
        "- **Adding Items**: Use assignment or update() to add new key-value pairs.\n",
        "\n",
        "- **Modifying Items**: Assign new values to existing keys or use update() to change multiple values.\n",
        "\n",
        "- **Deleting Items**: Use del, pop(), or popitem() to remove items from the dictionary.\n",
        "\n",
        "Dictionaries are powerful tools for managing and organizing data in Python, making them essential for various programming tasks."
      ],
      "metadata": {
        "id": "1kG3ZM3DiUET"
      }
    },
    {
      "cell_type": "markdown",
      "source": [
        "**Q.8** - **Discuss the importance of dictionary keys being immutable and provide examples**.\n",
        "\n",
        "Ans.- In Python, dictionary keys must be immutable types, which means they cannot be changed after they are created. This requirement is essential for several reasons:\n",
        "\n",
        "- **Importance of Immutable Keys**\n",
        "\n",
        "1. **Hashing**:\n",
        "\n",
        "Reason: Dictionaries use a hash table for storing key-value pairs. The keys are hashed to determine their storage location in memory. If keys were mutable, their hash values could change over time, leading to inconsistencies and potential data loss.\n"
      ],
      "metadata": {
        "id": "hbgKfk7Niv_5"
      }
    },
    {
      "cell_type": "code",
      "source": [
        "#Example: Using a mutable type like a list as a key would not work\n",
        "my_dict = {}\n",
        "my_dict[[1, 2, 3]] = \"This will raise an error\"  # TypeError: unhashable type: 'list'\n"
      ],
      "metadata": {
        "id": "j3uSCgZ1jCmo"
      },
      "execution_count": null,
      "outputs": []
    },
    {
      "cell_type": "markdown",
      "source": [
        "2. **Data Integrity**:\n",
        "\n",
        "Reason: Immutable keys ensure that the mapping of keys to values remains constant throughout the lifetime of the dictionary. This prevents accidental changes that could corrupt the data structure."
      ],
      "metadata": {
        "id": "Kn1-73O9jREv"
      }
    },
    {
      "cell_type": "code",
      "source": [
        "#Example: Using a string (immutable) as a key\n",
        "my_dict = {\"name\": \"Alice\", \"age\": 30}\n",
        "my_dict[\"name\"] = \"Bob\"  # This is valid; we are changing the value associated with an immutable key."
      ],
      "metadata": {
        "id": "vGGXn3l9jVaE"
      },
      "execution_count": null,
      "outputs": []
    },
    {
      "cell_type": "markdown",
      "source": [
        "3. **Performance**:\n",
        "\n",
        "Reason: The immutability of keys allows for faster lookup times since the dictionary can rely on the fixed hash value of the keys. This leads to more efficient memory usage and performance."
      ],
      "metadata": {
        "id": "7bQB7jiHjcY4"
      }
    },
    {
      "cell_type": "code",
      "source": [
        "#Example: Searching for a value using a tuple key (which is immutable) works efficiently:\n",
        "my_dict = { (1, 2): \"Point A\", (3, 4): \"Point B\" }\n",
        "print(my_dict[(1, 2)])\n"
      ],
      "metadata": {
        "colab": {
          "base_uri": "https://localhost:8080/"
        },
        "id": "nmDETruijfBs",
        "outputId": "96e7a835-6f3a-4b1f-fa16-e8ec387d032e"
      },
      "execution_count": 94,
      "outputs": [
        {
          "output_type": "stream",
          "name": "stdout",
          "text": [
            "Point A\n"
          ]
        }
      ]
    },
    {
      "cell_type": "markdown",
      "source": [
        "4. **Usability in Sets and Other Dictionaries**:\n",
        "\n",
        "Reason: Immutable types can also be used as elements in sets or as keys in other dictionaries, enabling complex data structures. This facilitates operations that involve unique collections of data.\n"
      ],
      "metadata": {
        "id": "XBkid88gjtXw"
      }
    },
    {
      "cell_type": "code",
      "source": [
        "#Example: Using tuples as dictionary keys\n",
        "\n",
        "points = { (0, 0): \"Origin\", (1, 1): \"Point A\" }\n",
        "print(points[(1, 1)])\n"
      ],
      "metadata": {
        "colab": {
          "base_uri": "https://localhost:8080/"
        },
        "id": "8TcD7LzmjwMR",
        "outputId": "4099aefc-9457-4ec8-d496-5ba80fab500b"
      },
      "execution_count": 95,
      "outputs": [
        {
          "output_type": "stream",
          "name": "stdout",
          "text": [
            "Point A\n"
          ]
        }
      ]
    },
    {
      "cell_type": "markdown",
      "source": [
        "- **Key Types Allowed as Dictionary Keys**\n",
        "\n",
        "1. **Strings**:  \n",
        "Strings are widely used as keys due to their simplicity and readability.\n"
      ],
      "metadata": {
        "id": "RGG4Q0uFj7DE"
      }
    },
    {
      "cell_type": "code",
      "source": [
        "my_dict = {\"apple\": 1, \"banana\": 2}"
      ],
      "metadata": {
        "id": "0MsHxOv0kGsq"
      },
      "execution_count": null,
      "outputs": []
    },
    {
      "cell_type": "markdown",
      "source": [
        "2. **Numbers**:  \n",
        "Integers and floats can also be used as keys."
      ],
      "metadata": {
        "id": "La_GxUfKkJEh"
      }
    },
    {
      "cell_type": "code",
      "source": [
        "my_dict = {1: \"one\", 2: \"two\"}"
      ],
      "metadata": {
        "id": "7-xVfI3wkSpD"
      },
      "execution_count": null,
      "outputs": []
    },
    {
      "cell_type": "markdown",
      "source": [
        "3. **Tuples**:  \n",
        "Tuples are allowed as long as all their elements are also immutable."
      ],
      "metadata": {
        "id": "3gi0N7kbkUFJ"
      }
    },
    {
      "cell_type": "code",
      "source": [
        "my_dict = {(1, 2): \"Point A\", (3, 4): \"Point B\"}"
      ],
      "metadata": {
        "id": "xjIx9C3tkcJI"
      },
      "execution_count": null,
      "outputs": []
    },
    {
      "cell_type": "markdown",
      "source": [
        "**The requirement for dictionary keys to be immutable is critical for the integrity, efficiency, and usability of dictionaries in Python. By ensuring that keys do not change, Python can maintain the consistency and reliability of dictionary operations, making them a powerful tool for data management**."
      ],
      "metadata": {
        "id": "kw9NsPEnkeze"
      }
    }
  ]
}