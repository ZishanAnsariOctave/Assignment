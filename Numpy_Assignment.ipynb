{
  "nbformat": 4,
  "nbformat_minor": 0,
  "metadata": {
    "colab": {
      "provenance": []
    },
    "kernelspec": {
      "name": "python3",
      "display_name": "Python 3"
    },
    "language_info": {
      "name": "python"
    }
  },
  "cells": [
    {
      "cell_type": "markdown",
      "source": [
        "# ***Theoretical***"
      ],
      "metadata": {
        "id": "ixL6vKkO6Ylx"
      }
    },
    {
      "cell_type": "code",
      "execution_count": null,
      "metadata": {
        "id": "QcP_3g0-UhlG"
      },
      "outputs": [],
      "source": [
        "import numpy as np"
      ]
    },
    {
      "cell_type": "markdown",
      "source": [
        "**Q.1 - Explain the purpose and advantages of NumPy in scientific computing and data analysis. How does it enhance Python's capabilities for numerical operations?**\n",
        "\n",
        "**Ans.-** NumPy, short for Numerical Python, is a fundamental library for scientific computing in Python. It provides powerful tools for handling large, multi-dimensional arrays and matrices, along with a collection of mathematical functions to operate on these data structures efficiently. Here’s a breakdown of its purpose and advantages:\n",
        "\n",
        "**Purpose of NumPy**\n",
        "\n",
        "1. Array Manipulation: NumPy allows users to create and manipulate arrays with ease. Unlike Python's built-in lists, NumPy arrays are more efficient for numerical computations.\n",
        "\n",
        "2. Performance: It is designed for performance on large datasets, allowing for operations that are significantly faster than those performed with standard Python data structures.\n",
        "\n",
        "3. Mathematical Functions: NumPy provides a variety of functions for linear algebra, statistical operations, and random number generation, facilitating complex mathematical computations.\n",
        "\n",
        "4. Interoperability: It integrates well with other scientific libraries, such as SciPy, Pandas, and Matplotlib, enhancing Python's ecosystem for scientific computing.\n",
        "\n",
        "**Advantages of NumPy**\n",
        "\n",
        "1. Efficiency: NumPy arrays use less memory and provide better performance compared to Python lists, especially for large datasets. Operations on NumPy arrays are implemented in C, which speeds up computations.\n",
        "\n",
        "2. Convenient Syntax: NumPy offers a concise and expressive syntax for performing complex mathematical operations, such as element-wise addition, multiplication, and other array manipulations, without the need for explicit loops.\n",
        "\n",
        "3. Broadcasting: This feature allows for arithmetic operations between arrays of different shapes, making it easy to perform operations without needing to reshape or expand arrays explicitly.\n",
        "\n",
        "Rich Functionality: NumPy includes functions for reshaping arrays, slicing, aggregating data, and performing statistical analysis, making it a comprehensive tool for data analysis.\n",
        "\n",
        "4. Support for Multi-dimensional Data: It supports n-dimensional arrays (ndarrays), enabling users to work with higher-dimensional data structures, which is essential in fields like machine learning and image processing.\n",
        "\n",
        "5. Community and Documentation: NumPy has a strong community and extensive documentation, making it easier for users to find help and resources for their scientific computing needs.\n",
        "\n",
        "**Enhancing Python's Capabilities**\n",
        "\n",
        "NumPy enhances Python's numerical capabilities by providing:\n",
        "\n",
        "- Speed: Operations on NumPy arrays are much faster than those on native Python data structures due to the optimized C implementation.\n",
        "- Vectorization: This allows users to write code that is not only more readable but also executes faster, as it eliminates the need for explicit loops.\n",
        "- Integration with C/C++ and Fortran: Users can call routines written in C or Fortran directly, which is beneficial for performance-critical applications.\n",
        "- Support for Universal Functions (ufuncs): These functions allow element-wise operations on arrays, facilitating efficient computation across large datasets."
      ],
      "metadata": {
        "id": "JFb6H8ZiU4Uq"
      }
    },
    {
      "cell_type": "markdown",
      "source": [
        "**Q.2 - Compare and contrast np.mean() and np.average() functions in NumPy. When would you use one over the other?**\n",
        "\n",
        "**Ans.-** The np.mean() and np.average() functions in NumPy both compute the average of an array, but they differ in functionality and flexibility. Here’s a comparison of the two:\n",
        "\n",
        "**np.mean()**\n",
        "- Purpose: Computes the arithmetic mean of the elements along a specified axis.\n",
        "- Syntax: np.mean(a, axis=None, dtype=None, out=None, keepdims=False)\n",
        "\n",
        "- **Parameters:**\n",
        "1. a: Input array.\n",
        "2. axis: Axis along which to compute the mean. If None, computes the mean of the flattened array.\n",
        "3. dtype: Data type to use for the computation.\n",
        "4. out: Alternative output array to store the result.\n",
        "5. keepdims: If True, retains reduced dimensions.\n",
        "- Use Case: Use np.mean() when you want a straightforward calculation of the mean across a dataset without any additional weighting considerations.\n",
        "\n",
        "**np.average()**\n",
        "- Purpose: Computes the weighted average of the elements, allowing for flexibility in assigning different weights to the elements.\n",
        "- Syntax: np.average(a, axis=None, weights=None, returned=False)\n",
        "- **Parameters:**\n",
        "\n",
        "1. a: Input array.\n",
        "2. axis: Axis along which to compute the average.\n",
        "3. weights: Optional array of weights for the elements. If provided, the average is computed as the sum of the elements multiplied by their corresponding weights divided by the sum of the weights.\n",
        "4. returned: If True, returns a tuple of the average and the sum of the weights.\n",
        "Use Case: Use np.average() when you need to calculate an average where elements contribute differently based on their assigned weights.\n",
        "\n",
        "**Key Differences**\n",
        "\n",
        "**1. Weighting:**\n",
        "\n",
        "- np.mean() does not consider weights; it simply calculates the arithmetic mean.\n",
        "- np.average() allows for weights, providing more flexibility for situations where some data points are more significant than others.\n",
        "\n",
        "**2. Output:**\n",
        "\n",
        "- Both functions return a single value (or an array) representing the average, but np.average() can return additional information (the sum of the weights) when the returned parameter is set to True.\n",
        "\n",
        "**3. Performance:**\n",
        "\n",
        "- Both functions are efficient, but np.mean() may be slightly faster since it does not account for weights.\n",
        "\n",
        "**When to Use Each**\n",
        "\n",
        "**- Use np.mean() when:**\n",
        "\n",
        "- You want to calculate a simple average without any consideration of weights.\n",
        "- You are working with uniform data where every entry has equal importance.\n",
        "\n",
        "**- Use np.average() when:**\n",
        "\n",
        "- You need to compute a weighted average, where some values should contribute more to the average than others.\n",
        "- You want to incorporate additional information (e.g., weights) into your calculations."
      ],
      "metadata": {
        "id": "65JHxiDhWH4Z"
      }
    },
    {
      "cell_type": "markdown",
      "source": [
        "**Q.3 - Describe the methods for reversing a NumPy array along different axes. Provide examples for 1D and 2D arrays.**\n",
        "\n",
        "**Ans.-** **Reversing a 1D Array**\n",
        "\n",
        "For a 1D array, you can reverse the array by slicing:"
      ],
      "metadata": {
        "id": "LtWeQT7SZECe"
      }
    },
    {
      "cell_type": "code",
      "source": [
        "import numpy as np\n",
        "\n",
        "# Create a 1D array\n",
        "arr_1d = np.array([1, 2, 3, 4, 5])\n",
        "\n",
        "# Reverse the array\n",
        "reversed_arr_1d = arr_1d[::-1]\n",
        "\n",
        "print(reversed_arr_1d)  # Output: [5 4 3 2 1]\n"
      ],
      "metadata": {
        "colab": {
          "base_uri": "https://localhost:8080/"
        },
        "id": "0rLsw_MiUsBR",
        "outputId": "0cfb4ea1-c400-4bd9-8507-6534ecd7c5a1"
      },
      "execution_count": null,
      "outputs": [
        {
          "output_type": "stream",
          "name": "stdout",
          "text": [
            "[5 4 3 2 1]\n"
          ]
        }
      ]
    },
    {
      "cell_type": "markdown",
      "source": [
        "**Reversing a 2D Array**\n",
        "\n",
        "For a 2D array, you can reverse it along different axes using slicing as well.\n",
        "You can specify the axis you want to reverse along.\n",
        "\n",
        "Example of Reversing Along Different Axes:"
      ],
      "metadata": {
        "id": "2F9RiTUydBe3"
      }
    },
    {
      "cell_type": "code",
      "source": [
        "#Reverse along the rows (axis=0):\n",
        "#This flips the array upside down.\n",
        "\n",
        "# Create a 2D array\n",
        "arr_2d = np.array([[1, 2, 3],\n",
        "                   [4, 5, 6],\n",
        "                   [7, 8, 9]])\n",
        "\n",
        "# Reverse along the rows (axis=0)\n",
        "reversed_rows = arr_2d[::-1, :]\n",
        "\n",
        "print(reversed_rows)"
      ],
      "metadata": {
        "colab": {
          "base_uri": "https://localhost:8080/"
        },
        "id": "cfhIT9M-c2w6",
        "outputId": "6c32dc90-e91c-4c7c-bed6-f22d73858846"
      },
      "execution_count": null,
      "outputs": [
        {
          "output_type": "stream",
          "name": "stdout",
          "text": [
            "[[7 8 9]\n",
            " [4 5 6]\n",
            " [1 2 3]]\n"
          ]
        }
      ]
    },
    {
      "cell_type": "code",
      "source": [
        "#Reverse along the columns (axis=1):\n",
        "#This flips the array left to right.\n",
        "\n",
        "# Reverse along the columns (axis=1)\n",
        "reversed_columns = arr_2d[:, ::-1]\n",
        "\n",
        "print(reversed_columns)\n"
      ],
      "metadata": {
        "colab": {
          "base_uri": "https://localhost:8080/"
        },
        "id": "e1WF7SKzdcHq",
        "outputId": "542d339b-26f5-48df-fc50-c60f0578155f"
      },
      "execution_count": null,
      "outputs": [
        {
          "output_type": "stream",
          "name": "stdout",
          "text": [
            "[[3 2 1]\n",
            " [6 5 4]\n",
            " [9 8 7]]\n"
          ]
        }
      ]
    },
    {
      "cell_type": "code",
      "source": [
        "#Reverse along both axes:\n",
        "#You can reverse both rows and columns simultaneously.\n",
        "\n",
        "# Reverse along both axes\n",
        "reversed_both = arr_2d[::-1, ::-1]\n",
        "\n",
        "print(reversed_both)\n",
        "\n"
      ],
      "metadata": {
        "colab": {
          "base_uri": "https://localhost:8080/"
        },
        "id": "HaiZ3bgmdmuK",
        "outputId": "e67fce76-3ce0-435a-9952-fb87e7bb05d7"
      },
      "execution_count": null,
      "outputs": [
        {
          "output_type": "stream",
          "name": "stdout",
          "text": [
            "[[9 8 7]\n",
            " [6 5 4]\n",
            " [3 2 1]]\n"
          ]
        }
      ]
    },
    {
      "cell_type": "markdown",
      "source": [
        "Summary of Methods\n",
        "\n",
        "- 1D Array: Use slicing array[::-1] to reverse the array.\n",
        "- 2D Array:\n",
        "\n",
        "1. To reverse along rows (upside down): array[::-1, :]\n",
        "2. To reverse along columns (left to right): array[:, ::-1]\n",
        "3. To reverse both rows and columns: array[::-1, ::-1]"
      ],
      "metadata": {
        "id": "I0y0Tfwhd1zu"
      }
    },
    {
      "cell_type": "markdown",
      "source": [
        "**Q.4-  How can you determine the data type of elements in a NumPy array? Discuss the importance of data types in memory management and performance.**\n",
        "\n",
        "**Ans.-** In NumPy, the data type of the elements in an array is an important factor for both memory management and computational performance. You can determine the data type of the elements in a NumPy array using the .dtype attribute.\n",
        "\n",
        "**Determining the Data Type of a NumPy Array**\n",
        "\n",
        "You can check the data type of the elements in a NumPy array by accessing the dtype attribute of the array."
      ],
      "metadata": {
        "id": "WudNklNKeTgF"
      }
    },
    {
      "cell_type": "code",
      "source": [
        "import numpy as np\n",
        "\n",
        "# Create a NumPy array with integers\n",
        "arr_int = np.array([1, 2, 3, 4])\n",
        "print(arr_int.dtype)  # Output: int64 (or another integer type depending on your system)\n",
        "\n",
        "# Create a NumPy array with floating-point numbers\n",
        "arr_float = np.array([1.0, 2.5, 3.8])\n",
        "print(arr_float.dtype)  # Output: float64\n",
        "\n",
        "# Create a NumPy array with complex numbers\n",
        "arr_complex = np.array([1+2j, 3+4j, 5+6j])\n",
        "print(arr_complex.dtype)  # Output: complex128\n"
      ],
      "metadata": {
        "colab": {
          "base_uri": "https://localhost:8080/"
        },
        "id": "P-1mFK5HdxOw",
        "outputId": "7479e5fd-b532-4ec9-d17f-2f3ffbd18727"
      },
      "execution_count": null,
      "outputs": [
        {
          "output_type": "stream",
          "name": "stdout",
          "text": [
            "int64\n",
            "float64\n",
            "complex128\n"
          ]
        }
      ]
    },
    {
      "cell_type": "markdown",
      "source": [
        "**Importance of Data Types in Memory Management and Performance**\n",
        "\n",
        "1. **Memory Efficiency:**\n",
        "\n",
        "- The choice of data type directly impacts the amount of memory used by the array. For example, a float64 array uses 64 bits per element, while a float32 array uses only 32 bits.\n",
        "- If your data doesn't require high precision, using smaller data types can save memory. For instance, if you don’t need 64-bit precision for floating-point numbers, using float32 can significantly reduce memory usage."
      ],
      "metadata": {
        "id": "UGClUTNSezHw"
      }
    },
    {
      "cell_type": "code",
      "source": [
        "arr_large = np.array([1.0] * 1000000, dtype=np.float64)  # 64-bit precision\n",
        "print(arr_large.nbytes)  # Memory used in bytes\n",
        "\n",
        "arr_small = np.array([1.0] * 1000000, dtype=np.float32)  # 32-bit precision\n",
        "print(arr_small.nbytes)  # Memory used in bytes\n"
      ],
      "metadata": {
        "colab": {
          "base_uri": "https://localhost:8080/"
        },
        "id": "nOSx_6iBeuhK",
        "outputId": "cfb3a4cc-9ba5-413f-972a-dd70ae85d426"
      },
      "execution_count": null,
      "outputs": [
        {
          "output_type": "stream",
          "name": "stdout",
          "text": [
            "8000000\n",
            "4000000\n"
          ]
        }
      ]
    },
    {
      "cell_type": "markdown",
      "source": [
        "2. **Performance Optimization:**\n",
        "\n",
        "- Smaller data types not only reduce memory usage but can also speed up computation. NumPy operations are optimized for the data type of the array, so performing operations on float32 arrays can be faster than float64 arrays, especially on systems that use 32-bit processors or GPUs.\n",
        "- Vectorization: NumPy operations are vectorized (i.e., operations are applied to all elements of the array without explicit loops). This process can be much faster when the data type is a smaller type, as there are fewer bits to process."
      ],
      "metadata": {
        "id": "_5cI1b7cfK3y"
      }
    },
    {
      "cell_type": "code",
      "source": [
        "import time\n",
        "\n",
        "# Creating two large arrays with different data types\n",
        "arr_64 = np.ones((1000000,), dtype=np.float64)\n",
        "arr_32 = np.ones((1000000,), dtype=np.float32)\n",
        "\n",
        "# Measure time for a simple operation\n",
        "start_time = time.time()\n",
        "arr_64 + 1\n",
        "print(\"64-bit operation time:\", time.time() - start_time)\n",
        "\n",
        "start_time = time.time()\n",
        "arr_32 + 1\n",
        "print(\"32-bit operation time:\", time.time() - start_time)\n"
      ],
      "metadata": {
        "colab": {
          "base_uri": "https://localhost:8080/"
        },
        "id": "X4muyHVifAmX",
        "outputId": "dab6536c-7b86-4359-a172-544a618ebbc4"
      },
      "execution_count": null,
      "outputs": [
        {
          "output_type": "stream",
          "name": "stdout",
          "text": [
            "64-bit operation time: 0.005056619644165039\n",
            "32-bit operation time: 0.001733541488647461\n"
          ]
        }
      ]
    },
    {
      "cell_type": "markdown",
      "source": [
        "3. **Precision and Accuracy:**\n",
        "\n",
        "- Selecting the right data type ensures that your calculations retain the necessary level of precision. For example, using float32 when float64 precision is needed may lead to loss of accuracy in scientific calculations.\n",
        "- For extremely large datasets or calculations involving very small or very large numbers, choosing an appropriate type (e.g., float128 for high precision) can prevent rounding errors or overflows.\n",
        "\n",
        "4. **Interoperability:**\n",
        "\n",
        "- Data types also play a key role when exchanging data between different libraries or systems. For example, if you're working with image data (which typically uses uint8 or float32), using the wrong data type could lead to errors when interfacing with other libraries (such as OpenCV, PIL, or TensorFlow).\n",
        "- When loading data from files (e.g., CSVs, HDF5), NumPy may automatically infer the appropriate data type, but you can specify the dtype to ensure compatibility and efficiency.\n",
        "\n",
        "**Common Data Types in NumPy**\n",
        "\n",
        "- Integers: np.int8, np.int16, np.int32, np.int64 (signed integers)\n",
        "- Unsigned integers: np.uint8, np.uint16, np.uint32, np.uint64\n",
        "- Floating-point numbers: np.float16, np.float32, np.float64, np.float128\n",
        "- Complex numbers: np.complex64, np.complex128, np.complex256\n",
        "- Boolean: np.bool_\n",
        "- Object: np.object (used for arrays containing arbitrary Python objects)\n",
        "\n",
        "**Converting Between Data Types**\n",
        "\n",
        "\n",
        "You can convert between different data types using the .astype() method:"
      ],
      "metadata": {
        "id": "5xUyBRbTfcYi"
      }
    },
    {
      "cell_type": "code",
      "source": [
        "arr_float = np.array([1.5, 2.3, 3.7], dtype=np.float64)\n",
        "\n",
        "# Convert to integer (truncating the decimal part)\n",
        "arr_int = arr_float.astype(np.int32)\n",
        "print(arr_int)  # Output: [1 2 3]\n",
        "print(arr_int.dtype)  # Output: int32\n"
      ],
      "metadata": {
        "colab": {
          "base_uri": "https://localhost:8080/"
        },
        "id": "At8eQImafVK0",
        "outputId": "39f7415c-2071-4221-e060-c328378ec9ea"
      },
      "execution_count": null,
      "outputs": [
        {
          "output_type": "stream",
          "name": "stdout",
          "text": [
            "[1 2 3]\n",
            "int32\n"
          ]
        }
      ]
    },
    {
      "cell_type": "markdown",
      "source": [
        "- Memory management: Choosing the right data type can help reduce memory usage. - Smaller types (e.g., float32, int32) use less memory than larger types (e.g., float64, int64), which is important for handling large datasets.\n",
        "- Performance: Smaller data types can also result in faster computations, especially on memory-bound operations, because they require less data to be processed.\n",
        "- Precision and accuracy: Ensure that the data type chosen provides the necessary precision for your application without introducing errors or inefficiencies.\n",
        "- Interoperability: Data types ensure compatibility with other libraries or data formats and can be explicitly specified when needed."
      ],
      "metadata": {
        "id": "GxsOGvzcgA4R"
      }
    },
    {
      "cell_type": "markdown",
      "source": [
        "**Q.5- Define ndarrays in NumPy and explain their key features. How do they differ from standard Python lists?**\n",
        "\n",
        "**Ans.-** In NumPy, an ndarray (short for \"n-dimensional array\") is the core data structure that represents multi-dimensional, homogeneous arrays of fixed-size elements. It is a central feature of the NumPy library and is optimized for numerical operations, making it far more efficient than standard Python lists, especially for large datasets. Here's a breakdown of the key features of NumPy arrays (ndarrays) and how they differ from Python lists.\n",
        "\n",
        "**Key Features of ndarray in NumPy**\n",
        "\n",
        "1. Homogeneous Data:\n",
        "\n",
        "- Type: All elements of a NumPy array must be of the same type (e.g., all integers, floats, or complex numbers). This ensures that operations on the array are more efficient, as the memory layout is contiguous and optimized for the chosen data type.\n",
        "- Memory efficiency: Because elements are stored in a continuous block of memory, they use less overhead compared to Python lists, where each element is a separate object."
      ],
      "metadata": {
        "id": "xrIRc4AjgfGv"
      }
    },
    {
      "cell_type": "code",
      "source": [
        "arr = np.array([1, 2, 3, 4])\n",
        "print(arr.dtype)  # Output: int64 (or system-specific)\n"
      ],
      "metadata": {
        "colab": {
          "base_uri": "https://localhost:8080/"
        },
        "id": "RZ5af7E8f67I",
        "outputId": "21ab1429-7cbd-420a-f2c3-a3bcd4eb3613"
      },
      "execution_count": null,
      "outputs": [
        {
          "output_type": "stream",
          "name": "stdout",
          "text": [
            "int64\n"
          ]
        }
      ]
    },
    {
      "cell_type": "markdown",
      "source": [
        "2. Fixed Size:\n",
        "\n",
        "- Once an ndarray is created, its size (the number of elements) cannot be changed. However, the array can be reshaped (i.e., the dimensions of the array can be changed), but the number of elements remains constant."
      ],
      "metadata": {
        "id": "b68W8KdAg7wO"
      }
    },
    {
      "cell_type": "code",
      "source": [
        "arr = np.array([1, 2, 3, 4])\n",
        "arr = arr.reshape((2, 2))  # Reshaping the array\n",
        "print(arr)\n"
      ],
      "metadata": {
        "colab": {
          "base_uri": "https://localhost:8080/"
        },
        "id": "MuLwEAq0g0Se",
        "outputId": "c8053250-99e7-47d7-998c-a8fcbed07d72"
      },
      "execution_count": null,
      "outputs": [
        {
          "output_type": "stream",
          "name": "stdout",
          "text": [
            "[[1 2]\n",
            " [3 4]]\n"
          ]
        }
      ]
    },
    {
      "cell_type": "markdown",
      "source": [
        "3. Multidimensional:\n",
        "\n",
        "- ndarray objects support multi-dimensional arrays, from 1D arrays (vectors) to 2D arrays (matrices) and beyond (3D arrays, nD arrays). This makes NumPy extremely powerful for handling large datasets in fields like machine learning, scientific computing, and image processing."
      ],
      "metadata": {
        "id": "OhawT7aohL8n"
      }
    },
    {
      "cell_type": "code",
      "source": [
        "arr_2d = np.array([[1, 2, 3], [4, 5, 6]])\n",
        "print(arr_2d.shape)  # Output: (2, 3), meaning 2 rows and 3 columns\n"
      ],
      "metadata": {
        "colab": {
          "base_uri": "https://localhost:8080/"
        },
        "id": "jOLWitk5hGUA",
        "outputId": "9a56b2ea-feb6-4a94-db6b-3649d00d4dc3"
      },
      "execution_count": null,
      "outputs": [
        {
          "output_type": "stream",
          "name": "stdout",
          "text": [
            "(2, 3)\n"
          ]
        }
      ]
    },
    {
      "cell_type": "markdown",
      "source": [
        "4. Vectorized Operations:\n",
        "\n",
        "- NumPy allows for vectorized operations, which means you can apply mathematical operations to entire arrays at once without needing explicit loops. This is much faster than iterating over lists element-by-element."
      ],
      "metadata": {
        "id": "Vf03pwAbhVAz"
      }
    },
    {
      "cell_type": "code",
      "source": [
        "arr = np.array([1, 2, 3, 4])\n",
        "arr_squared = arr ** 2  # Element-wise squaring of the array\n",
        "print(arr_squared)  # Output: [1 4 9 16]\n"
      ],
      "metadata": {
        "colab": {
          "base_uri": "https://localhost:8080/"
        },
        "id": "0_mWCwgjhRy8",
        "outputId": "f6eb324e-b823-4e76-ba89-dbaeef8a6afd"
      },
      "execution_count": null,
      "outputs": [
        {
          "output_type": "stream",
          "name": "stdout",
          "text": [
            "[ 1  4  9 16]\n"
          ]
        }
      ]
    },
    {
      "cell_type": "markdown",
      "source": [
        "5. Efficient Memory Layout:\n",
        "\n",
        "- NumPy arrays are stored in contiguous memory blocks, which makes them much faster for large-scale numerical computations. This efficient layout contrasts with Python lists, which are arrays of pointers to objects.\n",
        "- ndarrays have a dtype that specifies the type of elements, and NumPy arrays store data in a compact, low-overhead format.\n",
        "\n",
        "6. Broadcasting:\n",
        "\n",
        "- NumPy arrays support broadcasting, which allows operations between arrays of different shapes, as long as they are compatible in a certain way. This feature eliminates the need for manual loops or reshaping when performing element-wise operations on arrays of different sizes."
      ],
      "metadata": {
        "id": "Y8qgxcjbhgPD"
      }
    },
    {
      "cell_type": "code",
      "source": [
        "arr1 = np.array([1, 2, 3])\n",
        "arr2 = np.array([10])\n",
        "result = arr1 + arr2  # Broadcasting arr2 across arr1\n",
        "print(result)  # Output: [11 12 13]\n"
      ],
      "metadata": {
        "colab": {
          "base_uri": "https://localhost:8080/"
        },
        "id": "F5HR47Y8hdfd",
        "outputId": "9e257269-b763-4cbf-b4bb-30cb72debd95"
      },
      "execution_count": null,
      "outputs": [
        {
          "output_type": "stream",
          "name": "stdout",
          "text": [
            "[11 12 13]\n"
          ]
        }
      ]
    },
    {
      "cell_type": "markdown",
      "source": [
        "**How ndarray Differs from Python Lists**\n",
        "\n",
        "1. Homogeneity vs. Heterogeneity:\n",
        "\n",
        "- NumPy ndarray: Requires all elements to be of the same data type (homogeneous).\n",
        "- Python list: Can hold elements of different data types (heterogeneous), allowing greater flexibility but with some performance overhead."
      ],
      "metadata": {
        "id": "AnT44A43htQm"
      }
    },
    {
      "cell_type": "code",
      "source": [
        "# NumPy array\n",
        "np_arr = np.array([1, 2, 3, 4])  # All elements must be of the same type\n",
        "\n",
        "# Python list\n",
        "py_list = [1, 'two', 3.0, [4]]  # Different types in the same list\n"
      ],
      "metadata": {
        "id": "csmwGYZ_ho1f"
      },
      "execution_count": null,
      "outputs": []
    },
    {
      "cell_type": "markdown",
      "source": [
        "2. Performance:\n",
        "\n",
        "- NumPy ndarray: Much more efficient for numerical computations due to its optimized memory layout and vectorized operations. The operations on ndarrays are typically much faster than iterating over Python lists, especially for large datasets.\n",
        "- Python list: Slower for numerical computations, especially for large datasets, because Python lists are general-purpose containers and don't have the performance optimizations of ndarrays.\n",
        "\n",
        "3. Memory Layout:\n",
        "\n",
        "- NumPy ndarray: Stored in a contiguous block of memory, which minimizes memory overhead and improves cache locality.\n",
        "- Python list: A list is an array of references to objects, each of which can be a different type. This introduces more overhead in terms of memory and processing time.\n",
        "\n",
        "4. Functionality:\n",
        "\n",
        "- NumPy ndarray:Supports a wide range of specialized mathematical and logical operations (like element-wise operations, linear algebra, statistics) that can be applied to arrays.\n",
        "- Python list: Lacks the built-in support for these types of operations. Lists require explicit loops or list comprehensions for similar tasks, making them less efficient for numerical operations.\n",
        "\n",
        "5. Size:\n",
        "\n",
        "- NumPy ndarray: The size of a NumPy array is fixed once created, but the shape (dimensionality) can be changed (with reshaping). Memory is contiguous and compact.\n",
        "- Python list: Lists are dynamic in size and can grow or shrink by adding or removing elements. However, they don't offer the same memory efficiency or performance as NumPy arrays.\n",
        "\n",
        "6. Support for Multidimensional Data:\n",
        "\n",
        "- NumPy ndarray: Supports arrays of any number of dimensions (nD), from 1D (vectors) to 2D (matrices) to nD (higher-dimensional tensors).\n",
        "- Python list: Lists can be used to represent multidimensional data, but they require nested lists (e.g., lists of lists for 2D arrays), which are not as efficient or flexible as NumPy arrays.\n"
      ],
      "metadata": {
        "id": "ksGasIzUh_m5"
      }
    },
    {
      "cell_type": "markdown",
      "source": [
        "**Q.6- Analyze the performance benefits of NumPy arrays over Python lists for large-scale numerical operations.**\n",
        "\n",
        "**Ans.-** NumPy arrays provide significant performance benefits over standard Python lists, especially when dealing with large-scale numerical operations. These benefits stem from the optimized memory layout, vectorized operations, and the implementation of core functionality in compiled C code. Let's dive into the key reasons why NumPy is much faster than Python lists for numerical tasks.\n",
        "\n",
        "**Key Performance Benefits of NumPy Arrays Over Python Lists**\n",
        "\n",
        "1. **Homogeneous Data vs. Heterogeneous Data**\n",
        "\n",
        "- NumPy Arrays: NumPy arrays store elements of the same data type (homogeneous). This allows NumPy to optimize the storage of data by allocating a contiguous block of memory for elements of the same type. It can efficiently perform operations using this predictable memory layout, reducing the overhead caused by type-checking and object reference handling in heterogeneous data structures.\n",
        "\n",
        "- Python Lists: A Python list is a collection of pointers to objects (each potentially of different data types). This introduces overhead since each element is treated as a separate Python object, and operations on lists require dereferencing these pointers and checking types, which slows down execution.\n",
        "\n",
        "Example: A list of integers is stored as individual Python objects, each with a memory overhead. In contrast, a NumPy array simply stores the raw data in a contiguous block with no per-element object overhead.\n",
        "\n",
        "2. **Memory Efficiency**\n",
        "\n",
        "- NumPy Arrays: NumPy arrays are stored in contiguous blocks of memory, which not only reduces the memory overhead but also allows for better cache locality. This means that when performing operations on NumPy arrays, the CPU cache can be used efficiently, leading to faster execution times.\n",
        "\n",
        "- Python Lists: Python lists, on the other hand, store references to objects scattered across memory, leading to poor cache locality. As a result, memory accesses can be slower, especially for large datasets, since the CPU cache is not utilized effectively.\n",
        "\n",
        "Example: A large NumPy array can hold millions of elements in a compact, contiguous memory block, whereas a Python list will have additional memory overhead due to storing references to the elements.\n",
        "\n",
        "3. **Vectorized Operations**\n",
        "\n",
        "- NumPy Arrays: NumPy supports vectorization, which allows operations to be applied to entire arrays at once without the need for explicit loops. NumPy achieves this by using optimized C code under the hood, which operates on blocks of memory in parallel or via SIMD (Single Instruction, Multiple Data) operations. This eliminates the need for looping through each element in Python code, which can be slow.\n",
        "\n",
        "- Python Lists: With Python lists, you typically need to use loops (e.g., for loops) to perform operations on each element. Python's loops are interpreted at runtime and can be slow when performing operations on large datasets."
      ],
      "metadata": {
        "id": "24E0HIEHi3oT"
      }
    },
    {
      "cell_type": "code",
      "source": [
        "#Example: If you want to add two arrays element-wise, you can do this in a single operation with NumPy:\n",
        "\n",
        "import numpy as np\n",
        "arr1 = np.array([1, 2, 3, 4])\n",
        "arr2 = np.array([5, 6, 7, 8])\n",
        "result = arr1 + arr2  # Vectorized operation\n"
      ],
      "metadata": {
        "id": "Zbczfi5Eh6wt"
      },
      "execution_count": null,
      "outputs": []
    },
    {
      "cell_type": "code",
      "source": [
        "#With Python lists, the same operation requires a loop:\n",
        "\n",
        "arr1 = [1, 2, 3, 4]\n",
        "arr2 = [5, 6, 7, 8]\n",
        "result = [a + b for a, b in zip(arr1, arr2)]  # Using a loop\n"
      ],
      "metadata": {
        "id": "8XQzDNuAlGfR"
      },
      "execution_count": null,
      "outputs": []
    },
    {
      "cell_type": "markdown",
      "source": [
        "4. **Optimized Low-Level Implementations**\n",
        "\n",
        "- Python Lists: Python’s dynamic nature and its reliance on references make list operations relatively slow, especially for numerical tasks. When you need to perform arithmetic on lists, Python has to interpret the operation for each individual element.\n",
        "- NumPy Arrays: NumPy arrays are implemented in C and have low-level bindings to optimized libraries like BLAS (Basic Linear Algebra Subprograms) and LAPACK (Linear Algebra PACKage). These libraries implement highly optimized algorithms for matrix operations, linear algebra, and other numerical tasks, making NumPy a powerful tool for performance-critical applications.\n",
        "Benefit: NumPy leverages highly optimized C libraries that provide a significant speed advantage over the more general-purpose Python lists.\n",
        "\n",
        "5. **Parallelism and Multi-threading**\n",
        "\n",
        "- Python Lists: Python's list operations are single-threaded by default, and for complex numerical operations, they can only utilize one CPU core. For parallelism, external libraries like multiprocessing would need to be employed, which introduces additional complexity.\n",
        "- NumPy Arrays: NumPy is capable of taking advantage of multiple cores or vectorized instruction sets (such as SIMD instructions) due to the underlying C implementation. In some cases, operations on NumPy arrays can be parallelized automatically, which leads to better performance when working with large datasets.\n",
        "Benefit: NumPy arrays can leverage multi-core processors more efficiently and perform computations in parallel, whereas Python lists cannot take full advantage of modern hardware without external intervention.\n",
        "\n",
        "6. **Reduced Overhead with Homogeneous Data Types**\n",
        "\n",
        "- Python Lists: Python lists can store elements of different data types, but this flexibility comes at the cost of performance. Python must handle the dynamic typing and associated overhead, even when working with numerical data.\n",
        "- NumPy Arrays: NumPy arrays are typed, meaning every element in the array is guaranteed to be of the same type (e.g., all floats). This uniformity allows NumPy to implement more efficient memory access patterns and operations on data, which speeds up numerical computations.\n",
        "Benefit: The type homogeneity of NumPy arrays allows for highly optimized memory access and operations, leading to better performance over Python lists, which are more flexible but slower in this regard.\n",
        "\n",
        "7. **Access Patterns**\n",
        "\n",
        "- Python Lists: Accessing elements in a Python list involves dereferencing an object, which adds overhead. Moreover, Python lists are not designed with efficient numerical access patterns, leading to suboptimal cache usage when performing large-scale computations.\n",
        "- NumPy Arrays: NumPy arrays are stored in a contiguous block of memory, and this allows for fast element access. This storage layout is cache-friendly and provides better performance, especially when working with large data arrays.\n",
        "Benefit: The contiguous memory layout of NumPy arrays leads to faster memory access and better CPU cache utilization than the more scattered storage used by Python lists.\n",
        "\n",
        "The performance benefits of NumPy arrays over Python lists are evident when dealing with large-scale numerical operations. NumPy arrays provide:\n",
        "\n",
        "- More efficient memory usage due to homogeneous data types and contiguous storage.\n",
        "\n",
        "- Significant speed improvements through vectorized operations and optimized low-level implementations.\n",
        "\n",
        "- Advanced features like broadcasting, parallelism, and complex mathematical functions that are optimized for performance."
      ],
      "metadata": {
        "id": "jTxzdziVvSau"
      }
    },
    {
      "cell_type": "markdown",
      "source": [
        "**Q.7- Compare vstack() and hstack() functions in NumPy. Provide examples demonstrating their usage and output.**\n",
        "\n",
        "**Ans.-** In NumPy, the functions vstack() and hstack() are used to stack arrays along different axes. They provide convenient ways to combine arrays either vertically (along rows) or horizontally (along columns).\n",
        "\n",
        "1. **vstack() – Stack arrays vertically (along rows)**\n",
        "\n",
        "- The vstack() function stacks arrays vertically (i.e., along the first axis, which is the rows axis).\n",
        "\n",
        "- This means that it adds rows to the bottom of an array or combines multiple arrays row-wise.\n",
        "\n",
        "- The arrays to be stacked must have the same number of columns (i.e., the second dimension must be the same).\n",
        "\n",
        "2. **hstack() – Stack arrays horizontally (along columns)**\n",
        "\n",
        "- The hstack() function stacks arrays horizontally (i.e., along the second axis, which is the columns axis).\n",
        "\n",
        "- This means that it adds columns to the right side of an array or combines multiple arrays column-wise.\n",
        "\n",
        "- The arrays to be stacked must have the same number of rows (i.e., the first dimension must be the same).\n"
      ],
      "metadata": {
        "id": "NJGuAfXFwIY6"
      }
    },
    {
      "cell_type": "code",
      "source": [
        "#Using vstack()\n",
        "\n",
        "# Two 2D arrays\n",
        "arr1 = np.array([[1, 2], [3, 4]])\n",
        "arr2 = np.array([[5, 6], [7, 8]])\n",
        "\n",
        "# Stack vertically\n",
        "result = np.vstack((arr1, arr2))\n",
        "print(result)\n"
      ],
      "metadata": {
        "id": "pBrylAsCqoR9",
        "colab": {
          "base_uri": "https://localhost:8080/"
        },
        "outputId": "0f541699-5b6c-4497-94db-653bf17db6dd"
      },
      "execution_count": 20,
      "outputs": [
        {
          "output_type": "stream",
          "name": "stdout",
          "text": [
            "[[1 2]\n",
            " [3 4]\n",
            " [5 6]\n",
            " [7 8]]\n"
          ]
        }
      ]
    },
    {
      "cell_type": "markdown",
      "source": [
        "In this example, arr1 has shape (2, 2) and arr2 has shape (2, 2). After stacking them vertically, the resulting array has shape (4, 2)—four rows, two columns."
      ],
      "metadata": {
        "id": "WPh3WErxwy7o"
      }
    },
    {
      "cell_type": "code",
      "source": [
        "#Using hstack()\n",
        "\n",
        "# Two 2D arrays\n",
        "arr1 = np.array([[1, 2], [3, 4]])\n",
        "arr2 = np.array([[5, 6], [7, 8]])\n",
        "\n",
        "# Stack horizontally\n",
        "result = np.hstack((arr1, arr2))\n",
        "print(result)\n"
      ],
      "metadata": {
        "colab": {
          "base_uri": "https://localhost:8080/"
        },
        "id": "rLeaQ0Obwp2L",
        "outputId": "38630a12-230e-40f1-9a64-222470e9ec32"
      },
      "execution_count": 21,
      "outputs": [
        {
          "output_type": "stream",
          "name": "stdout",
          "text": [
            "[[1 2 5 6]\n",
            " [3 4 7 8]]\n"
          ]
        }
      ]
    },
    {
      "cell_type": "markdown",
      "source": [
        "Here, arr1 and arr2 are stacked horizontally. Since both arrays have the same number of rows (2), they are joined along the second axis (columns), producing a result with shape (2, 4)—two rows, four columns."
      ],
      "metadata": {
        "id": "o7w9VxfrxCQN"
      }
    },
    {
      "cell_type": "code",
      "source": [
        "#Stacking more than two arrays\n",
        "\n",
        "# Three 1D arrays\n",
        "arr1 = np.array([1, 2, 3])\n",
        "arr2 = np.array([4, 5, 6])\n",
        "arr3 = np.array([7, 8, 9])\n",
        "\n",
        "# Stack vertically\n",
        "result_v = np.vstack((arr1, arr2, arr3))\n",
        "print(\"Vertical Stack:\")\n",
        "print(result_v)\n",
        "\n",
        "# Stack horizontally\n",
        "result_h = np.hstack((arr1, arr2, arr3))\n",
        "print(\"\\nHorizontal Stack:\")\n",
        "print(result_h)\n"
      ],
      "metadata": {
        "colab": {
          "base_uri": "https://localhost:8080/"
        },
        "id": "tlTTBNXcw6kP",
        "outputId": "a2f8fa09-bc76-434d-888e-281cd7544acd"
      },
      "execution_count": 22,
      "outputs": [
        {
          "output_type": "stream",
          "name": "stdout",
          "text": [
            "Vertical Stack:\n",
            "[[1 2 3]\n",
            " [4 5 6]\n",
            " [7 8 9]]\n",
            "\n",
            "Horizontal Stack:\n",
            "[1 2 3 4 5 6 7 8 9]\n"
          ]
        }
      ]
    },
    {
      "cell_type": "markdown",
      "source": [
        "- Vertical Stack: The 1D arrays are stacked into a 2D array with shape (3, 3).\n",
        "- Horizontal Stack: The 1D arrays are concatenated into a single 1D array of length 9.\n",
        "\n",
        "- **vstack()** stacks arrays vertically, adding more rows.\n",
        "- **hstack()** stacks arrays horizontally, adding more columns.\n",
        "- Both functions require arrays to have compatible shapes along the axis that is not being stacked. For vstack(), the arrays must have the same number of columns; for hstack(), the arrays must have the same number of rows."
      ],
      "metadata": {
        "id": "xDJI33V3xNta"
      }
    },
    {
      "cell_type": "markdown",
      "source": [
        "**Q.8-  Explain the differences between fliplr() and flipud() methods in NumPy, including their effects on various array dimensions.**\n",
        "\n",
        "**Ans.-** In NumPy, the functions fliplr() and flipud() are used to flip arrays along different axes, specifically for left-right (horizontal) and up-down (vertical) flips. These functions are used to reverse the order of elements in an array along specific axes.\n",
        "\n",
        "1. **fliplr() – Flip Left to Right (Horizontal Flip)**\n",
        "\n",
        "- Effect: This function flips an array left-to-right along its second axis (axis 1, the columns axis).\n",
        "- For a 2D array, it reverses the order of columns, meaning the first column becomes the last, the second column becomes the second last, and so on.\n",
        "- The shape of the array is preserved, but the contents within each row are reversed.\n",
        "- This function only works on 2D arrays or higher.\n",
        "\n",
        "2. **flipud() – Flip Up to Down (Vertical Flip)**\n",
        "\n",
        "- Effect: This function flips an array up-to-down along its first axis (axis 0, the rows axis).\n",
        "- For a 2D array, it reverses the order of rows, meaning the first row becomes the last row, the second row becomes the second last, and so on.\n",
        "- The shape of the array is preserved, but the rows are reversed.\n",
        "- This function works on any dimensional array but has its most noticeable effect on 2D arrays.\n",
        "\n",
        "\n",
        "\n"
      ],
      "metadata": {
        "id": "b1v-RsXKxtkD"
      }
    },
    {
      "cell_type": "code",
      "source": [
        "#1. Flipping a 1D Array:\n",
        "#Input:\n",
        "\n",
        "arr1d = np.array([1, 2, 3, 4, 5])\n",
        "\n",
        "#Using fliplr() on a 1D array:\n",
        "\n",
        "#fliplr() does not apply to 1D arrays, so calling it will result in an error. NumPy will raise an exception:\n"
      ],
      "metadata": {
        "id": "LS46cE2FxJe8"
      },
      "execution_count": 24,
      "outputs": []
    },
    {
      "cell_type": "code",
      "source": [
        "#Using flipud() on a 1D array:\n",
        "\n",
        "#flipud() also doesn't modify 1D arrays in a meaningful way. It returns the array itself because there's no second axis to flip.\n",
        "\n",
        "flipped_ud = np.flipud(arr1d)\n",
        "print(flipped_ud)  # Output: [1 2 3 4 5]\n"
      ],
      "metadata": {
        "id": "CaUrb_KWzG1S"
      },
      "execution_count": null,
      "outputs": []
    },
    {
      "cell_type": "code",
      "source": [
        "#2. Flipping a 2D Array:\n",
        "#Input:\n",
        "arr2d = np.array([[1, 2, 3], [4, 5, 6], [7, 8, 9]])\n"
      ],
      "metadata": {
        "id": "HuMFl2vFzSkT"
      },
      "execution_count": 27,
      "outputs": []
    },
    {
      "cell_type": "code",
      "source": [
        "#Using fliplr() on a 2D array:\n",
        "\n",
        "#This will flip the array horizontally (left-to-right).\n",
        "\n",
        "flipped_lr = np.fliplr(arr2d)\n",
        "print(flipped_lr)\n"
      ],
      "metadata": {
        "colab": {
          "base_uri": "https://localhost:8080/"
        },
        "id": "w5jk8z0XzWet",
        "outputId": "64bb0716-c2d7-40b2-b448-520339e05e70"
      },
      "execution_count": 28,
      "outputs": [
        {
          "output_type": "stream",
          "name": "stdout",
          "text": [
            "[[3 2 1]\n",
            " [6 5 4]\n",
            " [9 8 7]]\n"
          ]
        }
      ]
    },
    {
      "cell_type": "code",
      "source": [
        "#Effect: Each row is reversed, so the first column becomes the last, the second column becomes the second last, and so on."
      ],
      "metadata": {
        "id": "2wUxBjMAzdjG"
      },
      "execution_count": null,
      "outputs": []
    },
    {
      "cell_type": "code",
      "source": [
        "#Using flipud() on a 2D array:\n",
        "\n",
        "#This will flip the array vertically (up-to-down).\n",
        "\n",
        "flipped_ud = np.flipud(arr2d)\n",
        "print(flipped_ud)\n"
      ],
      "metadata": {
        "colab": {
          "base_uri": "https://localhost:8080/"
        },
        "id": "Dey6lNgGzlni",
        "outputId": "17f8946c-4a1c-491d-c06a-19d80b8e279e"
      },
      "execution_count": 29,
      "outputs": [
        {
          "output_type": "stream",
          "name": "stdout",
          "text": [
            "[[7 8 9]\n",
            " [4 5 6]\n",
            " [1 2 3]]\n"
          ]
        }
      ]
    },
    {
      "cell_type": "code",
      "source": [
        "#Effect: The rows are reversed, so the first row becomes the last, the second row becomes the second last, and so on."
      ],
      "metadata": {
        "id": "mNurKkZvztMl"
      },
      "execution_count": null,
      "outputs": []
    },
    {
      "cell_type": "code",
      "source": [
        "#3. Flipping a 3D Array:\n",
        "#For a 3D array, the behavior of fliplr() and flipud() is still based on flipping along the first or second axis, but their effects\n",
        "#are applied across all the inner 2D slices (planes) in the array.\n",
        "\n",
        "arr3d = np.array([[[1, 2], [3, 4]], [[5, 6], [7, 8]], [[9, 10], [11, 12]]])\n",
        "\n",
        "#This is a 3D array with shape (3, 2, 2)\n"
      ],
      "metadata": {
        "id": "oZBVXFYwzzOs"
      },
      "execution_count": 31,
      "outputs": []
    },
    {
      "cell_type": "code",
      "source": [
        "#Using fliplr() on a 3D array:\n",
        "\n",
        "#fliplr() will flip each 2D slice of the array horizontally.\n",
        "\n",
        "flipped_lr = np.fliplr(arr3d)\n",
        "print(flipped_lr)\n"
      ],
      "metadata": {
        "colab": {
          "base_uri": "https://localhost:8080/"
        },
        "id": "PJTaQ_73zzEd",
        "outputId": "5145b1b2-3739-4180-a7d6-4d9788859a2c"
      },
      "execution_count": 32,
      "outputs": [
        {
          "output_type": "stream",
          "name": "stdout",
          "text": [
            "[[[ 3  4]\n",
            "  [ 1  2]]\n",
            "\n",
            " [[ 7  8]\n",
            "  [ 5  6]]\n",
            "\n",
            " [[11 12]\n",
            "  [ 9 10]]]\n"
          ]
        }
      ]
    },
    {
      "cell_type": "code",
      "source": [
        "#Using flipud() on a 3D array:\n",
        "\n",
        "#flipud() will flip the entire array vertically (along the rows axis).\n",
        "\n",
        "flipped_ud = np.flipud(arr3d)\n",
        "print(flipped_ud)\n"
      ],
      "metadata": {
        "colab": {
          "base_uri": "https://localhost:8080/"
        },
        "id": "L0Hl1kdc0drC",
        "outputId": "d2583b1d-5b8b-4140-968a-18800c02d276"
      },
      "execution_count": 33,
      "outputs": [
        {
          "output_type": "stream",
          "name": "stdout",
          "text": [
            "[[[ 9 10]\n",
            "  [11 12]]\n",
            "\n",
            " [[ 5  6]\n",
            "  [ 7  8]]\n",
            "\n",
            " [[ 1  2]\n",
            "  [ 3  4]]]\n"
          ]
        }
      ]
    },
    {
      "cell_type": "markdown",
      "source": [
        "**Visualizing the Difference:**\n",
        "\n",
        "- **fliplr()** operates along the columns (left to right), reversing the column order in each row.\n",
        "- **flipud()** operates along the rows (up to down), reversing the row order in the entire array.\n",
        "\n",
        "- fliplr(): Reverses the order of columns in each row.\n",
        "- flipud(): Reverses the order of rows in the entire array."
      ],
      "metadata": {
        "id": "uP03rxqZ04RW"
      }
    },
    {
      "cell_type": "markdown",
      "source": [
        "**Q.9- Discuss the functionality of the array_split() method in NumPy. How does it handle uneven splits?**\n",
        "\n",
        "**Ans.-** The array_split() method in NumPy is used to split an array into multiple sub-arrays. This method is more flexible than the simpler split() method because it allows you to split an array into uneven sub-arrays. It can handle situations where the number of elements in the array isn't evenly divisible by the number of splits, making it particularly useful when you don't require equal-sized sub-arrays.\n",
        "\n",
        "**Functionality of array_split()**\n",
        "\n",
        "- Basic Usage: The array_split() method splits an input array into multiple sub-arrays along a specified axis.\n",
        "\n",
        "- Arguments:\n",
        "1. ary: The array to be split.\n",
        "\n",
        "2. indices_or_sections: This can either be:\n",
        "- An integer, which specifies the number of equal parts to split the array into.\n",
        "- A list of integers, which specifies the indices at which to split the array (i.e., it defines where the array is divided).\n",
        "\n",
        "3. axis (optional): The axis along which to split the array. The default is 0 (rows for a 2D array).\n",
        "\n",
        "4. array_split() also provides a dtype parameter (rarely used) to specify the data type of the output sub-arrays."
      ],
      "metadata": {
        "id": "n1MM-Hej1cOH"
      }
    },
    {
      "cell_type": "code",
      "source": [
        "#Splitting an Array into Equal Parts\n",
        "\n",
        "arr = np.array([1, 2, 3, 4, 5, 6, 7, 8, 9])\n",
        "\n",
        "# Split into 3 equal parts\n",
        "result = np.array_split(arr, 3)\n",
        "print(result)\n"
      ],
      "metadata": {
        "colab": {
          "base_uri": "https://localhost:8080/"
        },
        "id": "XheyUjdj3B5Z",
        "outputId": "ef552d4b-6718-4c35-d53c-c41452e11b8d"
      },
      "execution_count": 36,
      "outputs": [
        {
          "output_type": "stream",
          "name": "stdout",
          "text": [
            "[array([1, 2, 3]), array([4, 5, 6]), array([7, 8, 9])]\n"
          ]
        }
      ]
    },
    {
      "cell_type": "code",
      "source": [
        "#Splitting Based on Specific Indices\n",
        "\n",
        "# Split at specific indices\n",
        "result = np.array_split(arr, [3, 5])\n",
        "print(result)\n"
      ],
      "metadata": {
        "colab": {
          "base_uri": "https://localhost:8080/"
        },
        "id": "v1dpukz43E-1",
        "outputId": "5414bef9-b8c8-40a7-e946-bee6ee0bded3"
      },
      "execution_count": 37,
      "outputs": [
        {
          "output_type": "stream",
          "name": "stdout",
          "text": [
            "[array([1, 2, 3]), array([4, 5]), array([6, 7, 8, 9])]\n"
          ]
        }
      ]
    },
    {
      "cell_type": "markdown",
      "source": [
        "**Handling Uneven Splits**\n",
        "\n",
        "When the array cannot be evenly split into the specified number of parts (i.e., when the number of elements in the array is not divisible by the number of requested splits), array_split() handles this gracefully by distributing the \"extra\" elements across the sub-arrays.\n",
        "\n",
        "**How Does It Handle Uneven Splits?**\n",
        "\n",
        "- Uneven Distribution: When dividing an array into n parts, NumPy distributes the remainder (extra elements) as evenly as possible across the resulting sub-arrays. This means:\n",
        "- If the total number of elements in the array is not exactly divisible by the number of splits, some sub-arrays will have one more element than others.\n",
        "- The remainder is distributed starting from the first sub-array.\n",
        "\n",
        "For example, if an array has 10 elements and you try to split it into 3 parts:\n",
        "\n",
        "- Each part should ideally have 10 // 3 = 3 elements.\n",
        "- However, there is a remainder of 10 % 3 = 1 element, which needs to be distributed. So, one of the sub-arrays will contain 4 elements, and the others will contain 3 elements each."
      ],
      "metadata": {
        "id": "fGPbq3fw3lDn"
      }
    },
    {
      "cell_type": "code",
      "source": [
        "#Handling Uneven Splits\n",
        "\n",
        "arr = np.array([1, 2, 3, 4, 5, 6, 7, 8, 9, 10])\n",
        "\n",
        "# Split into 3 parts\n",
        "result = np.array_split(arr, 3)\n",
        "print(result)\n"
      ],
      "metadata": {
        "colab": {
          "base_uri": "https://localhost:8080/"
        },
        "id": "N4lJn9803b6r",
        "outputId": "11d82f62-db01-4dfd-caac-4f67e32e790d"
      },
      "execution_count": 38,
      "outputs": [
        {
          "output_type": "stream",
          "name": "stdout",
          "text": [
            "[array([1, 2, 3, 4]), array([5, 6, 7]), array([ 8,  9, 10])]\n"
          ]
        }
      ]
    },
    {
      "cell_type": "code",
      "source": [
        "#Uneven Splits with More Than Two Parts\n",
        "\n",
        "arr = np.array([1, 2, 3, 4, 5, 6, 7, 8, 9, 10])\n",
        "\n",
        "# Split into 4 parts\n",
        "result = np.array_split(arr, 4)\n",
        "print(result)\n"
      ],
      "metadata": {
        "colab": {
          "base_uri": "https://localhost:8080/"
        },
        "id": "xidB_DIf4Bsg",
        "outputId": "28eaddd8-5de4-4c1d-e18a-91c915b193e7"
      },
      "execution_count": 41,
      "outputs": [
        {
          "output_type": "stream",
          "name": "stdout",
          "text": [
            "[array([1, 2, 3]), array([4, 5, 6]), array([7, 8]), array([ 9, 10])]\n"
          ]
        }
      ]
    },
    {
      "cell_type": "markdown",
      "source": [
        "**Key Points of array_split()**\n",
        "\n",
        "- Flexibility: Unlike the split() function, which requires the array to be evenly divisible by the number of splits, array_split() allows uneven splits.\n",
        "- Automatic Remainder Handling: When the array cannot be evenly divided, the remainder (extra elements) is distributed across the sub-arrays as evenly as possible.\n",
        "- Works on Multiple Dimensions: array_split() can be used on multi-dimensional arrays and can split along any axis (specified by the axis argument).\n",
        "\n",
        "- array_split(): Splits an array into a specified number of sub-arrays along a given axis. It is flexible and can handle cases where the number of elements is not evenly divisible by the number of splits.\n",
        "- Uneven Splits: If the number of elements is not divisible by the number of requested splits, array_split() distributes the extra elements across the resulting sub-arrays. Some sub-arrays may have one more element than others, and this distribution starts from the first sub-array."
      ],
      "metadata": {
        "id": "muQmhBii4acR"
      }
    },
    {
      "cell_type": "markdown",
      "source": [
        "**Q.10 -Explain the concepts of vectorization and broadcasting in NumPy. How do they contribute to efficient array operations?**\n",
        "\n",
        "**Ans.-** In NumPy, vectorization and broadcasting are two key concepts that significantly contribute to the efficiency of array operations, especially when dealing with large datasets. Both concepts allow for fast computation and avoid explicit Python loops, making NumPy a powerful tool for numerical computing.\n",
        "\n",
        "1. **Vectorization**\n",
        "\n",
        "**Definition:**\n",
        "\n",
        "- Vectorization refers to the ability to express operations on arrays without using explicit loops (like for or while loops). Instead of iterating over individual elements, NumPy allows you to perform operations on entire arrays or sub-arrays at once. This is achieved using highly optimized, compiled C code in the background, which makes vectorized operations significantly faster than Python loops.\n",
        "\n",
        "**How it Works:**\n",
        "\n",
        "- In NumPy, array operations (such as addition, multiplication, etc.) are vectorized by default. This means you can apply mathematical operations on whole arrays or matrices without writing explicit iteration code.\n",
        "- Vectorization leverages SIMD (Single Instruction, Multiple Data) architecture, which performs the same operation on multiple pieces of data simultaneously.\n",
        "\n",
        "**Performance Benefits:**\n",
        "\n",
        "- Faster Execution: Since vectorized operations use highly optimized C and Fortran libraries, they are much faster than manually looping through arrays.\n",
        "- Cleaner Code: Vectorization leads to concise and readable code, reducing complexity and making the code easier to maintain.\n",
        "- Reduced Python Overhead: Python loops have significant overhead compared to operations on entire arrays that are executed in compiled code.\n",
        "\n",
        "2. **Broadcasting**\n",
        "\n",
        "**Definition:**\n",
        "\n",
        "- Broadcasting is a powerful concept in NumPy that allows arrays of different shapes to be used together in arithmetic operations. Broadcasting automatically adjusts the shapes of arrays to make them compatible for element-wise operations, without needing to explicitly reshape them or use loops.\n",
        "\n",
        "**How it Works:**\n",
        "\n",
        "- Broadcasting works by expanding the smaller array across the larger one along the appropriate axis. NumPy automatically applies a set of rules to make the shapes compatible.\n",
        "- This allows operations to be performed on arrays of different sizes and shapes without explicit replication, which leads to memory efficiency and faster computation.\n",
        "\n",
        "**Broadcasting Rules:**\n",
        "\n",
        "NumPy follows these general rules for broadcasting:\n",
        "\n",
        "- If the arrays have a different number of dimensions, the shape of the smaller array is padded with ones on the left side until both shapes have the same length.\n",
        "- The dimensions of the two arrays are compared element by element. If the size of the dimension is the same for both arrays, or if one of the arrays has size 1 in that dimension, the arrays are compatible.\n",
        "- The arrays are then broadcast to the shape of the larger array, and the operation is performed element-wise.\n",
        "\n",
        "**Performance Benefits of Broadcasting:**\n",
        "\n",
        "- Memory Efficiency: Broadcasting avoids the need to duplicate data when performing operations on arrays of different shapes. Instead of replicating smaller arrays, broadcasting virtually expands them, saving memory.\n",
        "- Faster Execution: Broadcasting allows for efficient use of array operations on different-shaped arrays without loops. It reduces the need for reshaping or copying data and eliminates Python overhead.\n",
        "\n",
        "**Conclusion**\n",
        "\n",
        "- Vectorization and broadcasting are two essential techniques that help NumPy perform fast, efficient computations on arrays. By using vectorized operations, we avoid the need for slow Python loops, and with broadcasting, we can work with arrays of different shapes without explicitly reshaping or duplicating them.\n",
        "\n",
        "- Together, these concepts lead to cleaner, faster, and more memory-efficient code, making NumPy a powerful tool for numerical computing, especially when working with large datasets.\n",
        "\n",
        "\n"
      ],
      "metadata": {
        "id": "z9MJ5IwM41y0"
      }
    },
    {
      "cell_type": "markdown",
      "source": [
        "# ***Practical***"
      ],
      "metadata": {
        "id": "ygjVoT1i6kZl"
      }
    },
    {
      "cell_type": "markdown",
      "source": [
        "**Q.1 - Create a 3x3 NumPy array with random integers between 1 and 100. Then, interchange its rows and columns.**\n",
        "\n",
        "**Ans.-**"
      ],
      "metadata": {
        "id": "QQ9yyN9T6q1y"
      }
    },
    {
      "cell_type": "code",
      "source": [
        "import numpy as np\n",
        "\n",
        "# Create a 3x3 array with random integers between 1 and 100\n",
        "arr = np.random.randint(1, 101, size=(3, 3))\n",
        "\n",
        "# Display the original array\n",
        "print(\"Original Array:\")\n",
        "print(arr)\n",
        "\n",
        "# Interchange rows and columns (Transpose)\n",
        "transposed_arr = arr.T\n",
        "\n",
        "# Display the transposed array\n",
        "print(\"\\nTransposed Array:\")\n",
        "print(transposed_arr)\n"
      ],
      "metadata": {
        "colab": {
          "base_uri": "https://localhost:8080/"
        },
        "id": "ZLUSCgcw4JhB",
        "outputId": "c8cb3293-d61e-459c-93f9-4d8d67ab955c"
      },
      "execution_count": 45,
      "outputs": [
        {
          "output_type": "stream",
          "name": "stdout",
          "text": [
            "Original Array:\n",
            "[[57 62 58]\n",
            " [11 56 59]\n",
            " [71 92 70]]\n",
            "\n",
            "Transposed Array:\n",
            "[[57 11 71]\n",
            " [62 56 92]\n",
            " [58 59 70]]\n"
          ]
        }
      ]
    },
    {
      "cell_type": "markdown",
      "source": [
        "- np.random.randint(1, 101, size=(3, 3)) generates a 3x3 array with random integers from 1 to 100 (inclusive).\n",
        "- .T is a shorthand for the transpose operation, which interchanges rows and columns."
      ],
      "metadata": {
        "id": "8iSolpuZ7Kwh"
      }
    },
    {
      "cell_type": "markdown",
      "source": [
        "**Q.2 - Generate a 1D NumPy array with 10 elements. Reshape it into a 2x5 array, then into a 5x2 array**\n",
        "\n",
        "**Ans.-**"
      ],
      "metadata": {
        "id": "DB92LhKx7UzR"
      }
    },
    {
      "cell_type": "code",
      "source": [
        "\n",
        "# Step 1: Generate a 1D NumPy array with 10 elements\n",
        "arr = np.arange(1, 11)  # This will create an array with values [1, 2, ..., 10]\n",
        "\n",
        "# Step 2: Reshape it into a 2x5 array\n",
        "arr_2x5 = arr.reshape(2, 5)\n",
        "print(\"2x5 Array:\")\n",
        "print(arr_2x5)\n",
        "\n",
        "# Step 3: Reshape it into a 5x2 array\n",
        "arr_5x2 = arr.reshape(5, 2)\n",
        "print(\"\\n5x2 Array:\")\n",
        "print(arr_5x2)\n"
      ],
      "metadata": {
        "colab": {
          "base_uri": "https://localhost:8080/"
        },
        "id": "tnQ7tu6167jI",
        "outputId": "dcc2216a-78ae-4bdf-a41a-9347b9bca7db"
      },
      "execution_count": 46,
      "outputs": [
        {
          "output_type": "stream",
          "name": "stdout",
          "text": [
            "2x5 Array:\n",
            "[[ 1  2  3  4  5]\n",
            " [ 6  7  8  9 10]]\n",
            "\n",
            "5x2 Array:\n",
            "[[ 1  2]\n",
            " [ 3  4]\n",
            " [ 5  6]\n",
            " [ 7  8]\n",
            " [ 9 10]]\n"
          ]
        }
      ]
    },
    {
      "cell_type": "markdown",
      "source": [
        "- np.arange(1, 11) creates a 1D array with elements from 1 to 10.\n",
        "- arr.reshape(2, 5) reshapes the 1D array into a 2x5 array (2 rows and 5 columns).\n",
        "- arr.reshape(5, 2) reshapes the array into a 5x2 array (5 rows and 2 columns)."
      ],
      "metadata": {
        "id": "tMzteBTE7j-v"
      }
    },
    {
      "cell_type": "markdown",
      "source": [
        "**Q.3 - Create a 4x4 NumPy array with random float values. Add a border of zeros around it, resulting in a 6x6 array.**\n",
        "\n",
        "**Ans.-**"
      ],
      "metadata": {
        "id": "zmDVWd-u7xSJ"
      }
    },
    {
      "cell_type": "code",
      "source": [
        "\n",
        "# Step 1: Create a 4x4 array with random float values between 0 and 1\n",
        "arr = np.random.rand(4, 4)\n",
        "print(\"Original 4x4 Array:\")\n",
        "print(arr)\n",
        "\n",
        "# Step 2: Add a border of zeros around the 4x4 array, resulting in a 6x6 array\n",
        "arr_with_border = np.pad(arr, pad_width=1, mode='constant', constant_values=0)\n",
        "print(\"\\nArray with Border of Zeros (6x6):\")\n",
        "print(arr_with_border)\n"
      ],
      "metadata": {
        "colab": {
          "base_uri": "https://localhost:8080/"
        },
        "id": "UPGABdGH7db5",
        "outputId": "00f92a8f-f6ca-472d-a3e5-c29a0edfd2ff"
      },
      "execution_count": 47,
      "outputs": [
        {
          "output_type": "stream",
          "name": "stdout",
          "text": [
            "Original 4x4 Array:\n",
            "[[0.47042432 0.1699449  0.09377661 0.9540419 ]\n",
            " [0.45575764 0.08680432 0.10953877 0.86541732]\n",
            " [0.14029875 0.20347691 0.41334996 0.85636566]\n",
            " [0.70578858 0.6296705  0.53680841 0.03212271]]\n",
            "\n",
            "Array with Border of Zeros (6x6):\n",
            "[[0.         0.         0.         0.         0.         0.        ]\n",
            " [0.         0.47042432 0.1699449  0.09377661 0.9540419  0.        ]\n",
            " [0.         0.45575764 0.08680432 0.10953877 0.86541732 0.        ]\n",
            " [0.         0.14029875 0.20347691 0.41334996 0.85636566 0.        ]\n",
            " [0.         0.70578858 0.6296705  0.53680841 0.03212271 0.        ]\n",
            " [0.         0.         0.         0.         0.         0.        ]]\n"
          ]
        }
      ]
    },
    {
      "cell_type": "markdown",
      "source": [
        "- np.random.rand(4, 4) generates a 4x4 array of random float values between 0 and 1.\n",
        "\n",
        "- np.pad(arr, pad_width=1, mode='constant', constant_values=0) adds a border of zeros:\n",
        "\n",
        "- pad_width=1 specifies that a border of width 1 is added to all sides (top, bottom, left, right).\n",
        "\n",
        "- mode='constant' indicates that the padding should be filled with constant values.\n",
        "\n",
        "- constant_values=0 sets the constant value to 0, which fills the border."
      ],
      "metadata": {
        "id": "InMtojDk78l0"
      }
    },
    {
      "cell_type": "markdown",
      "source": [
        "**Q.4 -Using NumPy, create an array of integers from 10 to 60 with a step of 5.**\n",
        "\n",
        "**Ans.-**"
      ],
      "metadata": {
        "id": "H6g6LS3d8TD4"
      }
    },
    {
      "cell_type": "code",
      "source": [
        "\n",
        "# Create an array from 10 to 60 with a step of 5\n",
        "arr = np.arange(10, 61, 5)\n",
        "\n",
        "# Print the array\n",
        "print(arr)\n"
      ],
      "metadata": {
        "colab": {
          "base_uri": "https://localhost:8080/"
        },
        "id": "9xfSDUkp731f",
        "outputId": "d892d2a9-dad4-452e-a78c-b153713a6ec6"
      },
      "execution_count": 48,
      "outputs": [
        {
          "output_type": "stream",
          "name": "stdout",
          "text": [
            "[10 15 20 25 30 35 40 45 50 55 60]\n"
          ]
        }
      ]
    },
    {
      "cell_type": "markdown",
      "source": [
        "- np.arange(10, 61, 5):\n",
        "- 10 is the start value.\n",
        "- 61 is the end value, but it is exclusive, so the array will stop at 60.\n",
        "- 5 is the step size, which means the values in the array will increase by 5 starting from 10."
      ],
      "metadata": {
        "id": "oBSyjDRb8hX-"
      }
    },
    {
      "cell_type": "markdown",
      "source": [
        "**Q.5 - Create a NumPy array of strings ['python', 'numpy', 'pandas']. Apply different case transformations (uppercase, lowercase, title case, etc.) to each element.**\n",
        "\n",
        "**Ans.-**"
      ],
      "metadata": {
        "id": "JVkoeHhz8xmx"
      }
    },
    {
      "cell_type": "code",
      "source": [
        "\n",
        "# Create a NumPy array of strings\n",
        "arr = np.array(['python', 'numpy', 'pandas'])\n",
        "\n",
        "# Apply different case transformations to each element\n",
        "\n",
        "# Uppercase\n",
        "uppercase_arr = np.char.upper(arr)\n",
        "\n",
        "# Lowercase\n",
        "lowercase_arr = np.char.lower(arr)\n",
        "\n",
        "# Title Case (first letter of each word capitalized)\n",
        "titlecase_arr = np.char.title(arr)\n",
        "\n",
        "# Capitalize (only the first letter of the string)\n",
        "capitalize_arr = np.char.capitalize(arr)\n",
        "\n",
        "# Print the original and transformed arrays\n",
        "print(\"Original Array:\")\n",
        "print(arr)\n",
        "\n",
        "print(\"\\nUppercase Array:\")\n",
        "print(uppercase_arr)\n",
        "\n",
        "print(\"\\nLowercase Array:\")\n",
        "print(lowercase_arr)\n",
        "\n",
        "print(\"\\nTitle Case Array:\")\n",
        "print(titlecase_arr)\n",
        "\n",
        "print(\"\\nCapitalize Array:\")\n",
        "print(capitalize_arr)\n"
      ],
      "metadata": {
        "colab": {
          "base_uri": "https://localhost:8080/"
        },
        "id": "cMIvM1QZ8cbk",
        "outputId": "9c57a3ed-c8e3-4ca5-e5a6-95b173ab1b61"
      },
      "execution_count": 49,
      "outputs": [
        {
          "output_type": "stream",
          "name": "stdout",
          "text": [
            "Original Array:\n",
            "['python' 'numpy' 'pandas']\n",
            "\n",
            "Uppercase Array:\n",
            "['PYTHON' 'NUMPY' 'PANDAS']\n",
            "\n",
            "Lowercase Array:\n",
            "['python' 'numpy' 'pandas']\n",
            "\n",
            "Title Case Array:\n",
            "['Python' 'Numpy' 'Pandas']\n",
            "\n",
            "Capitalize Array:\n",
            "['Python' 'Numpy' 'Pandas']\n"
          ]
        }
      ]
    },
    {
      "cell_type": "markdown",
      "source": [
        "- np.char.upper(): Converts all characters in the string to uppercase.\n",
        "- np.char.lower(): Converts all characters in the string to lowercase.\n",
        "- np.char.title(): Converts the first character of each word in the string to uppercase and the rest to lowercase.\n",
        "- np.char.capitalize(): Capitalizes only the first character of the string and converts the rest to lowercase."
      ],
      "metadata": {
        "id": "LOirh_5r9DNh"
      }
    },
    {
      "cell_type": "markdown",
      "source": [
        "**Q.6 - Generate a NumPy array of words. Insert a space between each character of every word in the array.**\n",
        "\n",
        "**Ans.-** To insert a space between each character of every word in a NumPy array, you can use NumPy's vectorized string operations with np.char.add() to concatenate a space between each character. Alternatively, you can also use the np.char.split() method and then join the characters with spaces."
      ],
      "metadata": {
        "id": "Ordt2sCR9N4G"
      }
    },
    {
      "cell_type": "code",
      "source": [
        "\n",
        "# Create a NumPy array of words\n",
        "arr = np.array(['python', 'numpy', 'pandas'])\n",
        "\n",
        "# Insert a space between each character of every word\n",
        "spaced_arr = np.char.add(' ', np.char.join(' ', arr))\n",
        "\n",
        "# Print the resulting array\n",
        "print(\"Array with spaces between characters:\")\n",
        "print(spaced_arr)\n"
      ],
      "metadata": {
        "colab": {
          "base_uri": "https://localhost:8080/"
        },
        "id": "PuamxPtd87yD",
        "outputId": "c0952776-35e7-4207-dc7c-5ac511917199"
      },
      "execution_count": 50,
      "outputs": [
        {
          "output_type": "stream",
          "name": "stdout",
          "text": [
            "Array with spaces between characters:\n",
            "[' p y t h o n' ' n u m p y' ' p a n d a s']\n"
          ]
        }
      ]
    },
    {
      "cell_type": "markdown",
      "source": [
        "- np.char.add(): Adds the specified string (in this case, a space ' ') to the beginning or end of each element.\n",
        "- np.char.join(): Joins the characters in each word with a space ' '."
      ],
      "metadata": {
        "id": "QJwea0L49bae"
      }
    },
    {
      "cell_type": "markdown",
      "source": [
        "**Q.7 - Create two 2D NumPy arrays and perform element-wise addition, subtraction, multiplication, and division.**\n",
        "\n",
        "**Ans.-**"
      ],
      "metadata": {
        "id": "cp6NKVWs9k3S"
      }
    },
    {
      "cell_type": "code",
      "source": [
        "\n",
        "# Create two 2D NumPy arrays\n",
        "arr1 = np.array([[1, 2, 3], [4, 5, 6]])\n",
        "arr2 = np.array([[7, 8, 9], [10, 11, 12]])\n",
        "\n",
        "# Element-wise addition\n",
        "addition_result = arr1 + arr2\n",
        "\n",
        "# Element-wise subtraction\n",
        "subtraction_result = arr1 - arr2\n",
        "\n",
        "# Element-wise multiplication\n",
        "multiplication_result = arr1 * arr2\n",
        "\n",
        "# Element-wise division\n",
        "# Note: Make sure no division by zero is involved.\n",
        "division_result = arr1 / arr2\n",
        "\n",
        "# Print the results\n",
        "print(\"Array 1:\")\n",
        "print(arr1)\n",
        "\n",
        "print(\"\\nArray 2:\")\n",
        "print(arr2)\n",
        "\n",
        "print(\"\\nElement-wise Addition:\")\n",
        "print(addition_result)\n",
        "\n",
        "print(\"\\nElement-wise Subtraction:\")\n",
        "print(subtraction_result)\n",
        "\n",
        "print(\"\\nElement-wise Multiplication:\")\n",
        "print(multiplication_result)\n",
        "\n",
        "print(\"\\nElement-wise Division:\")\n",
        "print(division_result)\n"
      ],
      "metadata": {
        "colab": {
          "base_uri": "https://localhost:8080/"
        },
        "id": "hLgXw7bj9X5i",
        "outputId": "27bf4867-bf81-4485-fade-7272ee4d7b36"
      },
      "execution_count": 52,
      "outputs": [
        {
          "output_type": "stream",
          "name": "stdout",
          "text": [
            "Array 1:\n",
            "[[1 2 3]\n",
            " [4 5 6]]\n",
            "\n",
            "Array 2:\n",
            "[[ 7  8  9]\n",
            " [10 11 12]]\n",
            "\n",
            "Element-wise Addition:\n",
            "[[ 8 10 12]\n",
            " [14 16 18]]\n",
            "\n",
            "Element-wise Subtraction:\n",
            "[[-6 -6 -6]\n",
            " [-6 -6 -6]]\n",
            "\n",
            "Element-wise Multiplication:\n",
            "[[ 7 16 27]\n",
            " [40 55 72]]\n",
            "\n",
            "Element-wise Division:\n",
            "[[0.14285714 0.25       0.33333333]\n",
            " [0.4        0.45454545 0.5       ]]\n"
          ]
        }
      ]
    },
    {
      "cell_type": "markdown",
      "source": [
        "- Addition (arr1 + arr2): Adds corresponding elements of arr1 and arr2.\n",
        "- Subtraction (arr1 - arr2): Subtracts corresponding elements of arr2 from arr1.\n",
        "- Multiplication (arr1 * arr2): Multiplies corresponding elements of arr1 and arr2.\n",
        "- Division (arr1 / arr2): Divides corresponding elements of arr1 by those in arr2."
      ],
      "metadata": {
        "id": "Yb4fuBFY96GN"
      }
    },
    {
      "cell_type": "markdown",
      "source": [
        "**Q.8 - Use NumPy to create a 5x5 identity matrix, then extract its diagonal elements.**\n",
        "\n",
        "**Ans.-**"
      ],
      "metadata": {
        "id": "1_SM49WU-El9"
      }
    },
    {
      "cell_type": "code",
      "source": [
        "\n",
        "# Step 1: Create a 5x5 identity matrix\n",
        "identity_matrix = np.eye(5)\n",
        "\n",
        "# Step 2: Extract the diagonal elements\n",
        "diagonal_elements = identity_matrix.diagonal()\n",
        "\n",
        "# Print the results\n",
        "print(\"5x5 Identity Matrix:\")\n",
        "print(identity_matrix)\n",
        "\n",
        "print(\"\\nDiagonal Elements:\")\n",
        "print(diagonal_elements)\n"
      ],
      "metadata": {
        "colab": {
          "base_uri": "https://localhost:8080/"
        },
        "id": "uJKw8wX49td2",
        "outputId": "cd3ed648-0686-46f1-e26a-1204feeb42c7"
      },
      "execution_count": 53,
      "outputs": [
        {
          "output_type": "stream",
          "name": "stdout",
          "text": [
            "5x5 Identity Matrix:\n",
            "[[1. 0. 0. 0. 0.]\n",
            " [0. 1. 0. 0. 0.]\n",
            " [0. 0. 1. 0. 0.]\n",
            " [0. 0. 0. 1. 0.]\n",
            " [0. 0. 0. 0. 1.]]\n",
            "\n",
            "Diagonal Elements:\n",
            "[1. 1. 1. 1. 1.]\n"
          ]
        }
      ]
    },
    {
      "cell_type": "markdown",
      "source": [
        "- np.eye(5) creates a 5x5 identity matrix, where the diagonal elements are 1, and all other elements are 0.\n",
        "- identity_matrix.diagonal() extracts the diagonal elements from the identity matrix."
      ],
      "metadata": {
        "id": "RD76l08I-QFF"
      }
    },
    {
      "cell_type": "markdown",
      "source": [
        "**Q.9 - Generate a NumPy array of 100 random integers between 0 and 1000. Find and display all prime numbers in this array.**\n",
        "\n",
        "**Ans.-**"
      ],
      "metadata": {
        "id": "T7n5Wq8L-ePK"
      }
    },
    {
      "cell_type": "code",
      "source": [
        "\n",
        "# Step 1: Generate a NumPy array of 100 random integers between 0 and 1000\n",
        "arr = np.random.randint(0, 1001, size=100)\n",
        "\n",
        "# Step 2: Function to check if a number is prime\n",
        "def is_prime(n):\n",
        "    if n <= 1:\n",
        "        return False\n",
        "    for i in range(2, int(n ** 0.5) + 1):\n",
        "        if n % i == 0:\n",
        "            return False\n",
        "    return True\n",
        "\n",
        "# Step 3: Apply the function to each element in the array and find the primes\n",
        "primes = arr[np.array([is_prime(x) for x in arr])]\n",
        "\n",
        "# Step 4: Display the prime numbers\n",
        "print(\"Prime numbers in the array:\")\n",
        "print(primes)\n"
      ],
      "metadata": {
        "colab": {
          "base_uri": "https://localhost:8080/"
        },
        "id": "hkAToapj-MWC",
        "outputId": "6b6e13c9-62b2-43aa-8703-415dfe22f4e2"
      },
      "execution_count": 60,
      "outputs": [
        {
          "output_type": "stream",
          "name": "stdout",
          "text": [
            "Prime numbers in the array:\n",
            "[293 257 673  41 887 283 773 857  17 577 463 607 263 983 353  31 433 269\n",
            " 617 599 883 353]\n"
          ]
        }
      ]
    },
    {
      "cell_type": "markdown",
      "source": [
        "- np.random.randint(0, 1001, size=100) generates 100 random integers between 0 and 1000.\n",
        "- is_prime() is a helper function that checks if a given number is prime.\n",
        "- List comprehension is used to apply the is_prime() function to each element in the array. We convert the result into a boolean array (True for primes, False for non-primes) and use it to index the original array, extracting only the prime numbers."
      ],
      "metadata": {
        "id": "Gwbb4946-0tJ"
      }
    },
    {
      "cell_type": "markdown",
      "source": [
        "**Q.10 -  Create a NumPy array representing daily temperatures for a month. Calculate and display the weekly averages.**\n",
        "\n",
        "**Ans.-**"
      ],
      "metadata": {
        "id": "bmT5zG-x_Dv9"
      }
    },
    {
      "cell_type": "code",
      "source": [
        "\n",
        "# Step 1: Generate an array of daily temperatures for a month (e.g., 30 days)\n",
        "# For simplicity, let's generate random temperatures between 0 and 35 degrees Celsius\n",
        "daily_temperatures = np.random.randint(0, 36, size=30)\n",
        "\n",
        "# Step 2: Reshape the array to have 4 or 5 weeks (7 days per week)\n",
        "# We can reshape the array into a 5x6 array (5 weeks, 6 days each week) or a 4x7 array (4 weeks, 7 days)\n",
        "weekly_temperatures = daily_temperatures.reshape(5, 6)  # Using 5 weeks and 6 days per week\n",
        "\n",
        "# Step 3: Calculate the weekly averages\n",
        "weekly_averages = np.mean(weekly_temperatures, axis=1)\n",
        "\n",
        "# Step 4: Display the results\n",
        "print(\"Daily Temperatures (30 days):\")\n",
        "print(daily_temperatures)\n",
        "\n",
        "print(\"\\nWeekly Temperatures (5 weeks, 6 days each):\")\n",
        "print(weekly_temperatures)\n",
        "\n",
        "print(\"\\nWeekly Averages:\")\n",
        "print(weekly_averages)\n"
      ],
      "metadata": {
        "colab": {
          "base_uri": "https://localhost:8080/"
        },
        "id": "bFXdAhKo-lY0",
        "outputId": "3c49cb52-d0f8-4edf-e372-cd20b6187b0a"
      },
      "execution_count": 63,
      "outputs": [
        {
          "output_type": "stream",
          "name": "stdout",
          "text": [
            "Daily Temperatures (30 days):\n",
            "[31  7 13 18 18 17 30 33  2  7 14 10 19 26 29  7  0 22 30 24 27  6  8  2\n",
            " 29 13  3 14 16  6]\n",
            "\n",
            "Weekly Temperatures (5 weeks, 6 days each):\n",
            "[[31  7 13 18 18 17]\n",
            " [30 33  2  7 14 10]\n",
            " [19 26 29  7  0 22]\n",
            " [30 24 27  6  8  2]\n",
            " [29 13  3 14 16  6]]\n",
            "\n",
            "Weekly Averages:\n",
            "[17.33333333 16.         17.16666667 16.16666667 13.5       ]\n"
          ]
        }
      ]
    },
    {
      "cell_type": "code",
      "source": [],
      "metadata": {
        "id": "Hd_q68Jc_NBa"
      },
      "execution_count": null,
      "outputs": []
    }
  ]
}