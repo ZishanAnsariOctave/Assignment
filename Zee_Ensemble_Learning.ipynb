{
  "nbformat": 4,
  "nbformat_minor": 0,
  "metadata": {
    "colab": {
      "provenance": []
    },
    "kernelspec": {
      "name": "python3",
      "display_name": "Python 3"
    },
    "language_info": {
      "name": "python"
    }
  },
  "cells": [
    {
      "cell_type": "markdown",
      "source": [
        "# Theoretical"
      ],
      "metadata": {
        "id": "h9jYIvibLELY"
      }
    },
    {
      "cell_type": "markdown",
      "source": [
        "Q1. Can we use Bagging for regression problems ?\n",
        "\n",
        "ANS-> Yes, we can use Bagging for regression problems. Bagging, also known as Bootstrap Aggregating, is a popular ensemble learning technique that can be used for both classification and regression problems.\n",
        "\n",
        "In the context of regression, Bagging works by creating multiple instances of the training dataset using bootstrap sampling, training a separate model on each instance, and then combining the predictions of all the models to produce the final output.\n",
        "\n",
        "Here's how Bagging can be used for regression:\n",
        "\n",
        "1. Bootstrap Sampling: Create multiple instances of the training dataset by sampling with replacement. This is known as bootstrap sampling.\n",
        "2. Model Training: Train a separate model on each bootstrap sample. This can be any type of regression model, such as linear regression, decision trees, or support vector machines.\n",
        "3. Prediction: Make predictions on the test dataset using each of the trained models.\n",
        "4. Combining Predictions: Combine the predictions of all the models to produce the final output. This is typically done by taking the average of all the predictions.\n",
        "\n",
        "Bagging can help improve the performance of regression models in several ways:\n",
        "\n",
        "- Reducing Overfitting: By averaging the predictions of multiple models, Bagging can help reduce overfitting.\n",
        "- Improving Robustness: Bagging can help improve the robustness of regression models by reducing the impact of outliers and noisy data.\n",
        "- Handling Non-Linear Relationships: Bagging can be used with non-linear models, such as decision trees or support vector machines, to handle non-linear relationships between the features and target variable."
      ],
      "metadata": {
        "id": "olV4Cgb3LEQP"
      }
    },
    {
      "cell_type": "markdown",
      "source": [
        "Q2. What is the difference between multiple model training and single model training?\n",
        "\n",
        "ANS-> Multiple model training and single model training are two different approaches used in machine learning to train models. Here are the key differences between them:\n",
        "\n",
        "Single Model Training:\n",
        "\n",
        "1. One Model: A single model is trained on the entire dataset.\n",
        "2. Simple: This approach is straightforward and easy to implement.\n",
        "3. Fast: Training a single model is generally faster than training multiple models.\n",
        "4. Limited: A single model may not capture all the complexities and nuances of the data.\n",
        "5. Overfitting: A single model may overfit the training data, resulting in poor performance on unseen data.\n",
        "\n",
        "Multiple Model Training (Ensemble Learning):\n",
        "\n",
        "1. Multiple Models: Multiple models are trained on different subsets of the data or using different algorithms.\n",
        "2. Complex: This approach is more complex and requires careful selection of models and hyperparameters.\n",
        "3. Slower: Training multiple models is generally slower than training a single model.\n",
        "4. Robust: Multiple models can capture different aspects of the data, resulting in a more robust and accurate prediction.\n",
        "5. Reduced Overfitting: Ensemble methods can reduce overfitting by averaging the predictions of multiple models.\n"
      ],
      "metadata": {
        "id": "Mg_7_ds9LESR"
      }
    },
    {
      "cell_type": "markdown",
      "source": [
        "Q3. Explain the concept of feature randomness in Random Forest.\n",
        "\n",
        "ANS-> Feature randomness is a key concept in Random Forest, a popular ensemble learning algorithm. Here's a breakdown:\n",
        "\n",
        "What is feature randomness?\n",
        "\n",
        "In Random Forest, feature randomness refers to the random selection of features (or columns) from the dataset at each node of the decision tree. This randomness is introduced to reduce the correlation between trees and improve the overall accuracy of the model.\n",
        "\n",
        "How does feature randomness work?\n",
        "\n",
        "Here's a step-by-step explanation:\n",
        "\n",
        "1. Feature selection: At each node of the decision tree, a random subset of features is selected from the entire feature set.\n",
        "2. Splitting: The decision tree splits the data based on the selected features, using the best split criterion (e.g., Gini impurity or entropy).\n",
        "3. Tree growth: The decision tree grows by recursively splitting the data until a stopping criterion is reached (e.g., maximum depth or minimum samples per leaf).\n",
        "4. Multiple trees: Multiple decision trees are grown using different random subsets of features, resulting in a diverse set of trees.\n",
        "5. Voting: The predictions from each tree are combined using voting (for classification) or averaging (for regression) to produce the final output.\n",
        "\n",
        "Benefits of feature randomness\n",
        "\n",
        "Feature randomness in Random Forest offers several benefits:\n",
        "\n",
        "- Reduced correlation: By randomly selecting features at each node, the correlation between trees is reduced, resulting in a more diverse and robust ensemble.\n",
        "- Improved accuracy: Feature randomness helps to reduce overfitting and improves the overall accuracy of the model.\n",
        "- Handling high-dimensional data: Random Forest can effectively handle high-dimensional data by randomly selecting a subset of features at each node."
      ],
      "metadata": {
        "id": "fNMWm8ZQLEdZ"
      }
    },
    {
      "cell_type": "markdown",
      "source": [
        "Q4. What is OOB (Out-of-Bag) Score?\n",
        "\n",
        "ANS-> OOB (Out-of-Bag) score is a measure of the accuracy of a Random Forest model on unseen data. Here's a breakdown:\n",
        "\n",
        "What is OOB score?\n",
        "\n",
        "In Random Forest, each decision tree is trained on a bootstrap sample of the training data. The OOB score is calculated by evaluating the performance of each decision tree on the samples that were not used in its training (i.e., the \"out-of-bag\" samples).\n",
        "\n",
        "How is OOB score calculated?\n",
        "\n",
        "The OOB score is calculated as follows:\n",
        "\n",
        "1. Bootstrap sampling: A bootstrap sample of the training data is created for each decision tree.\n",
        "2. Decision tree training: Each decision tree is trained on its corresponding bootstrap sample.\n",
        "3. OOB prediction: Each decision tree makes predictions on the samples that were not used in its training (i.e., the OOB samples).\n",
        "4. OOB error calculation: The error of each decision tree on its OOB samples is calculated.\n",
        "5. OOB score calculation: The OOB score is calculated as the average error of all decision trees on their OOB samples."
      ],
      "metadata": {
        "id": "8p1Hgs_CLEg3"
      }
    },
    {
      "cell_type": "markdown",
      "source": [
        "Q5. How can you measure the importance of features in a Random Forest model?\n",
        "\n",
        "ANS-> Measuring the importance of features in a Random Forest model can be done using several methods. Here are some common approaches:\n",
        "\n",
        "1. Permutation Feature Importance: This method calculates the importance of each feature by measuring the decrease in model performance when the feature is randomly permuted. The idea is that if a feature is important, permuting its values should significantly decrease the model's performance.\n",
        "\n",
        "2. Gini Importance: This method calculates the importance of each feature by measuring the reduction in impurity (e.g., Gini impurity) when the feature is used to split the data. The idea is that features that result in a larger reduction in impurity are more important.\n",
        "\n",
        "3. Mean Decrease in Impurity (MDI): This method is similar to Gini importance but calculates the average reduction in impurity across all trees in the forest.\n",
        "\n",
        "4. Mean Decrease in Accuracy (MDA): This method calculates the importance of each feature by measuring the decrease in model accuracy when the feature is randomly permuted."
      ],
      "metadata": {
        "id": "agKj_vZaLEkX"
      }
    },
    {
      "cell_type": "markdown",
      "source": [
        "Q6. Explain the working principle of a Bagging Classifier.\n",
        "\n",
        "ANS-> A Bagging Classifier, also known as Bootstrap Aggregating, is an ensemble learning algorithm that combines multiple instances of a base classifier to improve the accuracy and robustness of the model. Here's a step-by-step explanation of how a Bagging Classifier works:\n",
        "\n",
        "Step 1: Bootstrap Sampling\n",
        "\n",
        "The training dataset is sampled with replacement to create multiple bootstrap samples. Each bootstrap sample has the same size as the original training dataset.\n",
        "\n",
        "Step 2: Base Classifier Training\n",
        "\n",
        "A base classifier is trained on each bootstrap sample. The base classifier can be any type of classifier, such as a decision tree, logistic regression, or support vector machine.\n",
        "\n",
        "Step 3: Prediction\n",
        "\n",
        "Each trained base classifier makes predictions on the test dataset.\n",
        "\n",
        "Step 4: Voting\n",
        "\n",
        "The predictions from each base classifier are combined using voting. In classification problems, the class with the most votes is selected as the final prediction.\n",
        "\n",
        "Step 5: Final Prediction\n",
        "\n",
        "The final prediction is made by combining the predictions from all base classifiers.\n",
        "\n",
        "Key Benefits\n",
        "\n",
        "Bagging Classifiers offer several benefits:\n",
        "\n",
        "- Improved Accuracy: By combining multiple base classifiers, Bagging Classifiers can improve the overall accuracy of the model.\n",
        "- Reduced Overfitting: Bagging Classifiers can reduce overfitting by averaging the predictions from multiple base classifiers.\n",
        "- Increased Robustness: Bagging Classifiers can handle noisy data and outliers more effectively than a single base classifier."
      ],
      "metadata": {
        "id": "7VNPTH1FLEnr"
      }
    },
    {
      "cell_type": "markdown",
      "source": [
        "Q7. How do you evaluate a Bagging Classifier’s performance?\n",
        "\n",
        "ANS-> Evaluating a Bagging Classifier's performance involves assessing its accuracy, robustness, and reliability. Here are some metrics and techniques to evaluate a Bagging Classifier's performance:\n",
        "\n",
        "Metrics:\n",
        "\n",
        "1. Accuracy: Measures the proportion of correctly classified instances.\n",
        "2. Precision: Measures the proportion of true positives among all positive predictions.\n",
        "3. Recall: Measures the proportion of true positives among all actual positive instances.\n",
        "4. F1-score: Measures the harmonic mean of precision and recall.\n",
        "5. Mean Squared Error (MSE): Measures the average squared difference between predicted and actual values.\n",
        "6. Mean Absolute Error (MAE): Measures the average absolute difference between predicted and actual values.\n",
        "\n",
        "Techniques:\n",
        "\n",
        "1. Cross-Validation: Splits the dataset into training and testing sets, and evaluates the model's performance on unseen data.\n",
        "2. Confusion Matrix: Provides a summary of predictions against actual outcomes, helping to identify errors and biases.\n",
        "3. Receiver Operating Characteristic (ROC) Curve: Plots the true positive rate against the false positive rate, helping to evaluate the model's performance at different thresholds.\n",
        "4. Precision-Recall Curve: Plots the precision against the recall, helping to evaluate the model's performance at different thresholds."
      ],
      "metadata": {
        "id": "ZZoWCd52LEp_"
      }
    },
    {
      "cell_type": "markdown",
      "source": [
        "Q8. How does a Bagging Regressor work.\n",
        "\n",
        "ANS-> A Bagging Regressor, also known as Bootstrap Aggregating Regressor, is an ensemble learning algorithm that combines multiple instances of a base regressor to improve the accuracy and robustness of the model. Here's a step-by-step explanation of how a Bagging Regressor works:\n",
        "\n",
        "Step 1: Bootstrap Sampling\n",
        "\n",
        "The training dataset is sampled with replacement to create multiple bootstrap samples. Each bootstrap sample has the same size as the original training dataset.\n",
        "\n",
        "Step 2: Base Regressor Training\n",
        "\n",
        "A base regressor is trained on each bootstrap sample. The base regressor can be any type of regressor, such as a decision tree, linear regression, or support vector machine.\n",
        "\n",
        "Step 3: Prediction\n",
        "\n",
        "Each trained base regressor makes predictions on the test dataset.\n",
        "\n",
        "Step 4: Averaging\n",
        "\n",
        "The predictions from each base regressor are averaged to produce the final prediction.\n",
        "\n",
        "Key Benefits\n",
        "\n",
        "Bagging Regressors offer several benefits:\n",
        "\n",
        "- Improved Accuracy: By combining multiple base regressors, Bagging Regressors can improve the overall accuracy of the model.\n",
        "- Reduced Overfitting: Bagging Regressors can reduce overfitting by averaging the predictions from multiple base regressors.\n",
        "- Increased Robustness: Bagging Regressors can handle noisy data and outliers more effectively than a single base regressor."
      ],
      "metadata": {
        "id": "EPhxOGrALEtI"
      }
    },
    {
      "cell_type": "markdown",
      "source": [
        "Q9. What is the main advantage of ensemble techniques?\n",
        "\n",
        "ANS-> The main advantage of ensemble techniques is that they can significantly improve the accuracy and robustness of machine learning models. Here are some specific benefits:\n",
        "\n",
        "1. Improved Accuracy: Ensemble techniques can combine the predictions of multiple models, reducing the impact of individual errors and resulting in more accurate predictions.\n",
        "2. Increased Robustness: Ensemble techniques can reduce the variance of predictions, making them more robust to changes in the data or model parameters.\n",
        "3. Better Handling of Overfitting: Ensemble techniques can reduce overfitting by averaging the predictions of multiple models, each of which may have overfit to different aspects of the data.\n",
        "4. Improved Handling of Noisy Data: Ensemble techniques can reduce the impact of noisy data by averaging the predictions of multiple models, each of which may have been affected by the noise in different ways.\n",
        "5. Flexibility: Ensemble techniques can be used with a wide range of machine learning models, including decision trees, neural networks, and support vector machines.\n",
        "\n",
        "Some popular ensemble techniques include:\n",
        "\n",
        "- Bagging: A technique that combines the predictions of multiple models trained on different subsets of the data.\n",
        "- Boosting: A technique that combines the predictions of multiple models trained on different subsets of the data, with each model attempting to correct the errors of the previous model.\n",
        "- Stacking: A technique that combines the predictions of multiple models using a meta-model that learns how to weight the predictions of each model."
      ],
      "metadata": {
        "id": "sypml5leLEwe"
      }
    },
    {
      "cell_type": "markdown",
      "source": [
        "Q10. What is the main challenge of ensemble methods?\n",
        "\n",
        "ANS-> The main challenges of ensemble methods are:\n",
        "\n",
        "1. Computational Cost: Ensemble methods can be computationally expensive, especially when dealing with large datasets or complex models.\n",
        "2. Model Selection: Choosing the right base models and hyperparameters for the ensemble can be challenging.\n",
        "3. Overfitting: Ensemble methods can suffer from overfitting, especially when the base models are complex or when the ensemble is not regularized properly.\n",
        "4. Interpretability: Ensemble methods can be difficult to interpret, especially when the base models are complex or when the ensemble is composed of many models.\n",
        "5. Hyperparameter Tuning: Ensemble methods often require tuning multiple hyperparameters, which can be time-consuming and challenging.\n",
        "\n",
        "Some specific challenges associated with popular ensemble methods are:\n",
        "\n",
        "- Bagging: Choosing the optimal number of bootstrap samples and the optimal size of each sample.\n",
        "- Boosting: Choosing the optimal learning rate and the optimal number of iterations.\n",
        "- Stacking: Choosing the optimal meta-model and the optimal way to combine the predictions of the base models.\n"
      ],
      "metadata": {
        "id": "9_Ec2UhYLEy4"
      }
    },
    {
      "cell_type": "markdown",
      "source": [
        "Q11. Explain the key idea behind ensemble techniques.\n",
        "\n",
        "ANS-> The key idea behind ensemble techniques is to combine the predictions of multiple models to produce a more accurate and robust prediction than any individual model. This is based on the idea that different models can capture different patterns and relationships in the data, and that by combining their predictions, we can produce a more comprehensive and accurate prediction.\n",
        "\n",
        "There are several key concepts that underlie ensemble techniques:\n",
        "\n",
        "1. Diversity: Ensemble techniques rely on the idea that different models can capture different patterns and relationships in the data. This diversity can come from using different algorithms, different hyperparameters, or different subsets of the data.\n",
        "2. Combination: Ensemble techniques combine the predictions of multiple models to produce a single prediction. This can be done using techniques such as voting, averaging, or stacking.\n",
        "3. Improved Accuracy: By combining the predictions of multiple models, ensemble techniques can produce a more accurate prediction than any individual model.\n",
        "4. Robustness: Ensemble techniques can also improve the robustness of predictions by reducing the impact of individual model errors."
      ],
      "metadata": {
        "id": "GW9MaaYMdnHt"
      }
    },
    {
      "cell_type": "markdown",
      "source": [
        "Q12. What is a Random Forest Classifier?\n",
        "\n",
        "ANS-> A Random Forest Classifier is a type of ensemble learning algorithm that combines multiple decision trees to classify data. It is a popular machine learning algorithm used for classification tasks.\n",
        "\n",
        "How it Works:\n",
        "\n",
        "1. Decision Tree Creation: Multiple decision trees are created on random subsets of the training data.\n",
        "2. Random Feature Selection: At each node of the decision tree, a random subset of features is selected to consider for splitting.\n",
        "3. Voting: Each decision tree makes a prediction, and the final prediction is made by voting (i.e., selecting the class with the most votes).\n",
        "\n",
        "Key Benefits:\n",
        "\n",
        "1. Improved Accuracy: Random Forest Classifiers can achieve higher accuracy than individual decision trees.\n",
        "2. Reduced Overfitting: Random Forest Classifiers can reduce overfitting by averaging the predictions of multiple decision trees.\n",
        "3. Handling High-Dimensional Data: Random Forest Classifiers can handle high-dimensional data with a large number of features.\n",
        "4. Interpretable Results: Random Forest Classifiers provide feature importance scores, which can help interpret the results.\n",
        "\n",
        "Hyperparameters:\n",
        "\n",
        "1. n_estimators: The number of decision trees in the forest.\n",
        "2. max_depth: The maximum depth of each decision tree.\n",
        "3. min_samples_split: The minimum number of samples required to split an internal node.\n",
        "4. min_samples_leaf: The minimum number of samples required to be at a leaf node."
      ],
      "metadata": {
        "id": "BHQCpOH9dnRE"
      }
    },
    {
      "cell_type": "markdown",
      "source": [
        "Q13. What are the main types of ensemble techniques?\n",
        "\n",
        "ANS-> There are several types of ensemble techniques, including:\n",
        "\n",
        "1. Bagging (Bootstrap Aggregating): Involves training multiple models on different subsets of the training data and combining their predictions.\n",
        "2. Boosting: Involves training multiple models sequentially, with each model attempting to correct the errors of the previous model.\n",
        "3. Stacking: Involves training multiple models and combining their predictions using a meta-model.\n",
        "4. Random Forests: Involves training multiple decision trees on random subsets of the training data and combining their predictions.\n",
        "5. Gradient Boosting: A type of boosting that uses gradient descent to optimize the weights of the models.\n",
        "6. AdaBoost: A type of boosting that adaptively adjusts the weights of the models based on their performance.\n",
        "7. Gradient Boosting Machines (GBMs): A type of gradient boosting that uses decision trees as the base models.\n",
        "8. Extreme Gradient Boosting (XGBoost): A type of gradient boosting that uses decision trees as the base models and is optimized for performance and speed.\n",
        "\n",
        "Each of these ensemble techniques has its own strengths and weaknesses, and the choice of which one to use depends on the specific problem and dataset.\n",
        "\n",
        "Bagging and Boosting are the two most fundamental types of ensemble techniques.\n",
        "\n",
        "- Bagging is used for reducing variance, by averaging the predictions of multiple models.\n",
        "- Boosting is used for reducing bias, by sequentially training models to correct the errors of the previous model."
      ],
      "metadata": {
        "id": "pp1Ry5v4dnU9"
      }
    },
    {
      "cell_type": "markdown",
      "source": [
        "Q14. What is ensemble learning in machine learning?\n",
        "\n",
        "ANS-> Ensemble learning is a machine learning technique that combines the predictions of multiple models to improve the accuracy and robustness of the predictions. The idea is to train multiple models on the same data and then combine their predictions to produce a final output.\n",
        "\n",
        "Why Ensemble Learning?\n",
        "\n",
        "Ensemble learning is useful for several reasons:\n",
        "\n",
        "1. Improved Accuracy: By combining the predictions of multiple models, ensemble learning can often achieve better accuracy than any individual model.\n",
        "2. Reduced Overfitting: Ensemble learning can help reduce overfitting by averaging the predictions of multiple models, which can help cancel out errors.\n",
        "3. Increased Robustness: Ensemble learning can make the model more robust to changes in the data or to noisy data.\n",
        "\n",
        "Types of Ensemble Learning\n",
        "\n",
        "There are several types of ensemble learning techniques:\n",
        "\n",
        "1. Bagging: Involves training multiple models on different subsets of the data and combining their predictions.\n",
        "2. Boosting: Involves training multiple models sequentially, with each model attempting to correct the errors of the previous model.\n",
        "3. Stacking: Involves training multiple models and combining their predictions using a meta-model.\n",
        "\n",
        "How Ensemble Learning Works\n",
        "\n",
        "The process of ensemble learning typically involves the following steps:\n",
        "\n",
        "1. Train Multiple Models: Train multiple models on the same data.\n",
        "2. Make Predictions: Make predictions using each model.\n",
        "3. Combine Predictions: Combine the predictions of each model to produce a final output."
      ],
      "metadata": {
        "id": "aw9rS0kIdnYr"
      }
    },
    {
      "cell_type": "markdown",
      "source": [
        "Q15. When should we avoid using ensemble methods?\n",
        "\n",
        "ANS-> While ensemble methods can be powerful tools for improving the accuracy and robustness of machine learning models, there are certain situations where they may not be the best choice. Here are some scenarios where you might want to avoid using ensemble methods:\n",
        "\n",
        "1. Small Datasets: Ensemble methods typically require large amounts of data to be effective. If you have a small dataset, you may not have enough data to train multiple models, and ensemble methods may not provide any benefits.\n",
        "2. Simple Problems: If you have a simple problem that can be solved with a single model, there may be no need to use ensemble methods. Ensemble methods can add complexity to your model, and may not provide any benefits for simple problems.\n",
        "3. Interpretable Models: If you need to interpret the results of your model, ensemble methods may not be the best choice. Ensemble methods can make it difficult to understand how the model is making predictions, as the predictions are based on the combined output of multiple models.\n",
        "4. Real-Time Systems: Ensemble methods can be computationally expensive, which can make them difficult to use in real-time systems. If you need to make predictions in real-time, you may want to consider using a single model instead of an ensemble.\n",
        "5. Overfitting: Ensemble methods can sometimes overfit the data, especially if the individual models are complex. If you are working with a small dataset, you may want to avoid using ensemble methods to prevent overfitting.\n",
        "6. Class Imbalance: Ensemble methods can sometimes exacerbate class imbalance problems. If you have a dataset with a large class imbalance, you may want to consider using techniques such as oversampling the minority class, undersampling the majority class, or using class weights instead of ensemble methods.\n",
        "7. High-Dimensional Data: Ensemble methods can be difficult to apply to high-dimensional data, as the number of features can make it difficult to train multiple models. In these cases, you may want to consider using dimensionality reduction techniques instead of ensemble methods.\n"
      ],
      "metadata": {
        "id": "dj7w0n5ydnco"
      }
    },
    {
      "cell_type": "markdown",
      "source": [
        "Q16. How does Bagging help in reducing overfitting?\n",
        "\n",
        "ANS-> Bagging (Bootstrap Aggregating) is an ensemble learning technique that helps reduce overfitting in several ways:\n",
        "\n",
        "1. Averaging Multiple Models: Bagging combines the predictions of multiple models trained on different subsets of the data. By averaging the predictions, Bagging reduces the impact of individual model errors, which can help reduce overfitting.\n",
        "2. Reducing Variance: Bagging reduces the variance of the model by averaging the predictions of multiple models. When individual models have high variance, they may overfit the training data. By averaging the predictions, Bagging reduces the overall variance of the model.\n",
        "3. Increasing Model Stability: Bagging increases the stability of the model by reducing the impact of individual data points. When a single data point has a large impact on the model, it can cause overfitting. By averaging the predictions of multiple models, Bagging reduces the impact of individual data points.\n",
        "4. Reducing Model Complexity: Bagging can reduce the complexity of the model by using simpler base models. When individual models are complex, they may overfit the training data. By using simpler base models, Bagging reduces the overall complexity of the model.\n",
        "\n",
        "How Bagging Reduces Overfitting\n",
        "\n",
        "To illustrate how Bagging reduces overfitting, consider the following example:\n",
        "\n",
        "Suppose we have a dataset with 100 samples, and we want to train a decision tree model. Without Bagging, the decision tree model may overfit the training data, especially if the tree is deep.\n",
        "\n",
        "With Bagging, we create multiple subsets of the data, each with 100 samples (with replacement). We then train a decision tree model on each subset. The predictions from each model are then averaged to produce the final prediction.\n",
        "\n",
        "By averaging the predictions of multiple models, Bagging reduces the impact of individual model errors, which can help reduce overfitting. Additionally, Bagging reduces the variance of the model, increases model stability, and reduces model complexity, all of which can contribute to reducing overfitting."
      ],
      "metadata": {
        "id": "79GopJqhdngW"
      }
    },
    {
      "cell_type": "markdown",
      "source": [
        "Q17. Why is Random Forest better than a single Decision Tree?\n",
        "\n",
        "ANS-> Random Forest is generally better than a single Decision Tree for several reasons:\n",
        "\n",
        "1. Reduced Overfitting: Random Forest reduces overfitting by averaging the predictions of multiple decision trees. Each decision tree in the forest is trained on a random subset of the data, which helps to reduce overfitting.\n",
        "2. Improved Accuracy: Random Forest can improve the accuracy of predictions by combining the predictions of multiple decision trees. Each decision tree may capture different patterns in the data, and by combining their predictions, Random Forest can produce more accurate results.\n",
        "3. Increased Robustness: Random Forest is more robust than a single decision tree because it can handle missing values and outliers more effectively. If one decision tree in the forest is affected by missing values or outliers, the other trees can still produce accurate predictions.\n",
        "4. Better Handling of High-Dimensional Data: Random Forest can handle high-dimensional data more effectively than a single decision tree. By selecting a random subset of features at each node, Random Forest can reduce the dimensionality of the data and improve the accuracy of predictions.\n",
        "5. Parallelization: Random Forest can be parallelized more easily than a single decision tree. By training multiple decision trees in parallel, Random Forest can take advantage of multi-core processors and produce results more quickly.\n",
        "\n",
        "Why Single Decision Trees Can Be Problematic\n",
        "\n",
        "Single decision trees can be problematic for several reasons:\n",
        "\n",
        "1. Overfitting: Decision trees can overfit the training data, especially if the tree is deep or if the data is noisy.\n",
        "2. High Variance: Decision trees can have high variance, which means that small changes in the training data can result in large changes in the predictions.\n",
        "3. Sensitive to Hyperparameters: Decision trees can be sensitive to hyperparameters, such as the maximum depth of the tree or the minimum number of samples required at each node."
      ],
      "metadata": {
        "id": "_kVFcn4adnj0"
      }
    },
    {
      "cell_type": "markdown",
      "source": [
        "Q18. What is the role of bootstrap sampling in Bagging?\n",
        "\n",
        "ANS-> Bootstrap sampling plays a crucial role in Bagging (Bootstrap Aggregating) by allowing the algorithm to create multiple versions of the training dataset, which in turn enables the creation of multiple models. Here's how bootstrap sampling contributes to Bagging:\n",
        "\n",
        "What is Bootstrap Sampling?\n",
        "\n",
        "Bootstrap sampling is a resampling technique that involves creating a new dataset by randomly selecting samples from the original dataset with replacement. This means that some samples may be selected multiple times, while others may not be selected at all.\n",
        "\n",
        "Role of Bootstrap Sampling in Bagging\n",
        "\n",
        "In Bagging, bootstrap sampling is used to create multiple versions of the training dataset. Here's how it works:\n",
        "\n",
        "1. Create Bootstrap Samples: Create B bootstrap samples from the original training dataset. Each bootstrap sample is created by randomly selecting n samples from the original dataset with replacement, where n is the size of the original dataset.\n",
        "2. Train a Model on Each Bootstrap Sample: Train a model on each of the B bootstrap samples. This results in B different models, each trained on a slightly different version of the training dataset.\n",
        "3. Combine the Predictions: Combine the predictions of the B models to produce the final prediction.\n",
        "\n",
        "Benefits of Bootstrap Sampling in Bagging\n",
        "\n",
        "The use of bootstrap sampling in Bagging provides several benefits:\n",
        "\n",
        "1. Reduces Overfitting: By creating multiple versions of the training dataset, Bagging reduces the risk of overfitting to a single dataset.\n",
        "2. Improves Model Robustness: By training multiple models on different versions of the training dataset, Bagging improves the robustness of the final model to changes in the data.\n",
        "3. Increases Model Diversity: By creating multiple models, each trained on a slightly different version of the training dataset, Bagging increases the diversity of the models, which can lead to better performance."
      ],
      "metadata": {
        "id": "9ZHM_RbVdnnY"
      }
    },
    {
      "cell_type": "markdown",
      "source": [
        "Q19. What are some real-world applications of ensemble techniques?\n",
        "\n",
        "ANS-> Ensemble techniques have a wide range of real-world applications across various industries. Here are some examples:\n",
        "\n",
        "1. Credit Risk Assessment: Ensemble methods are used in credit risk assessment to predict the likelihood of loan defaults. By combining the predictions of multiple models, lenders can make more accurate decisions about loan approvals.\n",
        "2. Image Classification: Ensemble techniques are used in image classification tasks such as object detection, facial recognition, and image segmentation. By combining the predictions of multiple models, ensemble techniques can improve the accuracy of image classification tasks.\n",
        "3. Natural Language Processing (NLP): Ensemble methods are used in NLP tasks such as sentiment analysis, text classification, and language translation. By combining the predictions of multiple models, ensemble techniques can improve the accuracy of NLP tasks.\n",
        "4. Recommendation Systems: Ensemble techniques are used in recommendation systems to predict user preferences and recommend products or services. By combining the predictions of multiple models, ensemble techniques can improve the accuracy of recommendation systems.\n",
        "5. Medical Diagnosis: Ensemble methods are used in medical diagnosis to predict the likelihood of diseases such as cancer, diabetes, and cardiovascular disease. By combining the predictions of multiple models, ensemble techniques can improve the accuracy of medical diagnosis.\n",
        "6. Financial Forecasting: Ensemble techniques are used in financial forecasting to predict stock prices, currency exchange rates, and commodity prices. By combining the predictions of multiple models, ensemble techniques can improve the accuracy of financial forecasting.\n",
        "7. Customer Churn Prediction: Ensemble methods are used in customer churn prediction to predict the likelihood of customers switching to a competitor. By combining the predictions of multiple models, ensemble techniques can improve the accuracy of customer churn prediction.\n",
        "8. Speech Recognition: Ensemble techniques are used in speech recognition to improve the accuracy of speech recognition systems. By combining the predictions of multiple models, ensemble techniques can improve the accuracy of speech recognition.\n",
        "9. Time Series Forecasting: Ensemble methods are used in time series forecasting to predict future values of a time series. By combining the predictions of multiple models, ensemble techniques can improve the accuracy of time series forecasting.\n",
        "10. Anomaly Detection: Ensemble techniques are used in anomaly detection to identify unusual patterns or outliers in data. By combining the predictions of multiple models, ensemble techniques can improve the accuracy of anomaly detection."
      ],
      "metadata": {
        "id": "n_Xxq2Khdnqu"
      }
    },
    {
      "cell_type": "markdown",
      "source": [
        "Q20. What is the difference between Bagging and Boosting?\n",
        "\n",
        "ANS-> Bagging (Bootstrap Aggregating) and Boosting are two popular ensemble learning techniques used to improve the performance of machine learning models. While both techniques involve combining multiple models to produce a more accurate prediction, there are key differences between them:\n",
        "\n",
        "Bagging:\n",
        "\n",
        "1. Parallel Training: In Bagging, multiple models are trained in parallel on different subsets of the training data.\n",
        "2. Random Sampling: Each model is trained on a random subset of the training data, with replacement.\n",
        "3. Equal Weighting: Each model is given equal weight when combining their predictions.\n",
        "4. Reduces Variance: Bagging reduces the variance of the model by averaging the predictions of multiple models.\n",
        "\n",
        "Boosting:\n",
        "\n",
        "1. Sequential Training: In Boosting, multiple models are trained sequentially, with each model attempting to correct the errors of the previous model.\n",
        "2. Weighted Sampling: Each model is trained on a weighted subset of the training data, where the weights are adjusted based on the performance of the previous model.\n",
        "3. Weighted Combining: Each model is given a weighted vote when combining their predictions, with the weights determined by the model's performance.\n",
        "4. Reduces Bias: Boosting reduces the bias of the model by sequentially training models to correct the errors of the previous model.\n"
      ],
      "metadata": {
        "id": "PZfxPN-_dnuL"
      }
    },
    {
      "cell_type": "markdown",
      "source": [
        "# Practical"
      ],
      "metadata": {
        "id": "P7m4SHhgdnxq"
      }
    },
    {
      "cell_type": "markdown",
      "source": [
        "Q21. Train a Bagging Classifier using Decision Trees on a sample dataset and print model accuracy?"
      ],
      "metadata": {
        "id": "8BAclYmmfp0G"
      }
    },
    {
      "cell_type": "code",
      "source": [
        "import pandas as pd\n",
        "from sklearn.model_selection import train_test_split\n",
        "from sklearn.ensemble import BaggingClassifier\n",
        "from sklearn.tree import DecisionTreeClassifier\n",
        "from sklearn.metrics import accuracy_score\n",
        "\n",
        "# Sample dataset (replace with your actual data)\n",
        "data = {'feature1': [1, 2, 3, 4, 5, 6, 7, 8, 9, 10],\n",
        "        'feature2': [10, 9, 8, 7, 6, 5, 4, 3, 2, 1],\n",
        "        'target': [0, 0, 0, 0, 1, 1, 1, 1, 1, 1]}\n",
        "df = pd.DataFrame(data)\n",
        "\n",
        "# Separate features and target\n",
        "X = df[['feature1', 'feature2']]\n",
        "y = df['target']\n",
        "\n",
        "# Split data into training and testing sets\n",
        "X_train, X_test, y_train, y_test = train_test_split(X, y, test_size=0.2, random_state=42)\n",
        "\n",
        "# Create a Bagging Classifier with Decision Trees as base estimators\n",
        "# Changed 'base_estimator' to 'estimator'\n",
        "bagging_clf = BaggingClassifier(estimator=DecisionTreeClassifier(), n_estimators=10, random_state=42)\n",
        "\n",
        "# Train the classifier\n",
        "bagging_clf.fit(X_train, y_train)\n",
        "\n",
        "# Make predictions on the test set\n",
        "y_pred = bagging_clf.predict(X_test)\n",
        "\n",
        "# Calculate and print the accuracy\n",
        "accuracy = accuracy_score(y_test, y_pred)\n",
        "print(f\"Model Accuracy: {accuracy}\")"
      ],
      "metadata": {
        "colab": {
          "base_uri": "https://localhost:8080/"
        },
        "id": "Q8xSOhNafqEP",
        "outputId": "4d2010c9-d9f5-40f0-f5e0-eedfe4e0c3fe"
      },
      "execution_count": null,
      "outputs": [
        {
          "output_type": "stream",
          "name": "stdout",
          "text": [
            "Model Accuracy: 1.0\n"
          ]
        }
      ]
    },
    {
      "cell_type": "markdown",
      "source": [
        "Q22. Train a Bagging Regressor using Decision Trees and evaluate using Mean Squared Error (MSE)."
      ],
      "metadata": {
        "id": "ThXV70sefqOl"
      }
    },
    {
      "cell_type": "code",
      "source": [
        "# Train a Bagging Regressor using Decision Trees and evaluate using Mean Squared Error (MSE)\n",
        "\n",
        "import pandas as pd\n",
        "from sklearn.model_selection import train_test_split\n",
        "from sklearn.ensemble import BaggingRegressor\n",
        "from sklearn.tree import DecisionTreeRegressor\n",
        "from sklearn.metrics import mean_squared_error\n",
        "import numpy as np\n",
        "\n",
        "# Sample dataset (replace with your actual data)\n",
        "# Create a sample dataset with a numerical target variable\n",
        "np.random.seed(0)\n",
        "n_samples = 100\n",
        "X = np.random.rand(n_samples, 2)  # Two features\n",
        "y = 2*X[:, 0] + 3*X[:, 1] + np.random.randn(n_samples)  # Target with some noise\n",
        "\n",
        "# Split data into training and testing sets\n",
        "X_train, X_test, y_train, y_test = train_test_split(X, y, test_size=0.2, random_state=42)\n",
        "\n",
        "# Create a Bagging Regressor with Decision Trees as base estimators\n",
        "bagging_reg = BaggingRegressor(estimator=DecisionTreeRegressor(), n_estimators=10, random_state=42)\n",
        "\n",
        "# Train the regressor\n",
        "bagging_reg.fit(X_train, y_train)\n",
        "\n",
        "# Make predictions on the test set\n",
        "y_pred = bagging_reg.predict(X_test)\n",
        "\n",
        "# Calculate and print the Mean Squared Error\n",
        "mse = mean_squared_error(y_test, y_pred)\n",
        "print(f\"Mean Squared Error: {mse}\")\n"
      ],
      "metadata": {
        "colab": {
          "base_uri": "https://localhost:8080/"
        },
        "id": "AOS0gEpQfqW9",
        "outputId": "562039ee-eb05-49fd-807d-a564216d3b5a"
      },
      "execution_count": null,
      "outputs": [
        {
          "output_type": "stream",
          "name": "stdout",
          "text": [
            "Mean Squared Error: 0.9141228812740874\n"
          ]
        }
      ]
    },
    {
      "cell_type": "markdown",
      "source": [
        "Q23. Train a Random Forest Classifier on the Breast Cancer dataset and print feature importance scores."
      ],
      "metadata": {
        "id": "fen-Cto1fqek"
      }
    },
    {
      "cell_type": "code",
      "source": [
        "# Train a Random Forest Classifier on the Breast Cancer dataset and print feature importance scores2\n",
        "\n",
        "from sklearn.ensemble import RandomForestClassifier\n",
        "from sklearn.datasets import load_breast_cancer\n",
        "from sklearn.model_selection import train_test_split\n",
        "\n",
        "# Load the breast cancer dataset\n",
        "data = load_breast_cancer()\n",
        "X, y = data.data, data.target\n",
        "\n",
        "# Split data into training and testing sets\n",
        "X_train, X_test, y_train, y_test = train_test_split(X, y, test_size=0.2, random_state=42)\n",
        "\n",
        "# Create a Random Forest Classifier\n",
        "rf_classifier = RandomForestClassifier(random_state=42)\n",
        "\n",
        "# Train the classifier\n",
        "rf_classifier.fit(X_train, y_train)\n",
        "\n",
        "# Get feature importances\n",
        "feature_importances = rf_classifier.feature_importances_\n",
        "\n",
        "# Print feature importance scores\n",
        "for i, importance in enumerate(feature_importances):\n",
        "    print(f\"Feature {i}: {importance}\")\n"
      ],
      "metadata": {
        "colab": {
          "base_uri": "https://localhost:8080/"
        },
        "id": "5jIf95_kfqod",
        "outputId": "9bde155e-6a0d-41c9-fac6-f9bfbab0f434"
      },
      "execution_count": null,
      "outputs": [
        {
          "output_type": "stream",
          "name": "stdout",
          "text": [
            "Feature 0: 0.048703371737755234\n",
            "Feature 1: 0.013590877656998469\n",
            "Feature 2: 0.053269746128179675\n",
            "Feature 3: 0.04755500886018552\n",
            "Feature 4: 0.007285327830663239\n",
            "Feature 5: 0.013944325074050485\n",
            "Feature 6: 0.06800084191430111\n",
            "Feature 7: 0.10620998844591638\n",
            "Feature 8: 0.003770291819290666\n",
            "Feature 9: 0.0038857721093275\n",
            "Feature 10: 0.02013891719419153\n",
            "Feature 11: 0.004723988073894702\n",
            "Feature 12: 0.01130301388178435\n",
            "Feature 13: 0.022406960160458473\n",
            "Feature 14: 0.004270910110504497\n",
            "Feature 15: 0.005253215538990106\n",
            "Feature 16: 0.009385832251596627\n",
            "Feature 17: 0.003513255105598506\n",
            "Feature 18: 0.004018418617722808\n",
            "Feature 19: 0.00532145634222884\n",
            "Feature 20: 0.07798687515738047\n",
            "Feature 21: 0.021749011006763207\n",
            "Feature 22: 0.06711483267839194\n",
            "Feature 23: 0.15389236463205394\n",
            "Feature 24: 0.010644205147280952\n",
            "Feature 25: 0.020266035899623565\n",
            "Feature 26: 0.031801595740040434\n",
            "Feature 27: 0.14466326620735528\n",
            "Feature 28: 0.010120176131974357\n",
            "Feature 29: 0.005210118545497296\n"
          ]
        }
      ]
    },
    {
      "cell_type": "markdown",
      "source": [
        "Q24. Train a Random Forest Regressor and compare its performance with a single Decision Tree."
      ],
      "metadata": {
        "id": "dfLBIWtafqv8"
      }
    },
    {
      "cell_type": "code",
      "source": [
        "# Train a Random Forest Regressor and compare its performance with a single Decision Tree\n",
        "\n",
        "from sklearn.ensemble import RandomForestRegressor\n",
        "from sklearn.tree import DecisionTreeRegressor\n",
        "from sklearn.metrics import mean_squared_error\n",
        "from sklearn.model_selection import train_test_split\n",
        "import numpy as np\n",
        "\n",
        "# Sample dataset (replace with your actual data)\n",
        "np.random.seed(0)\n",
        "n_samples = 100\n",
        "X = np.random.rand(n_samples, 2)  # Two features\n",
        "y = 2*X[:, 0] + 3*X[:, 1] + np.random.randn(n_samples)  # Target with some noise\n",
        "\n",
        "# Split data\n",
        "X_train, X_test, y_train, y_test = train_test_split(X, y, test_size=0.2, random_state=42)\n",
        "\n",
        "# Random Forest Regressor\n",
        "rf_regressor = RandomForestRegressor(random_state=42)\n",
        "rf_regressor.fit(X_train, y_train)\n",
        "rf_predictions = rf_regressor.predict(X_test)\n",
        "rf_mse = mean_squared_error(y_test, rf_predictions)\n",
        "print(f\"Random Forest MSE: {rf_mse}\")\n",
        "\n",
        "# Single Decision Tree Regressor\n",
        "dt_regressor = DecisionTreeRegressor(random_state=42)\n",
        "dt_regressor.fit(X_train, y_train)\n",
        "dt_predictions = dt_regressor.predict(X_test)\n",
        "dt_mse = mean_squared_error(y_test, dt_predictions)\n",
        "print(f\"Decision Tree MSE: {dt_mse}\")\n"
      ],
      "metadata": {
        "colab": {
          "base_uri": "https://localhost:8080/"
        },
        "id": "_mha2hv4fq4j",
        "outputId": "43cef317-2d36-41ed-ff7a-11113883329f"
      },
      "execution_count": null,
      "outputs": [
        {
          "output_type": "stream",
          "name": "stdout",
          "text": [
            "Random Forest MSE: 0.9720851384756909\n",
            "Decision Tree MSE: 1.9979423446369762\n"
          ]
        }
      ]
    },
    {
      "cell_type": "markdown",
      "source": [
        "Q25. Compute the Out-of-Bag (OOB) Score for a Random Forest Classifier."
      ],
      "metadata": {
        "id": "rjSJyJPbfrvN"
      }
    },
    {
      "cell_type": "code",
      "source": [
        "# Compute the Out-of-Bag (OOB) Score for a Random Forest Classifier\n",
        "\n",
        "# Load the breast cancer dataset\n",
        "data = load_breast_cancer()\n",
        "X, y = data.data, data.target\n",
        "\n",
        "# Split data into training and testing sets\n",
        "X_train, X_test, y_train, y_test = train_test_split(X, y, test_size=0.2, random_state=42)\n",
        "\n",
        "# Create a Random Forest Classifier with OOB scoring enabled\n",
        "rf_classifier = RandomForestClassifier(random_state=42, oob_score=True)\n",
        "\n",
        "# Train the classifier\n",
        "rf_classifier.fit(X_train, y_train)\n",
        "\n",
        "# Get the OOB score\n",
        "oob_score = rf_classifier.oob_score_\n",
        "\n",
        "# Print the OOB score\n",
        "print(f\"Out-of-Bag Score: {oob_score}\")\n"
      ],
      "metadata": {
        "colab": {
          "base_uri": "https://localhost:8080/"
        },
        "id": "bnFNuZQOfr6N",
        "outputId": "e9dcc3f5-0c50-47d1-ef8b-9b2da977df2e"
      },
      "execution_count": null,
      "outputs": [
        {
          "output_type": "stream",
          "name": "stdout",
          "text": [
            "Out-of-Bag Score: 0.9560439560439561\n"
          ]
        }
      ]
    },
    {
      "cell_type": "markdown",
      "source": [
        "Q26. Train a Bagging Classifier using SVM as a base estimator and print accuracy."
      ],
      "metadata": {
        "id": "pkabvLeEfsGH"
      }
    },
    {
      "cell_type": "code",
      "source": [
        "import pandas as pd\n",
        "from sklearn.svm import SVC\n",
        "from sklearn.ensemble import BaggingClassifier\n",
        "from sklearn.model_selection import train_test_split\n",
        "from sklearn.metrics import accuracy_score\n",
        "\n",
        "# Sample dataset (replace with your actual data)\n",
        "# Increased the dataset size and introduced more variability in the target\n",
        "data = {'feature1': [1, 2, 3, 4, 5, 6, 7, 8, 9, 10, 11, 12, 13, 14, 15],\n",
        "        'feature2': [10, 9, 8, 7, 6, 5, 4, 3, 2, 1, 11, 12, 13, 14, 15],\n",
        "        'target': [0, 0, 0, 0, 1, 1, 1, 1, 0, 1, 0, 1, 0, 1, 0]}\n",
        "df = pd.DataFrame(data)\n",
        "\n",
        "# Separate features and target\n",
        "X = df[['feature1', 'feature2']]\n",
        "y = df['target']\n",
        "\n",
        "# Split data into training and testing sets\n",
        "X_train, X_test, y_train, y_test = train_test_split(X, y, test_size=0.2, random_state=42)\n",
        "\n",
        "# Create a Bagging Classifier with SVM as the base estimator\n",
        "bagging_clf = BaggingClassifier(estimator=SVC(), n_estimators=10, random_state=42)\n",
        "\n",
        "# Train the classifier\n",
        "bagging_clf.fit(X_train, y_train)\n",
        "\n",
        "# Make predictions on the test set\n",
        "y_pred = bagging_clf.predict(X_test)\n",
        "\n",
        "# Calculate and print the accuracy\n",
        "accuracy = accuracy_score(y_test, y_pred)\n",
        "print(f\"Model Accuracy: {accuracy}\")"
      ],
      "metadata": {
        "colab": {
          "base_uri": "https://localhost:8080/"
        },
        "id": "zNYud0lHg3I-",
        "outputId": "8a048942-2305-454e-ff8d-e97511b343e4"
      },
      "execution_count": null,
      "outputs": [
        {
          "output_type": "stream",
          "name": "stdout",
          "text": [
            "Model Accuracy: 0.3333333333333333\n"
          ]
        }
      ]
    },
    {
      "cell_type": "markdown",
      "source": [
        "Q27. Train a Random Forest Classifier with different numbers of trees and compare accuracy."
      ],
      "metadata": {
        "id": "H6bVqWetfsIh"
      }
    },
    {
      "cell_type": "code",
      "source": [
        "# Train a Random Forest Classifier with different numbers of trees and compare accuracy\n",
        "\n",
        "# Load the breast cancer dataset\n",
        "data = load_breast_cancer()\n",
        "X, y = data.data, data.target\n",
        "\n",
        "# Split data into training and testing sets\n",
        "X_train, X_test, y_train, y_test = train_test_split(X, y, test_size=0.2, random_state=42)\n",
        "\n",
        "# Number of trees to try\n",
        "n_estimators_list = [10, 50, 100, 200]\n",
        "\n",
        "for n_estimators in n_estimators_list:\n",
        "    # Create a Random Forest Classifier\n",
        "    rf_classifier = RandomForestClassifier(n_estimators=n_estimators, random_state=42)\n",
        "\n",
        "    # Train the classifier\n",
        "    rf_classifier.fit(X_train, y_train)\n",
        "\n",
        "    # Make predictions on the test set\n",
        "    y_pred = rf_classifier.predict(X_test)\n",
        "\n",
        "    # Calculate and print the accuracy\n",
        "    accuracy = accuracy_score(y_test, y_pred)\n",
        "    print(f\"Number of trees: {n_estimators}, Accuracy: {accuracy}\")\n"
      ],
      "metadata": {
        "colab": {
          "base_uri": "https://localhost:8080/"
        },
        "id": "h2gtqp5MfsTI",
        "outputId": "31b4c5c7-c8c4-4e28-962e-06b0a2a7d84c"
      },
      "execution_count": null,
      "outputs": [
        {
          "output_type": "stream",
          "name": "stdout",
          "text": [
            "Number of trees: 10, Accuracy: 0.956140350877193\n",
            "Number of trees: 50, Accuracy: 0.9649122807017544\n",
            "Number of trees: 100, Accuracy: 0.9649122807017544\n",
            "Number of trees: 200, Accuracy: 0.9649122807017544\n"
          ]
        }
      ]
    },
    {
      "cell_type": "markdown",
      "source": [
        "Q28. Train a Bagging Classifier using Logistic Regression as a base estimator and print AUC score."
      ],
      "metadata": {
        "id": "KsQYQMQgfsfn"
      }
    },
    {
      "cell_type": "code",
      "source": [
        "# Train a Bagging Classifier using Logistic Regression as a base estimator and print AUC score\n",
        "\n",
        "import pandas as pd\n",
        "from sklearn.linear_model import LogisticRegression\n",
        "from sklearn.metrics import roc_auc_score\n",
        "\n",
        "# Sample dataset (replace with your actual data)\n",
        "# Increased the dataset size and introduced more variability in the target\n",
        "data = {'feature1': [1, 2, 3, 4, 5, 6, 7, 8, 9, 10, 11, 12, 13, 14, 15],\n",
        "        'feature2': [10, 9, 8, 7, 6, 5, 4, 3, 2, 1, 11, 12, 13, 14, 15],\n",
        "        'target': [0, 0, 0, 0, 1, 1, 1, 1, 0, 1, 0, 1, 0, 1, 0]}\n",
        "df = pd.DataFrame(data)\n",
        "\n",
        "# Separate features and target\n",
        "X = df[['feature1', 'feature2']]\n",
        "y = df['target']\n",
        "\n",
        "# Split data into training and testing sets\n",
        "X_train, X_test, y_train, y_test = train_test_split(X, y, test_size=0.2, random_state=42)\n",
        "\n",
        "# Create a Bagging Classifier with Logistic Regression as the base estimator\n",
        "bagging_clf = BaggingClassifier(estimator=LogisticRegression(), n_estimators=10, random_state=42)\n",
        "\n",
        "# Train the classifier\n",
        "bagging_clf.fit(X_train, y_train)\n",
        "\n",
        "# Make predictions on the test set\n",
        "y_pred_proba = bagging_clf.predict_proba(X_test)[:, 1]\n",
        "\n",
        "# Calculate and print the AUC score\n",
        "auc = roc_auc_score(y_test, y_pred_proba)\n",
        "print(f\"AUC Score: {auc}\")\n"
      ],
      "metadata": {
        "colab": {
          "base_uri": "https://localhost:8080/"
        },
        "id": "gw1Eu96DfsqF",
        "outputId": "684c6ffe-5574-4cef-d1ee-54b362e57c97"
      },
      "execution_count": null,
      "outputs": [
        {
          "output_type": "stream",
          "name": "stdout",
          "text": [
            "AUC Score: 1.0\n"
          ]
        }
      ]
    },
    {
      "cell_type": "markdown",
      "source": [
        "Q29. Train a Random Forest Regressor and analyze feature importance scores."
      ],
      "metadata": {
        "id": "c-vAfWqsfs0-"
      }
    },
    {
      "cell_type": "code",
      "source": [
        "# Train a Random Forest Regressor and analyze feature importance scores\n",
        "\n",
        "import pandas as pd\n",
        "import numpy as np\n",
        "from sklearn.model_selection import train_test_split\n",
        "from sklearn.ensemble import RandomForestRegressor\n",
        "from sklearn.datasets import make_regression\n",
        "\n",
        "# Generate a sample dataset (replace with your actual data)\n",
        "X, y = make_regression(n_samples=100, n_features=10, n_informative=5, random_state=42)\n",
        "\n",
        "# Split the data into training and testing sets\n",
        "X_train, X_test, y_train, y_test = train_test_split(X, y, test_size=0.2, random_state=42)\n",
        "\n",
        "# Initialize and train a Random Forest Regressor\n",
        "rf_regressor = RandomForestRegressor(n_estimators=100, random_state=42)\n",
        "rf_regressor.fit(X_train, y_train)\n",
        "\n",
        "# Get feature importances\n",
        "feature_importances = rf_regressor.feature_importances_\n",
        "\n",
        "# Analyze feature importance scores\n",
        "for i, importance in enumerate(feature_importances):\n",
        "    print(f\"Feature {i}: {importance}\")\n",
        "\n",
        "# You can further analyze the feature importances by:\n",
        "# 1. Sorting them in descending order to identify the most important features.\n",
        "# 2. Visualizing them using a bar chart or other suitable plot.\n",
        "# 3. Using the feature importances to perform feature selection.\n"
      ],
      "metadata": {
        "colab": {
          "base_uri": "https://localhost:8080/"
        },
        "id": "dq3oeQzHftCF",
        "outputId": "541dcd49-6ae1-4188-dd1d-22f72cddad6c"
      },
      "execution_count": null,
      "outputs": [
        {
          "output_type": "stream",
          "name": "stdout",
          "text": [
            "Feature 0: 0.013544815404741738\n",
            "Feature 1: 0.43365139336304465\n",
            "Feature 2: 0.46323172285772857\n",
            "Feature 3: 0.014030728474509637\n",
            "Feature 4: 0.019138850710003583\n",
            "Feature 5: 0.012024905691070419\n",
            "Feature 6: 0.012238615146632176\n",
            "Feature 7: 0.011283795135293878\n",
            "Feature 8: 0.013120994207303595\n",
            "Feature 9: 0.007734179009671741\n"
          ]
        }
      ]
    },
    {
      "cell_type": "markdown",
      "source": [
        "Q30. Train an ensemble model using both Bagging and Random Forest and compare accuracy."
      ],
      "metadata": {
        "id": "ymEUfDC3ftMm"
      }
    },
    {
      "cell_type": "code",
      "source": [
        "# Train an ensemble model using both Bagging and Random Forest and compare accuracy\n",
        "\n",
        "import pandas as pd\n",
        "from sklearn.model_selection import train_test_split\n",
        "from sklearn.ensemble import BaggingClassifier, RandomForestClassifier\n",
        "from sklearn.tree import DecisionTreeClassifier\n",
        "from sklearn.metrics import accuracy_score\n",
        "from sklearn.datasets import load_breast_cancer\n",
        "\n",
        "# Load the breast cancer dataset\n",
        "data = load_breast_cancer()\n",
        "X, y = data.data, data.target\n",
        "\n",
        "# Split data into training and testing sets\n",
        "X_train, X_test, y_train, y_test = train_test_split(X, y, test_size=0.2, random_state=42)\n",
        "\n",
        "# Bagging Classifier with Decision Tree as base estimator\n",
        "bagging_clf = BaggingClassifier(estimator=DecisionTreeClassifier(), n_estimators=100, random_state=42)\n",
        "bagging_clf.fit(X_train, y_train)\n",
        "bagging_predictions = bagging_clf.predict(X_test)\n",
        "bagging_accuracy = accuracy_score(y_test, bagging_predictions)\n",
        "print(f\"Bagging Classifier Accuracy: {bagging_accuracy}\")\n",
        "\n",
        "# Random Forest Classifier\n",
        "rf_classifier = RandomForestClassifier(n_estimators=100, random_state=42)\n",
        "rf_classifier.fit(X_train, y_train)\n",
        "rf_predictions = rf_classifier.predict(X_test)\n",
        "rf_accuracy = accuracy_score(y_test, rf_predictions)\n",
        "print(f\"Random Forest Classifier Accuracy: {rf_accuracy}\")\n"
      ],
      "metadata": {
        "colab": {
          "base_uri": "https://localhost:8080/"
        },
        "id": "v5WVlv_AftXW",
        "outputId": "4085deeb-ebf9-4b63-c581-d410ea221670"
      },
      "execution_count": null,
      "outputs": [
        {
          "output_type": "stream",
          "name": "stdout",
          "text": [
            "Bagging Classifier Accuracy: 0.956140350877193\n",
            "Random Forest Classifier Accuracy: 0.9649122807017544\n"
          ]
        }
      ]
    },
    {
      "cell_type": "markdown",
      "source": [
        "Q31. Train a Random Forest Classifier and tune hyperparameters using GridSearchCV."
      ],
      "metadata": {
        "id": "guzVhmp8hi0r"
      }
    },
    {
      "cell_type": "code",
      "source": [
        "# Train a Random Forest Classifier and tune hyperparameters using GridSearchCV\n",
        "\n",
        "from sklearn.model_selection import GridSearchCV\n",
        "from sklearn.ensemble import RandomForestClassifier\n",
        "from sklearn.datasets import load_breast_cancer\n",
        "from sklearn.model_selection import train_test_split\n",
        "\n",
        "# Load the breast cancer dataset\n",
        "data = load_breast_cancer()\n",
        "X, y = data.data, data.target\n",
        "\n",
        "# Split data into training and testing sets\n",
        "X_train, X_test, y_train, y_test = train_test_split(X, y, test_size=0.2, random_state=42)\n",
        "\n",
        "# Define the parameter grid for hyperparameter tuning\n",
        "param_grid = {\n",
        "    'n_estimators': [50, 100, 200],\n",
        "    'max_depth': [None, 10, 20],\n",
        "    'min_samples_split': [2, 5, 10],\n",
        "    'min_samples_leaf': [1, 2, 4]\n",
        "}\n",
        "\n",
        "# Create a Random Forest Classifier\n",
        "rf_classifier = RandomForestClassifier(random_state=42)\n",
        "\n",
        "# Perform GridSearchCV to find the best hyperparameters\n",
        "grid_search = GridSearchCV(estimator=rf_classifier, param_grid=param_grid, cv=5, scoring='accuracy')\n",
        "grid_search.fit(X_train, y_train)\n",
        "\n",
        "# Print the best hyperparameters and the corresponding accuracy score\n",
        "print(\"Best Hyperparameters:\", grid_search.best_params_)\n",
        "print(\"Best Accuracy Score:\", grid_search.best_score_)\n",
        "\n",
        "# Evaluate the best model on the test set\n",
        "best_rf_classifier = grid_search.best_estimator_\n",
        "test_accuracy = best_rf_classifier.score(X_test, y_test)\n",
        "print(\"Test Accuracy:\", test_accuracy)\n"
      ],
      "metadata": {
        "colab": {
          "base_uri": "https://localhost:8080/"
        },
        "id": "9N8jvw4hhi8N",
        "outputId": "3183ab18-25e8-45b7-a3fc-8ae894aa1229"
      },
      "execution_count": null,
      "outputs": [
        {
          "output_type": "stream",
          "name": "stdout",
          "text": [
            "Best Hyperparameters: {'max_depth': None, 'min_samples_leaf': 1, 'min_samples_split': 2, 'n_estimators': 200}\n",
            "Best Accuracy Score: 0.9626373626373625\n",
            "Test Accuracy: 0.9649122807017544\n"
          ]
        }
      ]
    },
    {
      "cell_type": "markdown",
      "source": [
        "Q32. Train a Bagging Regressor with different numbers of base estimators and compare performance."
      ],
      "metadata": {
        "id": "0Pm0U-iZhjDi"
      }
    },
    {
      "cell_type": "code",
      "source": [
        "import numpy as np\n",
        "from sklearn.ensemble import BaggingRegressor\n",
        "from sklearn.tree import DecisionTreeRegressor\n",
        "from sklearn.model_selection import train_test_split\n",
        "from sklearn.metrics import mean_squared_error\n",
        "# Import make_regression\n",
        "from sklearn.datasets import make_regression\n",
        "\n",
        "# Generate a sample dataset\n",
        "X, y = make_regression(n_samples=100, n_features=10, n_informative=5, random_state=42)\n",
        "X_train, X_test, y_train, y_test = train_test_split(X, y, test_size=0.2, random_state=42)\n",
        "\n",
        "# Number of estimators to try\n",
        "n_estimators_list = [10, 50, 100, 200]\n",
        "\n",
        "for n_estimators in n_estimators_list:\n",
        "    # Create and train a Bagging Regressor\n",
        "    bagging_regressor = BaggingRegressor(n_estimators=n_estimators, random_state=42)\n",
        "    bagging_regressor.fit(X_train, y_train)\n",
        "\n",
        "    # Make predictions and evaluate performance\n",
        "    y_pred = bagging_regressor.predict(X_test)\n",
        "    mse = mean_squared_error(y_test, y_pred)\n",
        "    print(f\"Number of estimators: {n_estimators}, Mean Squared Error: {mse}\")"
      ],
      "metadata": {
        "id": "Dr4Cn5BhhjO8",
        "colab": {
          "base_uri": "https://localhost:8080/"
        },
        "outputId": "792c0ac9-dab1-47d7-9d18-b63e5e7c472d"
      },
      "execution_count": null,
      "outputs": [
        {
          "output_type": "stream",
          "name": "stdout",
          "text": [
            "Number of estimators: 10, Mean Squared Error: 2560.457811489844\n",
            "Number of estimators: 50, Mean Squared Error: 2246.8589838983935\n",
            "Number of estimators: 100, Mean Squared Error: 2227.886257266598\n",
            "Number of estimators: 200, Mean Squared Error: 2312.0285304028166\n"
          ]
        }
      ]
    },
    {
      "cell_type": "markdown",
      "source": [
        "Q33. Train a Random Forest Classifier and analyze misclassified samples."
      ],
      "metadata": {
        "id": "UIce5lN-hjWB"
      }
    },
    {
      "cell_type": "code",
      "source": [
        "import pandas as pd\n",
        "from sklearn.model_selection import train_test_split\n",
        "from sklearn.ensemble import RandomForestClassifier\n",
        "from sklearn.datasets import load_breast_cancer\n",
        "from sklearn.metrics import accuracy_score\n",
        "\n",
        "# Load the breast cancer dataset\n",
        "data = load_breast_cancer()\n",
        "X, y = data.data, data.target\n",
        "\n",
        "# Split data into training and testing sets\n",
        "X_train, X_test, y_train, y_test = train_test_split(X, y, test_size=0.2, random_state=42)\n",
        "\n",
        "# Create a Random Forest Classifier\n",
        "rf_classifier = RandomForestClassifier(random_state=42)\n",
        "\n",
        "# Train the classifier\n",
        "rf_classifier.fit(X_train, y_train)\n",
        "\n",
        "# Make predictions on the test set\n",
        "y_pred = rf_classifier.predict(X_test)\n",
        "\n",
        "# Evaluate the model\n",
        "accuracy = accuracy_score(y_test, y_pred)\n",
        "print(f\"Accuracy: {accuracy}\")\n",
        "\n",
        "# Analyze misclassified samples\n",
        "misclassified_indices = y_test != y_pred\n",
        "misclassified_samples = X_test[misclassified_indices]\n",
        "misclassified_true_labels = y_test[misclassified_indices]\n",
        "misclassified_predicted_labels = y_pred[misclassified_indices]\n",
        "\n",
        "# Print or further analyze the misclassified samples\n",
        "print(\"Misclassified Samples:\")\n",
        "for i in range(len(misclassified_samples)):\n",
        "    print(f\"Sample {i + 1}:\")\n",
        "    print(f\"  Features: {misclassified_samples[i]}\")\n",
        "    # Accessing elements of NumPy array directly using index\n",
        "    print(f\"  True Label: {misclassified_true_labels[i]}\")\n",
        "    print(f\"  Predicted Label: {misclassified_predicted_labels[i]}\")"
      ],
      "metadata": {
        "id": "6r-0-r_Dhjfq",
        "colab": {
          "base_uri": "https://localhost:8080/"
        },
        "outputId": "86386649-0d18-4490-f586-82e898b0ab17"
      },
      "execution_count": null,
      "outputs": [
        {
          "output_type": "stream",
          "name": "stdout",
          "text": [
            "Accuracy: 0.9649122807017544\n",
            "Misclassified Samples:\n",
            "Sample 1:\n",
            "  Features: [1.334e+01 1.586e+01 8.649e+01 5.200e+02 1.078e-01 1.535e-01 1.169e-01\n",
            " 6.987e-02 1.942e-01 6.902e-02 2.860e-01 1.016e+00 1.535e+00 1.296e+01\n",
            " 6.794e-03 3.575e-02 3.980e-02 1.383e-02 2.134e-02 4.603e-03 1.553e+01\n",
            " 2.319e+01 9.666e+01 6.149e+02 1.536e-01 4.791e-01 4.858e-01 1.708e-01\n",
            " 3.527e-01 1.016e-01]\n",
            "  True Label: 1\n",
            "  Predicted Label: 0\n",
            "Sample 2:\n",
            "  Features: [1.380e+01 1.579e+01 9.043e+01 5.841e+02 1.007e-01 1.280e-01 7.789e-02\n",
            " 5.069e-02 1.662e-01 6.566e-02 2.787e-01 6.205e-01 1.957e+00 2.335e+01\n",
            " 4.717e-03 2.065e-02 1.759e-02 9.206e-03 1.220e-02 3.130e-03 1.657e+01\n",
            " 2.086e+01 1.103e+02 8.124e+02 1.411e-01 3.542e-01 2.779e-01 1.383e-01\n",
            " 2.589e-01 1.030e-01]\n",
            "  True Label: 0\n",
            "  Predicted Label: 1\n",
            "Sample 3:\n",
            "  Features: [1.396e+01 1.705e+01 9.143e+01 6.024e+02 1.096e-01 1.279e-01 9.789e-02\n",
            " 5.246e-02 1.908e-01 6.130e-02 4.250e-01 8.098e-01 2.563e+00 3.574e+01\n",
            " 6.351e-03 2.679e-02 3.119e-02 1.342e-02 2.062e-02 2.695e-03 1.639e+01\n",
            " 2.207e+01 1.081e+02 8.260e+02 1.512e-01 3.262e-01 3.209e-01 1.374e-01\n",
            " 3.068e-01 7.957e-02]\n",
            "  True Label: 0\n",
            "  Predicted Label: 1\n",
            "Sample 4:\n",
            "  Features: [1.448e+01 2.146e+01 9.425e+01 6.482e+02 9.444e-02 9.947e-02 1.204e-01\n",
            " 4.938e-02 2.075e-01 5.636e-02 4.204e-01 2.220e+00 3.301e+00 3.887e+01\n",
            " 9.369e-03 2.983e-02 5.371e-02 1.761e-02 2.418e-02 3.249e-03 1.621e+01\n",
            " 2.925e+01 1.084e+02 8.089e+02 1.306e-01 1.976e-01 3.349e-01 1.225e-01\n",
            " 3.020e-01 6.846e-02]\n",
            "  True Label: 0\n",
            "  Predicted Label: 1\n"
          ]
        }
      ]
    },
    {
      "cell_type": "markdown",
      "source": [
        "Q34. Train a Bagging Classifier and compare its performance with a single Decision Tree Classifier."
      ],
      "metadata": {
        "id": "CXIeB4chhjpC"
      }
    },
    {
      "cell_type": "code",
      "source": [
        "from sklearn.ensemble import BaggingClassifier # import the BaggingClassifier\n",
        "\n",
        "import pandas as pd\n",
        "from sklearn.model_selection import train_test_split\n",
        "from sklearn.tree import DecisionTreeClassifier\n",
        "from sklearn.metrics import accuracy_score\n",
        "# Sample dataset (replace with your actual data)\n",
        "data = {'feature1': [1, 2, 3, 4, 5, 6, 7, 8, 9, 10],\n",
        "        'feature2': [10, 9, 8, 7, 6, 5, 4, 3, 2, 1],\n",
        "        'target': [0, 0, 0, 0, 1, 1, 1, 1, 1, 1]}\n",
        "df = pd.DataFrame(data)\n",
        "\n",
        "# Separate features and target\n",
        "X = df[['feature1', 'feature2']]\n",
        "y = df['target']\n",
        "\n",
        "# Split data into training and testing sets\n",
        "X_train, X_test, y_train, y_test = train_test_split(X, y, test_size=0.2, random_state=42)\n",
        "\n",
        "# Create a Bagging Classifier with Decision Trees as base estimators\n",
        "# Changed 'base_estimator' to 'estimator'\n",
        "bagging_clf = BaggingClassifier(estimator=DecisionTreeClassifier(), n_estimators=10, random_state=42)\n",
        "\n",
        "# Train the classifier\n",
        "bagging_clf.fit(X_train, y_train)\n",
        "\n",
        "# Make predictions on the test set\n",
        "y_pred = bagging_clf.predict(X_test)\n",
        "\n",
        "# Calculate and print the accuracy\n",
        "accuracy = accuracy_score(y_test, y_pred)\n",
        "print(f\"Model Accuracy: {accuracy}\")"
      ],
      "metadata": {
        "id": "_kjrN5-_hjxE",
        "colab": {
          "base_uri": "https://localhost:8080/"
        },
        "outputId": "d30e5e76-93a3-4384-edb3-3534f42b9bad"
      },
      "execution_count": null,
      "outputs": [
        {
          "output_type": "stream",
          "name": "stdout",
          "text": [
            "Model Accuracy: 1.0\n"
          ]
        }
      ]
    },
    {
      "cell_type": "markdown",
      "source": [
        "Q35. Train a Random Forest Classifier and visualize the confusion matrix."
      ],
      "metadata": {
        "id": "l_qgmNLvhj5K"
      }
    },
    {
      "cell_type": "code",
      "source": [
        "import matplotlib.pyplot as plt\n",
        "import seaborn as sns\n",
        "from sklearn.metrics import confusion_matrix\n",
        "from sklearn.ensemble import RandomForestClassifier # Import RandomForestClassifier\n",
        "from sklearn.datasets import load_breast_cancer # Import load_breast_cancer\n",
        "from sklearn.model_selection import train_test_split # Import train_test_split\n",
        "\n",
        "\n",
        "# Load the breast cancer dataset\n",
        "data = load_breast_cancer()\n",
        "X, y = data.data, data.target\n",
        "\n",
        "# Split data into training and testing sets\n",
        "X_train, X_test, y_train, y_test = train_test_split(X, y, test_size=0.2, random_state=42)\n",
        "\n",
        "# Create a Random Forest Classifier\n",
        "rf_classifier = RandomForestClassifier(random_state=42)\n",
        "\n",
        "# Train the classifier\n",
        "rf_classifier.fit(X_train, y_train)\n",
        "\n",
        "# Make predictions on the test set\n",
        "y_pred = rf_classifier.predict(X_test)\n",
        "\n",
        "# Compute the confusion matrix\n",
        "cm = confusion_matrix(y_test, y_pred)\n",
        "\n",
        "# Visualize the confusion matrix using seaborn\n",
        "plt.figure(figsize=(8, 6))\n",
        "sns.heatmap(cm, annot=True, fmt=\"d\", cmap=\"Blues\",\n",
        "            xticklabels=data.target_names, yticklabels=data.target_names)\n",
        "plt.xlabel(\"Predicted\")\n",
        "plt.ylabel(\"True\")\n",
        "plt.title(\"Confusion Matrix\")\n",
        "plt.show()\n"
      ],
      "metadata": {
        "id": "hVK_PnohhkC8",
        "colab": {
          "base_uri": "https://localhost:8080/",
          "height": 564
        },
        "outputId": "a70c6ad5-b983-45ca-ef0e-5542433cf64a"
      },
      "execution_count": null,
      "outputs": [
        {
          "output_type": "display_data",
          "data": {
            "text/plain": [
              "<Figure size 800x600 with 2 Axes>"
            ],
            "image/png": "[encoded data removed]"
          },
          "metadata": {}
        }
      ]
    },
    {
      "cell_type": "markdown",
      "source": [
        "Q36. Train a Stacking Classifier using Decision Trees, SVM, and Logistic Regression, and compare accuracy."
      ],
      "metadata": {
        "id": "BsfHDWGfhkNL"
      }
    },
    {
      "cell_type": "code",
      "source": [
        "# Import necessary libraries\n",
        "from sklearn.ensemble import StackingClassifier\n",
        "from sklearn.tree import DecisionTreeClassifier\n",
        "from sklearn.svm import SVC\n",
        "from sklearn.linear_model import LogisticRegression\n",
        "from sklearn.model_selection import train_test_split\n",
        "from sklearn.datasets import load_iris\n",
        "from sklearn.metrics import accuracy_score\n",
        "\n",
        "# Load the Iris dataset\n",
        "iris = load_iris()\n",
        "X = iris.data\n",
        "y = iris.target\n",
        "\n",
        "# Split the dataset into training and testing sets\n",
        "X_train, X_test, y_train, y_test = train_test_split(X, y, test_size=0.2, random_state=42)\n",
        "\n",
        "# Define the base models\n",
        "dt_clf = DecisionTreeClassifier(random_state=42)\n",
        "svm_clf = SVC(probability=True, random_state=42)\n",
        "lr_clf = LogisticRegression(max_iter=1000)\n",
        "\n",
        "# Define the stacking classifier\n",
        "stacking_clf = StackingClassifier(estimators=[('dt', dt_clf), ('svm', svm_clf), ('lr', lr_clf)], final_estimator=LogisticRegression(max_iter=1000))\n",
        "\n",
        "# Train the models\n",
        "dt_clf.fit(X_train, y_train)\n",
        "svm_clf.fit(X_train, y_train)\n",
        "lr_clf.fit(X_train, y_train)\n",
        "stacking_clf.fit(X_train, y_train)\n",
        "\n",
        "# Make predictions\n",
        "dt_pred = dt_clf.predict(X_test)\n",
        "svm_pred = svm_clf.predict(X_test)\n",
        "lr_pred = lr_clf.predict(X_test)\n",
        "stacking_pred = stacking_clf.predict(X_test)\n",
        "\n",
        "# Calculate accuracy\n",
        "dt_accuracy = accuracy_score(y_test, dt_pred)\n",
        "svm_accuracy = accuracy_score(y_test, svm_pred)\n",
        "lr_accuracy = accuracy_score(y_test, lr_pred)\n",
        "stacking_accuracy = accuracy_score(y_test, stacking_pred)\n",
        "\n",
        "# Print accuracy\n",
        "print(\"Decision Tree Accuracy:\", dt_accuracy)\n",
        "print(\"SVM Accuracy:\", svm_accuracy)\n",
        "print(\"Logistic Regression Accuracy:\", lr_accuracy)\n",
        "print(\"Stacking Classifier Accuracy:\", stacking_accuracy)"
      ],
      "metadata": {
        "id": "6dIh_4_qhkWd",
        "colab": {
          "base_uri": "https://localhost:8080/"
        },
        "outputId": "fbc8e9a6-10df-41ac-d8ed-9f9084f0b289"
      },
      "execution_count": null,
      "outputs": [
        {
          "output_type": "stream",
          "name": "stdout",
          "text": [
            "Decision Tree Accuracy: 1.0\n",
            "SVM Accuracy: 1.0\n",
            "Logistic Regression Accuracy: 1.0\n",
            "Stacking Classifier Accuracy: 1.0\n"
          ]
        }
      ]
    },
    {
      "cell_type": "markdown",
      "source": [
        "Q37. Train a Random Forest Classifier and print the top 5 most important features."
      ],
      "metadata": {
        "id": "HLXXlXQnhkfb"
      }
    },
    {
      "cell_type": "code",
      "source": [
        "# prompt: Train a Random Forest Classifier and print the top 5 most important features\n",
        "\n",
        "import pandas as pd\n",
        "from sklearn.model_selection import train_test_split\n",
        "from sklearn.ensemble import RandomForestClassifier\n",
        "from sklearn.datasets import load_breast_cancer\n",
        "\n",
        "# Load the breast cancer dataset\n",
        "data = load_breast_cancer()\n",
        "X, y = data.data, data.target\n",
        "\n",
        "# Split data into training and testing sets\n",
        "X_train, X_test, y_train, y_test = train_test_split(X, y, test_size=0.2, random_state=42)\n",
        "\n",
        "# Create a Random Forest Classifier\n",
        "rf_classifier = RandomForestClassifier(random_state=42)\n",
        "\n",
        "# Train the classifier\n",
        "rf_classifier.fit(X_train, y_train)\n",
        "\n",
        "# Get feature importances\n",
        "feature_importances = rf_classifier.feature_importances_\n",
        "\n",
        "# Get the indices of the top 5 most important features\n",
        "top_5_indices = feature_importances.argsort()[-5:][::-1]\n",
        "\n",
        "# Print the top 5 most important features\n",
        "print(\"Top 5 most important features:\")\n",
        "for i in top_5_indices:\n",
        "    print(f\"{data.feature_names[i]}: {feature_importances[i]}\")\n"
      ],
      "metadata": {
        "id": "q0DYfT0Phknu",
        "colab": {
          "base_uri": "https://localhost:8080/"
        },
        "outputId": "aa6c8828-11e4-4170-e3a2-f75877af3d0c"
      },
      "execution_count": null,
      "outputs": [
        {
          "output_type": "stream",
          "name": "stdout",
          "text": [
            "Top 5 most important features:\n",
            "worst area: 0.15389236463205394\n",
            "worst concave points: 0.14466326620735528\n",
            "mean concave points: 0.10620998844591638\n",
            "worst radius: 0.07798687515738047\n",
            "mean concavity: 0.06800084191430111\n"
          ]
        }
      ]
    },
    {
      "cell_type": "markdown",
      "source": [
        "Q38. Train a Bagging Classifier and evaluate performance using Precision, Recall, and F1-score."
      ],
      "metadata": {
        "id": "lFgjNlDthkxa"
      }
    },
    {
      "cell_type": "code",
      "source": [
        "# Train a Bagging Classifier and evaluate performance using Precision, Recall, and F1-score=\n",
        "\n",
        "from sklearn.metrics import precision_score, recall_score, f1_score\n",
        "from sklearn.ensemble import BaggingClassifier\n",
        "from sklearn.tree import DecisionTreeClassifier\n",
        "from sklearn.model_selection import train_test_split\n",
        "from sklearn.datasets import load_breast_cancer\n",
        "\n",
        "# Load the breast cancer dataset\n",
        "data = load_breast_cancer()\n",
        "X, y = data.data, data.target\n",
        "\n",
        "# Split data into training and testing sets\n",
        "X_train, X_test, y_train, y_test = train_test_split(X, y, test_size=0.2, random_state=42)\n",
        "\n",
        "# Create a Bagging Classifier with Decision Trees as base estimators\n",
        "bagging_clf = BaggingClassifier(estimator=DecisionTreeClassifier(), n_estimators=10, random_state=42)\n",
        "\n",
        "# Train the classifier\n",
        "bagging_clf.fit(X_train, y_train)\n",
        "\n",
        "# Make predictions on the test set\n",
        "y_pred = bagging_clf.predict(X_test)\n",
        "\n",
        "# Calculate precision, recall, and F1-score\n",
        "precision = precision_score(y_test, y_pred)\n",
        "recall = recall_score(y_test, y_pred)\n",
        "f1 = f1_score(y_test, y_pred)\n",
        "\n",
        "# Print the results\n",
        "print(f\"Precision: {precision}\")\n",
        "print(f\"Recall: {recall}\")\n",
        "print(f\"F1-score: {f1}\")\n"
      ],
      "metadata": {
        "id": "Jqf-ZnVOhk5d",
        "colab": {
          "base_uri": "https://localhost:8080/"
        },
        "outputId": "c85bda9c-5bb3-4a5d-c451-beb14d1c9234"
      },
      "execution_count": null,
      "outputs": [
        {
          "output_type": "stream",
          "name": "stdout",
          "text": [
            "Precision: 0.9583333333333334\n",
            "Recall: 0.971830985915493\n",
            "F1-score: 0.965034965034965\n"
          ]
        }
      ]
    },
    {
      "cell_type": "markdown",
      "source": [
        "Q39. Train a Random Forest Classifier and analyze the effect of max_depth on accuracy."
      ],
      "metadata": {
        "id": "VneboDO_hlBe"
      }
    },
    {
      "cell_type": "code",
      "source": [
        "# Train a Random Forest Classifier and analyze the effect of max_depth on accuracy\n",
        "\n",
        "from sklearn.metrics import confusion_matrix, precision_score, recall_score, f1_score\n",
        "from sklearn.ensemble import StackingClassifier\n",
        "import matplotlib.pyplot as plt\n",
        "import seaborn as sns\n",
        "\n",
        "\n",
        "# Load the breast cancer dataset\n",
        "data = load_breast_cancer()\n",
        "X, y = data.data, data.target\n",
        "\n",
        "# Split data into training and testing sets\n",
        "X_train, X_test, y_train, y_test = train_test_split(X, y, test_size=0.2, random_state=42)\n",
        "\n",
        "# Max depths to try\n",
        "max_depths = [None, 5, 10, 15, 20]\n",
        "accuracy_scores = []\n",
        "\n",
        "for max_depth in max_depths:\n",
        "    # Create a Random Forest Classifier with the current max_depth\n",
        "    rf_classifier = RandomForestClassifier(max_depth=max_depth, random_state=42)\n",
        "\n",
        "    # Train the classifier\n",
        "    rf_classifier.fit(X_train, y_train)\n",
        "\n",
        "    # Make predictions\n",
        "    y_pred = rf_classifier.predict(X_test)\n",
        "\n",
        "    # Calculate accuracy\n",
        "    accuracy = accuracy_score(y_test, y_pred)\n",
        "    accuracy_scores.append(accuracy)\n",
        "\n",
        "    print(f\"Max depth: {max_depth}, Accuracy: {accuracy}\")\n",
        "\n",
        "# Plot the results (optional)\n",
        "plt.plot(max_depths, accuracy_scores, marker='o')\n",
        "plt.xlabel(\"Max Depth\")\n",
        "plt.ylabel(\"Accuracy\")\n",
        "plt.title(\"Effect of Max Depth on Accuracy\")\n",
        "plt.grid(True)\n",
        "plt.show()\n"
      ],
      "metadata": {
        "id": "4V64USobhlJ8",
        "colab": {
          "base_uri": "https://localhost:8080/",
          "height": 563
        },
        "outputId": "6edfca02-6177-4fb2-b1a6-fcf1152f5130"
      },
      "execution_count": null,
      "outputs": [
        {
          "output_type": "stream",
          "name": "stdout",
          "text": [
            "Max depth: None, Accuracy: 0.9649122807017544\n",
            "Max depth: 5, Accuracy: 0.9649122807017544\n",
            "Max depth: 10, Accuracy: 0.9649122807017544\n",
            "Max depth: 15, Accuracy: 0.9649122807017544\n",
            "Max depth: 20, Accuracy: 0.9649122807017544\n"
          ]
        },
        {
          "output_type": "display_data",
          "data": {
            "text/plain": [
              "<Figure size 640x480 with 1 Axes>"
            ],
            "image/png": "[encoded data removed]"
          },
          "metadata": {}
        }
      ]
    },
    {
      "cell_type": "markdown",
      "source": [
        "Q40. Train a Bagging Regressor using different base estimators (DecisionTree and KNeighbors) and compare\n",
        "performance."
      ],
      "metadata": {
        "id": "Zr1vRwTthlcM"
      }
    },
    {
      "cell_type": "code",
      "source": [
        "# Train a Bagging Regressor using different base estimators (DecisionTree and KNeighbors) and compare\n",
        "# performance\n",
        "\n",
        "from sklearn.neighbors import KNeighborsRegressor\n",
        "from sklearn.metrics import mean_squared_error\n",
        "from sklearn.ensemble import BaggingRegressor\n",
        "from sklearn.tree import DecisionTreeRegressor\n",
        "from sklearn.datasets import make_regression\n",
        "from sklearn.model_selection import train_test_split\n",
        "\n",
        "# Generate a sample dataset\n",
        "X, y = make_regression(n_samples=100, n_features=10, n_informative=5, random_state=42)\n",
        "X_train, X_test, y_train, y_test = train_test_split(X, y, test_size=0.2, random_state=42)\n",
        "\n",
        "# Bagging Regressor with Decision Tree as base estimator\n",
        "bagging_dt_regressor = BaggingRegressor(estimator=DecisionTreeRegressor(), n_estimators=100, random_state=42)\n",
        "bagging_dt_regressor.fit(X_train, y_train)\n",
        "y_pred_dt = bagging_dt_regressor.predict(X_test)\n",
        "mse_dt = mean_squared_error(y_test, y_pred_dt)\n",
        "print(f\"Bagging Regressor (Decision Tree) MSE: {mse_dt}\")\n",
        "\n",
        "# Bagging Regressor with KNeighbors as base estimator\n",
        "bagging_knn_regressor = BaggingRegressor(estimator=KNeighborsRegressor(), n_estimators=100, random_state=42)\n",
        "bagging_knn_regressor.fit(X_train, y_train)\n",
        "y_pred_knn = bagging_knn_regressor.predict(X_test)\n",
        "mse_knn = mean_squared_error(y_test, y_pred_knn)\n",
        "print(f\"Bagging Regressor (KNeighbors) MSE: {mse_knn}\")\n"
      ],
      "metadata": {
        "id": "B0QnYcrphllV",
        "colab": {
          "base_uri": "https://localhost:8080/"
        },
        "outputId": "51ed2a91-0f44-47b9-9084-04467fc13917"
      },
      "execution_count": null,
      "outputs": [
        {
          "output_type": "stream",
          "name": "stdout",
          "text": [
            "Bagging Regressor (Decision Tree) MSE: 2227.886257266598\n",
            "Bagging Regressor (KNeighbors) MSE: 5050.23729553522\n"
          ]
        }
      ]
    },
    {
      "cell_type": "markdown",
      "source": [
        "Q41. Train a Random Forest Classifier and evaluate its performance using ROC-AUC Score."
      ],
      "metadata": {
        "id": "uiEonsSVhlt0"
      }
    },
    {
      "cell_type": "code",
      "source": [
        "# Train a Random Forest Classifier and evaluate its performance using ROC-AUC Score\n",
        "\n",
        "from sklearn.metrics import roc_auc_score\n",
        "from sklearn.ensemble import RandomForestClassifier\n",
        "from sklearn.model_selection import train_test_split\n",
        "from sklearn.datasets import load_breast_cancer\n",
        "\n",
        "# Load the breast cancer dataset\n",
        "data = load_breast_cancer()\n",
        "X, y = data.data, data.target\n",
        "\n",
        "# Split data into training and testing sets\n",
        "X_train, X_test, y_train, y_test = train_test_split(X, y, test_size=0.2, random_state=42)\n",
        "\n",
        "# Create a Random Forest Classifier\n",
        "rf_classifier = RandomForestClassifier(random_state=42)\n",
        "\n",
        "# Train the classifier\n",
        "rf_classifier.fit(X_train, y_train)\n",
        "\n",
        "# Make predictions on the test set\n",
        "y_pred_proba = rf_classifier.predict_proba(X_test)[:, 1]\n",
        "\n",
        "# Calculate and print the ROC-AUC score\n",
        "roc_auc = roc_auc_score(y_test, y_pred_proba)\n",
        "print(f\"ROC-AUC Score: {roc_auc}\")\n"
      ],
      "metadata": {
        "id": "s5SGAEU8hl4P",
        "colab": {
          "base_uri": "https://localhost:8080/"
        },
        "outputId": "d0762ff2-acef-4014-8c6f-1a9e61f49a47"
      },
      "execution_count": null,
      "outputs": [
        {
          "output_type": "stream",
          "name": "stdout",
          "text": [
            "ROC-AUC Score: 0.9952505732066819\n"
          ]
        }
      ]
    },
    {
      "cell_type": "markdown",
      "source": [
        "Q42. Train a Bagging Classifier and evaluate its performance using cross-validation."
      ],
      "metadata": {
        "id": "L8Qe7WdEDpR4"
      }
    },
    {
      "cell_type": "code",
      "source": [
        "# Train a Bagging Classifier and evaluate its performance using cross-validatio.\n",
        "\n",
        "from sklearn.model_selection import cross_val_score\n",
        "\n",
        "# Assuming X and y are already defined from the previous code\n",
        "\n",
        "# Create a Bagging Classifier\n",
        "bagging_clf = BaggingClassifier(estimator=DecisionTreeClassifier(), n_estimators=10, random_state=42)\n",
        "\n",
        "# Perform cross-validation\n",
        "cv_scores = cross_val_score(bagging_clf, X, y, cv=5, scoring='accuracy') # 5-fold cross validation\n",
        "\n",
        "# Print the cross-validation scores\n",
        "print(\"Cross-validation scores:\", cv_scores)\n",
        "\n",
        "# Print the mean and standard deviation of the scores\n",
        "print(f\"Mean accuracy: {cv_scores.mean()}\")\n",
        "print(f\"Standard deviation: {cv_scores.std()}\")\n"
      ],
      "metadata": {
        "colab": {
          "base_uri": "https://localhost:8080/"
        },
        "id": "6fqWivhkDpbo",
        "outputId": "155a8887-ee8e-4f7c-be17-423bfc04e4d5"
      },
      "execution_count": null,
      "outputs": [
        {
          "output_type": "stream",
          "name": "stdout",
          "text": [
            "Cross-validation scores: [0.92982456 0.93859649 0.97368421 0.93859649 0.97345133]\n",
            "Mean accuracy: 0.9508306163639186\n",
            "Standard deviation: 0.01883924263933025\n"
          ]
        }
      ]
    },
    {
      "cell_type": "markdown",
      "source": [
        "Q43. Train a Random Forest Classifier and plot the Precision-Recall curve."
      ],
      "metadata": {
        "id": "AHaQu3PaDpnJ"
      }
    },
    {
      "cell_type": "code",
      "source": [
        "# Train a Random Forest Classifier and plot the Precision-Recall curve\n",
        "\n",
        "from sklearn.metrics import precision_recall_curve, auc\n",
        "import matplotlib.pyplot as plt\n",
        "\n",
        "# Assuming rf_classifier and X_test, y_test are already defined from previous code\n",
        "\n",
        "# Predict probabilities for the positive class\n",
        "y_scores = rf_classifier.predict_proba(X_test)[:, 1]\n",
        "\n",
        "# Compute precision-recall pairs for different probability thresholds\n",
        "precision, recall, thresholds = precision_recall_curve(y_test, y_scores)\n",
        "\n",
        "# Calculate the area under the precision-recall curve (AUC)\n",
        "pr_auc = auc(recall, precision)\n",
        "\n",
        "# Plot the precision-recall curve\n",
        "plt.figure(figsize=(8, 6))\n",
        "plt.plot(recall, precision, label=f'Precision-Recall curve (AUC = {pr_auc:.2f})')\n",
        "plt.xlabel('Recall')\n",
        "plt.ylabel('Precision')\n",
        "plt.title('Precision-Recall Curve')\n",
        "plt.legend(loc='lower left')\n",
        "plt.grid(True)\n",
        "plt.show()\n"
      ],
      "metadata": {
        "colab": {
          "base_uri": "https://localhost:8080/",
          "height": 564
        },
        "id": "8NbgRmJADpvg",
        "outputId": "98ec7f5c-8663-43d9-fb7d-71c02eaad6a9"
      },
      "execution_count": null,
      "outputs": [
        {
          "output_type": "display_data",
          "data": {
            "text/plain": [
              "<Figure size 800x600 with 1 Axes>"
            ],
            "image/png": "[encoded data removed]"
          },
          "metadata": {}
        }
      ]
    },
    {
      "cell_type": "markdown",
      "source": [
        "Q44. Train a Stacking Classifier with Random Forest and Logistic Regression and compare accuracy."
      ],
      "metadata": {
        "id": "5ZXi4R_NDp5e"
      }
    },
    {
      "cell_type": "code",
      "source": [
        "# Import necessary libraries\n",
        "from sklearn.ensemble import RandomForestClassifier\n",
        "from sklearn.linear_model import LogisticRegression\n",
        "from sklearn.model_selection import train_test_split\n",
        "from sklearn.datasets import load_iris\n",
        "from sklearn.ensemble import StackingClassifier\n",
        "from sklearn.metrics import accuracy_score\n",
        "\n",
        "# Load the Iris dataset\n",
        "iris = load_iris()\n",
        "X = iris.data\n",
        "y = iris.target\n",
        "\n",
        "# Split the dataset into training and testing sets\n",
        "X_train, X_test, y_train, y_test = train_test_split(X, y, test_size=0.2, random_state=42)\n",
        "\n",
        "# Define the base models\n",
        "rf_clf = RandomForestClassifier(n_estimators=100, random_state=42)\n",
        "lr_clf = LogisticRegression(max_iter=1000)\n",
        "\n",
        "# Define the stacking classifier\n",
        "stacking_clf = StackingClassifier(estimators=[('rf', rf_clf), ('lr', lr_clf)], final_estimator=LogisticRegression(max_iter=1000))\n",
        "\n",
        "# Train the models\n",
        "rf_clf.fit(X_train, y_train)\n",
        "lr_clf.fit(X_train, y_train)\n",
        "stacking_clf.fit(X_train, y_train)\n",
        "\n",
        "# Make predictions\n",
        "rf_pred = rf_clf.predict(X_test)\n",
        "lr_pred = lr_clf.predict(X_test)\n",
        "stacking_pred = stacking_clf.predict(X_test)\n",
        "\n",
        "# Calculate accuracy\n",
        "rf_accuracy = accuracy_score(y_test, rf_pred)\n",
        "lr_accuracy = accuracy_score(y_test, lr_pred)\n",
        "stacking_accuracy = accuracy_score(y_test, stacking_pred)\n",
        "\n",
        "# Print accuracy\n",
        "print(\"Random Forest Accuracy:\", rf_accuracy)\n",
        "print(\"Logistic Regression Accuracy:\", lr_accuracy)\n",
        "print(\"Stacking Classifier Accuracy:\", stacking_accuracy)\n"
      ],
      "metadata": {
        "colab": {
          "base_uri": "https://localhost:8080/"
        },
        "id": "NiqAoJU4DqCg",
        "outputId": "c9322811-d345-49de-f18c-363c22939e2b"
      },
      "execution_count": null,
      "outputs": [
        {
          "output_type": "stream",
          "name": "stdout",
          "text": [
            "Random Forest Accuracy: 1.0\n",
            "Logistic Regression Accuracy: 1.0\n",
            "Stacking Classifier Accuracy: 1.0\n"
          ]
        }
      ]
    },
    {
      "cell_type": "markdown",
      "source": [
        "Q45. Train a Bagging Regressor with different levels of bootstrap samples and compare performance."
      ],
      "metadata": {
        "id": "dxDsLsVZDqKp"
      }
    },
    {
      "cell_type": "code",
      "source": [
        "# prompt: Train a Bagging Regressor with different levels of bootstrap samples and compare performance.\n",
        "\n",
        "from sklearn.ensemble import BaggingRegressor\n",
        "from sklearn.tree import DecisionTreeRegressor\n",
        "from sklearn.metrics import mean_squared_error\n",
        "from sklearn.model_selection import train_test_split\n",
        "from sklearn.datasets import make_regression\n",
        "\n",
        "# Generate a sample dataset\n",
        "X, y = make_regression(n_samples=100, n_features=10, n_informative=5, random_state=42)\n",
        "X_train, X_test, y_train, y_test = train_test_split(X, y, test_size=0.2, random_state=42)\n",
        "\n",
        "# Bootstrap sample ratios to try\n",
        "bootstrap_ratios = [0.5, 0.7, 0.9, 1.0]\n",
        "\n",
        "for ratio in bootstrap_ratios:\n",
        "    # Create and train a Bagging Regressor\n",
        "    bagging_regressor = BaggingRegressor(n_estimators=100, max_samples=ratio, random_state=42)\n",
        "    bagging_regressor.fit(X_train, y_train)\n",
        "\n",
        "    # Make predictions and evaluate performance\n",
        "    y_pred = bagging_regressor.predict(X_test)\n",
        "    mse = mean_squared_error(y_test, y_pred)\n",
        "    print(f\"Bootstrap ratio: {ratio}, Mean Squared Error: {mse}\")\n"
      ],
      "metadata": {
        "colab": {
          "base_uri": "https://localhost:8080/"
        },
        "id": "mKERQF8QDqUx",
        "outputId": "0323ba45-a201-4947-b83b-dc04b2bc21de"
      },
      "execution_count": null,
      "outputs": [
        {
          "output_type": "stream",
          "name": "stdout",
          "text": [
            "Bootstrap ratio: 0.5, Mean Squared Error: 2703.3028426828046\n",
            "Bootstrap ratio: 0.7, Mean Squared Error: 2197.269999873991\n",
            "Bootstrap ratio: 0.9, Mean Squared Error: 2119.600573032166\n",
            "Bootstrap ratio: 1.0, Mean Squared Error: 2227.886257266598\n"
          ]
        }
      ]
    }
  ]
}
