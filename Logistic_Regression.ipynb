{
  "nbformat": 4,
  "nbformat_minor": 0,
  "metadata": {
    "colab": {
      "provenance": [],
      "authorship_tag": "ABX9TyM19b2B4z6KpyviZa0tbDmQ",
      "include_colab_link": true
    },
    "kernelspec": {
      "name": "python3",
      "display_name": "Python 3"
    },
    "language_info": {
      "name": "python"
    }
  },
  "cells": [
    {
      "cell_type": "markdown",
      "metadata": {
        "id": "view-in-github",
        "colab_type": "text"
      },
      "source": [
        "<a href=\"https://colab.research.google.com/github/HEMALATHA-jpg/function/blob/main/Hema_Logistic_Regression.ipynb\" target=\"_parent\"><img src=\"https://colab.research.google.com/assets/colab-badge.svg\" alt=\"Open In Colab\"/></a>"
      ]
    },
    {
      "cell_type": "markdown",
      "source": [
        "#Theoretical"
      ],
      "metadata": {
        "id": "yWzcb9DT0rXy"
      }
    },
    {
      "cell_type": "markdown",
      "source": [
        "1. What is Logistic Regression, and how does it differ from Linear Regression.\n",
        "\n",
        "ANS-> ogistic Regression and Linear Regression are two fundamental algorithms in Machine Learning, used for predicting continuous and categorical outcomes, respectively.\n",
        "\n",
        "Linear Regression:\n",
        "\n",
        "Linear Regression is a supervised learning algorithm used for predicting continuous outcomes, such as stock prices, temperatures, or salaries. It models the relationship between a dependent variable (target) and one or more independent variables (features) using a linear equation.\n",
        "\n",
        "The goal of Linear Regression is to find the best-fitting line that minimizes the difference between predicted and actual values.\n",
        "\n",
        "Logistic Regression:\n",
        "\n",
        "Logistic Regression, also known as Logit Regression, is a supervised learning algorithm used for predicting categorical outcomes, such as 0/1, yes/no, or win/lose. It models the probability of an event occurring based on one or more independent variables.\n",
        "\n",
        "The goal of Logistic Regression is to find the best-fitting curve that separates the classes in the feature space.\n",
        "\n",
        "Key differences:\n",
        "\n",
        "1. Target variable: Linear Regression predicts continuous outcomes, while Logistic Regression predicts categorical outcomes.\n",
        "2. Modeling approach: Linear Regression uses a linear equation, while Logistic Regression uses a logistic function (S-curve) to model the probability of an event.\n",
        "3. Output interpretation: Linear Regression outputs a continuous value, while Logistic Regression outputs a probability between 0 and 1.\n",
        "4. Cost function: Linear Regression uses Mean Squared Error (MSE) or Mean Absolute Error (MAE), while Logistic Regression uses Log Loss (Cross-Entropy Loss)."
      ],
      "metadata": {
        "id": "m_ndTGCw0rjB"
      }
    },
    {
      "cell_type": "markdown",
      "source": [
        "Q2. What is the mathematical equation of Logistic Regression.\n",
        "\n",
        "ANS-> The mathematical equation for Logistic Regression is:\n",
        "\n",
        "p = 1 / (1 + e^(-z))\n",
        "\n",
        "where:\n",
        "\n",
        "p = probability of the positive class (e.g., 1, yes, win)\n",
        "e = base of the natural logarithm (approximately 2.718)\n",
        "z = weighted sum of the input features\n",
        "\n",
        "The weighted sum z is calculated as:\n",
        "\n",
        "z = w0 + w1_x1 + w2_x2 + … + wn*xn\n",
        "\n",
        "where:\n",
        "\n",
        "w0 = bias term\n",
        "wi = weights for each feature\n",
        "xi = input features\n",
        "\n",
        "The logistic function, also known as the sigmoid function, maps the weighted sum z to a probability p between 0 and 1.\n",
        "\n",
        "This equation is used to predict the probability of the positive class, and the predicted class label is typically determined by thresholding the predicted probability (e.g., if p > 0.5, predict 1, otherwise predict 0)."
      ],
      "metadata": {
        "id": "Xli9ZSh90rmp"
      }
    },
    {
      "cell_type": "markdown",
      "source": [
        "Q3. Why do we use the Sigmoid function in Logistic Regression.\n",
        "\n",
        "ANS-> The Sigmoid function, also known as the logistic function, is used in Logistic Regression for several reasons:\n",
        "\n",
        "1. Maps to probabilities: The Sigmoid function maps any real-valued number to a value between 0 and 1, which is ideal for representing probabilities.\n",
        "\n",
        "2. Non-linearity: The Sigmoid function introduces non-linearity to the model, allowing it to learn complex relationships between the features and the target variable.\n",
        "\n",
        "3. Easy to compute: The Sigmoid function is computationally efficient and easy to implement.\n",
        "\n",
        "4. Differentiable: The Sigmoid function is differentiable, which is necessary for computing gradients during backpropagation.\n",
        "\n",
        "5. Interpretability: The output of the Sigmoid function can be interpreted as a probability, making it easy to understand and communicate the results.\n",
        "\n",
        "Mathematically, the Sigmoid function has the following properties:\n",
        "\n",
        "- Sigmoid(−∞) = 0\n",
        "- Sigmoid(0) = 0.5\n",
        "- Sigmoid(∞) = 1\n"
      ],
      "metadata": {
        "id": "2wGPHBcN0rp5"
      }
    },
    {
      "cell_type": "markdown",
      "source": [
        "Q4. What is the cost function of Logistic Regression.\n",
        "\n",
        "ANS-> The cost function of Logistic Regression is called Log Loss, also known as Cross-Entropy Loss. It measures the difference between the predicted probabilities and the actual labels.\n",
        "\n",
        "The Log Loss cost function is defined as:\n",
        "\n",
        "L(y, p) = -[y * log(p) + (1-y) * log(1-p)]\n",
        "\n",
        "where:\n",
        "\n",
        "- L is the Log Loss\n",
        "- y is the actual label (0 or 1)\n",
        "- p is the predicted probability\n",
        "\n",
        "This cost function has several desirable properties:\n",
        "\n",
        "1. Convexity: Log Loss is a convex function, which means it has a single global minimum.\n",
        "2. Differentiability: Log Loss is differentiable, which makes it easy to optimize using gradient-based methods.\n",
        "3. Penalizes confident mistakes: Log Loss penalizes confident mistakes (i.e., predicting 0 when the actual label is 1, or vice versa) more severely than uncertain mistakes.\n",
        "\n",
        "The goal of Logistic Regression is to minimize the Log Loss cost function, which is typically done using gradient descent or other optimization algorithms."
      ],
      "metadata": {
        "id": "IZGpLbbk0rtC"
      }
    },
    {
      "cell_type": "markdown",
      "source": [
        "Q5. What is Regularization in Logistic Regression? Why is it needed?\n",
        "\n",
        "ANS-> Regularization in Logistic Regression is a technique used to prevent overfitting by adding a penalty term to the Log Loss cost function. The penalty term is proportional to the magnitude of the model's coefficients.\n",
        "\n",
        "Why is regularization needed?\n",
        "\n",
        "1. Overfitting: Without regularization, the model may become too complex and fit the noise in the training data, resulting in poor performance on unseen data.\n",
        "2. Multicollinearity: When features are highly correlated, the model may assign large coefficients to some features, leading to unstable estimates.\n",
        "3. Feature selection: Regularization can help select the most relevant features by shrinking the coefficients of less important features.\n",
        "\n",
        "Types of regularization in Logistic Regression:\n",
        "\n",
        "1. L1 Regularization (Lasso): Adds a term proportional to the absolute value of the coefficients.\n",
        "2. L2 Regularization (Ridge): Adds a term proportional to the square of the coefficients.\n",
        "3. Elastic Net Regularization: Combines L1 and L2 regularization.\n",
        "\n",
        "How regularization works:\n",
        "\n",
        "1. The model learns to minimize the Log Loss cost function.\n",
        "2. The regularization term is added to the cost function, penalizing large coefficients.\n",
        "3. The model adjusts its coefficients to balance the fit to the data and the regularization penalty.\n",
        "\n",
        "Regularization helps Logistic Regression models to:\n",
        "\n",
        "1. Reduce overfitting\n",
        "2. Improve generalization\n",
        "3. Select relevant features\n",
        "4. Provide more stable estimates"
      ],
      "metadata": {
        "id": "puhrqNcI0rwR"
      }
    },
    {
      "cell_type": "markdown",
      "source": [
        "Q6. Explain the difference between Lasso, Ridge, and Elastic Net regression.\n",
        "\n",
        "ANS-> Lasso, Ridge, and Elastic Net are three popular regularization techniques used in linear regression to prevent overfitting. The main difference between them lies in the way they penalize the model's coefficients.\n",
        "\n",
        "Lasso Regression (L1 Regularization)\n",
        "- Penalty term: Adds a term proportional to the absolute value of the coefficients (|β|).\n",
        "- Effect: Shrinks some coefficients to zero, effectively selecting a subset of features.\n",
        "- Use case: Feature selection, sparse models, and when there are many irrelevant features.\n",
        "\n",
        "Ridge Regression (L2 Regularization)\n",
        "- Penalty term: Adds a term proportional to the square of the coefficients (β²).\n",
        "- Effect: Shrinks all coefficients by a constant factor, but doesn't set any to zero.\n",
        "- Use case: Reducing multicollinearity, stabilizing estimates, and when all features are relevant.\n",
        "\n",
        "Elastic Net Regression\n",
        "- Penalty term: Combines L1 and L2 penalties (α|β| + (1-α)β²).\n",
        "- Effect: Balances between Lasso's feature selection and Ridge's coefficient shrinkage.\n",
        "- Use case: When there are many features, some of which are correlated, and you want to select the most relevant ones."
      ],
      "metadata": {
        "id": "Pu0dQqlF0rzZ"
      }
    },
    {
      "cell_type": "markdown",
      "source": [
        "Q7. When should we use Elastic Net instead of Lasso or Ridge.\n",
        "\n",
        "ANS-> Use Elastic Net instead of Lasso or Ridge in the following situations:\n",
        "\n",
        "When to prefer Elastic Net over Lasso or Ridge\n",
        "1. Correlated features\n",
        "When features are highly correlated, Lasso may randomly select one of the correlated features, while Ridge will shrink all coefficients equally. Elastic Net balances between these two extremes, selecting the most relevant features while accounting for correlations.\n",
        "\n",
        "2. Many irrelevant features\n",
        "In cases with many irrelevant features, Lasso can be too aggressive, setting many coefficients to zero. Elastic Net can provide a more nuanced approach, shrinking coefficients of irrelevant features while still selecting the most relevant ones.\n",
        "\n",
        "3. Grouped features\n",
        "When features are grouped (e.g., categorical variables with multiple levels), Elastic Net can help select the entire group or a subset of features within the group.\n",
        "\n",
        "4. Interpretability\n",
        "Elastic Net can provide more interpretable results than Lasso or Ridge, as it can identify the most relevant features while accounting for correlations and grouped features.\n",
        "\n",
        "5. Handling high-dimensional data\n",
        "In high-dimensional data (p >> n), Elastic Net can be more effective than Lasso or Ridge in selecting relevant features and handling correlations."
      ],
      "metadata": {
        "id": "2vpS2rfM0r2h"
      }
    },
    {
      "cell_type": "markdown",
      "source": [
        "Q8. What is the impact of the regularization parameter (λ) in Logistic Regression.\n",
        "\n",
        "ANS-> The regularization parameter (λ) in Logistic Regression controls the strength of the regularization term, which adds a penalty to the Log Loss cost function for large coefficients.\n",
        "\n",
        "Impact of λ:\n",
        "\n",
        "1. Large λ: Strong regularization, leading to:\n",
        "    - Coefficients shrunk towards zero.\n",
        "    - Reduced overfitting.\n",
        "    - Simplified model.\n",
        "    - Potential underfitting.\n",
        "2. Small λ: Weak regularization, leading to:\n",
        "    - Coefficients less affected.\n",
        "    - Increased overfitting.\n",
        "    - Complex model.\n",
        "    - Potential better fit to training data.\n",
        "3. Optimal λ: Balances overfitting and underfitting, resulting in:\n",
        "    - Coefficients with optimal magnitude.\n",
        "    - Best generalization performance.\n",
        "\n",
        "Effects on model performance:\n",
        "\n",
        "1. Training accuracy: Decreases as λ increases.\n",
        "2. Validation accuracy: Initially increases, then decreases as λ increases.\n",
        "3. Test accuracy: Optimal value of λ results in best test accuracy.\n",
        "\n",
        "Choosing the optimal λ:\n",
        "\n",
        "1. Cross-validation: Use techniques like k-fold cross-validation to evaluate model performance for different values of λ.\n",
        "2. Grid search: Perform a grid search over a range of λ values to find the optimal one.\n",
        "3. Bayesian optimization: Use Bayesian optimization techniques to efficiently search for the optimal λ.\n"
      ],
      "metadata": {
        "id": "L1CVbiyE0r86"
      }
    },
    {
      "cell_type": "markdown",
      "source": [
        "Q9. What are the key assumptions of Logistic Regression.\n",
        "\n",
        "ANS-> Logistic Regression is a widely used statistical model, but it relies on certain assumptions to ensure accurate and reliable results. Here are the key assumptions of Logistic Regression:\n",
        "\n",
        "1. Binary Dependent Variable: The dependent variable (target) should be binary, meaning it has only two possible outcomes (e.g., 0/1, yes/no, win/lose).\n",
        "2. Independence of Observations: Each observation should be independent of the others, meaning there's no correlation or clustering between observations.\n",
        "3. Linearity in the Log-Odds: The relationship between the independent variables and the log-odds of the dependent variable should be linear.\n",
        "4. No Multicollinearity: Independent variables should not be highly correlated with each other, as this can cause unstable estimates and inflated variance.\n",
        "5. Homoscedasticity: The variance of the residuals should be constant across all levels of the independent variables.\n",
        "6. No Significant Outliers: There should be no significant outliers in the data, as these can affect the accuracy of the model.\n",
        "7. Sufficient Sample Size: The sample size should be sufficient to provide reliable estimates of the model parameters.\n",
        "8. Correct Model Specification: The model should be correctly specified, including the correct functional form and the inclusion of relevant independent variables."
      ],
      "metadata": {
        "id": "HTae2cpT0sAB"
      }
    },
    {
      "cell_type": "markdown",
      "source": [
        "Q10. What are some alternatives to Logistic Regression for classification tasks.\n",
        "\n",
        "ANS-> While Logistic Regression is a popular choice for classification tasks, there are many alternative algorithms that can be more suitable depending on the specific problem and dataset. Here are some alternatives:\n",
        "\n",
        "Alternatives to Logistic Regression\n",
        "1. Decision Trees: Simple, interpretable, and effective for handling categorical features.\n",
        "2. Random Forests: Ensemble method that combines multiple decision trees for improved accuracy and robustness.\n",
        "3. Support Vector Machines (SVMs): Powerful algorithm for handling high-dimensional data and non-linear relationships.\n",
        "4. K-Nearest Neighbors (KNN): Simple, intuitive algorithm for handling non-linear relationships and high-dimensional data.\n",
        "5. Gradient Boosting Machines (GBMs): Ensemble method that combines multiple weak models for improved accuracy and robustness.\n",
        "6. Neural Networks: Powerful algorithm for handling complex, non-linear relationships and high-dimensional data.\n",
        "7. Naive Bayes: Simple, probabilistic algorithm for handling categorical features and high-dimensional data.\n",
        "8. Discriminant Analysis: Linear or quadratic algorithm for handling high-dimensional data and non-linear relationships.\n",
        "\n",
        "Choosing an Alternative\n",
        "When selecting an alternative to Logistic Regression, consider the following factors:\n",
        "\n",
        "1. Dataset size and complexity: Larger datasets may require more powerful algorithms like GBMs or Neural Networks.\n",
        "2. Feature types and relationships: Categorical features may require Decision Trees or Naive Bayes, while non-linear relationships may require SVMs or Neural Networks.\n",
        "3. Interpretability and explainability: Decision Trees, Random Forests, and Naive Bayes offer more interpretable results.\n",
        "4. Computational resources: Larger datasets and more complex algorithms may require significant computational resources."
      ],
      "metadata": {
        "id": "DB0FVqjC2kmL"
      }
    },
    {
      "cell_type": "markdown",
      "source": [
        "Q11. What are Classification Evaluation Metrics.\n",
        "\n",
        "ANS-> Classification evaluation metrics are used to assess the performance of a classification model. Here are some common metrics:\n",
        "\n",
        "Accuracy Metrics\n",
        "1. Accuracy: Proportion of correctly classified instances.\n",
        "Formula: Accuracy = (TP + TN) / (TP + TN + FP + FN)\n",
        "2. Error Rate: Proportion of misclassified instances.\n",
        "Formula: Error Rate = (FP + FN) / (TP + TN + FP + FN)\n",
        "\n",
        "Class-Specific Metrics\n",
        "1. Precision: Proportion of true positives among all positive predictions.\n",
        "Formula: Precision = TP / (TP + FP)\n",
        "2. Recall: Proportion of true positives among all actual positive instances.\n",
        "Formula: Recall = TP / (TP + FN)\n",
        "3. F1-Score: Harmonic mean of precision and recall.\n",
        "Formula: F1-Score = 2 * (Precision * Recall) / (Precision + Recall)\n",
        "4. Specificity: Proportion of true negatives among all actual negative instances.\n",
        "Formula: Specificity = TN / (TN + FP)\n",
        "\n",
        "Other Metrics\n",
        "1. ROC-AUC (Receiver Operating Characteristic-Area Under the Curve): Measures the model's ability to distinguish between positive and negative classes.\n",
        "2. Confusion Matrix: A table that summarizes the predictions against the actual outcomes.\n",
        "3. Lift Curve: A graph that shows the model's performance at different thresholds.\n",
        "\n",
        "Threshold-Independent Metrics\n",
        "1. Area Under the Precision-Recall Curve (AUPRC): Measures the model's performance across different thresholds.\n",
        "\n",
        "When to Use Each Metric\n",
        "1. Accuracy: Use when the classes are balanced and the cost of misclassification is equal.\n",
        "2. Precision: Use when the cost of false positives is high.\n",
        "3. Recall: Use when the cost of false negatives is high.\n",
        "4. F1-Score: Use when the classes are imbalanced.\n",
        "5. ROC-AUC: Use when the classes are imbalanced or the cost of misclassification varies.\n"
      ],
      "metadata": {
        "id": "WaAk3Djb2kwL"
      }
    },
    {
      "cell_type": "markdown",
      "source": [
        "Q12. How does class imbalance affect Logistic Regression.\n",
        "\n",
        "ANS-> Class imbalance occurs when the number of instances in one class significantly outweighs the number of instances in another class. This can affect Logistic Regression in several ways:\n",
        "\n",
        "Effects on Logistic Regression:\n",
        "\n",
        "1. Bias towards the majority class: Logistic Regression may become biased towards the majority class, resulting in poor predictive performance on the minority class.\n",
        "2. Inaccurate probability estimates: Class imbalance can lead to inaccurate probability estimates, as the model may overestimate the probability of the majority class and underestimate the probability of the minority class.\n",
        "3. Overfitting to the majority class: The model may overfit to the majority class, resulting in poor generalization performance on the minority class.\n",
        "4. Difficulty in convergence: Class imbalance can cause difficulties in convergence, as the model may oscillate between optimizing for the majority class and the minority class.\n",
        "\n",
        "Consequences:\n",
        "\n",
        "1. Poor predictive performance: Class imbalance can result in poor predictive performance on the minority class, which may be the class of interest.\n",
        "2. Inaccurate decision-making: Inaccurate probability estimates and biased predictions can lead to inaccurate decision-making.\n",
        "3. Lack of generalizability: Overfitting to the majority class can result in a lack of generalizability to new, unseen data.\n",
        "\n",
        "Techniques to address class imbalance:\n",
        "\n",
        "1. Oversampling the minority class: Creating additional instances of the minority class to balance the dataset.\n",
        "2. Undersampling the majority class: Reducing the number of instances in the majority class to balance the dataset.\n",
        "3. SMOTE (Synthetic Minority Over-sampling Technique): Creating synthetic instances of the minority class using interpolation.\n",
        "4. Class weighting: Assigning different weights to the classes during training to balance the loss function.\n",
        "5. Anomaly detection algorithms: Using algorithms specifically designed for anomaly detection, such as One-Class SVM or Local Outlier Factor (LOF)."
      ],
      "metadata": {
        "id": "QaHw1jbK2k0F"
      }
    },
    {
      "cell_type": "markdown",
      "source": [
        "Q13. What is Hyperparameter Tuning in Logistic Regression.\n",
        "\n",
        "ANS-> Hyperparameter tuning is the process of selecting the optimal hyperparameters for a machine learning model, including Logistic Regression. Hyperparameters are parameters that are set before training the model, and they can significantly impact the model's performance.\n",
        "\n",
        "Hyperparameters in Logistic Regression:\n",
        "\n",
        "1. Regularization strength (C or λ): Controls the amount of regularization applied to the model.\n",
        "2. Penalty type (L1 or L2): Specifies the type of regularization penalty used.\n",
        "3. Max iterations: Sets the maximum number of iterations for the optimization algorithm.\n",
        "4. Tolerance: Specifies the convergence tolerance for the optimization algorithm.\n",
        "5. Class weight: Assigns different weights to different classes in the dataset.\n",
        "\n",
        "Hyperparameter tuning techniques:\n",
        "\n",
        "1. Grid search: Exhaustively searches through a predefined grid of hyperparameters.\n",
        "2. Random search: Randomly samples hyperparameters from a predefined distribution.\n",
        "3. Bayesian optimization: Uses a probabilistic approach to search for the optimal hyperparameters.\n",
        "4. Cross-validation: Evaluates the model's performance on unseen data using different hyperparameters.\n",
        "\n",
        "Why hyperparameter tuning is important:\n",
        "\n",
        "1. Improved model performance: Hyperparameter tuning can significantly improve the model's accuracy and performance.\n",
        "2. Avoiding overfitting: Hyperparameter tuning can help avoid overfitting by selecting the optimal regularization strength and other hyperparameters.\n",
        "3. Model interpretability: Hyperparameter tuning can help improve model interpretability by selecting the most relevant features and hyperparameters.\n",
        "\n",
        "Best practices for hyperparameter tuning:\n",
        "\n",
        "1. Use a robust evaluation metric: Use a metric that accurately reflects the model's performance, such as accuracy or F1-score.\n",
        "2. Use a suitable search space: Define a search space that includes a range of plausible hyperparameters.\n",
        "3. Use a efficient search algorithm: Choose a search algorithm that efficiently explores the search space, such as Bayesian optimization or random search.\n",
        "4. Monitor and adjust: Monitor the tuning process and adjust the search space or algorithm as needed."
      ],
      "metadata": {
        "id": "IRBTzT7s2k3F"
      }
    },
    {
      "cell_type": "markdown",
      "source": [
        "Q14. What are different solvers in Logistic Regression? Which one should be used.\n",
        "\n",
        "ANS-> In Logistic Regression, a solver is an optimization algorithm used to find the optimal parameters that minimize the loss function. Here are some common solvers used in Logistic Regression:\n",
        "\n",
        "Solvers in Logistic Regression\n",
        "1. Liblinear: A linear solver that uses the LIBLINEAR library. It's suitable for small to medium-sized datasets.\n",
        "2. SAG (Stochastic Average Gradient): A stochastic solver that uses the average gradient to update the parameters. It's suitable for large datasets.\n",
        "3. SAGA (Stochastic Average Gradient Algorithm): A variant of SAG that uses a different update rule. It's also suitable for large datasets.\n",
        "4. LBFGS (Limited-memory BFGS): A quasi-Newton solver that uses the BFGS algorithm with limited memory. It's suitable for medium to large-sized datasets.\n",
        "5. Newton: A Newton solver that uses the exact Hessian matrix to update the parameters. It's suitable for small to medium-sized datasets.\n",
        "\n",
        "Choosing a Solver\n",
        "When choosing a solver, consider the following factors:\n",
        "\n",
        "1. Dataset size: For small datasets, Liblinear or Newton may be suitable. For large datasets, SAG, SAGA, or LBFGS may be more efficient.\n",
        "2. Computational resources: If computational resources are limited, a stochastic solver like SAG or SAGA may be more suitable.\n",
        "3. Convergence speed: If convergence speed is critical, LBFGS or Newton may be more suitable.\n",
        "4. Regularization: If regularization is used, a solver that can handle regularization, such as Liblinear or LBFGS, may be more suitable.\n",
        "\n",
        "Default Solver\n",
        "The default solver in scikit-learn, a popular Python machine learning library, is Liblinear for small datasets and SAG or SAGA for large datasets.\n",
        "\n",
        "Best Practices\n",
        "1. Start with the default solver: Try the default solver first, and then experiment with other solvers if necessary.\n",
        "2. Monitor convergence: Monitor the convergence of the solver, and adjust the solver or hyperparameters as needed.\n",
        "3. Experiment with different solvers: Try different solvers to see which one works best for your specific problem."
      ],
      "metadata": {
        "id": "K14dodGL2k6U"
      }
    },
    {
      "cell_type": "markdown",
      "source": [
        "Q15. How is Logistic Regression extended for multiclass classification.\n",
        "\n",
        "ANS-> Logistic Regression can be extended for multiclass classification using several techniques:\n",
        "\n",
        "Techniques for Multiclass Classification\n",
        "1. One-vs-All (OvA) Approach\n",
        "In this approach, a separate Logistic Regression model is trained for each class, with the class label as the positive class and all other classes as the negative class. The class with the highest predicted probability is selected as the final prediction.\n",
        "\n",
        "2. One-vs-One (OvO) Approach\n",
        "In this approach, a separate Logistic Regression model is trained for each pair of classes. The class with the highest number of wins is selected as the final prediction.\n",
        "\n",
        "3. Multinomial Logistic Regression\n",
        "This approach extends the traditional Logistic Regression model to handle multiple classes. The model predicts the probability of each class, and the class with the highest probability is selected as the final prediction.\n",
        "\n",
        "4. Softmax Regression\n",
        "Softmax Regression is a special case of Multinomial Logistic Regression. It uses the softmax function to normalize the output probabilities, ensuring that they sum to 1.\n",
        "\n",
        "Key Considerations\n",
        "When extending Logistic Regression for multiclass classification, consider the following:\n",
        "\n",
        "- Number of classes: The choice of technique depends on the number of classes. OvA and OvO are suitable for a small number of classes, while Multinomial Logistic Regression and Softmax Regression are more suitable for a large number of classes.\n",
        "- Class balance: If the classes are imbalanced, techniques like OvA and OvO may not perform well. Multinomial Logistic Regression and Softmax Regression can handle class imbalance more effectively.\n",
        "- Computational complexity: The computational complexity of the techniques varies. OvA and OvO require training multiple models, while Multinomial Logistic Regression and Softmax Regression require training a single model.\n"
      ],
      "metadata": {
        "id": "yVcI2IzY2k9s"
      }
    },
    {
      "cell_type": "markdown",
      "source": [
        "Q16. What are the advantages and disadvantages of Logistic Regression.\n",
        "\n",
        "ANS-> Logistic Regression is a popular machine learning algorithm for binary classification tasks. Here are its advantages and disadvantages:\n",
        "\n",
        "Advantages\n",
        "1. Interpretability: Logistic Regression provides interpretable results, making it easier to understand the relationship between the features and the target variable.\n",
        "2. Easy to implement: Logistic Regression is a simple algorithm to implement, and its implementation is widely available in most machine learning libraries.\n",
        "3. Fast computation: Logistic Regression is computationally efficient and can be trained quickly, even on large datasets.\n",
        "4. Handling categorical variables: Logistic Regression can handle categorical variables directly, without the need for preprocessing.\n",
        "5. Providing probabilities: Logistic Regression provides probabilities for each class, making it easier to evaluate the uncertainty of the predictions.\n",
        "\n",
        "Disadvantages\n",
        "1. Assumes linear relationship: Logistic Regression assumes a linear relationship between the features and the log-odds of the target variable, which may not always be the case.\n",
        "2. Not suitable for complex relationships: Logistic Regression may not be effective in modeling complex relationships between the features and the target variable.\n",
        "3. Sensitive to outliers: Logistic Regression can be sensitive to outliers in the data, which can affect the accuracy of the model.\n",
        "4. Not suitable for multi-class problems: Logistic Regression is typically used for binary classification problems and may not be effective for multi-class problems.\n",
        "5. Can suffer from overfitting: Logistic Regression can suffer from overfitting, especially when the number of features is large compared to the number of samples."
      ],
      "metadata": {
        "id": "jlUGLCwA2lA2"
      }
    },
    {
      "cell_type": "markdown",
      "source": [
        "Q17. What are some use cases of Logistic Regression.\n",
        "\n",
        "ANS-> Logistic Regression is a versatile algorithm that can be applied to various domains and problems. Here are some use cases of Logistic Regression:\n",
        "\n",
        "Use Cases\n",
        "1. Credit Risk Assessment: Predicting the likelihood of loan defaults or credit card defaults based on customer data.\n",
        "2. Medical Diagnosis: Predicting the likelihood of diseases or conditions based on patient data, such as age, sex, and medical history.\n",
        "3. Customer Churn Prediction: Predicting the likelihood of customers switching to a competitor based on their behavior and demographics.\n",
        "4. Spam Detection: Classifying emails as spam or not spam based on their content and metadata.\n",
        "5. Image Classification: Classifying images into different categories, such as objects, scenes, or actions.\n",
        "6. Sentiment Analysis: Predicting the sentiment of text data, such as positive, negative, or neutral.\n",
        "7. Recommendation Systems: Predicting the likelihood of a user liking or disliking a product based on their past behavior.\n",
        "8. Fraud Detection: Predicting the likelihood of fraudulent transactions based on transaction data.\n",
        "9. Marketing Response Prediction: Predicting the likelihood of customers responding to marketing campaigns based on their demographics and behavior.\n",
        "10. Social Media Analysis: Predicting the likelihood of social media posts being engaging or not based on their content and metadata.\n"
      ],
      "metadata": {
        "id": "mt6_8NqC2lEs"
      }
    },
    {
      "cell_type": "markdown",
      "source": [
        "Q18. What is the difference between Softmax Regression and Logistic Regression.\n",
        "\n",
        "ANS-> Softmax Regression and Logistic Regression are both supervised learning algorithms used for classification tasks. However, there are key differences between them:\n",
        "\n",
        "Logistic Regression:\n",
        "\n",
        "1. Binary classification: Logistic Regression is used for binary classification problems, where the target variable has only two classes (e.g., 0/1, yes/no).\n",
        "2. Sigmoid function: Logistic Regression uses the sigmoid function to model the probability of the positive class.\n",
        "3. Output: The output of Logistic Regression is a probability value between 0 and 1, indicating the likelihood of the positive class.\n",
        "\n",
        "Softmax Regression:\n",
        "\n",
        "1. Multi-class classification: Softmax Regression is used for multi-class classification problems, where the target variable has more than two classes (e.g., handwritten digit recognition).\n",
        "2. Softmax function: Softmax Regression uses the softmax function to model the probability distribution over all classes.\n",
        "3. Output: The output of Softmax Regression is a probability distribution over all classes, where each class has a probability value between 0 and 1."
      ],
      "metadata": {
        "id": "tu2QgbGl2lIy"
      }
    },
    {
      "cell_type": "markdown",
      "source": [
        "Q19. How do we choose between One-vs-Rest (OvR) and Softmax for multiclass classification.\n",
        "\n",
        "ANS-> Choosing between One-vs-Rest (OvR) and Softmax for multiclass classification depends on several factors, including the nature of the problem, the number of classes, and the desired output. Here are some guidelines to help you decide:\n",
        "\n",
        "One-vs-Rest (OvR)\n",
        "Advantages\n",
        "1. Easy to implement: OvR is a straightforward extension of binary classification.\n",
        "2. Flexible: Can be used with any binary classification algorithm.\n",
        "\n",
        "Disadvantages\n",
        "1. Class imbalance: OvR can be sensitive to class imbalance, as the binary classifier may be biased towards the majority class.\n",
        "2. Inconsistent predictions: OvR can produce inconsistent predictions, as the binary classifier may predict different classes for the same input.\n",
        "\n",
        "Softmax\n",
        "Advantages\n",
        "1. Multiclass-aware: Softmax is designed for multiclass classification and can handle class imbalance more effectively.\n",
        "2. Consistent predictions: Softmax produces consistent predictions, as the output is a probability distribution over all classes.\n",
        "\n",
        "Disadvantages\n",
        "1. Computationally expensive: Softmax can be computationally expensive, especially for large datasets.\n",
        "2. Assumes mutual exclusivity: Softmax assumes that the classes are mutually exclusive, which may not always be the case.\n",
        "\n",
        "Choosing between OvR and Softmax\n",
        "1. Number of classes: If there are only a few classes (e.g., 3-5), OvR might be sufficient. For larger numbers of classes, Softmax is generally preferred.\n",
        "2. Class imbalance: If the classes are imbalanced, Softmax is more robust and can handle class imbalance more effectively.\n",
        "3. Desired output: If you need a probability distribution over all classes, Softmax is the better choice. If you only need a binary decision, OvR might be sufficient.\n",
        "4. Computational resources: If computational resources are limited, OvR might be faster and more efficient."
      ],
      "metadata": {
        "id": "yP3Unnsv2lNS"
      }
    },
    {
      "cell_type": "markdown",
      "source": [
        "Q20. How do we interpret coefficients in Logistic Regression?\n",
        "\n",
        "ANS-> Interpreting coefficients in Logistic Regression can be a bit tricky, but I'll break it down for you.\n",
        "\n",
        "What do coefficients represent in Logistic Regression?\n",
        "\n",
        "In Logistic Regression, coefficients represent the change in the log-odds of the outcome variable for a one-unit change in the predictor variable, while holding all other predictor variables constant.\n",
        "\n",
        "How to interpret coefficients:\n",
        "\n",
        "1. Positive coefficients: A positive coefficient indicates that an increase in the predictor variable is associated with an increase in the log-odds of the outcome variable. In other words, the predictor variable is positively related to the outcome variable.\n",
        "2. Negative coefficients: A negative coefficient indicates that an increase in the predictor variable is associated with a decrease in the log-odds of the outcome variable. In other words, the predictor variable is negatively related to the outcome variable.\n",
        "3. Magnitude of coefficients: The magnitude of the coefficient represents the strength of the relationship between the predictor variable and the outcome variable. A larger coefficient indicates a stronger relationship.\n",
        "\n",
        "Interpreting coefficients in terms of odds ratios:\n",
        "\n",
        "Odds ratios are often used to interpret the results of Logistic Regression. An odds ratio represents the change in the odds of the outcome variable for a one-unit change in the predictor variable.\n",
        "\n",
        "To calculate the odds ratio, you can exponentiate the coefficient:\n",
        "\n",
        "odds ratio = exp(coefficient)\n",
        "\n",
        "For example, if the coefficient is 0.5, the odds ratio would be:\n",
        "\n",
        "odds ratio = exp(0.5) ≈ 1.65\n",
        "\n",
        "This means that a one-unit increase in the predictor variable is associated with a 65% increase in the odds of the outcome variable.\n",
        "\n",
        "Common mistakes to avoid:\n",
        "\n",
        "1. Interpreting coefficients as probabilities: Coefficients in Logistic Regression represent changes in log-odds, not probabilities.\n",
        "2. Ignoring the non-linear relationship: Logistic Regression assumes a non-linear relationship between the predictor variables and the outcome variable. Ignoring this non-linearity can lead to incorrect interpretations."
      ],
      "metadata": {
        "id": "5TleKW4I4hB9"
      }
    },
    {
      "cell_type": "markdown",
      "source": [
        "# Practical"
      ],
      "metadata": {
        "id": "kbj_lAzr4hTv"
      }
    },
    {
      "cell_type": "markdown",
      "source": [
        "Q1. Write a Python program that loads a dataset, splits it into training and testing sets, applies Logistic\n",
        "Regression, and prints the model accuracy"
      ],
      "metadata": {
        "id": "eB4NFORp4hel"
      }
    },
    {
      "cell_type": "code",
      "source": [
        "# Import necessary libraries\n",
        "from sklearn.datasets import load_iris\n",
        "from sklearn.model_selection import train_test_split\n",
        "from sklearn.linear_model import LogisticRegression\n",
        "from sklearn.metrics import accuracy_score\n",
        "\n",
        "# Load the Iris dataset\n",
        "iris = load_iris()\n",
        "X = iris.data\n",
        "y = iris.target\n",
        "\n",
        "# Split the dataset into training and testing sets\n",
        "X_train, X_test, y_train, y_test = train_test_split(X, y, test_size=0.2, random_state=42)\n",
        "\n",
        "# Create a Logistic Regression object\n",
        "logreg = LogisticRegression(max_iter=1000)\n",
        "\n",
        "# Train the model using the training data\n",
        "logreg.fit(X_train, y_train)\n",
        "\n",
        "# Make predictions on the testing data\n",
        "y_pred = logreg.predict(X_test)\n",
        "\n",
        "# Calculate and print the model accuracy\n",
        "accuracy = accuracy_score(y_test, y_pred)\n",
        "print(f\"Model Accuracy: {accuracy:.2f}\")"
      ],
      "metadata": {
        "colab": {
          "base_uri": "https://localhost:8080/"
        },
        "id": "bjDXx8xE4zZM",
        "outputId": "656ee7c0-f563-4f38-bb6b-1b41d9d7765d"
      },
      "execution_count": 1,
      "outputs": [
        {
          "output_type": "stream",
          "name": "stdout",
          "text": [
            "Model Accuracy: 1.00\n"
          ]
        }
      ]
    },
    {
      "cell_type": "markdown",
      "source": [
        "Q2. Write a Python program to apply L1 regularization (Lasso) on a dataset using LogisticRegression(penalty='l1')\n",
        "and print the model accuracy"
      ],
      "metadata": {
        "id": "m13RbD7I5BFk"
      }
    },
    {
      "cell_type": "code",
      "source": [
        "# Import necessary libraries\n",
        "from sklearn.datasets import load_iris\n",
        "from sklearn.model_selection import train_test_split\n",
        "from sklearn.linear_model import LogisticRegression\n",
        "from sklearn.metrics import accuracy_score\n",
        "import numpy as np\n",
        "\n",
        "# Load the Iris dataset\n",
        "iris = load_iris()\n",
        "X = iris.data\n",
        "y = iris.target\n",
        "\n",
        "# Split the dataset into training and testing sets\n",
        "X_train, X_test, y_train, y_test = train_test_split(X, y, test_size=0.2, random_state=42)\n",
        "\n",
        "# Define the range of regularization strengths (C values)\n",
        "C_values = np.logspace(-4, 4, 20)\n",
        "\n",
        "# Initialize a list to store the model accuracies\n",
        "accuracies = []\n",
        "\n",
        "# Iterate over the range of regularization strengths\n",
        "for C in C_values:\n",
        "    # Create a Logistic Regression object with L1 regularization (Lasso)\n",
        "    logreg_lasso = LogisticRegression(penalty='l1', solver='liblinear', max_iter=1000, C=C)\n",
        "\n",
        "    # Train the model using the training data\n",
        "    logreg_lasso.fit(X_train, y_train)\n",
        "\n",
        "    # Make predictions on the testing data\n",
        "    y_pred_lasso = logreg_lasso.predict(X_test)\n",
        "\n",
        "    # Calculate the model accuracy\n",
        "    accuracy_lasso = accuracy_score(y_test, y_pred_lasso)\n",
        "\n",
        "    # Append the model accuracy to the list\n",
        "    accuracies.append(accuracy_lasso)\n",
        "\n",
        "# Print the model accuracy for each regularization strength\n",
        "for C, accuracy in zip(C_values, accuracies):\n",
        "    print(f\"C={C:.4f}, Accuracy={accuracy:.2f}\")\n",
        "\n",
        "# Find the regularization strength with the highest model accuracy\n",
        "best_C = C_values[np.argmax(accuracies)]\n",
        "best_accuracy = np.max(accuracies)\n",
        "\n",
        "print(f\"\\nBest C value: {best_C:.4f}\")\n",
        "print(f\"Best model accuracy: {best_accuracy:.2f}\")"
      ],
      "metadata": {
        "colab": {
          "base_uri": "https://localhost:8080/"
        },
        "id": "djRKcoE85BSF",
        "outputId": "7a4a4799-8627-44a7-ec11-d4e5785bbdca"
      },
      "execution_count": 2,
      "outputs": [
        {
          "output_type": "stream",
          "name": "stdout",
          "text": [
            "C=0.0001, Accuracy=0.33\n",
            "C=0.0003, Accuracy=0.33\n",
            "C=0.0007, Accuracy=0.33\n",
            "C=0.0018, Accuracy=0.33\n",
            "C=0.0048, Accuracy=0.33\n",
            "C=0.0127, Accuracy=0.37\n",
            "C=0.0336, Accuracy=0.70\n",
            "C=0.0886, Accuracy=0.87\n",
            "C=0.2336, Accuracy=0.87\n",
            "C=0.6158, Accuracy=1.00\n",
            "C=1.6238, Accuracy=1.00\n",
            "C=4.2813, Accuracy=1.00\n",
            "C=11.2884, Accuracy=1.00\n",
            "C=29.7635, Accuracy=1.00\n",
            "C=78.4760, Accuracy=1.00\n",
            "C=206.9138, Accuracy=1.00\n",
            "C=545.5595, Accuracy=1.00\n",
            "C=1438.4499, Accuracy=1.00\n",
            "C=3792.6902, Accuracy=1.00\n",
            "C=10000.0000, Accuracy=1.00\n",
            "\n",
            "Best C value: 0.6158\n",
            "Best model accuracy: 1.00\n"
          ]
        }
      ]
    },
    {
      "cell_type": "markdown",
      "source": [
        "Q3. Write a Python program to train Logistic Regression with L2 regularization (Ridge) using\n",
        "LogisticRegression(penalty='l2'). Print model accuracy and coefficients"
      ],
      "metadata": {
        "id": "GY5GL4-r5Bd7"
      }
    },
    {
      "cell_type": "code",
      "source": [
        "# Import necessary libraries\n",
        "from sklearn.datasets import load_iris\n",
        "from sklearn.model_selection import train_test_split\n",
        "from sklearn.linear_model import LogisticRegression\n",
        "from sklearn.metrics import accuracy_score\n",
        "\n",
        "# Load the Iris dataset\n",
        "iris = load_iris()\n",
        "X = iris.data\n",
        "y = iris.target\n",
        "\n",
        "# Split the dataset into training and testing sets\n",
        "X_train, X_test, y_train, y_test = train_test_split(X, y, test_size=0.2, random_state=42)\n",
        "\n",
        "# Define the range of regularization strengths (C values) and Elastic Net mixing parameter (l1_ratio)\n",
        "C_values = [0.1, 1, 10]\n",
        "l1_ratios = [0.2, 0.5, 0.8]\n",
        "\n",
        "# Iterate over the range of regularization strengths and Elastic Net mixing parameter\n",
        "for C in C_values:\n",
        "    for l1_ratio in l1_ratios:\n",
        "        # Create a Logistic Regression object with Elastic Net Regularization\n",
        "        logreg_elasticnet = LogisticRegression(penalty='elasticnet', solver='saga', max_iter=1000, C=C, l1_ratio=l1_ratio)\n",
        "\n",
        "        # Train the model using the training data\n",
        "        logreg_elasticnet.fit(X_train, y_train)\n",
        "\n",
        "        # Make predictions on the testing data\n",
        "        y_pred_elasticnet = logreg_elasticnet.predict(X_test)\n",
        "\n",
        "        # Calculate the model accuracy\n",
        "        accuracy_elasticnet = accuracy_score(y_test, y_pred_elasticnet)\n",
        "\n",
        "        # Print the model accuracy and coefficients\n",
        "        print(f\"C={C:.2f}, l1_ratio={l1_ratio:.2f}\")\n",
        "        print(f\"Model Accuracy: {accuracy_elasticnet:.2f}\")\n",
        "        print(\"Model Coefficients:\")\n",
        "        print(logreg_elasticnet.coef_)\n",
        "        print()"
      ],
      "metadata": {
        "colab": {
          "base_uri": "https://localhost:8080/"
        },
        "id": "uHeY97DM5Bqz",
        "outputId": "a47c6e60-ee45-4fb3-e5ec-2489c12d90c5"
      },
      "execution_count": 3,
      "outputs": [
        {
          "output_type": "stream",
          "name": "stdout",
          "text": [
            "C=0.10, l1_ratio=0.20\n",
            "Model Accuracy: 1.00\n",
            "Model Coefficients:\n",
            "[[-0.09958041  0.22371508 -1.19124871 -0.33179135]\n",
            " [ 0.         -0.20367772  0.          0.        ]\n",
            " [ 0.02146522  0.          1.03878168  0.54521501]]\n",
            "\n",
            "C=0.10, l1_ratio=0.50\n",
            "Model Accuracy: 1.00\n",
            "Model Coefficients:\n",
            "[[ 0.          0.         -1.42400313  0.        ]\n",
            " [ 0.          0.          0.          0.        ]\n",
            " [ 0.          0.          1.1336803   0.34570875]]\n",
            "\n",
            "C=0.10, l1_ratio=0.80\n",
            "Model Accuracy: 1.00\n",
            "Model Coefficients:\n",
            "[[ 0.          0.         -1.50147117  0.        ]\n",
            " [ 0.          0.          0.          0.        ]\n",
            " [ 0.          0.          1.30557164  0.        ]]\n",
            "\n",
            "C=1.00, l1_ratio=0.20\n",
            "Model Accuracy: 1.00\n",
            "Model Coefficients:\n",
            "[[ 0.16522662  1.39384643 -2.30032112 -0.89813135]\n",
            " [ 0.17213178 -0.17368168 -0.01658117 -0.71401919]\n",
            " [-0.58735749 -0.97016566  2.56635887  1.8621496 ]]\n",
            "\n"
          ]
        },
        {
          "output_type": "stream",
          "name": "stderr",
          "text": [
            "/usr/local/lib/python3.11/dist-packages/sklearn/linear_model/_sag.py:348: ConvergenceWarning: The max_iter was reached which means the coef_ did not converge\n",
            "  warnings.warn(\n",
            "/usr/local/lib/python3.11/dist-packages/sklearn/linear_model/_sag.py:348: ConvergenceWarning: The max_iter was reached which means the coef_ did not converge\n",
            "  warnings.warn(\n",
            "/usr/local/lib/python3.11/dist-packages/sklearn/linear_model/_sag.py:348: ConvergenceWarning: The max_iter was reached which means the coef_ did not converge\n",
            "  warnings.warn(\n"
          ]
        },
        {
          "output_type": "stream",
          "name": "stdout",
          "text": [
            "C=1.00, l1_ratio=0.50\n",
            "Model Accuracy: 1.00\n",
            "Model Coefficients:\n",
            "[[ 0.02834038  1.59696464 -2.42639328 -0.59307696]\n",
            " [ 0.          0.          0.         -0.5045682 ]\n",
            " [-0.77998387 -0.95688689  2.74518055  2.09727018]]\n",
            "\n",
            "C=1.00, l1_ratio=0.80\n",
            "Model Accuracy: 1.00\n",
            "Model Coefficients:\n",
            "[[ 0.          1.8035659  -2.57791166  0.        ]\n",
            " [ 0.          0.          0.          0.        ]\n",
            " [-0.95830244 -1.04382695  3.04789616  2.65369823]]\n",
            "\n",
            "C=10.00, l1_ratio=0.20\n",
            "Model Accuracy: 1.00\n",
            "Model Coefficients:\n",
            "[[ 1.2224184   2.9600623  -4.011481   -1.83427212]\n",
            " [ 0.46649882  0.29986248 -0.12858659 -1.89640296]\n",
            " [-1.82517523 -3.37540389  4.27214954  3.86674833]]\n",
            "\n",
            "C=10.00, l1_ratio=0.50\n",
            "Model Accuracy: 1.00\n",
            "Model Coefficients:\n",
            "[[ 1.16699615  3.08332408 -4.16278141 -1.77360884]\n",
            " [ 0.351271    0.22615397  0.         -1.99702269]\n",
            " [-1.96883112 -3.70217927  4.56322458  4.22098242]]\n",
            "\n",
            "C=10.00, l1_ratio=0.80\n",
            "Model Accuracy: 1.00\n",
            "Model Coefficients:\n",
            "[[ 1.00980698  3.23404584 -4.52921433 -1.64317531]\n",
            " [ 0.14611797  0.02406658  0.         -2.06207287]\n",
            " [-2.25332698 -4.25293126  4.86962511  4.80056845]]\n",
            "\n"
          ]
        },
        {
          "output_type": "stream",
          "name": "stderr",
          "text": [
            "/usr/local/lib/python3.11/dist-packages/sklearn/linear_model/_sag.py:348: ConvergenceWarning: The max_iter was reached which means the coef_ did not converge\n",
            "  warnings.warn(\n"
          ]
        }
      ]
    },
    {
      "cell_type": "markdown",
      "source": [
        "Q4. Write a Python program to train Logistic Regression with Elastic Net Regularization (penalty='elasticnet')"
      ],
      "metadata": {
        "id": "jCgxXQpQ5B4k"
      }
    },
    {
      "cell_type": "code",
      "source": [
        "# Import necessary libraries\n",
        "from sklearn.datasets import load_iris\n",
        "from sklearn.model_selection import train_test_split\n",
        "from sklearn.linear_model import LogisticRegression\n",
        "from sklearn.metrics import accuracy_score, classification_report, confusion_matrix\n",
        "\n",
        "# Load the Iris dataset\n",
        "iris = load_iris()\n",
        "X = iris.data\n",
        "y = iris.target\n",
        "\n",
        "# Split the dataset into training and testing sets\n",
        "X_train, X_test, y_train, y_test = train_test_split(X, y, test_size=0.2, random_state=42)\n",
        "\n",
        "# Define the Elastic Net Regularization parameters\n",
        "C = 1.0\n",
        "l1_ratio = 0.5\n",
        "\n",
        "# Create a Logistic Regression object with Elastic Net Regularization\n",
        "logreg_elasticnet = LogisticRegression(penalty='elasticnet', solver='saga', max_iter=1000, C=C, l1_ratio=l1_ratio)\n",
        "\n",
        "# Train the model using the training data\n",
        "logreg_elasticnet.fit(X_train, y_train)\n",
        "\n",
        "# Make predictions on the testing data\n",
        "y_pred_elasticnet = logreg_elasticnet.predict(X_test)\n",
        "\n",
        "# Evaluate the model\n",
        "accuracy = accuracy_score(y_test, y_pred_elasticnet)\n",
        "print(\"Model Accuracy:\", accuracy)\n",
        "print(\"Classification Report:\")\n",
        "print(classification_report(y_test, y_pred_elasticnet))\n",
        "print(\"Confusion Matrix:\")\n",
        "print(confusion_matrix(y_test, y_pred_elasticnet))\n",
        "\n",
        "# Print the model coefficients\n",
        "print(\"Model Coefficients:\")\n",
        "print(logreg_elasticnet.coef_)"
      ],
      "metadata": {
        "colab": {
          "base_uri": "https://localhost:8080/"
        },
        "id": "r79PWo-d5CIr",
        "outputId": "ee1b9365-e0ce-415d-fc63-3f288c0fc359"
      },
      "execution_count": 4,
      "outputs": [
        {
          "output_type": "stream",
          "name": "stdout",
          "text": [
            "Model Accuracy: 1.0\n",
            "Classification Report:\n",
            "              precision    recall  f1-score   support\n",
            "\n",
            "           0       1.00      1.00      1.00        10\n",
            "           1       1.00      1.00      1.00         9\n",
            "           2       1.00      1.00      1.00        11\n",
            "\n",
            "    accuracy                           1.00        30\n",
            "   macro avg       1.00      1.00      1.00        30\n",
            "weighted avg       1.00      1.00      1.00        30\n",
            "\n",
            "Confusion Matrix:\n",
            "[[10  0  0]\n",
            " [ 0  9  0]\n",
            " [ 0  0 11]]\n",
            "Model Coefficients:\n",
            "[[ 0.02667602  1.59600513 -2.42635306 -0.59295857]\n",
            " [ 0.          0.          0.         -0.50465626]\n",
            " [-0.78002861 -0.95694947  2.7451745   2.09724262]]\n"
          ]
        },
        {
          "output_type": "stream",
          "name": "stderr",
          "text": [
            "/usr/local/lib/python3.11/dist-packages/sklearn/linear_model/_sag.py:348: ConvergenceWarning: The max_iter was reached which means the coef_ did not converge\n",
            "  warnings.warn(\n"
          ]
        }
      ]
    },
    {
      "cell_type": "markdown",
      "source": [
        "Q5. Write a Python program to train a Logistic Regression model for multiclass classification using\n",
        "multi_class='ovr'C"
      ],
      "metadata": {
        "id": "wFlZN5aI5CUN"
      }
    },
    {
      "cell_type": "code",
      "source": [
        "# Import necessary libraries\n",
        "from sklearn.datasets import load_iris\n",
        "from sklearn.model_selection import train_test_split\n",
        "from sklearn.linear_model import LogisticRegression\n",
        "from sklearn.metrics import accuracy_score, classification_report, confusion_matrix\n",
        "\n",
        "# Load the Iris dataset\n",
        "iris = load_iris()\n",
        "X = iris.data\n",
        "y = iris.target\n",
        "\n",
        "# Split the dataset into training and testing sets\n",
        "X_train, X_test, y_train, y_test = train_test_split(X, y, test_size=0.2, random_state=42)\n",
        "\n",
        "# Create a Logistic Regression object for multiclass classification using one-vs-rest (OvR)\n",
        "logreg_ovr = LogisticRegression(multi_class='ovr', max_iter=1000)\n",
        "\n",
        "# Train the model using the training data\n",
        "logreg_ovr.fit(X_train, y_train)\n",
        "\n",
        "# Make predictions on the testing data\n",
        "y_pred_ovr = logreg_ovr.predict(X_test)\n",
        "\n",
        "# Evaluate the model\n",
        "accuracy_ovr = accuracy_score(y_test, y_pred_ovr)\n",
        "print(\"OvR Model Accuracy:\", accuracy_ovr)\n",
        "print(\"Classification Report:\")\n",
        "print(classification_report(y_test, y_pred_ovr))\n",
        "print(\"Confusion Matrix:\")\n",
        "print(confusion_matrix(y_test, y_pred_ovr))\n",
        "\n",
        "# Print the model coefficients\n",
        "print(\"OvR Model Coefficients:\")\n",
        "print(logreg_ovr.coef_)"
      ],
      "metadata": {
        "colab": {
          "base_uri": "https://localhost:8080/"
        },
        "id": "P8aqq8Kt5Ce0",
        "outputId": "3eb49131-9de4-4179-e0dd-8a2019034266"
      },
      "execution_count": 5,
      "outputs": [
        {
          "output_type": "stream",
          "name": "stdout",
          "text": [
            "OvR Model Accuracy: 0.9666666666666667\n",
            "Classification Report:\n",
            "              precision    recall  f1-score   support\n",
            "\n",
            "           0       1.00      1.00      1.00        10\n",
            "           1       1.00      0.89      0.94         9\n",
            "           2       0.92      1.00      0.96        11\n",
            "\n",
            "    accuracy                           0.97        30\n",
            "   macro avg       0.97      0.96      0.97        30\n",
            "weighted avg       0.97      0.97      0.97        30\n",
            "\n",
            "Confusion Matrix:\n",
            "[[10  0  0]\n",
            " [ 0  8  1]\n",
            " [ 0  0 11]]\n",
            "OvR Model Coefficients:\n",
            "[[-0.42762216  0.88771927 -2.21471658 -0.91610036]\n",
            " [-0.03387836 -2.0442989   0.54266011 -1.0179372 ]\n",
            " [-0.38904645 -0.62147609  2.7762982   2.09067085]]\n"
          ]
        },
        {
          "output_type": "stream",
          "name": "stderr",
          "text": [
            "/usr/local/lib/python3.11/dist-packages/sklearn/linear_model/_logistic.py:1256: FutureWarning: 'multi_class' was deprecated in version 1.5 and will be removed in 1.7. Use OneVsRestClassifier(LogisticRegression(..)) instead. Leave it to its default value to avoid this warning.\n",
            "  warnings.warn(\n"
          ]
        }
      ]
    },
    {
      "cell_type": "markdown",
      "source": [
        "Q6. Write a Python program to apply GridSearchCV to tune the hyperparameters (C and penalty) of Logistic\n",
        "Regression. Print the best parameters and accuracyC"
      ],
      "metadata": {
        "id": "2QxBJpNS5Cp1"
      }
    },
    {
      "cell_type": "code",
      "source": [
        "# Import necessary libraries\n",
        "from sklearn.datasets import load_iris\n",
        "from sklearn.model_selection import train_test_split, GridSearchCV\n",
        "from sklearn.linear_model import LogisticRegression\n",
        "from sklearn.metrics import accuracy_score\n",
        "\n",
        "# Load the Iris dataset\n",
        "iris = load_iris()\n",
        "X = iris.data\n",
        "y = iris.target\n",
        "\n",
        "# Split the dataset into training and testing sets\n",
        "X_train, X_test, y_train, y_test = train_test_split(X, y, test_size=0.2, random_state=42)\n",
        "\n",
        "# Define the hyperparameter tuning space\n",
        "param_grid = {\n",
        "    'C': [0.1, 1, 10],\n",
        "    'penalty': ['l1', 'l2']\n",
        "}\n",
        "\n",
        "# Create a Logistic Regression object\n",
        "logreg = LogisticRegression(max_iter=1000)\n",
        "\n",
        "# Create a GridSearchCV object\n",
        "grid_search = GridSearchCV(logreg, param_grid, cv=5)\n",
        "\n",
        "# Perform hyperparameter tuning\n",
        "grid_search.fit(X_train, y_train)\n",
        "\n",
        "# Print the best parameters and accuracy\n",
        "print(\"Best Parameters:\", grid_search.best_params_)\n",
        "print(\"Best Accuracy:\", grid_search.best_score_)\n",
        "\n",
        "# Evaluate the best model on the testing set\n",
        "y_pred = grid_search.best_estimator_.predict(X_test)\n",
        "accuracy = accuracy_score(y_test, y_pred)\n",
        "print(\"Testing Accuracy:\", accuracy)\n"
      ],
      "metadata": {
        "colab": {
          "base_uri": "https://localhost:8080/"
        },
        "id": "JARDwe3b5Cz0",
        "outputId": "5da5894d-cc4c-4d61-e348-a50de6082852"
      },
      "execution_count": 6,
      "outputs": [
        {
          "output_type": "stream",
          "name": "stdout",
          "text": [
            "Best Parameters: {'C': 1, 'penalty': 'l2'}\n",
            "Best Accuracy: 0.9666666666666666\n",
            "Testing Accuracy: 1.0\n"
          ]
        },
        {
          "output_type": "stream",
          "name": "stderr",
          "text": [
            "/usr/local/lib/python3.11/dist-packages/sklearn/model_selection/_validation.py:528: FitFailedWarning: \n",
            "15 fits failed out of a total of 30.\n",
            "The score on these train-test partitions for these parameters will be set to nan.\n",
            "If these failures are not expected, you can try to debug them by setting error_score='raise'.\n",
            "\n",
            "Below are more details about the failures:\n",
            "--------------------------------------------------------------------------------\n",
            "15 fits failed with the following error:\n",
            "Traceback (most recent call last):\n",
            "  File \"/usr/local/lib/python3.11/dist-packages/sklearn/model_selection/_validation.py\", line 866, in _fit_and_score\n",
            "    estimator.fit(X_train, y_train, **fit_params)\n",
            "  File \"/usr/local/lib/python3.11/dist-packages/sklearn/base.py\", line 1389, in wrapper\n",
            "    return fit_method(estimator, *args, **kwargs)\n",
            "           ^^^^^^^^^^^^^^^^^^^^^^^^^^^^^^^^^^^^^^\n",
            "  File \"/usr/local/lib/python3.11/dist-packages/sklearn/linear_model/_logistic.py\", line 1193, in fit\n",
            "    solver = _check_solver(self.solver, self.penalty, self.dual)\n",
            "             ^^^^^^^^^^^^^^^^^^^^^^^^^^^^^^^^^^^^^^^^^^^^^^^^^^^\n",
            "  File \"/usr/local/lib/python3.11/dist-packages/sklearn/linear_model/_logistic.py\", line 63, in _check_solver\n",
            "    raise ValueError(\n",
            "ValueError: Solver lbfgs supports only 'l2' or None penalties, got l1 penalty.\n",
            "\n",
            "  warnings.warn(some_fits_failed_message, FitFailedWarning)\n",
            "/usr/local/lib/python3.11/dist-packages/sklearn/model_selection/_search.py:1108: UserWarning: One or more of the test scores are non-finite: [       nan 0.93333333        nan 0.96666667        nan 0.94166667]\n",
            "  warnings.warn(\n"
          ]
        }
      ]
    },
    {
      "cell_type": "markdown",
      "source": [
        "Q7. Write a Python program to evaluate Logistic Regression using Stratified K-Fold Cross-Validation. Print the\n",
        "average accuracy"
      ],
      "metadata": {
        "id": "dUutuFwX5C-Q"
      }
    },
    {
      "cell_type": "code",
      "source": [
        "# Import necessary libraries\n",
        "from sklearn.datasets import load_iris\n",
        "from sklearn.model_selection import StratifiedKFold\n",
        "from sklearn.linear_model import LogisticRegression\n",
        "from sklearn.metrics import accuracy_score\n",
        "\n",
        "# Load the Iris dataset\n",
        "iris = load_iris()\n",
        "X = iris.data\n",
        "y = iris.target\n",
        "\n",
        "# Create a Stratified K-Fold Cross-Validation object\n",
        "skf = StratifiedKFold(n_splits=5, shuffle=True, random_state=42)\n",
        "\n",
        "# Create a Logistic Regression object\n",
        "logreg = LogisticRegression(max_iter=1000)\n",
        "\n",
        "# Initialize a list to store the accuracy scores\n",
        "accuracies = []\n",
        "\n",
        "# Iterate over the folds\n",
        "for train_index, test_index in skf.split(X, y):\n",
        "    # Split the data into training and testing sets\n",
        "    X_train, X_test = X[train_index], X[test_index]\n",
        "    y_train, y_test = y[train_index], y[test_index]\n",
        "\n",
        "    # Train the model using the training data\n",
        "    logreg.fit(X_train, y_train)\n",
        "\n",
        "    # Make predictions on the testing data\n",
        "    y_pred = logreg.predict(X_test)\n",
        "\n",
        "    # Calculate the accuracy score\n",
        "    accuracy = accuracy_score(y_test, y_pred)\n",
        "\n",
        "    # Append the accuracy score to the list\n",
        "    accuracies.append(accuracy)\n",
        "\n",
        "# Calculate the average accuracy\n",
        "average_accuracy = sum(accuracies) / len(accuracies)\n",
        "\n",
        "# Print the average accuracy\n",
        "print(\"Average Accuracy:\", average_accuracy)"
      ],
      "metadata": {
        "colab": {
          "base_uri": "https://localhost:8080/"
        },
        "id": "AygPeR9Y5DH0",
        "outputId": "9dc4aa3e-aa01-4835-83ed-fd1c4183564c"
      },
      "execution_count": 7,
      "outputs": [
        {
          "output_type": "stream",
          "name": "stdout",
          "text": [
            "Average Accuracy: 0.9666666666666668\n"
          ]
        }
      ]
    },
    {
      "cell_type": "markdown",
      "source": [
        "Q8. Write a Python program to load a dataset from a CSV file, apply Logistic Regression, and evaluate its\n",
        "accuracy."
      ],
      "metadata": {
        "id": "cKg53US15DZq"
      }
    },
    {
      "cell_type": "code",
      "source": [
        "# Install the pandas library if it is not installed\n",
        "!pip install pandas\n",
        "!pip install scikit-learn\n",
        "\n",
        "import pandas as pd\n",
        "from sklearn.model_selection import train_test_split\n",
        "from sklearn.linear_model import LogisticRegression\n",
        "from sklearn.metrics import accuracy_score\n",
        "\n",
        "# Replace 'your_file.csv' with the actual file path\n",
        "file_path = '/content/sample_data/california_housing_test.csv'  # Replace with your actual file path\n",
        "try:\n",
        "    data = pd.read_csv('/content/sample_data/california_housing_test.csv')\n",
        "except FileNotFoundError:\n",
        "    print(f\"Error: '/content/sample_data/california_housing_test.csv' not found. Please provide the correct file path.\")\n",
        "    exit() # This exit() statement should be at the same indentation level as the except block\n",
        "except Exception as e:\n",
        "    print(f\"An error occurred while reading the file: {e}\")\n",
        "    exit() # This exit() statement should be at the same indentation level as the except block\n",
        "\n",
        "# Assuming the last column is the target variable\n",
        "X = data.iloc[:, :-1]\n",
        "y = data.iloc[:, -1]\n",
        "\n",
        "# Convert non-numeric columns to numerical representations using one-hot encoding\n",
        "X = pd.get_dummies(X)\n",
        "\n",
        "# Split the dataset into training and testing sets\n",
        "X_train, X_test, y_train, y_test = train_test_split(X, y, test_size=0.2, random_state=42)\n",
        "\n",
        "# Create a Logistic Regression model\n",
        "model = LogisticRegression(max_iter=1000)\n",
        "\n",
        "# Train the model\n",
        "model.fit(X_train, y_train)\n",
        "\n",
        "# Make predictions on the test set\n",
        "y_pred = model.predict(X_test)\n",
        "\n",
        "# Evaluate the model\n",
        "accuracy = accuracy_score(y_test, y_pred)\n",
        "print(f\"Accuracy: {accuracy}\")"
      ],
      "metadata": {
        "colab": {
          "base_uri": "https://localhost:8080/"
        },
        "id": "2cYB4Ni45Dkv",
        "outputId": "c45d01f3-16fa-457d-af88-d70541774840"
      },
      "execution_count": 3,
      "outputs": [
        {
          "output_type": "stream",
          "name": "stdout",
          "text": [
            "Requirement already satisfied: pandas in /usr/local/lib/python3.11/dist-packages (2.2.2)\n",
            "Requirement already satisfied: numpy>=1.23.2 in /usr/local/lib/python3.11/dist-packages (from pandas) (1.26.4)\n",
            "Requirement already satisfied: python-dateutil>=2.8.2 in /usr/local/lib/python3.11/dist-packages (from pandas) (2.8.2)\n",
            "Requirement already satisfied: pytz>=2020.1 in /usr/local/lib/python3.11/dist-packages (from pandas) (2025.1)\n",
            "Requirement already satisfied: tzdata>=2022.7 in /usr/local/lib/python3.11/dist-packages (from pandas) (2025.1)\n",
            "Requirement already satisfied: six>=1.5 in /usr/local/lib/python3.11/dist-packages (from python-dateutil>=2.8.2->pandas) (1.17.0)\n",
            "Requirement already satisfied: scikit-learn in /usr/local/lib/python3.11/dist-packages (1.6.1)\n",
            "Requirement already satisfied: numpy>=1.19.5 in /usr/local/lib/python3.11/dist-packages (from scikit-learn) (1.26.4)\n",
            "Requirement already satisfied: scipy>=1.6.0 in /usr/local/lib/python3.11/dist-packages (from scikit-learn) (1.13.1)\n",
            "Requirement already satisfied: joblib>=1.2.0 in /usr/local/lib/python3.11/dist-packages (from scikit-learn) (1.4.2)\n",
            "Requirement already satisfied: threadpoolctl>=3.1.0 in /usr/local/lib/python3.11/dist-packages (from scikit-learn) (3.5.0)\n",
            "Accuracy: 0.023333333333333334\n"
          ]
        },
        {
          "output_type": "stream",
          "name": "stderr",
          "text": [
            "/usr/local/lib/python3.11/dist-packages/sklearn/linear_model/_logistic.py:465: ConvergenceWarning: lbfgs failed to converge (status=1):\n",
            "STOP: TOTAL NO. of ITERATIONS REACHED LIMIT.\n",
            "\n",
            "Increase the number of iterations (max_iter) or scale the data as shown in:\n",
            "    https://scikit-learn.org/stable/modules/preprocessing.html\n",
            "Please also refer to the documentation for alternative solver options:\n",
            "    https://scikit-learn.org/stable/modules/linear_model.html#logistic-regression\n",
            "  n_iter_i = _check_optimize_result(\n"
          ]
        }
      ]
    },
    {
      "cell_type": "markdown",
      "source": [
        "Q9. Write a Python program to apply RandomizedSearchCV for tuning hyperparameters (C, penalty, solver) in\n",
        "Logistic Regression. Print the best parameters and accuracyM"
      ],
      "metadata": {
        "id": "MJVQ2Wub5D2O"
      }
    },
    {
      "cell_type": "code",
      "source": [
        "# Import necessary libraries\n",
        "from sklearn.datasets import load_iris\n",
        "from sklearn.model_selection import train_test_split, RandomizedSearchCV\n",
        "from sklearn.linear_model import LogisticRegression\n",
        "from sklearn.metrics import accuracy_score\n",
        "\n",
        "# Load the Iris dataset\n",
        "iris = load_iris()\n",
        "X = iris.data\n",
        "y = iris.target\n",
        "\n",
        "# Split the dataset into training and testing sets\n",
        "X_train, X_test, y_train, y_test = train_test_split(X, y, test_size=0.2, random_state=42)\n",
        "\n",
        "# Define the hyperparameter tuning space\n",
        "param_grid = {\n",
        "    'C': [0.1, 1, 10],\n",
        "    'penalty': ['l1', 'l2'],\n",
        "    'solver': ['liblinear', 'saga']\n",
        "}\n",
        "\n",
        "# Create a Logistic Regression object\n",
        "logreg = LogisticRegression(max_iter=1000)\n",
        "\n",
        "# Create a RandomizedSearchCV object\n",
        "random_search = RandomizedSearchCV(logreg, param_grid, cv=5, n_iter=10, random_state=42)\n",
        "\n",
        "# Perform hyperparameter tuning\n",
        "random_search.fit(X_train, y_train)\n",
        "\n",
        "# Print the best parameters and accuracy\n",
        "print(\"Best Parameters:\", random_search.best_params_)\n",
        "print(\"Best Accuracy:\", random_search.best_score_)\n",
        "\n",
        "# Evaluate the best model on the testing set\n",
        "y_pred = random_search.best_estimator_.predict(X_test)\n",
        "accuracy = accuracy_score(y_test, y_pred)\n",
        "print(\"Testing Accuracy:\", accuracy)"
      ],
      "metadata": {
        "colab": {
          "base_uri": "https://localhost:8080/"
        },
        "id": "T7_D_cjo5EAE",
        "outputId": "b6c0b3cc-fcbe-44f9-84fa-e6aa4bfbd8c4"
      },
      "execution_count": 4,
      "outputs": [
        {
          "output_type": "stream",
          "name": "stderr",
          "text": [
            "/usr/local/lib/python3.11/dist-packages/sklearn/linear_model/_sag.py:348: ConvergenceWarning: The max_iter was reached which means the coef_ did not converge\n",
            "  warnings.warn(\n",
            "/usr/local/lib/python3.11/dist-packages/sklearn/linear_model/_sag.py:348: ConvergenceWarning: The max_iter was reached which means the coef_ did not converge\n",
            "  warnings.warn(\n",
            "/usr/local/lib/python3.11/dist-packages/sklearn/linear_model/_sag.py:348: ConvergenceWarning: The max_iter was reached which means the coef_ did not converge\n",
            "  warnings.warn(\n",
            "/usr/local/lib/python3.11/dist-packages/sklearn/linear_model/_sag.py:348: ConvergenceWarning: The max_iter was reached which means the coef_ did not converge\n",
            "  warnings.warn(\n",
            "/usr/local/lib/python3.11/dist-packages/sklearn/linear_model/_sag.py:348: ConvergenceWarning: The max_iter was reached which means the coef_ did not converge\n",
            "  warnings.warn(\n",
            "/usr/local/lib/python3.11/dist-packages/sklearn/linear_model/_sag.py:348: ConvergenceWarning: The max_iter was reached which means the coef_ did not converge\n",
            "  warnings.warn(\n",
            "/usr/local/lib/python3.11/dist-packages/sklearn/linear_model/_sag.py:348: ConvergenceWarning: The max_iter was reached which means the coef_ did not converge\n",
            "  warnings.warn(\n",
            "/usr/local/lib/python3.11/dist-packages/sklearn/linear_model/_sag.py:348: ConvergenceWarning: The max_iter was reached which means the coef_ did not converge\n",
            "  warnings.warn(\n",
            "/usr/local/lib/python3.11/dist-packages/sklearn/linear_model/_sag.py:348: ConvergenceWarning: The max_iter was reached which means the coef_ did not converge\n",
            "  warnings.warn(\n",
            "/usr/local/lib/python3.11/dist-packages/sklearn/linear_model/_sag.py:348: ConvergenceWarning: The max_iter was reached which means the coef_ did not converge\n",
            "  warnings.warn(\n"
          ]
        },
        {
          "output_type": "stream",
          "name": "stdout",
          "text": [
            "Best Parameters: {'solver': 'saga', 'penalty': 'l2', 'C': 10}\n",
            "Best Accuracy: 0.9666666666666668\n",
            "Testing Accuracy: 1.0\n"
          ]
        },
        {
          "output_type": "stream",
          "name": "stderr",
          "text": [
            "/usr/local/lib/python3.11/dist-packages/sklearn/linear_model/_sag.py:348: ConvergenceWarning: The max_iter was reached which means the coef_ did not converge\n",
            "  warnings.warn(\n",
            "/usr/local/lib/python3.11/dist-packages/sklearn/linear_model/_sag.py:348: ConvergenceWarning: The max_iter was reached which means the coef_ did not converge\n",
            "  warnings.warn(\n",
            "/usr/local/lib/python3.11/dist-packages/sklearn/linear_model/_sag.py:348: ConvergenceWarning: The max_iter was reached which means the coef_ did not converge\n",
            "  warnings.warn(\n",
            "/usr/local/lib/python3.11/dist-packages/sklearn/linear_model/_sag.py:348: ConvergenceWarning: The max_iter was reached which means the coef_ did not converge\n",
            "  warnings.warn(\n",
            "/usr/local/lib/python3.11/dist-packages/sklearn/linear_model/_sag.py:348: ConvergenceWarning: The max_iter was reached which means the coef_ did not converge\n",
            "  warnings.warn(\n"
          ]
        }
      ]
    },
    {
      "cell_type": "markdown",
      "source": [
        "Q10. Write a Python program to implement One-vs-One (OvO) Multiclass Logistic Regression and print accuracy."
      ],
      "metadata": {
        "id": "vxSRQi0GE27W"
      }
    },
    {
      "cell_type": "code",
      "source": [
        "# Import necessary libraries\n",
        "from sklearn.datasets import load_iris\n",
        "from sklearn.model_selection import train_test_split\n",
        "from sklearn.linear_model import LogisticRegression\n",
        "from sklearn.metrics import accuracy_score\n",
        "from sklearn.preprocessing import LabelEncoder\n",
        "\n",
        "# Load the Iris dataset\n",
        "iris = load_iris()\n",
        "X = iris.data\n",
        "y = iris.target\n",
        "\n",
        "# Split the dataset into training and testing sets\n",
        "X_train, X_test, y_train, y_test = train_test_split(X, y, test_size=0.2, random_state=42)\n",
        "\n",
        "# Create a LabelEncoder object to convert the target variable into a numerical format\n",
        "le = LabelEncoder()\n",
        "y_train = le.fit_transform(y_train)\n",
        "y_test = le.transform(y_test)\n",
        "\n",
        "# Define the number of classes\n",
        "n_classes = len(set(y_train))\n",
        "\n",
        "# Initialize a list to store the OvO models\n",
        "ovo_models = []\n",
        "\n",
        "# Train OvO models\n",
        "for i in range(n_classes):\n",
        "    for j in range(i + 1, n_classes):\n",
        "        # Create a binary target variable\n",
        "        y_train_binary = (y_train == i).astype(int) | ((y_train == j) * 2).astype(int)\n",
        "\n",
        "        # Create a Logistic Regression object\n",
        "        logreg = LogisticRegression(max_iter=1000)\n",
        "\n",
        "        # Train the model using the training data\n",
        "        logreg.fit(X_train, y_train_binary)\n",
        "\n",
        "        # Append the model to the list\n",
        "        ovo_models.append((i, j, logreg))\n",
        "\n",
        "# Make predictions using the OvO models\n",
        "y_pred = []\n",
        "for x in X_test:\n",
        "    votes = [0] * n_classes\n",
        "    for i, j, model in ovo_models:\n",
        "        pred = model.predict([x])[0]\n",
        "        if pred == 0:\n",
        "            votes[i] += 1\n",
        "        elif pred == 2:\n",
        "            votes[j] += 1\n",
        "    y_pred.append(votes.index(max(votes)))\n",
        "\n",
        "# Evaluate the OvO model\n",
        "accuracy = accuracy_score(y_test, y_pred)\n",
        "print(\"OvO Model Accuracy:\", accuracy)"
      ],
      "metadata": {
        "colab": {
          "base_uri": "https://localhost:8080/"
        },
        "id": "CpdyK6NOE3GQ",
        "outputId": "905d7477-e25b-460f-a0b0-3fba7f488d7b"
      },
      "execution_count": 5,
      "outputs": [
        {
          "output_type": "stream",
          "name": "stdout",
          "text": [
            "OvO Model Accuracy: 0.36666666666666664\n"
          ]
        }
      ]
    },
    {
      "cell_type": "markdown",
      "source": [
        "Q11. Write a Python program to train a Logistic Regression model and visualize the confusion matrix for binary\n",
        "classification."
      ],
      "metadata": {
        "id": "Mxi6YUQqE330"
      }
    },
    {
      "cell_type": "code",
      "source": [
        "# Import necessary libraries\n",
        "from sklearn.datasets import load_breast_cancer\n",
        "from sklearn.model_selection import train_test_split\n",
        "from sklearn.linear_model import LogisticRegression\n",
        "from sklearn.metrics import accuracy_score, confusion_matrix\n",
        "import matplotlib.pyplot as plt\n",
        "import seaborn as sns\n",
        "\n",
        "# Load the breast cancer dataset\n",
        "cancer = load_breast_cancer()\n",
        "X = cancer.data\n",
        "y = cancer.target\n",
        "\n",
        "# Split the dataset into training and testing sets\n",
        "X_train, X_test, y_train, y_test = train_test_split(X, y, test_size=0.2, random_state=42)\n",
        "\n",
        "# Create a Logistic Regression object\n",
        "logreg = LogisticRegression(max_iter=1000)\n",
        "\n",
        "# Train the model using the training data\n",
        "logreg.fit(X_train, y_train)\n",
        "\n",
        "# Make predictions on the testing data\n",
        "y_pred = logreg.predict(X_test)\n",
        "\n",
        "# Calculate the accuracy score\n",
        "accuracy = accuracy_score(y_test, y_pred)\n",
        "print(\"Model Accuracy:\", accuracy)\n",
        "\n",
        "# Create a confusion matrix\n",
        "conf_mat = confusion_matrix(y_test, y_pred)\n",
        "\n",
        "# Visualize the confusion matrix using seaborn\n",
        "plt.figure(figsize=(8, 6))\n",
        "sns.heatmap(conf_mat, annot=True, cmap=\"Blues\")\n",
        "plt.xlabel(\"Predicted Labels\")\n",
        "plt.ylabel(\"True Labels\")\n",
        "plt.title(\"Confusion Matrix\")\n",
        "plt.show()"
      ],
      "metadata": {
        "colab": {
          "base_uri": "https://localhost:8080/",
          "height": 728
        },
        "id": "CqTJkKzgE4nn",
        "outputId": "a4ddb008-7e6c-42c6-b1aa-5b7a82c282d6"
      },
      "execution_count": 6,
      "outputs": [
        {
          "output_type": "stream",
          "name": "stderr",
          "text": [
            "/usr/local/lib/python3.11/dist-packages/sklearn/linear_model/_logistic.py:465: ConvergenceWarning: lbfgs failed to converge (status=1):\n",
            "STOP: TOTAL NO. of ITERATIONS REACHED LIMIT.\n",
            "\n",
            "Increase the number of iterations (max_iter) or scale the data as shown in:\n",
            "    https://scikit-learn.org/stable/modules/preprocessing.html\n",
            "Please also refer to the documentation for alternative solver options:\n",
            "    https://scikit-learn.org/stable/modules/linear_model.html#logistic-regression\n",
            "  n_iter_i = _check_optimize_result(\n"
          ]
        },
        {
          "output_type": "stream",
          "name": "stdout",
          "text": [
            "Model Accuracy: 0.956140350877193\n"
          ]
        },
        {
          "output_type": "display_data",
          "data": {
            "text/plain": [
              "<Figure size 800x600 with 2 Axes>"
            ],
            "image/png": "[encoded data removed]"
          },
          "metadata": {}
        }
      ]
    },
    {
      "cell_type": "markdown",
      "source": [
        "Q12. Write a Python program to train a Logistic Regression model and evaluate its performance using Precision,\n",
        "Recall, and F1-Score"
      ],
      "metadata": {
        "id": "d1cJQmP4E46R"
      }
    },
    {
      "cell_type": "code",
      "source": [
        "# Import necessary libraries\n",
        "from sklearn.datasets import load_breast_cancer\n",
        "from sklearn.model_selection import train_test_split\n",
        "from sklearn.linear_model import LogisticRegression\n",
        "from sklearn.metrics import accuracy_score, precision_score, recall_score, f1_score, classification_report, confusion_matrix\n",
        "import matplotlib.pyplot as plt\n",
        "import seaborn as sns\n",
        "\n",
        "# Load the breast cancer dataset\n",
        "cancer = load_breast_cancer()\n",
        "X = cancer.data\n",
        "y = cancer.target\n",
        "\n",
        "# Split the dataset into training and testing sets\n",
        "X_train, X_test, y_train, y_test = train_test_split(X, y, test_size=0.2, random_state=42)\n",
        "\n",
        "# Create a Logistic Regression object\n",
        "logreg = LogisticRegression(max_iter=1000)\n",
        "\n",
        "# Train the model using the training data\n",
        "logreg.fit(X_train, y_train)\n",
        "\n",
        "# Make predictions on the testing data\n",
        "y_pred = logreg.predict(X_test)\n",
        "\n",
        "# Evaluate the model's performance\n",
        "accuracy = accuracy_score(y_test, y_pred)\n",
        "precision = precision_score(y_test, y_pred)\n",
        "recall = recall_score(y_test, y_pred)\n",
        "f1 = f1_score(y_test, y_pred)\n",
        "\n",
        "print(\"Model Performance:\")\n",
        "print(f\"Accuracy: {accuracy:.2f}\")\n",
        "print(f\"Precision: {precision:.2f}\")\n",
        "print(f\"Recall: {recall:.2f}\")\n",
        "print(f\"F1-Score: {f1:.2f}\")\n",
        "\n",
        "print(\"\\nClassification Report:\")\n",
        "print(classification_report(y_test, y_pred))\n",
        "\n",
        "print(\"\\nConfusion Matrix:\")\n",
        "print(confusion_matrix(y_test, y_pred))\n",
        "\n",
        "# Visualize the confusion matrix using seaborn\n",
        "plt.figure(figsize=(8, 6))\n",
        "sns.heatmap(confusion_matrix(y_test, y_pred), annot=True, cmap=\"Blues\")\n",
        "plt.xlabel(\"Predicted Labels\")\n",
        "plt.ylabel(\"True Labels\")\n",
        "plt.title(\"Confusion Matrix\")\n",
        "plt.show()"
      ],
      "metadata": {
        "colab": {
          "base_uri": "https://localhost:8080/",
          "height": 1000
        },
        "id": "Oip-S-MPE5EV",
        "outputId": "245cf8cd-9a12-48c4-a4a1-bb6a37fdea7e"
      },
      "execution_count": 7,
      "outputs": [
        {
          "output_type": "stream",
          "name": "stderr",
          "text": [
            "/usr/local/lib/python3.11/dist-packages/sklearn/linear_model/_logistic.py:465: ConvergenceWarning: lbfgs failed to converge (status=1):\n",
            "STOP: TOTAL NO. of ITERATIONS REACHED LIMIT.\n",
            "\n",
            "Increase the number of iterations (max_iter) or scale the data as shown in:\n",
            "    https://scikit-learn.org/stable/modules/preprocessing.html\n",
            "Please also refer to the documentation for alternative solver options:\n",
            "    https://scikit-learn.org/stable/modules/linear_model.html#logistic-regression\n",
            "  n_iter_i = _check_optimize_result(\n"
          ]
        },
        {
          "output_type": "stream",
          "name": "stdout",
          "text": [
            "Model Performance:\n",
            "Accuracy: 0.96\n",
            "Precision: 0.95\n",
            "Recall: 0.99\n",
            "F1-Score: 0.97\n",
            "\n",
            "Classification Report:\n",
            "              precision    recall  f1-score   support\n",
            "\n",
            "           0       0.97      0.91      0.94        43\n",
            "           1       0.95      0.99      0.97        71\n",
            "\n",
            "    accuracy                           0.96       114\n",
            "   macro avg       0.96      0.95      0.95       114\n",
            "weighted avg       0.96      0.96      0.96       114\n",
            "\n",
            "\n",
            "Confusion Matrix:\n",
            "[[39  4]\n",
            " [ 1 70]]\n"
          ]
        },
        {
          "output_type": "display_data",
          "data": {
            "text/plain": [
              "<Figure size 800x600 with 2 Axes>"
            ],
            "image/png": "[encoded data removed]"
          },
          "metadata": {}
        }
      ]
    },
    {
      "cell_type": "markdown",
      "source": [
        "Q13. Write a Python program to train a Logistic Regression model on imbalanced data and apply class weights to\n",
        "improve model performance."
      ],
      "metadata": {
        "id": "qtBYB3WsE5QW"
      }
    },
    {
      "cell_type": "code",
      "source": [
        "# Import necessary libraries\n",
        "from sklearn.datasets import make_classification\n",
        "from sklearn.model_selection import train_test_split\n",
        "from sklearn.linear_model import LogisticRegression\n",
        "from sklearn.metrics import accuracy_score, precision_score, recall_score, f1_score, classification_report, confusion_matrix\n",
        "from sklearn.utils.class_weight import compute_class_weight\n",
        "import numpy as np\n",
        "\n",
        "# Generate an imbalanced dataset\n",
        "X, y = make_classification(n_samples=1000, n_features=20, n_informative=10, n_redundant=0, n_repeated=0, n_classes=2, n_clusters_per_class=1, weights=[0.9, 0.1], random_state=42)\n",
        "\n",
        "# Split the dataset into training and testing sets\n",
        "X_train, X_test, y_train, y_test = train_test_split(X, y, test_size=0.2, random_state=42)\n",
        "\n",
        "# Compute class weights\n",
        "class_weights = compute_class_weight(class_weight='balanced', classes=np.unique(y_train), y=y_train)\n",
        "\n",
        "# Create a Logistic Regression object with class weights\n",
        "logreg = LogisticRegression(class_weight={0: class_weights[0], 1: class_weights[1]}, max_iter=1000)\n",
        "\n",
        "# Train the model using the training data\n",
        "logreg.fit(X_train, y_train)\n",
        "\n",
        "# Make predictions on the testing data\n",
        "y_pred = logreg.predict(X_test)\n",
        "\n",
        "# Evaluate the model's performance\n",
        "accuracy = accuracy_score(y_test, y_pred)\n",
        "precision = precision_score(y_test, y_pred)\n",
        "recall = recall_score(y_test, y_pred)\n",
        "f1 = f1_score(y_test, y_pred)\n",
        "\n",
        "print(\"Model Performance:\")\n",
        "print(f\"Accuracy: {accuracy:.2f}\")\n",
        "print(f\"Precision: {precision:.2f}\")\n",
        "print(f\"Recall: {recall:.2f}\")\n",
        "print(f\"F1-Score: {f1:.2f}\")\n",
        "\n",
        "print(\"\\nClassification Report:\")\n",
        "print(classification_report(y_test, y_pred))\n",
        "\n",
        "print(\"\\nConfusion Matrix:\")\n",
        "print(confusion_matrix(y_test, y_pred))"
      ],
      "metadata": {
        "colab": {
          "base_uri": "https://localhost:8080/"
        },
        "id": "AbM4nq6XE5Zq",
        "outputId": "43ce6a4f-3d8b-4f21-ec9b-43c739a6549b"
      },
      "execution_count": 8,
      "outputs": [
        {
          "output_type": "stream",
          "name": "stdout",
          "text": [
            "Model Performance:\n",
            "Accuracy: 0.95\n",
            "Precision: 0.69\n",
            "Recall: 1.00\n",
            "F1-Score: 0.82\n",
            "\n",
            "Classification Report:\n",
            "              precision    recall  f1-score   support\n",
            "\n",
            "           0       1.00      0.95      0.97       180\n",
            "           1       0.69      1.00      0.82        20\n",
            "\n",
            "    accuracy                           0.95       200\n",
            "   macro avg       0.84      0.97      0.90       200\n",
            "weighted avg       0.97      0.95      0.96       200\n",
            "\n",
            "\n",
            "Confusion Matrix:\n",
            "[[171   9]\n",
            " [  0  20]]\n"
          ]
        }
      ]
    },
    {
      "cell_type": "markdown",
      "source": [
        "Q14. Write a Python program to train Logistic Regression on the Titanic dataset, handle missing values, and\n",
        "evaluate performance"
      ],
      "metadata": {
        "id": "tPZ4oJv0E5l9"
      }
    },
    {
      "cell_type": "code",
      "source": [
        "# Import necessary libraries\n",
        "import pandas as pd\n",
        "from sklearn.model_selection import train_test_split\n",
        "from sklearn.linear_model import LogisticRegression\n",
        "from sklearn.metrics import accuracy_score, precision_score, recall_score, f1_score, classification_report, confusion_matrix\n",
        "from sklearn.preprocessing import StandardScaler\n",
        "from sklearn.impute import SimpleImputer\n",
        "from sklearn.pipeline import Pipeline\n",
        "from sklearn.compose import ColumnTransformer\n",
        "from sklearn.preprocessing import OneHotEncoder\n",
        "\n",
        "# Load the Titanic dataset\n",
        "url = \"https://raw.githubusercontent.com/datasciencedojo/datasets/master/titanic.csv\"\n",
        "titanic = pd.read_csv(url)\n",
        "\n",
        "# Handle missing values\n",
        "titanic['Age'] = titanic['Age'].fillna(titanic['Age'].mean())\n",
        "titanic['Fare'] = titanic['Fare'].fillna(titanic['Fare'].mean())\n",
        "titanic['Embarked'] = titanic['Embarked'].fillna(titanic['Embarked'].mode()[0])\n",
        "\n",
        "# Define features and target\n",
        "X = titanic.drop(['Survived', 'Name', 'Ticket', 'Cabin'], axis=1)\n",
        "y = titanic['Survived']\n",
        "\n",
        "# Split the dataset into training and testing sets\n",
        "X_train, X_test, y_train, y_test = train_test_split(X, y, test_size=0.2, random_state=42)\n",
        "\n",
        "# Define preprocessing steps\n",
        "numeric_features = X.select_dtypes(include=['int64', 'float64']).columns\n",
        "categorical_features = X.select_dtypes(include=['object']).columns\n",
        "\n",
        "numeric_transformer = Pipeline(steps=[\n",
        "    ('imputer', SimpleImputer(strategy='median')),\n",
        "    ('scaler', StandardScaler())])\n",
        "\n",
        "categorical_transformer = Pipeline(steps=[\n",
        "    ('imputer', SimpleImputer(strategy='constant', fill_value='missing')),\n",
        "    ('onehot', OneHotEncoder(handle_unknown='ignore'))])\n",
        "\n",
        "preprocessor = ColumnTransformer(\n",
        "    transformers=[\n",
        "        ('num', numeric_transformer, numeric_features),\n",
        "        ('cat', categorical_transformer, categorical_features)])\n",
        "\n",
        "# Define the Logistic Regression model\n",
        "model = Pipeline(steps=[('preprocessor', preprocessor),\n",
        "                         ('logreg', LogisticRegression(max_iter=1000))])\n",
        "\n",
        "# Train the model\n",
        "model.fit(X_train, y_train)\n",
        "\n",
        "# Make predictions\n",
        "y_pred = model.predict(X_test)\n",
        "\n",
        "# Evaluate the model's performance\n",
        "accuracy = accuracy_score(y_test, y_pred)\n",
        "precision = precision_score(y_test, y_pred)\n",
        "recall = recall_score(y_test, y_pred)\n",
        "f1 = f1_score(y_test, y_pred)\n",
        "\n",
        "print(\"Model Performance:\")\n",
        "print(f\"Accuracy: {accuracy:.2f}\")\n",
        "print(f\"Precision: {precision:.2f}\")\n",
        "print(f\"Recall: {recall:.2f}\")\n",
        "print(f\"F1-Score: {f1:.2f}\")\n",
        "\n",
        "print(\"\\nClassification Report:\")\n",
        "print(classification_report(y_test, y_pred))\n",
        "\n",
        "print(\"\\nConfusion Matrix:\")\n",
        "print(confusion_matrix(y_test, y_pred))"
      ],
      "metadata": {
        "colab": {
          "base_uri": "https://localhost:8080/"
        },
        "id": "hcJQTIfVE5wV",
        "outputId": "18e6ac2a-0de4-4496-c65d-13a8b35fd1c5"
      },
      "execution_count": 9,
      "outputs": [
        {
          "output_type": "stream",
          "name": "stdout",
          "text": [
            "Model Performance:\n",
            "Accuracy: 0.80\n",
            "Precision: 0.77\n",
            "Recall: 0.74\n",
            "F1-Score: 0.76\n",
            "\n",
            "Classification Report:\n",
            "              precision    recall  f1-score   support\n",
            "\n",
            "           0       0.82      0.85      0.84       105\n",
            "           1       0.77      0.74      0.76        74\n",
            "\n",
            "    accuracy                           0.80       179\n",
            "   macro avg       0.80      0.80      0.80       179\n",
            "weighted avg       0.80      0.80      0.80       179\n",
            "\n",
            "\n",
            "Confusion Matrix:\n",
            "[[89 16]\n",
            " [19 55]]\n"
          ]
        }
      ]
    },
    {
      "cell_type": "markdown",
      "source": [
        "Q15. Write a Python program to apply feature scaling (Standardization) before training a Logistic Regression\n",
        "model. Evaluate its accuracy and compare results with and without scaling"
      ],
      "metadata": {
        "id": "uOhf5fEkHGDi"
      }
    },
    {
      "cell_type": "code",
      "source": [
        "# Import necessary libraries\n",
        "from sklearn.datasets import load_iris\n",
        "from sklearn.model_selection import train_test_split\n",
        "from sklearn.linear_model import LogisticRegression\n",
        "from sklearn.preprocessing import StandardScaler\n",
        "from sklearn.metrics import accuracy_score, classification_report, confusion_matrix\n",
        "\n",
        "# Load the Iris dataset\n",
        "iris = load_iris()\n",
        "X = iris.data\n",
        "y = iris.target\n",
        "\n",
        "# Split the dataset into training and testing sets\n",
        "X_train, X_test, y_train, y_test = train_test_split(X, y, test_size=0.2, random_state=42)\n",
        "\n",
        "# Create a Logistic Regression object without scaling\n",
        "logreg_without_scaling = LogisticRegression(max_iter=1000)\n",
        "\n",
        "# Train the model without scaling\n",
        "logreg_without_scaling.fit(X_train, y_train)\n",
        "\n",
        "# Make predictions without scaling\n",
        "y_pred_without_scaling = logreg_without_scaling.predict(X_test)\n",
        "\n",
        "# Evaluate the model without scaling\n",
        "accuracy_without_scaling = accuracy_score(y_test, y_pred_without_scaling)\n",
        "print(\"Accuracy without scaling:\", accuracy_without_scaling)\n",
        "\n",
        "# Create a StandardScaler object\n",
        "scaler = StandardScaler()\n",
        "\n",
        "# Fit the scaler to the training data and transform it\n",
        "X_train_scaled = scaler.fit_transform(X_train)\n",
        "X_test_scaled = scaler.transform(X_test)\n",
        "\n",
        "# Create a Logistic Regression object with scaling\n",
        "logreg_with_scaling = LogisticRegression(max_iter=1000)\n",
        "\n",
        "# Train the model with scaling\n",
        "logreg_with_scaling.fit(X_train_scaled, y_train)\n",
        "\n",
        "# Make predictions with scaling\n",
        "y_pred_with_scaling = logreg_with_scaling.predict(X_test_scaled)\n",
        "\n",
        "# Evaluate the model with scaling\n",
        "accuracy_with_scaling = accuracy_score(y_test, y_pred_with_scaling)\n",
        "print(\"Accuracy with scaling:\", accuracy_with_scaling)\n",
        "\n",
        "# Compare the results\n",
        "print(\"Comparison of results:\")\n",
        "print(\"Accuracy without scaling:\", accuracy_without_scaling)\n",
        "print(\"Accuracy with scaling:\", accuracy_with_scaling)\n",
        "\n",
        "# Print the classification report and confusion matrix for both models\n",
        "print(\"\\nClassification Report without scaling:\")\n",
        "print(classification_report(y_test, y_pred_without_scaling))\n",
        "print(\"Confusion Matrix without scaling:\")\n",
        "print(confusion_matrix(y_test, y_pred_without_scaling))\n",
        "\n",
        "print(\"\\nClassification Report with scaling:\")\n",
        "print(classification_report(y_test, y_pred_with_scaling))\n",
        "print(\"Confusion Matrix with scaling:\")\n",
        "print(confusion_matrix(y_test, y_pred_with_scaling))"
      ],
      "metadata": {
        "colab": {
          "base_uri": "https://localhost:8080/"
        },
        "id": "0XfdatLwHGNr",
        "outputId": "a6dd5e40-4d28-41c0-a0e9-8599b090af88"
      },
      "execution_count": 10,
      "outputs": [
        {
          "output_type": "stream",
          "name": "stdout",
          "text": [
            "Accuracy without scaling: 1.0\n",
            "Accuracy with scaling: 1.0\n",
            "Comparison of results:\n",
            "Accuracy without scaling: 1.0\n",
            "Accuracy with scaling: 1.0\n",
            "\n",
            "Classification Report without scaling:\n",
            "              precision    recall  f1-score   support\n",
            "\n",
            "           0       1.00      1.00      1.00        10\n",
            "           1       1.00      1.00      1.00         9\n",
            "           2       1.00      1.00      1.00        11\n",
            "\n",
            "    accuracy                           1.00        30\n",
            "   macro avg       1.00      1.00      1.00        30\n",
            "weighted avg       1.00      1.00      1.00        30\n",
            "\n",
            "Confusion Matrix without scaling:\n",
            "[[10  0  0]\n",
            " [ 0  9  0]\n",
            " [ 0  0 11]]\n",
            "\n",
            "Classification Report with scaling:\n",
            "              precision    recall  f1-score   support\n",
            "\n",
            "           0       1.00      1.00      1.00        10\n",
            "           1       1.00      1.00      1.00         9\n",
            "           2       1.00      1.00      1.00        11\n",
            "\n",
            "    accuracy                           1.00        30\n",
            "   macro avg       1.00      1.00      1.00        30\n",
            "weighted avg       1.00      1.00      1.00        30\n",
            "\n",
            "Confusion Matrix with scaling:\n",
            "[[10  0  0]\n",
            " [ 0  9  0]\n",
            " [ 0  0 11]]\n"
          ]
        }
      ]
    },
    {
      "cell_type": "markdown",
      "source": [
        "Q16. Write a Python program to train Logistic Regression and evaluate its performance using ROC-AUC score."
      ],
      "metadata": {
        "id": "gPhR0X2qHGbA"
      }
    },
    {
      "cell_type": "code",
      "source": [
        "# Import necessary libraries\n",
        "from sklearn.datasets import load_breast_cancer\n",
        "from sklearn.model_selection import train_test_split\n",
        "from sklearn.linear_model import LogisticRegression\n",
        "from sklearn.metrics import accuracy_score, classification_report, confusion_matrix, roc_auc_score, roc_curve\n",
        "import matplotlib.pyplot as plt\n",
        "\n",
        "# Load the breast cancer dataset\n",
        "cancer = load_breast_cancer()\n",
        "X = cancer.data\n",
        "y = cancer.target\n",
        "\n",
        "# Split the dataset into training and testing sets\n",
        "X_train, X_test, y_train, y_test = train_test_split(X, y, test_size=0.2, random_state=42)\n",
        "\n",
        "# Create a Logistic Regression object\n",
        "logreg = LogisticRegression(max_iter=1000)\n",
        "\n",
        "# Train the model using the training data\n",
        "logreg.fit(X_train, y_train)\n",
        "\n",
        "# Make predictions on the testing data\n",
        "y_pred = logreg.predict(X_test)\n",
        "y_pred_proba = logreg.predict_proba(X_test)[:, 1]\n",
        "\n",
        "# Evaluate the model's performance\n",
        "accuracy = accuracy_score(y_test, y_pred)\n",
        "print(\"Model Accuracy:\", accuracy)\n",
        "\n",
        "# Evaluate the model's performance using ROC-AUC score\n",
        "roc_auc = roc_auc_score(y_test, y_pred_proba)\n",
        "print(\"Model ROC-AUC Score:\", roc_auc)\n",
        "\n",
        "# Print the classification report and confusion matrix\n",
        "print(\"\\nClassification Report:\")\n",
        "print(classification_report(y_test, y_pred))\n",
        "print(\"\\nConfusion Matrix:\")\n",
        "print(confusion_matrix(y_test, y_pred))\n",
        "\n",
        "# Plot the ROC curve\n",
        "fpr, tpr, _ = roc_curve(y_test, y_pred_proba)\n",
        "plt.figure(figsize=(8, 6))\n",
        "plt.plot(fpr, tpr, color='blue', label='ROC Curve (AUC = %0.2f)' % roc_auc)\n",
        "plt.plot([0, 1], [0, 1], color='red', linestyle='--')\n",
        "plt.xlabel('False Positive Rate')\n",
        "plt.ylabel('True Positive Rate')\n",
        "plt.title('ROC Curve')\n",
        "plt.legend(loc='lower right')\n",
        "plt.show()"
      ],
      "metadata": {
        "colab": {
          "base_uri": "https://localhost:8080/",
          "height": 1000
        },
        "id": "RqeDRO0OHGlJ",
        "outputId": "72ca4962-78f9-44e4-ff9f-3c727dcc984d"
      },
      "execution_count": 11,
      "outputs": [
        {
          "output_type": "stream",
          "name": "stderr",
          "text": [
            "/usr/local/lib/python3.11/dist-packages/sklearn/linear_model/_logistic.py:465: ConvergenceWarning: lbfgs failed to converge (status=1):\n",
            "STOP: TOTAL NO. of ITERATIONS REACHED LIMIT.\n",
            "\n",
            "Increase the number of iterations (max_iter) or scale the data as shown in:\n",
            "    https://scikit-learn.org/stable/modules/preprocessing.html\n",
            "Please also refer to the documentation for alternative solver options:\n",
            "    https://scikit-learn.org/stable/modules/linear_model.html#logistic-regression\n",
            "  n_iter_i = _check_optimize_result(\n"
          ]
        },
        {
          "output_type": "stream",
          "name": "stdout",
          "text": [
            "Model Accuracy: 0.956140350877193\n",
            "Model ROC-AUC Score: 0.9977071732721913\n",
            "\n",
            "Classification Report:\n",
            "              precision    recall  f1-score   support\n",
            "\n",
            "           0       0.97      0.91      0.94        43\n",
            "           1       0.95      0.99      0.97        71\n",
            "\n",
            "    accuracy                           0.96       114\n",
            "   macro avg       0.96      0.95      0.95       114\n",
            "weighted avg       0.96      0.96      0.96       114\n",
            "\n",
            "\n",
            "Confusion Matrix:\n",
            "[[39  4]\n",
            " [ 1 70]]\n"
          ]
        },
        {
          "output_type": "display_data",
          "data": {
            "text/plain": [
              "<Figure size 800x600 with 1 Axes>"
            ],
            "image/png": "[encoded data removed]"
          },
          "metadata": {}
        }
      ]
    },
    {
      "cell_type": "markdown",
      "source": [
        "Q17. Write a Python program to train Logistic Regression using a custom learning rate (C=0.5) and evaluate\n",
        "accuracy."
      ],
      "metadata": {
        "id": "zoFM9cutHGwV"
      }
    },
    {
      "cell_type": "code",
      "source": [
        "# Import necessary libraries\n",
        "from sklearn.datasets import load_iris\n",
        "from sklearn.model_selection import train_test_split\n",
        "from sklearn.linear_model import LogisticRegression\n",
        "from sklearn.metrics import accuracy_score, classification_report, confusion_matrix\n",
        "\n",
        "# Load the Iris dataset\n",
        "iris = load_iris()\n",
        "X = iris.data\n",
        "y = iris.target\n",
        "\n",
        "# Split the dataset into training and testing sets\n",
        "X_train, X_test, y_train, y_test = train_test_split(X, y, test_size=0.2, random_state=42)\n",
        "\n",
        "# Create a Logistic Regression object with a custom learning rate (C=0.5)\n",
        "logreg = LogisticRegression(C=0.5, max_iter=1000)\n",
        "\n",
        "# Train the model using the training data\n",
        "logreg.fit(X_train, y_train)\n",
        "\n",
        "# Make predictions on the testing data\n",
        "y_pred = logreg.predict(X_test)\n",
        "\n",
        "# Evaluate the model's accuracy\n",
        "accuracy = accuracy_score(y_test, y_pred)\n",
        "print(\"Model Accuracy:\", accuracy)\n",
        "\n",
        "# Print the classification report and confusion matrix\n",
        "print(\"\\nClassification Report:\")\n",
        "print(classification_report(y_test, y_pred))\n",
        "print(\"\\nConfusion Matrix:\")\n",
        "print(confusion_matrix(y_test, y_pred))"
      ],
      "metadata": {
        "colab": {
          "base_uri": "https://localhost:8080/"
        },
        "id": "e5PI-SmOHG7o",
        "outputId": "2d0ad00e-5da8-42a9-eba3-27e59fdf5198"
      },
      "execution_count": 12,
      "outputs": [
        {
          "output_type": "stream",
          "name": "stdout",
          "text": [
            "Model Accuracy: 1.0\n",
            "\n",
            "Classification Report:\n",
            "              precision    recall  f1-score   support\n",
            "\n",
            "           0       1.00      1.00      1.00        10\n",
            "           1       1.00      1.00      1.00         9\n",
            "           2       1.00      1.00      1.00        11\n",
            "\n",
            "    accuracy                           1.00        30\n",
            "   macro avg       1.00      1.00      1.00        30\n",
            "weighted avg       1.00      1.00      1.00        30\n",
            "\n",
            "\n",
            "Confusion Matrix:\n",
            "[[10  0  0]\n",
            " [ 0  9  0]\n",
            " [ 0  0 11]]\n"
          ]
        }
      ]
    },
    {
      "cell_type": "markdown",
      "source": [
        "Q18. Write a Python program to train Logistic Regression and identify important features based on model\n",
        "coefficients"
      ],
      "metadata": {
        "id": "6VoMW1muHHFg"
      }
    },
    {
      "cell_type": "code",
      "source": [
        "# Import necessary libraries\n",
        "from sklearn.datasets import load_iris\n",
        "from sklearn.model_selection import train_test_split\n",
        "from sklearn.linear_model import LogisticRegression\n",
        "from sklearn.metrics import accuracy_score, classification_report, confusion_matrix\n",
        "import pandas as pd\n",
        "import numpy as np\n",
        "\n",
        "# Load the Iris dataset\n",
        "iris = load_iris()\n",
        "X = iris.data\n",
        "y = iris.target\n",
        "\n",
        "# Create a DataFrame with feature names\n",
        "df = pd.DataFrame(X, columns=iris.feature_names)\n",
        "\n",
        "# Split the dataset into training and testing sets\n",
        "X_train, X_test, y_train, y_test = train_test_split(X, y, test_size=0.2, random_state=42)\n",
        "\n",
        "# Create a Logistic Regression object\n",
        "logreg = LogisticRegression(max_iter=1000)\n",
        "\n",
        "# Train the model using the training data\n",
        "logreg.fit(X_train, y_train)\n",
        "\n",
        "# Make predictions on the testing data\n",
        "y_pred = logreg.predict(X_test)\n",
        "\n",
        "# Evaluate the model's accuracy\n",
        "accuracy = accuracy_score(y_test, y_pred)\n",
        "print(\"Model Accuracy:\", accuracy)\n",
        "\n",
        "# Print the classification report and confusion matrix\n",
        "print(\"\\nClassification Report:\")\n",
        "print(classification_report(y_test, y_pred))\n",
        "print(\"\\nConfusion Matrix:\")\n",
        "print(confusion_matrix(y_test, y_pred))\n",
        "\n",
        "# Get the model coefficients\n",
        "coefficients = logreg.coef_\n",
        "\n",
        "# Create a DataFrame with feature names and coefficients\n",
        "# The original code had a shape mismatch. coefficients.T is used to transpose\n",
        "# the coefficients array so that it has 3 rows (one for each class)\n",
        "# and 4 columns (one for each feature). This matches the shape expected\n",
        "# by pd.DataFrame, where the index is the feature names and the columns\n",
        "# represent the coefficients for each class.\n",
        "df_coefficients = pd.DataFrame(coefficients.T, columns=['Coeff_Class_0', 'Coeff_Class_1', 'Coeff_Class_2'], index=iris.feature_names)\n",
        "\n",
        "\n",
        "# Sort the DataFrame by coefficient magnitude for class 0\n",
        "df_coefficients = df_coefficients.sort_values(by=\"Coeff_Class_0\", key=abs, ascending=False)\n",
        "\n",
        "# Print the top 3 features with the highest coefficient magnitude for class 0\n",
        "print(\"\\nTop 3 Features by Coefficient Magnitude for Class 0:\")\n",
        "print(df_coefficients.head(3))\n",
        "\n",
        "# Print the bottom 3 features with the lowest coefficient magnitude for class 0\n",
        "print(\"\\nBottom 3 Features by Coefficient Magnitude for Class 0:\")\n",
        "print(df_coefficients.tail(3))"
      ],
      "metadata": {
        "colab": {
          "base_uri": "https://localhost:8080/"
        },
        "id": "oDtAsiQHHHOz",
        "outputId": "d087a198-d34b-4446-9424-1dac84686bed"
      },
      "execution_count": 14,
      "outputs": [
        {
          "output_type": "stream",
          "name": "stdout",
          "text": [
            "Model Accuracy: 1.0\n",
            "\n",
            "Classification Report:\n",
            "              precision    recall  f1-score   support\n",
            "\n",
            "           0       1.00      1.00      1.00        10\n",
            "           1       1.00      1.00      1.00         9\n",
            "           2       1.00      1.00      1.00        11\n",
            "\n",
            "    accuracy                           1.00        30\n",
            "   macro avg       1.00      1.00      1.00        30\n",
            "weighted avg       1.00      1.00      1.00        30\n",
            "\n",
            "\n",
            "Confusion Matrix:\n",
            "[[10  0  0]\n",
            " [ 0  9  0]\n",
            " [ 0  0 11]]\n",
            "\n",
            "Top 3 Features by Coefficient Magnitude for Class 0:\n",
            "                   Coeff_Class_0  Coeff_Class_1  Coeff_Class_2\n",
            "petal length (cm)      -2.375108      -0.213014       2.588121\n",
            "petal width (cm)       -0.998746      -0.775755       1.774501\n",
            "sepal width (cm)        0.962586      -0.254865      -0.707721\n",
            "\n",
            "Bottom 3 Features by Coefficient Magnitude for Class 0:\n",
            "                   Coeff_Class_0  Coeff_Class_1  Coeff_Class_2\n",
            "petal width (cm)       -0.998746      -0.775755       1.774501\n",
            "sepal width (cm)        0.962586      -0.254865      -0.707721\n",
            "sepal length (cm)      -0.393402       0.508404      -0.115002\n"
          ]
        }
      ]
    },
    {
      "cell_type": "markdown",
      "source": [
        "Q19. Write a Python program to train Logistic Regression and evaluate its performance using Cohen’s Kappa\n",
        "Score."
      ],
      "metadata": {
        "id": "Olp6P54kHHZB"
      }
    },
    {
      "cell_type": "code",
      "source": [
        "# Import necessary libraries\n",
        "from sklearn.datasets import load_iris\n",
        "from sklearn.model_selection import train_test_split\n",
        "from sklearn.linear_model import LogisticRegression\n",
        "from sklearn.metrics import accuracy_score, classification_report, confusion_matrix, cohen_kappa_score\n",
        "import numpy as np\n",
        "\n",
        "# Load the Iris dataset\n",
        "iris = load_iris()\n",
        "X = iris.data\n",
        "y = iris.target\n",
        "\n",
        "# Split the dataset into training and testing sets\n",
        "X_train, X_test, y_train, y_test = train_test_split(X, y, test_size=0.2, random_state=42)\n",
        "\n",
        "# Create a Logistic Regression object\n",
        "logreg = LogisticRegression(max_iter=1000)\n",
        "\n",
        "# Train the model using the training data\n",
        "logreg.fit(X_train, y_train)\n",
        "\n",
        "# Make predictions on the testing data\n",
        "y_pred = logreg.predict(X_test)\n",
        "\n",
        "# Evaluate the model's accuracy\n",
        "accuracy = accuracy_score(y_test, y_pred)\n",
        "print(\"Model Accuracy:\", accuracy)\n",
        "\n",
        "# Print the classification report and confusion matrix\n",
        "print(\"\\nClassification Report:\")\n",
        "print(classification_report(y_test, y_pred))\n",
        "print(\"\\nConfusion Matrix:\")\n",
        "print(confusion_matrix(y_test, y_pred))\n",
        "\n",
        "# Evaluate the model's performance using Cohen's Kappa Score\n",
        "kappa = cohen_kappa_score(y_test, y_pred)\n",
        "print(\"\\nCohen's Kappa Score:\", kappa)\n",
        "\n",
        "# Interpret the Cohen's Kappa Score\n",
        "kappa_interpretation = np.select([kappa < 0, kappa < 0.2, kappa < 0.4, kappa < 0.6, kappa < 0.8, kappa < 1],\n",
        "                                    [\"No agreement\", \"Slight agreement\", \"Fair agreement\", \"Moderate agreement\", \"Substantial agreement\", \"Almost perfect agreement\"],\n",
        "                                    default=\"Perfect agreement\")\n",
        "print(\"\\nKappa Interpretation:\", kappa_interpretation)"
      ],
      "metadata": {
        "colab": {
          "base_uri": "https://localhost:8080/"
        },
        "id": "S5H8F-R8HHix",
        "outputId": "12f8fe9c-9032-4ef5-e398-3007f82df8f0"
      },
      "execution_count": 15,
      "outputs": [
        {
          "output_type": "stream",
          "name": "stdout",
          "text": [
            "Model Accuracy: 1.0\n",
            "\n",
            "Classification Report:\n",
            "              precision    recall  f1-score   support\n",
            "\n",
            "           0       1.00      1.00      1.00        10\n",
            "           1       1.00      1.00      1.00         9\n",
            "           2       1.00      1.00      1.00        11\n",
            "\n",
            "    accuracy                           1.00        30\n",
            "   macro avg       1.00      1.00      1.00        30\n",
            "weighted avg       1.00      1.00      1.00        30\n",
            "\n",
            "\n",
            "Confusion Matrix:\n",
            "[[10  0  0]\n",
            " [ 0  9  0]\n",
            " [ 0  0 11]]\n",
            "\n",
            "Cohen's Kappa Score: 1.0\n",
            "\n",
            "Kappa Interpretation: Perfect agreement\n"
          ]
        }
      ]
    },
    {
      "cell_type": "markdown",
      "source": [
        "Q20. Write a Python program to train Logistic Regression and visualize the Precision-Recall Curve for binary\n",
        "classification."
      ],
      "metadata": {
        "id": "sjgMYqp0HHq5"
      }
    },
    {
      "cell_type": "code",
      "source": [
        "# Import necessary libraries\n",
        "from sklearn.datasets import make_classification\n",
        "from sklearn.model_selection import train_test_split\n",
        "from sklearn.linear_model import LogisticRegression\n",
        "from sklearn.metrics import precision_score, recall_score, precision_recall_curve, auc, roc_curve, roc_auc_score\n",
        "import matplotlib.pyplot as plt\n",
        "import numpy as np\n",
        "\n",
        "# Generate a binary classification dataset\n",
        "X, y = make_classification(n_samples=1000, n_features=20, n_informative=10, n_redundant=0, n_repeated=0, n_classes=2, n_clusters_per_class=1, random_state=42)\n",
        "\n",
        "# Split the dataset into training and testing sets\n",
        "X_train, X_test, y_train, y_test = train_test_split(X, y, test_size=0.2, random_state=42)\n",
        "\n",
        "# Create a Logistic Regression object\n",
        "logreg = LogisticRegression(max_iter=1000)\n",
        "\n",
        "# Train the model using the training data\n",
        "logreg.fit(X_train, y_train)\n",
        "\n",
        "# Make predictions on the testing data\n",
        "y_pred = logreg.predict(X_test)\n",
        "y_pred_proba = logreg.predict_proba(X_test)[:, 1]\n",
        "\n",
        "# Evaluate the model's performance using precision and recall\n",
        "precision = precision_score(y_test, y_pred)\n",
        "recall = recall_score(y_test, y_pred)\n",
        "print(\"Model Precision:\", precision)\n",
        "print(\"Model Recall:\", recall)\n",
        "\n",
        "# Plot the Precision-Recall Curve\n",
        "precision_curve, recall_curve, thresholds = precision_recall_curve(y_test, y_pred_proba)\n",
        "plt.figure(figsize=(8, 6))\n",
        "plt.plot(recall_curve, precision_curve, marker='.', label='Precision-Recall Curve')\n",
        "plt.xlabel('Recall')\n",
        "plt.ylabel('Precision')\n",
        "plt.title('Precision-Recall Curve')\n",
        "plt.legend()\n",
        "plt.show()\n",
        "\n",
        "# Calculate the area under the Precision-Recall Curve (AUPRC)\n",
        "auprc = auc(recall_curve, precision_curve)\n",
        "print(\"Area under the Precision-Recall Curve (AUPRC):\", auprc)\n",
        "\n",
        "# Plot the ROC Curve for comparison\n",
        "fpr, tpr, _ = roc_curve(y_test, y_pred_proba)\n",
        "plt.figure(figsize=(8, 6))\n",
        "plt.plot(fpr, tpr, marker='.', label='ROC Curve')\n",
        "plt.xlabel('False Positive Rate')\n",
        "plt.ylabel('True Positive Rate')\n",
        "plt.title('ROC Curve')\n",
        "plt.legend()\n",
        "plt.show()\n",
        "\n",
        "# Calculate the area under the ROC Curve (AUC-ROC)\n",
        "auc_roc = roc_auc_score(y_test, y_pred_proba)\n",
        "print(\"Area under the ROC Curve (AUC-ROC):\", auc_roc)"
      ],
      "metadata": {
        "colab": {
          "base_uri": "https://localhost:8080/",
          "height": 1000
        },
        "id": "9wHtW-lqHH0S",
        "outputId": "49061145-87ff-4cc6-8dc4-f832b2eb737f"
      },
      "execution_count": 16,
      "outputs": [
        {
          "output_type": "stream",
          "name": "stdout",
          "text": [
            "Model Precision: 0.9484536082474226\n",
            "Model Recall: 0.9292929292929293\n"
          ]
        },
        {
          "output_type": "display_data",
          "data": {
            "text/plain": [
              "<Figure size 800x600 with 1 Axes>"
            ],
            "image/png": "[encoded data removed]"
          },
          "metadata": {}
        },
        {
          "output_type": "stream",
          "name": "stdout",
          "text": [
            "Area under the Precision-Recall Curve (AUPRC): 0.9847932390734637\n"
          ]
        },
        {
          "output_type": "display_data",
          "data": {
            "text/plain": [
              "<Figure size 800x600 with 1 Axes>"
            ],
            "image/png": "[encoded data removed]"
          },
          "metadata": {}
        },
        {
          "output_type": "stream",
          "name": "stdout",
          "text": [
            "Area under the ROC Curve (AUC-ROC): 0.9863986398639863\n"
          ]
        }
      ]
    },
    {
      "cell_type": "markdown",
      "source": [
        "Q21. Write a Python program to train Logistic Regression with different solvers (liblinear, saga, lbfgs) and compare\n",
        "their accuracy."
      ],
      "metadata": {
        "id": "qiFW00UvJ7g4"
      }
    },
    {
      "cell_type": "code",
      "source": [
        "# Import necessary libraries\n",
        "from sklearn.datasets import load_iris\n",
        "from sklearn.model_selection import train_test_split\n",
        "from sklearn.linear_model import LogisticRegression\n",
        "from sklearn.metrics import accuracy_score, classification_report, confusion_matrix\n",
        "\n",
        "# Load the Iris dataset\n",
        "iris = load_iris()\n",
        "X = iris.data\n",
        "y = iris.target\n",
        "\n",
        "# Split the dataset into training and testing sets\n",
        "X_train, X_test, y_train, y_test = train_test_split(X, y, test_size=0.2, random_state=42)\n",
        "\n",
        "# Define different solvers for Logistic Regression\n",
        "solvers = ['liblinear', 'saga', 'lbfgs']\n",
        "\n",
        "# Train Logistic Regression models with different solvers and compare their accuracy\n",
        "for solver in solvers:\n",
        "    logreg = LogisticRegression(max_iter=1000, solver=solver)\n",
        "    logreg.fit(X_train, y_train)\n",
        "    y_pred = logreg.predict(X_test)\n",
        "    accuracy = accuracy_score(y_test, y_pred)\n",
        "    print(f\"Solver: {solver}, Accuracy: {accuracy:.2f}\")\n",
        "    print(\"Classification Report:\")\n",
        "    print(classification_report(y_test, y_pred))\n",
        "    print(\"Confusion Matrix:\")\n",
        "    print(confusion_matrix(y_test, y_pred))\n",
        "    print()"
      ],
      "metadata": {
        "colab": {
          "base_uri": "https://localhost:8080/"
        },
        "id": "UV0EktOcJ75g",
        "outputId": "ce990bb3-efe0-4598-eb1d-022337a95f03"
      },
      "execution_count": 17,
      "outputs": [
        {
          "output_type": "stream",
          "name": "stdout",
          "text": [
            "Solver: liblinear, Accuracy: 1.00\n",
            "Classification Report:\n",
            "              precision    recall  f1-score   support\n",
            "\n",
            "           0       1.00      1.00      1.00        10\n",
            "           1       1.00      1.00      1.00         9\n",
            "           2       1.00      1.00      1.00        11\n",
            "\n",
            "    accuracy                           1.00        30\n",
            "   macro avg       1.00      1.00      1.00        30\n",
            "weighted avg       1.00      1.00      1.00        30\n",
            "\n",
            "Confusion Matrix:\n",
            "[[10  0  0]\n",
            " [ 0  9  0]\n",
            " [ 0  0 11]]\n",
            "\n",
            "Solver: saga, Accuracy: 1.00\n",
            "Classification Report:\n",
            "              precision    recall  f1-score   support\n",
            "\n",
            "           0       1.00      1.00      1.00        10\n",
            "           1       1.00      1.00      1.00         9\n",
            "           2       1.00      1.00      1.00        11\n",
            "\n",
            "    accuracy                           1.00        30\n",
            "   macro avg       1.00      1.00      1.00        30\n",
            "weighted avg       1.00      1.00      1.00        30\n",
            "\n",
            "Confusion Matrix:\n",
            "[[10  0  0]\n",
            " [ 0  9  0]\n",
            " [ 0  0 11]]\n",
            "\n",
            "Solver: lbfgs, Accuracy: 1.00\n",
            "Classification Report:\n",
            "              precision    recall  f1-score   support\n",
            "\n",
            "           0       1.00      1.00      1.00        10\n",
            "           1       1.00      1.00      1.00         9\n",
            "           2       1.00      1.00      1.00        11\n",
            "\n",
            "    accuracy                           1.00        30\n",
            "   macro avg       1.00      1.00      1.00        30\n",
            "weighted avg       1.00      1.00      1.00        30\n",
            "\n",
            "Confusion Matrix:\n",
            "[[10  0  0]\n",
            " [ 0  9  0]\n",
            " [ 0  0 11]]\n",
            "\n"
          ]
        },
        {
          "output_type": "stream",
          "name": "stderr",
          "text": [
            "/usr/local/lib/python3.11/dist-packages/sklearn/linear_model/_sag.py:348: ConvergenceWarning: The max_iter was reached which means the coef_ did not converge\n",
            "  warnings.warn(\n"
          ]
        }
      ]
    },
    {
      "cell_type": "markdown",
      "source": [
        "Q22. Write a Python program to train Logistic Regression and evaluate its performance using Matthews\n",
        "Correlation Coefficient (MCC)"
      ],
      "metadata": {
        "id": "hr4n5aWjJ8DY"
      }
    },
    {
      "cell_type": "code",
      "source": [
        "# Import necessary libraries\n",
        "from sklearn.datasets import make_classification\n",
        "from sklearn.model_selection import train_test_split\n",
        "from sklearn.linear_model import LogisticRegression\n",
        "from sklearn.metrics import accuracy_score, classification_report, confusion_matrix, matthews_corrcoef\n",
        "\n",
        "# Generate a binary classification dataset\n",
        "X, y = make_classification(n_samples=1000, n_features=20, n_informative=10, n_redundant=0, n_repeated=0, n_classes=2, n_clusters_per_class=1, random_state=42)\n",
        "\n",
        "# Split the dataset into training and testing sets\n",
        "X_train, X_test, y_train, y_test = train_test_split(X, y, test_size=0.2, random_state=42)\n",
        "\n",
        "# Create a Logistic Regression object\n",
        "logreg = LogisticRegression(max_iter=1000)\n",
        "\n",
        "# Train the model using the training data\n",
        "logreg.fit(X_train, y_train)\n",
        "\n",
        "# Make predictions on the testing data\n",
        "y_pred = logreg.predict(X_test)\n",
        "\n",
        "# Evaluate the model's accuracy\n",
        "accuracy = accuracy_score(y_test, y_pred)\n",
        "print(\"Model Accuracy:\", accuracy)\n",
        "\n",
        "# Print the classification report and confusion matrix\n",
        "print(\"\\nClassification Report:\")\n",
        "print(classification_report(y_test, y_pred))\n",
        "print(\"\\nConfusion Matrix:\")\n",
        "print(confusion_matrix(y_test, y_pred))\n",
        "\n",
        "# Evaluate the model's performance using Matthews Correlation Coefficient (MCC)\n",
        "mcc = matthews_corrcoef(y_test, y_pred)\n",
        "print(\"\\nMatthews Correlation Coefficient (MCC):\", mcc)\n",
        "\n",
        "# Interpret the MCC value\n",
        "if mcc < 0:\n",
        "    print(\"Model performance is worse than random guessing.\")\n",
        "elif mcc == 0:\n",
        "    print(\"Model performance is equal to random guessing.\")\n",
        "elif mcc < 0.3:\n",
        "    print(\"Model performance is slight.\")\n",
        "elif mcc < 0.5:\n",
        "    print(\"Model performance is fair.\")\n",
        "elif mcc < 0.7:\n",
        "    print(\"Model performance is moderate.\")\n",
        "elif mcc < 0.9:\n",
        "    print(\"Model performance is substantial.\")\n",
        "else:\n",
        "    print(\"Model performance is almost perfect.\")"
      ],
      "metadata": {
        "colab": {
          "base_uri": "https://localhost:8080/"
        },
        "id": "Te5Y2yMMJ8Ng",
        "outputId": "9741e18b-88f7-4e2f-ba09-da0aa079d0d5"
      },
      "execution_count": 18,
      "outputs": [
        {
          "output_type": "stream",
          "name": "stdout",
          "text": [
            "Model Accuracy: 0.94\n",
            "\n",
            "Classification Report:\n",
            "              precision    recall  f1-score   support\n",
            "\n",
            "           0       0.93      0.95      0.94       101\n",
            "           1       0.95      0.93      0.94        99\n",
            "\n",
            "    accuracy                           0.94       200\n",
            "   macro avg       0.94      0.94      0.94       200\n",
            "weighted avg       0.94      0.94      0.94       200\n",
            "\n",
            "\n",
            "Confusion Matrix:\n",
            "[[96  5]\n",
            " [ 7 92]]\n",
            "\n",
            "Matthews Correlation Coefficient (MCC): 0.8801401405166956\n",
            "Model performance is substantial.\n"
          ]
        }
      ]
    },
    {
      "cell_type": "markdown",
      "source": [
        "Q23. Write a Python program to train Logistic Regression on both raw and standardized data. Compare their\n",
        "accuracy to see the impact of feature scaling."
      ],
      "metadata": {
        "id": "oFsyajy6J8Zo"
      }
    },
    {
      "cell_type": "code",
      "source": [
        "# Import necessary libraries\n",
        "from sklearn.datasets import load_iris\n",
        "from sklearn.model_selection import train_test_split\n",
        "from sklearn.linear_model import LogisticRegression\n",
        "from sklearn.preprocessing import StandardScaler\n",
        "from sklearn.metrics import accuracy_score, classification_report, confusion_matrix\n",
        "\n",
        "# Load the Iris dataset\n",
        "iris = load_iris()\n",
        "X = iris.data\n",
        "y = iris.target\n",
        "\n",
        "# Split the dataset into training and testing sets\n",
        "X_train, X_test, y_train, y_test = train_test_split(X, y, test_size=0.2, random_state=42)\n",
        "\n",
        "# Train Logistic Regression on raw data\n",
        "logreg_raw = LogisticRegression(max_iter=1000)\n",
        "logreg_raw.fit(X_train, y_train)\n",
        "y_pred_raw = logreg_raw.predict(X_test)\n",
        "accuracy_raw = accuracy_score(y_test, y_pred_raw)\n",
        "print(\"Accuracy on Raw Data:\", accuracy_raw)\n",
        "\n",
        "# Standardize the data\n",
        "scaler = StandardScaler()\n",
        "X_train_scaled = scaler.fit_transform(X_train)\n",
        "X_test_scaled = scaler.transform(X_test)\n",
        "\n",
        "# Train Logistic Regression on standardized data\n",
        "logreg_scaled = LogisticRegression(max_iter=1000)\n",
        "logreg_scaled.fit(X_train_scaled, y_train)\n",
        "y_pred_scaled = logreg_scaled.predict(X_test_scaled)\n",
        "accuracy_scaled = accuracy_score(y_test, y_pred_scaled)\n",
        "print(\"Accuracy on Standardized Data:\", accuracy_scaled)\n",
        "\n",
        "# Compare the accuracy of both models\n",
        "print(\"\\nComparison of Accuracy:\")\n",
        "print(\"Raw Data:\", accuracy_raw)\n",
        "print(\"Standardized Data:\", accuracy_scaled)\n",
        "\n",
        "# Print the classification report and confusion matrix for both models\n",
        "print(\"\\nClassification Report on Raw Data:\")\n",
        "print(classification_report(y_test, y_pred_raw))\n",
        "print(\"\\nConfusion Matrix on Raw Data:\")\n",
        "print(confusion_matrix(y_test, y_pred_raw))\n",
        "\n",
        "print(\"\\nClassification Report on Standardized Data:\")\n",
        "print(classification_report(y_test, y_pred_scaled))\n",
        "print(\"\\nConfusion Matrix on Standardized Data:\")\n",
        "print(confusion_matrix(y_test, y_pred_scaled))\n"
      ],
      "metadata": {
        "colab": {
          "base_uri": "https://localhost:8080/"
        },
        "id": "OjPFvf-0J8jx",
        "outputId": "19645f49-d157-4b20-c42d-c0c27b08b5ce"
      },
      "execution_count": 19,
      "outputs": [
        {
          "output_type": "stream",
          "name": "stdout",
          "text": [
            "Accuracy on Raw Data: 1.0\n",
            "Accuracy on Standardized Data: 1.0\n",
            "\n",
            "Comparison of Accuracy:\n",
            "Raw Data: 1.0\n",
            "Standardized Data: 1.0\n",
            "\n",
            "Classification Report on Raw Data:\n",
            "              precision    recall  f1-score   support\n",
            "\n",
            "           0       1.00      1.00      1.00        10\n",
            "           1       1.00      1.00      1.00         9\n",
            "           2       1.00      1.00      1.00        11\n",
            "\n",
            "    accuracy                           1.00        30\n",
            "   macro avg       1.00      1.00      1.00        30\n",
            "weighted avg       1.00      1.00      1.00        30\n",
            "\n",
            "\n",
            "Confusion Matrix on Raw Data:\n",
            "[[10  0  0]\n",
            " [ 0  9  0]\n",
            " [ 0  0 11]]\n",
            "\n",
            "Classification Report on Standardized Data:\n",
            "              precision    recall  f1-score   support\n",
            "\n",
            "           0       1.00      1.00      1.00        10\n",
            "           1       1.00      1.00      1.00         9\n",
            "           2       1.00      1.00      1.00        11\n",
            "\n",
            "    accuracy                           1.00        30\n",
            "   macro avg       1.00      1.00      1.00        30\n",
            "weighted avg       1.00      1.00      1.00        30\n",
            "\n",
            "\n",
            "Confusion Matrix on Standardized Data:\n",
            "[[10  0  0]\n",
            " [ 0  9  0]\n",
            " [ 0  0 11]]\n"
          ]
        }
      ]
    },
    {
      "cell_type": "markdown",
      "source": [
        "Q24. Write a Python program to train Logistic Regression and find the optimal C (regularization strength) using\n",
        "cross-validation."
      ],
      "metadata": {
        "id": "Zf5wwsnSJ8tA"
      }
    },
    {
      "cell_type": "code",
      "source": [
        "# Import necessary libraries\n",
        "from sklearn.datasets import load_iris\n",
        "from sklearn.model_selection import train_test_split, GridSearchCV\n",
        "from sklearn.linear_model import LogisticRegression\n",
        "from sklearn.metrics import accuracy_score, classification_report, confusion_matrix\n",
        "\n",
        "# Load the Iris dataset\n",
        "iris = load_iris()\n",
        "X = iris.data\n",
        "y = iris.target\n",
        "\n",
        "# Split the dataset into training and testing sets\n",
        "X_train, X_test, y_train, y_test = train_test_split(X, y, test_size=0.2, random_state=42)\n",
        "\n",
        "# Define the hyperparameter space for GridSearchCV\n",
        "param_grid = {'C': [0.1, 1, 10, 100]}\n",
        "\n",
        "# Perform grid search with cross-validation to find the optimal C\n",
        "grid_search = GridSearchCV(LogisticRegression(max_iter=1000), param_grid, cv=5)\n",
        "grid_search.fit(X_train, y_train)\n",
        "\n",
        "# Print the optimal C and the corresponding best score\n",
        "print(\"Optimal C:\", grid_search.best_params_['C'])\n",
        "print(\"Best Score:\", grid_search.best_score_)\n",
        "\n",
        "# Train a Logistic Regression model with the optimal C\n",
        "logreg_optimal = LogisticRegression(C=grid_search.best_params_['C'], max_iter=1000)\n",
        "logreg_optimal.fit(X_train, y_train)\n",
        "\n",
        "# Make predictions on the testing data\n",
        "y_pred_optimal = logreg_optimal.predict(X_test)\n",
        "\n",
        "# Evaluate the model's accuracy\n",
        "accuracy_optimal = accuracy_score(y_test, y_pred_optimal)\n",
        "print(\"Accuracy with Optimal C:\", accuracy_optimal)\n",
        "\n",
        "# Print the classification report and confusion matrix\n",
        "print(\"\\nClassification Report with Optimal C:\")\n",
        "print(classification_report(y_test, y_pred_optimal))\n",
        "print(\"\\nConfusion Matrix with Optimal C:\")\n",
        "print(confusion_matrix(y_test, y_pred_optimal))\n"
      ],
      "metadata": {
        "colab": {
          "base_uri": "https://localhost:8080/"
        },
        "id": "9XSs9tNXJ81S",
        "outputId": "85a4bb2a-4a6a-4a35-e5fc-fc8d65a42732"
      },
      "execution_count": 20,
      "outputs": [
        {
          "output_type": "stream",
          "name": "stdout",
          "text": [
            "Optimal C: 1\n",
            "Best Score: 0.9666666666666666\n",
            "Accuracy with Optimal C: 1.0\n",
            "\n",
            "Classification Report with Optimal C:\n",
            "              precision    recall  f1-score   support\n",
            "\n",
            "           0       1.00      1.00      1.00        10\n",
            "           1       1.00      1.00      1.00         9\n",
            "           2       1.00      1.00      1.00        11\n",
            "\n",
            "    accuracy                           1.00        30\n",
            "   macro avg       1.00      1.00      1.00        30\n",
            "weighted avg       1.00      1.00      1.00        30\n",
            "\n",
            "\n",
            "Confusion Matrix with Optimal C:\n",
            "[[10  0  0]\n",
            " [ 0  9  0]\n",
            " [ 0  0 11]]\n"
          ]
        }
      ]
    },
    {
      "cell_type": "markdown",
      "source": [
        "Q25. Write a Python program to train Logistic Regression, save the trained model using joblib, and load it again to\n",
        "make predictions."
      ],
      "metadata": {
        "id": "yFwvpYT_K0DZ"
      }
    },
    {
      "cell_type": "code",
      "source": [
        "# Import necessary libraries\n",
        "from sklearn.datasets import load_iris\n",
        "from sklearn.model_selection import train_test_split\n",
        "from sklearn.linear_model import LogisticRegression\n",
        "from sklearn.metrics import accuracy_score, classification_report, confusion_matrix\n",
        "import joblib\n",
        "\n",
        "# Load the Iris dataset\n",
        "iris = load_iris()\n",
        "X = iris.data\n",
        "y = iris.target\n",
        "\n",
        "# Split the dataset into training and testing sets\n",
        "X_train, X_test, y_train, y_test = train_test_split(X, y, test_size=0.2, random_state=42)\n",
        "\n",
        "# Train a Logistic Regression model\n",
        "logreg = LogisticRegression(max_iter=1000)\n",
        "logreg.fit(X_train, y_train)\n",
        "\n",
        "# Make predictions on the testing data\n",
        "y_pred = logreg.predict(X_test)\n",
        "\n",
        "# Evaluate the model's accuracy\n",
        "accuracy = accuracy_score(y_test, y_pred)\n",
        "print(\"Model Accuracy:\", accuracy)\n",
        "\n",
        "# Print the classification report and confusion matrix\n",
        "print(\"\\nClassification Report:\")\n",
        "print(classification_report(y_test, y_pred))\n",
        "print(\"\\nConfusion Matrix:\")\n",
        "print(confusion_matrix(y_test, y_pred))\n",
        "\n",
        "# Save the trained model using joblib\n",
        "joblib.dump(logreg, 'logreg_model.joblib')\n",
        "\n",
        "# Load the saved model using joblib\n",
        "loaded_logreg = joblib.load('logreg_model.joblib')\n",
        "\n",
        "# Make predictions on the testing data using the loaded model\n",
        "y_pred_loaded = loaded_logreg.predict(X_test)\n",
        "\n",
        "# Evaluate the loaded model's accuracy\n",
        "accuracy_loaded = accuracy_score(y_test, y_pred_loaded)\n",
        "print(\"\\nLoaded Model Accuracy:\", accuracy_loaded)\n",
        "\n",
        "# Print the classification report and confusion matrix of the loaded model\n",
        "print(\"\\nClassification Report of Loaded Model:\")\n",
        "print(classification_report(y_test, y_pred_loaded))\n",
        "print(\"\\nConfusion Matrix of Loaded Model:\")\n",
        "print(confusion_matrix(y_test, y_pred_loaded))"
      ],
      "metadata": {
        "colab": {
          "base_uri": "https://localhost:8080/"
        },
        "id": "F_18-YDUK0Ld",
        "outputId": "29f44a55-9321-4da6-ac08-32dc7c6275c6"
      },
      "execution_count": 21,
      "outputs": [
        {
          "output_type": "stream",
          "name": "stdout",
          "text": [
            "Model Accuracy: 1.0\n",
            "\n",
            "Classification Report:\n",
            "              precision    recall  f1-score   support\n",
            "\n",
            "           0       1.00      1.00      1.00        10\n",
            "           1       1.00      1.00      1.00         9\n",
            "           2       1.00      1.00      1.00        11\n",
            "\n",
            "    accuracy                           1.00        30\n",
            "   macro avg       1.00      1.00      1.00        30\n",
            "weighted avg       1.00      1.00      1.00        30\n",
            "\n",
            "\n",
            "Confusion Matrix:\n",
            "[[10  0  0]\n",
            " [ 0  9  0]\n",
            " [ 0  0 11]]\n",
            "\n",
            "Loaded Model Accuracy: 1.0\n",
            "\n",
            "Classification Report of Loaded Model:\n",
            "              precision    recall  f1-score   support\n",
            "\n",
            "           0       1.00      1.00      1.00        10\n",
            "           1       1.00      1.00      1.00         9\n",
            "           2       1.00      1.00      1.00        11\n",
            "\n",
            "    accuracy                           1.00        30\n",
            "   macro avg       1.00      1.00      1.00        30\n",
            "weighted avg       1.00      1.00      1.00        30\n",
            "\n",
            "\n",
            "Confusion Matrix of Loaded Model:\n",
            "[[10  0  0]\n",
            " [ 0  9  0]\n",
            " [ 0  0 11]]\n"
          ]
        }
      ]
    }
  ]
}