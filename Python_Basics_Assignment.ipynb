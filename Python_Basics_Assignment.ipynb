{
  "nbformat": 4,
  "nbformat_minor": 0,
  "metadata": {
    "colab": {
      "provenance": []
    },
    "kernelspec": {
      "name": "python3",
      "display_name": "Python 3"
    },
    "language_info": {
      "name": "python"
    }
  },
  "cells": [
    {
      "cell_type": "code",
      "execution_count": null,
      "metadata": {
        "id": "6zGvr0OBMckn"
      },
      "outputs": [],
      "source": []
    },
    {
      "cell_type": "markdown",
      "source": [
        "Q.1 - **Explain the key feature of Python that makes it a popular choice for programming.**\n",
        "\n",
        "**Ans.**- Python's popularity stems from its simplicity, versatility, and great ecosystem. Python's syntax is clean and easy to read, which reduces the learning curve for beginners. Python is an interpreted language, meaning code is excuted line by line without the need for compilation. This makes testing and debugging easier. Python comes with a comprehensive standard library that provides modules for handling regular expressions. Python also has a rich ecosystem of third-party libraries e.g NumPy for scientific computing, Pandas for Data analysis. Python is platform independent, meaning that python program can run on any operating system (window, macOS,Linux) without modification. This makes it a great choice of building cross-platform applictions.In conclusion, Python's simplicity, vesratility, and storg ecosystem of tools make it an excellent choice for beginners and experts.\n"
      ],
      "metadata": {
        "id": "NOOH-tl5MjtY"
      }
    },
    {
      "cell_type": "markdown",
      "source": [
        "Q.2 - **Describe the role of predefined keywords in Python and provide examples of how they are used in a program.**\n",
        "\n",
        "**Ans.**- In Python predefined keywords (also known as reserved words) are special words that have predefined meanings and cannot be used for any other purpose, such as naming variables or functions. They form the syntax and structure of the Python language, defining how the code is interpreted by the Python interpreter. for example (if, else, elif, for, while, def, exept, with, as, break, true, false, none etc.).\n",
        "- Control Flow: Keywords like if, else, for, and while are used to control the flow of execution in a program.\n",
        "- Function and Class Definition: Keywords such as def and class are used to define functions and classes, respectively.\n",
        "- Exception Handling: Keywords like try, except, finally, and raise are used for handling exceptions and errors.\n",
        "- Context Management: The with keyword is used for resource management, ensuring that resources are properly cleaned up after use.\n",
        "- Boolean Values: True, False, and None are used to represent truth values and null values in the language."
      ],
      "metadata": {
        "id": "db-c-FGCRijC"
      }
    },
    {
      "cell_type": "code",
      "source": [
        "# Examples of common python keywords and their usage\n",
        "# if, else, elif used for condition statements.\n",
        "x = 9\n",
        "if x > 9:\n",
        "  print (\"greater than 9\")\n",
        "elif x == 10:\n",
        "  print (\"equal to 9\")\n",
        "else:\n",
        "  print (\"less than 9\")"
      ],
      "metadata": {
        "colab": {
          "base_uri": "https://localhost:8080/"
        },
        "id": "tew6V-x3VyPY",
        "outputId": "29d04c43-7e49-43a5-fca4-e97480a01ba0"
      },
      "execution_count": 2,
      "outputs": [
        {
          "output_type": "stream",
          "name": "stdout",
          "text": [
            "less than 9\n"
          ]
        }
      ]
    },
    {
      "cell_type": "markdown",
      "source": [
        "Q.3 - **Compare and contrast mutable and immutable objects in Python with examples.**\n",
        "\n",
        "**Ans.**- In Python objects can be classified into two categories: mutable and immutable. The main difference between them lies in whether their content can be changed after they are created.\n",
        "\n",
        "**Mutable objects** are those whose state or value can be changed after they are created. Examples include lists, dictionaries, and sets.Their contents can be modified without creating a new object.They often provide methods for adding, removing, or changing elements.\n",
        "\n",
        "**Immutable objects** are those whose state or value cannot be changed after they are created. Examples include strings, tuples, and frozensets. Any operation that modifies an immutable object will create a new object instead of changing the existing one. They are often safer to use in multi-threaded programs since their state cannot change unexpectedly.\n",
        "\n",
        "Mutability: Mutable objects can be changed in place, while immutable objects cannot.\n",
        "\n",
        "Performance: Mutable objects may have better performance in scenarios requiring frequent updates, whereas immutable objects are safer in concurrent environments.\n",
        "\n",
        "Use Cases: Use mutable types when you need to modify data frequently, and immutable types when you want to ensure that data remains constant."
      ],
      "metadata": {
        "id": "y0aq8_a7Wpxl"
      }
    },
    {
      "cell_type": "code",
      "source": [
        "#Mutable Objects Example\n",
        "\n",
        "my_list = [1, 2, 3]\n",
        "print(my_list)  # Output: [1, 2, 3]\n",
        "my_list.append(4)\n",
        "print(my_list)  # Output: [1, 2, 3, 4]\n"
      ],
      "metadata": {
        "colab": {
          "base_uri": "https://localhost:8080/"
        },
        "id": "ykWAvdwwaBvR",
        "outputId": "cc90367e-7fa1-4dde-b8c5-005787b90214"
      },
      "execution_count": 15,
      "outputs": [
        {
          "output_type": "stream",
          "name": "stdout",
          "text": [
            "[1, 2, 3]\n",
            "[1, 2, 3, 4]\n"
          ]
        }
      ]
    },
    {
      "cell_type": "code",
      "source": [
        "my_set = {1, 2, 3}\n",
        "print(my_set)  # Output: {1, 2, 3}\n",
        "my_set.add(4)\n",
        "print(my_set)  # Output: {1, 2, 3, 4}\n"
      ],
      "metadata": {
        "colab": {
          "base_uri": "https://localhost:8080/"
        },
        "id": "FXfBjucGbavO",
        "outputId": "36dd943b-23e7-4162-ce70-109b739ff0cc"
      },
      "execution_count": 16,
      "outputs": [
        {
          "output_type": "stream",
          "name": "stdout",
          "text": [
            "{1, 2, 3}\n",
            "{1, 2, 3, 4}\n"
          ]
        }
      ]
    },
    {
      "cell_type": "code",
      "source": [
        "#Immutable Object Example\n",
        "#string\n",
        "\n",
        "A = \"Hello\"\n",
        "print(A)  # Output: Hello\n",
        "A += \" World\"\n",
        "print(A)  # Output: Hello World\n",
        "# Original string remains unchanged\n"
      ],
      "metadata": {
        "colab": {
          "base_uri": "https://localhost:8080/"
        },
        "id": "p3ZPyaSibef9",
        "outputId": "fb05991b-4365-4f92-b7d6-52a8dde8d757"
      },
      "execution_count": 18,
      "outputs": [
        {
          "output_type": "stream",
          "name": "stdout",
          "text": [
            "Hello\n",
            "Hello World\n"
          ]
        }
      ]
    },
    {
      "cell_type": "markdown",
      "source": [
        "Q.4 - **Discuss the different types of operators in Python and provide examples of how they are used.**\n",
        "\n",
        "**Ans.**- In Python operators are special symbols that perform operations on variables and values. Python supports several types of operators, each serving a different purpose. Here’s an overview of the main types of operators along with examples of how they are used.\n",
        "\n",
        "- **Arithmetic Operators**\n",
        "These operators perform basic mathematical operations.\n",
        "\n",
        "Addition (+): Adds two operands.\n",
        "\n",
        "Subtraction (-): Subtracts the second operand from the first.\n",
        "\n",
        "Multiplication (*): Multiplies two operands.\n",
        "\n",
        "Division (/): Divides the first operand by the second.\n",
        "\n",
        "Floor Division (//): Divides and returns the largest integer less than or equal to the result.\n",
        "\n",
        "Modulus (%): Returns the remainder of the division.\n",
        "\n",
        "Exponentiation (**): Raises the first operand to the power of the second.\n",
        "\n",
        "- **Comparison Operators**\n",
        "These operators compare two values and return a boolean result (True or False).\n",
        "\n",
        "Equal (==): Checks if two operands are equal.\n",
        "\n",
        "Not Equal (!=): Checks if two operands are not equal.\n",
        "\n",
        "Greater Than (>): Checks if the left operand is greater than the right.\n",
        "\n",
        "Less Than (<): Checks if the left operand is less than the right.\n",
        "\n",
        "Greater Than or Equal To (>=): Checks if the left operand is greater than or equal to the right.\n",
        "\n",
        "Less Than or Equal To (<=): Checks if the left operand is less than or equal to the right.\n",
        "\n",
        "- **Logical Operators**\n",
        "These operators combine boolean values.\n",
        "\n",
        "AND (and): Returns True if both operands are true.\n",
        "\n",
        "OR (or): Returns True if at least one operand is true.\n",
        "\n",
        "NOT (not): Reverses the boolean valu\n",
        "\n",
        "- **Assignment Operators**\n",
        "These operators assign values to variables.\n",
        "\n",
        "Assignment (=): Assigns the right operand to the left.\n",
        "\n",
        "Add and Assign (+=): Adds the right operand to the left and assigns the result.\n",
        "\n",
        "Subtract and Assign (-=): Subtracts the right operand from the left and assigns the result.\n",
        "\n",
        "Multiply and Assign (*=): Multiplies the left operand by the right and assigns the result.\n",
        "\n",
        "Divide and Assign (/=): Divides the left operand by the right and assigns the result.\n",
        "\n",
        "Floor Divide and Assign (//=): Performs floor division and assigns the result.\n",
        "\n",
        "Modulus and Assign (%=): Performs modulus and assigns the result.\n",
        "\n",
        "Exponentiate and Assign (**=): Performs exponentiation and assigns the result.\n",
        "\n",
        "- **Bitwise Operators**\n",
        "These operators perform operations on bits.\n",
        "\n",
        "AND (&): Performs a bitwise AND.\n",
        "\n",
        "OR (|): Performs a bitwise OR.\n",
        "\n",
        "XOR (^): Performs a bitwise XOR.\n",
        "\n",
        "NOT (~): Performs a bitwise NOT.\n",
        "\n",
        "Left Shift (<<): Shifts bits to the left.\n",
        "\n",
        "Right Shift (>>): Shifts bits to the right.\n",
        "\n",
        "- **Identity Operators**\n",
        "These operators check if two variables refer to the same object.\n",
        "\n",
        "is: Returns True if both variables point to the same object.\n",
        "\n",
        "is not: Returns True if both variables do not point to the same object.\n",
        "\n",
        "- **Membership Operators**\n",
        "These operators test for membership in sequences (like lists, strings, or tuples).\n",
        "\n",
        "in: Returns True if the value is found in the sequence.\n",
        "\n",
        "not in: Returns True if the value is not found in the sequence.\n"
      ],
      "metadata": {
        "id": "iUQNcDhTc9Dd"
      }
    },
    {
      "cell_type": "code",
      "source": [
        "#Arithmetic Operators\n",
        "a = 10\n",
        "b = 3\n",
        "\n",
        "print(a + b)\n",
        "print(a - b)\n",
        "print(a * b)\n",
        "print(a / b)\n",
        "print(a // b)\n",
        "print(a % b)\n",
        "print(a ** b)\n"
      ],
      "metadata": {
        "colab": {
          "base_uri": "https://localhost:8080/"
        },
        "id": "8Nh6kp2keayi",
        "outputId": "5f6e8304-8e33-4ab4-fc2a-3b81746186fa"
      },
      "execution_count": 19,
      "outputs": [
        {
          "output_type": "stream",
          "name": "stdout",
          "text": [
            "13\n",
            "7\n",
            "30\n",
            "3.3333333333333335\n",
            "3\n",
            "1\n",
            "1000\n"
          ]
        }
      ]
    },
    {
      "cell_type": "code",
      "source": [
        "#Comparison Operators\n",
        "x = 5\n",
        "y = 10\n",
        "\n",
        "print(x == y)\n",
        "print(x != y)\n",
        "print(x > y)\n",
        "print(x < y)\n",
        "print(x >= y)\n",
        "print(x <= y)\n"
      ],
      "metadata": {
        "colab": {
          "base_uri": "https://localhost:8080/"
        },
        "id": "pP318amBeqKN",
        "outputId": "32c47a74-3733-4062-ae84-fd5a612dd848"
      },
      "execution_count": 20,
      "outputs": [
        {
          "output_type": "stream",
          "name": "stdout",
          "text": [
            "False\n",
            "True\n",
            "False\n",
            "True\n",
            "False\n",
            "True\n"
          ]
        }
      ]
    },
    {
      "cell_type": "code",
      "source": [
        "#Logical Operators\n",
        "a = True\n",
        "b = False\n",
        "\n",
        "print(a and b)\n",
        "print(a or b)\n",
        "print(not a)\n"
      ],
      "metadata": {
        "colab": {
          "base_uri": "https://localhost:8080/"
        },
        "id": "Xa3pFsNHe6Js",
        "outputId": "08b32fc0-ec0a-4b99-b759-a9e1db2d7119"
      },
      "execution_count": 21,
      "outputs": [
        {
          "output_type": "stream",
          "name": "stdout",
          "text": [
            "False\n",
            "True\n",
            "False\n"
          ]
        }
      ]
    },
    {
      "cell_type": "code",
      "source": [
        "#Assignment Operators\n",
        "x = 10\n",
        "x += 5\n",
        "print(x)\n",
        "\n",
        "x *= 2\n",
        "print(x)\n"
      ],
      "metadata": {
        "colab": {
          "base_uri": "https://localhost:8080/"
        },
        "id": "0rHEuKHKfGoM",
        "outputId": "d82deb20-26cd-45c3-fa1f-73048806681c"
      },
      "execution_count": 22,
      "outputs": [
        {
          "output_type": "stream",
          "name": "stdout",
          "text": [
            "15\n",
            "30\n"
          ]
        }
      ]
    },
    {
      "cell_type": "code",
      "source": [
        "#Bitwise Operators\n",
        "a = 5\n",
        "b = 3\n",
        "\n",
        "print(a & b)\n",
        "print(a | b)\n",
        "print(a ^ b)\n",
        "print(~a)\n",
        "print(a << 1)\n",
        "print(a >> 1)\n"
      ],
      "metadata": {
        "colab": {
          "base_uri": "https://localhost:8080/"
        },
        "id": "RWzj3n8MfSjc",
        "outputId": "653514ff-dcc2-440d-d386-dbc84fd1a940"
      },
      "execution_count": 23,
      "outputs": [
        {
          "output_type": "stream",
          "name": "stdout",
          "text": [
            "1\n",
            "7\n",
            "6\n",
            "-6\n",
            "10\n",
            "2\n"
          ]
        }
      ]
    },
    {
      "cell_type": "code",
      "source": [
        "#Identity Operators\n",
        "a = [1, 2, 3]\n",
        "b = a\n",
        "c = list(a)\n",
        "\n",
        "print(a is b)\n",
        "print(a is c)\n",
        "print(a == c)\n",
        "print(a is not c)\n"
      ],
      "metadata": {
        "colab": {
          "base_uri": "https://localhost:8080/"
        },
        "id": "EJEanSQKfotM",
        "outputId": "62f04b1f-ef4b-432f-d5fa-53726d265b79"
      },
      "execution_count": 24,
      "outputs": [
        {
          "output_type": "stream",
          "name": "stdout",
          "text": [
            "True\n",
            "False\n",
            "True\n",
            "True\n"
          ]
        }
      ]
    },
    {
      "cell_type": "code",
      "source": [
        "#Membership Operators\n",
        "A = [1, 2, 3, 4]\n",
        "\n",
        "print(2 in A)\n",
        "print(5 not in A)\n"
      ],
      "metadata": {
        "colab": {
          "base_uri": "https://localhost:8080/"
        },
        "id": "6dKdsOryf-OM",
        "outputId": "b9acb3f7-a8d7-4f81-ca9c-91025d331911"
      },
      "execution_count": 26,
      "outputs": [
        {
          "output_type": "stream",
          "name": "stdout",
          "text": [
            "True\n",
            "True\n"
          ]
        }
      ]
    },
    {
      "cell_type": "markdown",
      "source": [
        "Q. 5 - **Explain the concept of type casting in Python with examples.**\n",
        "\n",
        "**Ans.**- Type casting in Python refers to the process of converting a variable from one data type to another. This is useful when you need to perform operations on different data types or when you want to ensure that a value is in the correct format for a specific operation.\n",
        "\n",
        "Python provides several built-in functions to facilitate type casting, allowing you to convert between various data types. Here are some common type casting functions:\n",
        "\n",
        "int(): Converts a value to an integer.\n",
        "\n",
        "float(): Converts a value to a floating-point number.\n",
        "\n",
        "str(): Converts a value to a string.\n",
        "\n",
        "list(): Converts an iterable (like a string or a tuple) to a list.\n",
        "\n",
        "tuple(): Converts an iterable to a tuple.\n",
        "\n",
        "set(): Converts an iterable to a set.\n"
      ],
      "metadata": {
        "id": "gLmQAj1Tgai8"
      }
    },
    {
      "cell_type": "code",
      "source": [
        "#Converting to Integer\n",
        "# From float to int\n",
        "\n",
        "num_float = 5.75\n",
        "num_int = int(num_float)\n",
        "print(num_int)\n",
        "\n",
        "# From string to int\n",
        "num_str = \"10\"\n",
        "num_int = int(num_str)\n",
        "print(num_int)\n",
        "\n",
        "\n"
      ],
      "metadata": {
        "colab": {
          "base_uri": "https://localhost:8080/"
        },
        "id": "Y8e-Vbu9g5Ij",
        "outputId": "6c31ef14-32a6-4eef-bc10-183538ca238a"
      },
      "execution_count": 27,
      "outputs": [
        {
          "output_type": "stream",
          "name": "stdout",
          "text": [
            "5\n",
            "10\n"
          ]
        }
      ]
    },
    {
      "cell_type": "code",
      "source": [
        "#Converting to Float\n",
        "\n",
        "# From int to float\n",
        "num_int = 10\n",
        "num_float = float(num_int)\n",
        "print(num_float)\n",
        "\n",
        "# From string to float\n",
        "num_str = \"5\"\n",
        "num_float = float(num_str)\n",
        "print(num_float)\n"
      ],
      "metadata": {
        "colab": {
          "base_uri": "https://localhost:8080/"
        },
        "id": "gz9-vFJghE6b",
        "outputId": "8a638aef-f683-4dc0-c489-2619d5ace471"
      },
      "execution_count": 29,
      "outputs": [
        {
          "output_type": "stream",
          "name": "stdout",
          "text": [
            "10.0\n",
            "5.0\n"
          ]
        }
      ]
    },
    {
      "cell_type": "code",
      "source": [
        "#Converting to String\n",
        "\n",
        "# From int to string\n",
        "num_int = 42\n",
        "num_str = str(num_int)\n",
        "print(num_str)\n",
        "\n",
        "# From float to string\n",
        "num_float = 82\n",
        "num_str = str(num_float)\n",
        "print(num_str)\n"
      ],
      "metadata": {
        "colab": {
          "base_uri": "https://localhost:8080/"
        },
        "id": "pFwe6Z2AhqDM",
        "outputId": "762231e1-3837-4f33-bb93-ae3b3adcd40d"
      },
      "execution_count": 31,
      "outputs": [
        {
          "output_type": "stream",
          "name": "stdout",
          "text": [
            "42\n",
            "82\n"
          ]
        }
      ]
    },
    {
      "cell_type": "code",
      "source": [
        "#Converting to List\n",
        "\n",
        "# From string to list\n",
        "str_example = \"hello\"\n",
        "list_from_str = list(str_example)\n",
        "print(list_from_str)\n",
        "\n",
        "# From tuple to list\n",
        "tuple_example = (1, 2, 3)\n",
        "list_from_tuple = list(tuple_example)\n",
        "print(list_from_tuple)\n"
      ],
      "metadata": {
        "colab": {
          "base_uri": "https://localhost:8080/"
        },
        "id": "95ldUNuciBJ8",
        "outputId": "adc5c34c-5c65-4ea4-cbff-f4431262f7a3"
      },
      "execution_count": 32,
      "outputs": [
        {
          "output_type": "stream",
          "name": "stdout",
          "text": [
            "['h', 'e', 'l', 'l', 'o']\n",
            "[1, 2, 3]\n"
          ]
        }
      ]
    },
    {
      "cell_type": "code",
      "source": [
        "#Converting to Tuple\n",
        "\n",
        "# From list to tuple\n",
        "list_example = [1, 2, 3]\n",
        "tuple_from_list = tuple(list_example)\n",
        "print(tuple_from_list)\n",
        "\n",
        "# From string to tuple\n",
        "str_example = \"abc\"\n",
        "tuple_from_str = tuple(str_example)\n",
        "print(tuple_from_str)\n"
      ],
      "metadata": {
        "colab": {
          "base_uri": "https://localhost:8080/"
        },
        "id": "x3qxB_T-iNLL",
        "outputId": "0bdf6668-d123-430c-c094-0a8a6feecfba"
      },
      "execution_count": 33,
      "outputs": [
        {
          "output_type": "stream",
          "name": "stdout",
          "text": [
            "(1, 2, 3)\n",
            "('a', 'b', 'c')\n"
          ]
        }
      ]
    },
    {
      "cell_type": "code",
      "source": [
        "#Converting to Set\n",
        "\n",
        "# From list to set\n",
        "list_example = [1, 2, 2, 3]\n",
        "set_from_list = set(list_example)\n",
        "print(set_from_list)  #Duplicate Removed\n",
        "\n",
        "# From string to set\n",
        "str_example = \"hello\"\n",
        "set_from_str = set(str_example)\n",
        "print(set_from_str)\n"
      ],
      "metadata": {
        "colab": {
          "base_uri": "https://localhost:8080/"
        },
        "id": "g3hd7mdGiZEr",
        "outputId": "49ef745f-1645-41d3-8288-7174e2f1c4f2"
      },
      "execution_count": 34,
      "outputs": [
        {
          "output_type": "stream",
          "name": "stdout",
          "text": [
            "{1, 2, 3}\n",
            "{'o', 'l', 'h', 'e'}\n"
          ]
        }
      ]
    },
    {
      "cell_type": "code",
      "source": [],
      "metadata": {
        "id": "P9RIElo0ijtr"
      },
      "execution_count": null,
      "outputs": []
    },
    {
      "cell_type": "markdown",
      "source": [
        "Q.6 - **How do conditional statements work in Python? Illustrate with examples.**\n",
        "\n",
        "**Ans.**- Conditional statements in Python allow you to execute specific blocks of code based on certain conditions. They are fundamental for controlling the flow of your program. The primary conditional statements in Python are if, elif, and else.\n",
        "\n",
        "- **if** Statement: Checks a condition; if it evaluates to True, the code block under it is executed.\n",
        "\n",
        "- **elif** Statement: Stands for \"else if.\" It allows you to check multiple conditions. If the preceding conditions are False, it checks the elif condition.\n",
        "\n",
        "- **else** Statement: Executes a block of code if none of the preceding conditions are True.\n",
        "\n"
      ],
      "metadata": {
        "id": "Hf6ZUNTti9Xa"
      }
    },
    {
      "cell_type": "code",
      "source": [
        "#if Statement\n",
        "\n",
        "temperature = 30\n",
        "\n",
        "if temperature > 25:\n",
        "    print(\"It's a hot day!\")\n"
      ],
      "metadata": {
        "colab": {
          "base_uri": "https://localhost:8080/"
        },
        "id": "jLyXog_qjoAq",
        "outputId": "b6a27dc5-b73f-4b04-b776-9d0668783591"
      },
      "execution_count": 35,
      "outputs": [
        {
          "output_type": "stream",
          "name": "stdout",
          "text": [
            "It's a hot day!\n"
          ]
        }
      ]
    },
    {
      "cell_type": "code",
      "source": [
        "#if and else\n",
        "\n",
        "age = 16\n",
        "\n",
        "if age >= 18:\n",
        "    print(\"You are an adult.\")\n",
        "else:\n",
        "    print(\"You are a minor.\")\n"
      ],
      "metadata": {
        "colab": {
          "base_uri": "https://localhost:8080/"
        },
        "id": "P3ciCfUFjt96",
        "outputId": "44c193ec-eb6e-4a77-df13-d3703db07285"
      },
      "execution_count": 36,
      "outputs": [
        {
          "output_type": "stream",
          "name": "stdout",
          "text": [
            "You are a minor.\n"
          ]
        }
      ]
    },
    {
      "cell_type": "code",
      "source": [
        "#if, elif, and else\n",
        "\n",
        "score = 85\n",
        "\n",
        "if score >= 90:\n",
        "    print(\"Grade: A\")\n",
        "elif score >= 80:\n",
        "    print(\"Grade: B\")\n",
        "elif score >= 70:\n",
        "    print(\"Grade: C\")\n",
        "else:\n",
        "    print(\"Grade: D\")\n"
      ],
      "metadata": {
        "colab": {
          "base_uri": "https://localhost:8080/"
        },
        "id": "so6WMCDKjyga",
        "outputId": "65ee5d54-552c-4eab-8fb0-2b5e48755fff"
      },
      "execution_count": 37,
      "outputs": [
        {
          "output_type": "stream",
          "name": "stdout",
          "text": [
            "Grade: B\n"
          ]
        }
      ]
    },
    {
      "cell_type": "code",
      "source": [
        "#Nested Conditional Statements\n",
        "\n",
        "num = 10\n",
        "\n",
        "if num >= 0:\n",
        "    print(\"The number is non-negative.\")\n",
        "    if num == 0:\n",
        "        print(\"The number is zero.\")\n",
        "    else:\n",
        "        print(\"The number is positive.\")\n",
        "else:\n",
        "    print(\"The number is negative.\")\n"
      ],
      "metadata": {
        "colab": {
          "base_uri": "https://localhost:8080/"
        },
        "id": "_mAHwlAgj5ir",
        "outputId": "184d8954-a107-48a6-edea-bf87988407dc"
      },
      "execution_count": 38,
      "outputs": [
        {
          "output_type": "stream",
          "name": "stdout",
          "text": [
            "The number is non-negative.\n",
            "The number is positive.\n"
          ]
        }
      ]
    },
    {
      "cell_type": "code",
      "source": [
        "#Using Logical Operators\n",
        "\n",
        "a = 5\n",
        "b = 10\n",
        "\n",
        "if a < 10 and b > 5:\n",
        "    print(\"Both conditions are True.\")\n",
        "\n",
        "if a < 10 or b < 5:\n",
        "    print(\"At least one condition is True.\")\n"
      ],
      "metadata": {
        "colab": {
          "base_uri": "https://localhost:8080/"
        },
        "id": "04mmax2NkLLb",
        "outputId": "a39fa1cb-0d74-4b55-b3ed-06e460a8a699"
      },
      "execution_count": 39,
      "outputs": [
        {
          "output_type": "stream",
          "name": "stdout",
          "text": [
            "Both conditions are True.\n",
            "At least one condition is True.\n"
          ]
        }
      ]
    },
    {
      "cell_type": "markdown",
      "source": [
        "Q.7 - Describe the different types of loops in Python and their use cases with examples.\n",
        "\n",
        "Ans.- In Python loops are used to execute a block of code repeatedly as long as a specified condition is met. There are two primary types of loops: for loops and while loops. Each type serves different use cases based on the scenario and requirements of your program.\n",
        "\n",
        "**for Loops**\n",
        "\n",
        "- The for loop is used to iterate over a sequence (like a list, tuple, string, or range). It’s particularly useful when you know the number of iterations in advance or when you want to process items in a collection.\n",
        "\n",
        "**Uses**\n",
        "\n",
        "Iterating through items in a list or collection.\n",
        "\n",
        "Performing an operation on each element.\n",
        "\n",
        "Generating a sequence of numbers.\n",
        "\n",
        "**While Loops**\n",
        "\n",
        "- The while loop continues executing a block of code as long as a specified condition is True. It’s useful when the number of iterations is not known beforehand and depends on dynamic conditions.\n",
        "\n",
        "**Uses**\n",
        "\n",
        "Repeating an action until a certain condition is met.\n",
        "\n",
        "Waiting for user input.\n",
        "\n",
        "Continuously processing data until a stop condition is reached.\n",
        "\n",
        "**Loop Control Statements**\n",
        "\n",
        "- Python also provides control statements to modify the behavior of loops:\n",
        "\n",
        "**break**: Terminates the loop immediately.\n",
        "\n",
        "**continue**: Skips the current iteration and proceeds to the next one.\n",
        "\n",
        "**pass**: A placeholder that does nothing and is used when a statement is syntactically required.\n"
      ],
      "metadata": {
        "id": "iVtfBLoykxJq"
      }
    },
    {
      "cell_type": "code",
      "source": [
        "fruits = [\"apple\", \"banana\", \"cherry\"]\n",
        "for fruit in fruits:\n",
        "    print(fruit)\n"
      ],
      "metadata": {
        "colab": {
          "base_uri": "https://localhost:8080/"
        },
        "id": "nC0XwGmwmIn9",
        "outputId": "79d50f7c-421e-4f56-ac50-8142c2a13f7d"
      },
      "execution_count": 40,
      "outputs": [
        {
          "output_type": "stream",
          "name": "stdout",
          "text": [
            "apple\n",
            "banana\n",
            "cherry\n"
          ]
        }
      ]
    },
    {
      "cell_type": "code",
      "source": [
        "for i in range(5):\n",
        "    print(i, end=\" \")\n"
      ],
      "metadata": {
        "colab": {
          "base_uri": "https://localhost:8080/"
        },
        "id": "gBNtB3rQmJTa",
        "outputId": "216f858b-8414-4814-8531-166c6daf05a6"
      },
      "execution_count": 50,
      "outputs": [
        {
          "output_type": "stream",
          "name": "stdout",
          "text": [
            "0 1 2 3 4 "
          ]
        }
      ]
    },
    {
      "cell_type": "code",
      "source": [
        "count = 0\n",
        "while count < 7:\n",
        "    print(count)\n",
        "    count += 1\n"
      ],
      "metadata": {
        "colab": {
          "base_uri": "https://localhost:8080/"
        },
        "id": "2ydneI2qmUhb",
        "outputId": "3e970f0d-9a01-44db-98f1-d86b2d881b27"
      },
      "execution_count": 44,
      "outputs": [
        {
          "output_type": "stream",
          "name": "stdout",
          "text": [
            "0\n",
            "1\n",
            "2\n",
            "3\n",
            "4\n",
            "5\n",
            "6\n"
          ]
        }
      ]
    },
    {
      "cell_type": "code",
      "source": [
        "for i in range(10):\n",
        "    if i == 5:\n",
        "        break\n",
        "    print(i) #exit the loop when i is 5\n"
      ],
      "metadata": {
        "colab": {
          "base_uri": "https://localhost:8080/"
        },
        "id": "fKHwWdx3mjYK",
        "outputId": "039e725b-c49d-4104-d36b-1cbd918be8f2"
      },
      "execution_count": 49,
      "outputs": [
        {
          "output_type": "stream",
          "name": "stdout",
          "text": [
            "0\n",
            "1\n",
            "2\n",
            "3\n",
            "4\n"
          ]
        }
      ]
    },
    {
      "cell_type": "code",
      "source": [
        "for i in range(5):\n",
        "    if i == 2:\n",
        "        continue  # Skip the iteration when i is 2\n",
        "    print(i)\n"
      ],
      "metadata": {
        "colab": {
          "base_uri": "https://localhost:8080/"
        },
        "id": "rHtB-kA7nG4Z",
        "outputId": "40cad2bd-59ab-4313-c666-aa8b296449e7"
      },
      "execution_count": 51,
      "outputs": [
        {
          "output_type": "stream",
          "name": "stdout",
          "text": [
            "0\n",
            "1\n",
            "3\n",
            "4\n"
          ]
        }
      ]
    },
    {
      "cell_type": "code",
      "source": [],
      "metadata": {
        "id": "tqyo4bFRntbr"
      },
      "execution_count": null,
      "outputs": []
    }
  ]
}